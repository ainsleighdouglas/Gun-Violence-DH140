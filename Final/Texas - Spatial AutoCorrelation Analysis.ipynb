{
 "cells": [
  {
   "cell_type": "markdown",
   "id": "graphic-departure",
   "metadata": {},
   "source": [
    "# Texas Saptial AutoCorrelation Analysis\n",
    "We will also be looking into the correlation between the geolocation of gun violence incidents and the Texas census tract data. Is there a correlation between the locations of incidents throughout the state of Texas and how do those correlations form a relationship with Illnois's findings?\n",
    "\n",
    "We will now install the libraries needed to read/wrangle data, create spacial data, analyze Moran's number, and to create graphics."
   ]
  },
  {
   "cell_type": "code",
   "execution_count": 1,
   "id": "involved-customs",
   "metadata": {},
   "outputs": [
    {
     "name": "stderr",
     "output_type": "stream",
     "text": [
      "/opt/conda/lib/python3.8/site-packages/geopandas/_compat.py:106: UserWarning: The Shapely GEOS version (3.8.1-CAPI-1.13.3) is incompatible with the GEOS version PyGEOS was compiled with (3.9.0-CAPI-1.16.2). Conversions between both will be slow.\n",
      "  warnings.warn(\n"
     ]
    }
   ],
   "source": [
    "import geopandas as gpd\n",
    "import contextily as ctx\n",
    "import esda\n",
    "from esda.moran import Moran, Moran_Local\n",
    "import splot\n",
    "from splot.esda import moran_scatterplot, plot_moran, lisa_cluster,plot_moran_simulation\n",
    "import libpysal as lps\n",
    "import matplotlib.pyplot as plt\n",
    "import plotly.express as px\n",
    "\n",
    "import osmnx as ox\n",
    "import pandas as pd"
   ]
  },
  {
   "cell_type": "markdown",
   "id": "illegal-literacy",
   "metadata": {},
   "source": [
    "## Import First Data Set\n",
    "Import the cleaned gun violence data to only report Texas related incidents"
   ]
  },
  {
   "cell_type": "code",
   "execution_count": 10,
   "id": "split-weapon",
   "metadata": {},
   "outputs": [],
   "source": [
    "gvTexas = gpd.read_file('cleanGunData.csv')"
   ]
  },
  {
   "cell_type": "markdown",
   "id": "hydraulic-jurisdiction",
   "metadata": {},
   "source": [
    "Extract the geospatial aspect of the gun violence data into columns with the latitude and longitude"
   ]
  },
  {
   "cell_type": "code",
   "execution_count": 11,
   "id": "expensive-auditor",
   "metadata": {},
   "outputs": [
    {
     "data": {
      "text/html": [
       "<div>\n",
       "<style scoped>\n",
       "    .dataframe tbody tr th:only-of-type {\n",
       "        vertical-align: middle;\n",
       "    }\n",
       "\n",
       "    .dataframe tbody tr th {\n",
       "        vertical-align: top;\n",
       "    }\n",
       "\n",
       "    .dataframe thead th {\n",
       "        text-align: right;\n",
       "    }\n",
       "</style>\n",
       "<table border=\"1\" class=\"dataframe\">\n",
       "  <thead>\n",
       "    <tr style=\"text-align: right;\">\n",
       "      <th></th>\n",
       "      <th>latitude</th>\n",
       "      <th>longitude</th>\n",
       "    </tr>\n",
       "  </thead>\n",
       "  <tbody>\n",
       "    <tr>\n",
       "      <th>0</th>\n",
       "      <td>29.6754</td>\n",
       "      <td>-95.5499</td>\n",
       "    </tr>\n",
       "    <tr>\n",
       "      <th>1</th>\n",
       "      <td>32.7157</td>\n",
       "      <td>-97.2597</td>\n",
       "    </tr>\n",
       "    <tr>\n",
       "      <th>2</th>\n",
       "      <td>32.8958</td>\n",
       "      <td>-96.8986</td>\n",
       "    </tr>\n",
       "    <tr>\n",
       "      <th>3</th>\n",
       "      <td>32.6412</td>\n",
       "      <td>-96.9481</td>\n",
       "    </tr>\n",
       "    <tr>\n",
       "      <th>4</th>\n",
       "      <td>32.2337</td>\n",
       "      <td>-96.4661</td>\n",
       "    </tr>\n",
       "    <tr>\n",
       "      <th>...</th>\n",
       "      <td>...</td>\n",
       "      <td>...</td>\n",
       "    </tr>\n",
       "    <tr>\n",
       "      <th>13572</th>\n",
       "      <td>29.5287</td>\n",
       "      <td>-98.5612</td>\n",
       "    </tr>\n",
       "    <tr>\n",
       "      <th>13573</th>\n",
       "      <td>29.6872</td>\n",
       "      <td>-95.2024</td>\n",
       "    </tr>\n",
       "    <tr>\n",
       "      <th>13574</th>\n",
       "      <td>33.9052</td>\n",
       "      <td>-98.5151</td>\n",
       "    </tr>\n",
       "    <tr>\n",
       "      <th>13575</th>\n",
       "      <td>32.6772</td>\n",
       "      <td>-96.8059</td>\n",
       "    </tr>\n",
       "    <tr>\n",
       "      <th>13576</th>\n",
       "      <td>29.7201</td>\n",
       "      <td>-95.611</td>\n",
       "    </tr>\n",
       "  </tbody>\n",
       "</table>\n",
       "<p>13577 rows × 2 columns</p>\n",
       "</div>"
      ],
      "text/plain": [
       "      latitude longitude\n",
       "0      29.6754  -95.5499\n",
       "1      32.7157  -97.2597\n",
       "2      32.8958  -96.8986\n",
       "3      32.6412  -96.9481\n",
       "4      32.2337  -96.4661\n",
       "...        ...       ...\n",
       "13572  29.5287  -98.5612\n",
       "13573  29.6872  -95.2024\n",
       "13574  33.9052  -98.5151\n",
       "13575  32.6772  -96.8059\n",
       "13576  29.7201   -95.611\n",
       "\n",
       "[13577 rows x 2 columns]"
      ]
     },
     "execution_count": 11,
     "metadata": {},
     "output_type": "execute_result"
    }
   ],
   "source": [
    "gvTexas = gvTexas[[\n",
    " 'latitude',\n",
    " 'longitude']]\n",
    "gvTexas"
   ]
  },
  {
   "cell_type": "markdown",
   "id": "major-briefing",
   "metadata": {},
   "source": [
    "convert the pandas strings data type of the long. and lat. to floats"
   ]
  },
  {
   "cell_type": "code",
   "execution_count": 12,
   "id": "broke-clearing",
   "metadata": {},
   "outputs": [],
   "source": [
    "gvTexas['latitude'] = pd.to_numeric(gvTexas['latitude'],errors='coerce')\n",
    "gvTexas['longitude'] = pd.to_numeric(gvTexas['longitude'],errors='coerce')"
   ]
  },
  {
   "cell_type": "markdown",
   "id": "economic-hanging",
   "metadata": {},
   "source": [
    "convert the gun violence data from pandas to geopandas dataframe"
   ]
  },
  {
   "cell_type": "code",
   "execution_count": 13,
   "id": "fifth-worker",
   "metadata": {},
   "outputs": [],
   "source": [
    "gvTexas = gpd.GeoDataFrame(gvTexas, \n",
    "                         crs='EPSG:4326',\n",
    "                         geometry=gpd.points_from_xy(gvTexas.longitude, gvTexas.latitude))"
   ]
  },
  {
   "cell_type": "markdown",
   "id": "fancy-mediterranean",
   "metadata": {},
   "source": [
    "project data onto a mercator map"
   ]
  },
  {
   "cell_type": "code",
   "execution_count": 14,
   "id": "cellular-anniversary",
   "metadata": {},
   "outputs": [],
   "source": [
    "gvTexas = gvTexas.to_crs(epsg=3857)"
   ]
  },
  {
   "cell_type": "markdown",
   "id": "funded-retrieval",
   "metadata": {},
   "source": [
    "## Important Texas Population Census Data\n",
    "Import the census tract record of population in Texas"
   ]
  },
  {
   "cell_type": "code",
   "execution_count": 68,
   "id": "gorgeous-auckland",
   "metadata": {},
   "outputs": [],
   "source": [
    "texasPop = gpd.read_file('texasTotalPop.geojson')"
   ]
  },
  {
   "cell_type": "markdown",
   "id": "unsigned-myrtle",
   "metadata": {},
   "source": [
    "Check the column names of the data frame to see if imported properly"
   ]
  },
  {
   "cell_type": "code",
   "execution_count": 69,
   "id": "comfortable-forge",
   "metadata": {},
   "outputs": [
    {
     "data": {
      "text/plain": [
       "['geoid', 'name', 'B01003001', 'B01003001, Error', 'geometry']"
      ]
     },
     "execution_count": 69,
     "metadata": {},
     "output_type": "execute_result"
    }
   ],
   "source": [
    "list(texasPop)"
   ]
  },
  {
   "cell_type": "markdown",
   "id": "compliant-enlargement",
   "metadata": {},
   "source": [
    "check data frame"
   ]
  },
  {
   "cell_type": "code",
   "execution_count": 70,
   "id": "assured-baltimore",
   "metadata": {},
   "outputs": [
    {
     "data": {
      "text/html": [
       "<div>\n",
       "<style scoped>\n",
       "    .dataframe tbody tr th:only-of-type {\n",
       "        vertical-align: middle;\n",
       "    }\n",
       "\n",
       "    .dataframe tbody tr th {\n",
       "        vertical-align: top;\n",
       "    }\n",
       "\n",
       "    .dataframe thead th {\n",
       "        text-align: right;\n",
       "    }\n",
       "</style>\n",
       "<table border=\"1\" class=\"dataframe\">\n",
       "  <thead>\n",
       "    <tr style=\"text-align: right;\">\n",
       "      <th></th>\n",
       "      <th>geoid</th>\n",
       "      <th>name</th>\n",
       "      <th>B01003001</th>\n",
       "      <th>B01003001, Error</th>\n",
       "      <th>geometry</th>\n",
       "    </tr>\n",
       "  </thead>\n",
       "  <tbody>\n",
       "    <tr>\n",
       "      <th>0</th>\n",
       "      <td>14000US48001950100</td>\n",
       "      <td>Census Tract 9501, Anderson, TX</td>\n",
       "      <td>4844.0</td>\n",
       "      <td>524.0</td>\n",
       "      <td>MULTIPOLYGON (((-95.69702 31.97597, -95.69699 ...</td>\n",
       "    </tr>\n",
       "    <tr>\n",
       "      <th>1</th>\n",
       "      <td>14000US48001950401</td>\n",
       "      <td>Census Tract 9504.01, Anderson, TX</td>\n",
       "      <td>4838.0</td>\n",
       "      <td>235.0</td>\n",
       "      <td>MULTIPOLYGON (((-95.84791 31.75753, -95.84806 ...</td>\n",
       "    </tr>\n",
       "    <tr>\n",
       "      <th>2</th>\n",
       "      <td>14000US48001950402</td>\n",
       "      <td>Census Tract 9504.02, Anderson, TX</td>\n",
       "      <td>7511.0</td>\n",
       "      <td>398.0</td>\n",
       "      <td>MULTIPOLYGON (((-95.98357 31.78925, -95.98354 ...</td>\n",
       "    </tr>\n",
       "    <tr>\n",
       "      <th>3</th>\n",
       "      <td>14000US48001950500</td>\n",
       "      <td>Census Tract 9505, Anderson, TX</td>\n",
       "      <td>4465.0</td>\n",
       "      <td>495.0</td>\n",
       "      <td>MULTIPOLYGON (((-95.68769 31.81041, -95.68741 ...</td>\n",
       "    </tr>\n",
       "    <tr>\n",
       "      <th>4</th>\n",
       "      <td>14000US48001950600</td>\n",
       "      <td>Census Tract 9506, Anderson, TX</td>\n",
       "      <td>5148.0</td>\n",
       "      <td>726.0</td>\n",
       "      <td>MULTIPOLYGON (((-95.70774 31.72559, -95.70765 ...</td>\n",
       "    </tr>\n",
       "  </tbody>\n",
       "</table>\n",
       "</div>"
      ],
      "text/plain": [
       "                geoid                                name  B01003001  \\\n",
       "0  14000US48001950100     Census Tract 9501, Anderson, TX     4844.0   \n",
       "1  14000US48001950401  Census Tract 9504.01, Anderson, TX     4838.0   \n",
       "2  14000US48001950402  Census Tract 9504.02, Anderson, TX     7511.0   \n",
       "3  14000US48001950500     Census Tract 9505, Anderson, TX     4465.0   \n",
       "4  14000US48001950600     Census Tract 9506, Anderson, TX     5148.0   \n",
       "\n",
       "   B01003001, Error                                           geometry  \n",
       "0             524.0  MULTIPOLYGON (((-95.69702 31.97597, -95.69699 ...  \n",
       "1             235.0  MULTIPOLYGON (((-95.84791 31.75753, -95.84806 ...  \n",
       "2             398.0  MULTIPOLYGON (((-95.98357 31.78925, -95.98354 ...  \n",
       "3             495.0  MULTIPOLYGON (((-95.68769 31.81041, -95.68741 ...  \n",
       "4             726.0  MULTIPOLYGON (((-95.70774 31.72559, -95.70765 ...  "
      ]
     },
     "execution_count": 70,
     "metadata": {},
     "output_type": "execute_result"
    }
   ],
   "source": [
    "texasPop.head()"
   ]
  },
  {
   "cell_type": "markdown",
   "id": "modified-distribution",
   "metadata": {},
   "source": [
    "Trim down the columns"
   ]
  },
  {
   "cell_type": "code",
   "execution_count": 71,
   "id": "supreme-uruguay",
   "metadata": {},
   "outputs": [],
   "source": [
    "list(texasPop)\n",
    "columns_to_keep = ['geoid',\n",
    "'name',\n",
    "'B01003001',\n",
    "'geometry']\n",
    "texasPop = texasPop[columns_to_keep]"
   ]
  },
  {
   "cell_type": "markdown",
   "id": "ecological-pakistan",
   "metadata": {},
   "source": [
    "Rename the columns so they are usable and check"
   ]
  },
  {
   "cell_type": "code",
   "execution_count": 72,
   "id": "motivated-counter",
   "metadata": {},
   "outputs": [
    {
     "data": {
      "text/html": [
       "<div>\n",
       "<style scoped>\n",
       "    .dataframe tbody tr th:only-of-type {\n",
       "        vertical-align: middle;\n",
       "    }\n",
       "\n",
       "    .dataframe tbody tr th {\n",
       "        vertical-align: top;\n",
       "    }\n",
       "\n",
       "    .dataframe thead th {\n",
       "        text-align: right;\n",
       "    }\n",
       "</style>\n",
       "<table border=\"1\" class=\"dataframe\">\n",
       "  <thead>\n",
       "    <tr style=\"text-align: right;\">\n",
       "      <th></th>\n",
       "      <th>geoid</th>\n",
       "      <th>name</th>\n",
       "      <th>Total</th>\n",
       "      <th>geometry</th>\n",
       "    </tr>\n",
       "  </thead>\n",
       "  <tbody>\n",
       "    <tr>\n",
       "      <th>0</th>\n",
       "      <td>14000US48001950100</td>\n",
       "      <td>Census Tract 9501, Anderson, TX</td>\n",
       "      <td>4844.0</td>\n",
       "      <td>MULTIPOLYGON (((-95.69702 31.97597, -95.69699 ...</td>\n",
       "    </tr>\n",
       "    <tr>\n",
       "      <th>1</th>\n",
       "      <td>14000US48001950401</td>\n",
       "      <td>Census Tract 9504.01, Anderson, TX</td>\n",
       "      <td>4838.0</td>\n",
       "      <td>MULTIPOLYGON (((-95.84791 31.75753, -95.84806 ...</td>\n",
       "    </tr>\n",
       "    <tr>\n",
       "      <th>2</th>\n",
       "      <td>14000US48001950402</td>\n",
       "      <td>Census Tract 9504.02, Anderson, TX</td>\n",
       "      <td>7511.0</td>\n",
       "      <td>MULTIPOLYGON (((-95.98357 31.78925, -95.98354 ...</td>\n",
       "    </tr>\n",
       "    <tr>\n",
       "      <th>3</th>\n",
       "      <td>14000US48001950500</td>\n",
       "      <td>Census Tract 9505, Anderson, TX</td>\n",
       "      <td>4465.0</td>\n",
       "      <td>MULTIPOLYGON (((-95.68769 31.81041, -95.68741 ...</td>\n",
       "    </tr>\n",
       "    <tr>\n",
       "      <th>4</th>\n",
       "      <td>14000US48001950600</td>\n",
       "      <td>Census Tract 9506, Anderson, TX</td>\n",
       "      <td>5148.0</td>\n",
       "      <td>MULTIPOLYGON (((-95.70774 31.72559, -95.70765 ...</td>\n",
       "    </tr>\n",
       "  </tbody>\n",
       "</table>\n",
       "</div>"
      ],
      "text/plain": [
       "                geoid                                name   Total  \\\n",
       "0  14000US48001950100     Census Tract 9501, Anderson, TX  4844.0   \n",
       "1  14000US48001950401  Census Tract 9504.01, Anderson, TX  4838.0   \n",
       "2  14000US48001950402  Census Tract 9504.02, Anderson, TX  7511.0   \n",
       "3  14000US48001950500     Census Tract 9505, Anderson, TX  4465.0   \n",
       "4  14000US48001950600     Census Tract 9506, Anderson, TX  5148.0   \n",
       "\n",
       "                                            geometry  \n",
       "0  MULTIPOLYGON (((-95.69702 31.97597, -95.69699 ...  \n",
       "1  MULTIPOLYGON (((-95.84791 31.75753, -95.84806 ...  \n",
       "2  MULTIPOLYGON (((-95.98357 31.78925, -95.98354 ...  \n",
       "3  MULTIPOLYGON (((-95.68769 31.81041, -95.68741 ...  \n",
       "4  MULTIPOLYGON (((-95.70774 31.72559, -95.70765 ...  "
      ]
     },
     "execution_count": 72,
     "metadata": {},
     "output_type": "execute_result"
    }
   ],
   "source": [
    "texasPop.columns = ['geoid',\n",
    " 'name',\n",
    " 'Total',\n",
    " 'geometry']\n",
    "texasPop.head()"
   ]
  },
  {
   "cell_type": "markdown",
   "id": "united-council",
   "metadata": {},
   "source": [
    "delete rows that have less than a 100 population geographies"
   ]
  },
  {
   "cell_type": "code",
   "execution_count": 73,
   "id": "unauthorized-sandwich",
   "metadata": {},
   "outputs": [],
   "source": [
    "texasPop = texasPop[texasPop['Total']>100]"
   ]
  },
  {
   "cell_type": "markdown",
   "id": "boring-summer",
   "metadata": {},
   "source": [
    "project data onto a mercator map so it matches the gun violence data"
   ]
  },
  {
   "cell_type": "code",
   "execution_count": 74,
   "id": "clean-story",
   "metadata": {},
   "outputs": [],
   "source": [
    "texasPop = texasPop.to_crs(epsg=3857)"
   ]
  },
  {
   "cell_type": "markdown",
   "id": "after-sympathy",
   "metadata": {},
   "source": [
    "## Spatial Join\n",
    "\n",
    "Now we will be doing a spatial join of the Texas population data and the gun violence data. We will be attaching the gun violence data to the population data"
   ]
  },
  {
   "cell_type": "code",
   "execution_count": 75,
   "id": "original-sterling",
   "metadata": {},
   "outputs": [
    {
     "data": {
      "text/html": [
       "<div>\n",
       "<style scoped>\n",
       "    .dataframe tbody tr th:only-of-type {\n",
       "        vertical-align: middle;\n",
       "    }\n",
       "\n",
       "    .dataframe tbody tr th {\n",
       "        vertical-align: top;\n",
       "    }\n",
       "\n",
       "    .dataframe thead th {\n",
       "        text-align: right;\n",
       "    }\n",
       "</style>\n",
       "<table border=\"1\" class=\"dataframe\">\n",
       "  <thead>\n",
       "    <tr style=\"text-align: right;\">\n",
       "      <th></th>\n",
       "      <th>latitude</th>\n",
       "      <th>longitude</th>\n",
       "      <th>geometry</th>\n",
       "      <th>index_right</th>\n",
       "      <th>geoid</th>\n",
       "      <th>name</th>\n",
       "      <th>Total</th>\n",
       "    </tr>\n",
       "  </thead>\n",
       "  <tbody>\n",
       "    <tr>\n",
       "      <th>0</th>\n",
       "      <td>29.6754</td>\n",
       "      <td>-95.5499</td>\n",
       "      <td>POINT (-10636566.213 3461893.407)</td>\n",
       "      <td>2766.0</td>\n",
       "      <td>14000US48201433501</td>\n",
       "      <td>Census Tract 4335.01, Harris, TX</td>\n",
       "      <td>5593.0</td>\n",
       "    </tr>\n",
       "    <tr>\n",
       "      <th>1</th>\n",
       "      <td>32.7157</td>\n",
       "      <td>-97.2597</td>\n",
       "      <td>POINT (-10826900.279 3857628.408)</td>\n",
       "      <td>4359.0</td>\n",
       "      <td>14000US48439106201</td>\n",
       "      <td>Census Tract 1062.01, Tarrant, TX</td>\n",
       "      <td>4007.0</td>\n",
       "    </tr>\n",
       "    <tr>\n",
       "      <th>2</th>\n",
       "      <td>32.8958</td>\n",
       "      <td>-96.8986</td>\n",
       "      <td>POINT (-10786702.811 3881481.309)</td>\n",
       "      <td>1195.0</td>\n",
       "      <td>14000US48113009900</td>\n",
       "      <td>Census Tract 99, Dallas, TX</td>\n",
       "      <td>4371.0</td>\n",
       "    </tr>\n",
       "    <tr>\n",
       "      <th>3</th>\n",
       "      <td>32.6412</td>\n",
       "      <td>-96.9481</td>\n",
       "      <td>POINT (-10792213.125 3847775.532)</td>\n",
       "      <td>1391.0</td>\n",
       "      <td>14000US48113016510</td>\n",
       "      <td>Census Tract 165.10, Dallas, TX</td>\n",
       "      <td>14644.0</td>\n",
       "    </tr>\n",
       "    <tr>\n",
       "      <th>4</th>\n",
       "      <td>32.2337</td>\n",
       "      <td>-96.4661</td>\n",
       "      <td>POINT (-10738557.131 3794026.629)</td>\n",
       "      <td>3866.0</td>\n",
       "      <td>14000US48349970100</td>\n",
       "      <td>Census Tract 9701, Navarro, TX</td>\n",
       "      <td>4045.0</td>\n",
       "    </tr>\n",
       "  </tbody>\n",
       "</table>\n",
       "</div>"
      ],
      "text/plain": [
       "   latitude  longitude                           geometry  index_right  \\\n",
       "0   29.6754   -95.5499  POINT (-10636566.213 3461893.407)       2766.0   \n",
       "1   32.7157   -97.2597  POINT (-10826900.279 3857628.408)       4359.0   \n",
       "2   32.8958   -96.8986  POINT (-10786702.811 3881481.309)       1195.0   \n",
       "3   32.6412   -96.9481  POINT (-10792213.125 3847775.532)       1391.0   \n",
       "4   32.2337   -96.4661  POINT (-10738557.131 3794026.629)       3866.0   \n",
       "\n",
       "                geoid                               name    Total  \n",
       "0  14000US48201433501   Census Tract 4335.01, Harris, TX   5593.0  \n",
       "1  14000US48439106201  Census Tract 1062.01, Tarrant, TX   4007.0  \n",
       "2  14000US48113009900        Census Tract 99, Dallas, TX   4371.0  \n",
       "3  14000US48113016510    Census Tract 165.10, Dallas, TX  14644.0  \n",
       "4  14000US48349970100     Census Tract 9701, Navarro, TX   4045.0  "
      ]
     },
     "execution_count": 75,
     "metadata": {},
     "output_type": "execute_result"
    }
   ],
   "source": [
    "join = gpd.sjoin(gvTexas, texasPop, how='left')\n",
    "join.head()"
   ]
  },
  {
   "cell_type": "markdown",
   "id": "decreased-sustainability",
   "metadata": {},
   "source": [
    "This counts gun violence rates by their corresponding census group in the pop. data, we will be using geoid as a geographic reference"
   ]
  },
  {
   "cell_type": "code",
   "execution_count": 76,
   "id": "filled-belize",
   "metadata": {},
   "outputs": [],
   "source": [
    "gvTexas_by_texasPop = join.geoid.value_counts().rename_axis('geoid').reset_index(name='gvTexas_count')"
   ]
  },
  {
   "cell_type": "markdown",
   "id": "grave-double",
   "metadata": {},
   "source": [
    "print to check"
   ]
  },
  {
   "cell_type": "code",
   "execution_count": 77,
   "id": "invalid-physiology",
   "metadata": {},
   "outputs": [
    {
     "data": {
      "text/html": [
       "<div>\n",
       "<style scoped>\n",
       "    .dataframe tbody tr th:only-of-type {\n",
       "        vertical-align: middle;\n",
       "    }\n",
       "\n",
       "    .dataframe tbody tr th {\n",
       "        vertical-align: top;\n",
       "    }\n",
       "\n",
       "    .dataframe thead th {\n",
       "        text-align: right;\n",
       "    }\n",
       "</style>\n",
       "<table border=\"1\" class=\"dataframe\">\n",
       "  <thead>\n",
       "    <tr style=\"text-align: right;\">\n",
       "      <th></th>\n",
       "      <th>geoid</th>\n",
       "      <th>gvTexas_count</th>\n",
       "    </tr>\n",
       "  </thead>\n",
       "  <tbody>\n",
       "    <tr>\n",
       "      <th>0</th>\n",
       "      <td>14000US48201980100</td>\n",
       "      <td>197</td>\n",
       "    </tr>\n",
       "    <tr>\n",
       "      <th>1</th>\n",
       "      <td>14000US48201100000</td>\n",
       "      <td>154</td>\n",
       "    </tr>\n",
       "    <tr>\n",
       "      <th>2</th>\n",
       "      <td>14000US48029180201</td>\n",
       "      <td>80</td>\n",
       "    </tr>\n",
       "    <tr>\n",
       "      <th>3</th>\n",
       "      <td>14000US48113002100</td>\n",
       "      <td>65</td>\n",
       "    </tr>\n",
       "    <tr>\n",
       "      <th>4</th>\n",
       "      <td>14000US48355006400</td>\n",
       "      <td>55</td>\n",
       "    </tr>\n",
       "  </tbody>\n",
       "</table>\n",
       "</div>"
      ],
      "text/plain": [
       "                geoid  gvTexas_count\n",
       "0  14000US48201980100            197\n",
       "1  14000US48201100000            154\n",
       "2  14000US48029180201             80\n",
       "3  14000US48113002100             65\n",
       "4  14000US48355006400             55"
      ]
     },
     "execution_count": 77,
     "metadata": {},
     "output_type": "execute_result"
    }
   ],
   "source": [
    "gvTexas_by_texasPop.head()"
   ]
  },
  {
   "cell_type": "markdown",
   "id": "ranking-nepal",
   "metadata": {},
   "source": [
    "this is a barchart of the top 20 block groups with the largest amount of gun violence incidents"
   ]
  },
  {
   "cell_type": "code",
   "execution_count": 78,
   "id": "excited-recall",
   "metadata": {},
   "outputs": [
    {
     "data": {
      "text/plain": [
       "<matplotlib.axes._subplots.AxesSubplot at 0x7f41fded47f0>"
      ]
     },
     "execution_count": 78,
     "metadata": {},
     "output_type": "execute_result"
    },
    {
     "data": {
      "image/png": "[encoded data removed]",
      "text/plain": [
       "<Figure size 1440x288 with 1 Axes>"
      ]
     },
     "metadata": {
      "needs_background": "light"
     },
     "output_type": "display_data"
    }
   ],
   "source": [
    "gvTexas_by_texasPop[:20].plot.bar(figsize=(20,4),\n",
    "                             x='geoid',\n",
    "                             y='gvTexas_count')"
   ]
  },
  {
   "cell_type": "markdown",
   "id": "governing-artwork",
   "metadata": {},
   "source": [
    "now we will join the summary table back to the pop. data"
   ]
  },
  {
   "cell_type": "code",
   "execution_count": 79,
   "id": "infinite-evening",
   "metadata": {},
   "outputs": [],
   "source": [
    "texasPop = texasPop.merge(gvTexas_by_texasPop,on='geoid')"
   ]
  },
  {
   "cell_type": "markdown",
   "id": "blond-kelly",
   "metadata": {},
   "source": [
    "and check again"
   ]
  },
  {
   "cell_type": "code",
   "execution_count": 80,
   "id": "advised-monaco",
   "metadata": {},
   "outputs": [
    {
     "data": {
      "text/html": [
       "<div>\n",
       "<style scoped>\n",
       "    .dataframe tbody tr th:only-of-type {\n",
       "        vertical-align: middle;\n",
       "    }\n",
       "\n",
       "    .dataframe tbody tr th {\n",
       "        vertical-align: top;\n",
       "    }\n",
       "\n",
       "    .dataframe thead th {\n",
       "        text-align: right;\n",
       "    }\n",
       "</style>\n",
       "<table border=\"1\" class=\"dataframe\">\n",
       "  <thead>\n",
       "    <tr style=\"text-align: right;\">\n",
       "      <th></th>\n",
       "      <th>geoid</th>\n",
       "      <th>name</th>\n",
       "      <th>Total</th>\n",
       "      <th>geometry</th>\n",
       "      <th>gvTexas_count</th>\n",
       "    </tr>\n",
       "  </thead>\n",
       "  <tbody>\n",
       "    <tr>\n",
       "      <th>0</th>\n",
       "      <td>14000US48001950100</td>\n",
       "      <td>Census Tract 9501, Anderson, TX</td>\n",
       "      <td>4844.0</td>\n",
       "      <td>MULTIPOLYGON (((-10652944.093 3760156.467, -10...</td>\n",
       "      <td>1</td>\n",
       "    </tr>\n",
       "    <tr>\n",
       "      <th>1</th>\n",
       "      <td>14000US48001950500</td>\n",
       "      <td>Census Tract 9505, Anderson, TX</td>\n",
       "      <td>4465.0</td>\n",
       "      <td>MULTIPOLYGON (((-10651904.926 3738450.297, -10...</td>\n",
       "      <td>5</td>\n",
       "    </tr>\n",
       "    <tr>\n",
       "      <th>2</th>\n",
       "      <td>14000US48001950600</td>\n",
       "      <td>Census Tract 9506, Anderson, TX</td>\n",
       "      <td>5148.0</td>\n",
       "      <td>MULTIPOLYGON (((-10654136.436 3727343.837, -10...</td>\n",
       "      <td>4</td>\n",
       "    </tr>\n",
       "    <tr>\n",
       "      <th>3</th>\n",
       "      <td>14000US48001950700</td>\n",
       "      <td>Census Tract 9507, Anderson, TX</td>\n",
       "      <td>2783.0</td>\n",
       "      <td>MULTIPOLYGON (((-10647654.414 3730603.857, -10...</td>\n",
       "      <td>9</td>\n",
       "    </tr>\n",
       "    <tr>\n",
       "      <th>4</th>\n",
       "      <td>14000US48001950800</td>\n",
       "      <td>Census Tract 9508, Anderson, TX</td>\n",
       "      <td>5505.0</td>\n",
       "      <td>MULTIPOLYGON (((-10645350.657 3731416.708, -10...</td>\n",
       "      <td>2</td>\n",
       "    </tr>\n",
       "  </tbody>\n",
       "</table>\n",
       "</div>"
      ],
      "text/plain": [
       "                geoid                             name   Total  \\\n",
       "0  14000US48001950100  Census Tract 9501, Anderson, TX  4844.0   \n",
       "1  14000US48001950500  Census Tract 9505, Anderson, TX  4465.0   \n",
       "2  14000US48001950600  Census Tract 9506, Anderson, TX  5148.0   \n",
       "3  14000US48001950700  Census Tract 9507, Anderson, TX  2783.0   \n",
       "4  14000US48001950800  Census Tract 9508, Anderson, TX  5505.0   \n",
       "\n",
       "                                            geometry  gvTexas_count  \n",
       "0  MULTIPOLYGON (((-10652944.093 3760156.467, -10...              1  \n",
       "1  MULTIPOLYGON (((-10651904.926 3738450.297, -10...              5  \n",
       "2  MULTIPOLYGON (((-10654136.436 3727343.837, -10...              4  \n",
       "3  MULTIPOLYGON (((-10647654.414 3730603.857, -10...              9  \n",
       "4  MULTIPOLYGON (((-10645350.657 3731416.708, -10...              2  "
      ]
     },
     "execution_count": 80,
     "metadata": {},
     "output_type": "execute_result"
    }
   ],
   "source": [
    "texasPop.head()"
   ]
  },
  {
   "cell_type": "markdown",
   "id": "partial-symphony",
   "metadata": {},
   "source": [
    "normalize the data and add a new column for the number of gun violence incidents per 1000"
   ]
  },
  {
   "cell_type": "code",
   "execution_count": 81,
   "id": "acquired-issue",
   "metadata": {},
   "outputs": [],
   "source": [
    "texasPop['gvTexas_per_1000'] = texasPop['gvTexas_count']/texasPop['Total']*1000"
   ]
  },
  {
   "cell_type": "markdown",
   "id": "adverse-daisy",
   "metadata": {},
   "source": [
    "check again!"
   ]
  },
  {
   "cell_type": "code",
   "execution_count": 82,
   "id": "tutorial-female",
   "metadata": {},
   "outputs": [
    {
     "data": {
      "text/html": [
       "<div>\n",
       "<style scoped>\n",
       "    .dataframe tbody tr th:only-of-type {\n",
       "        vertical-align: middle;\n",
       "    }\n",
       "\n",
       "    .dataframe tbody tr th {\n",
       "        vertical-align: top;\n",
       "    }\n",
       "\n",
       "    .dataframe thead th {\n",
       "        text-align: right;\n",
       "    }\n",
       "</style>\n",
       "<table border=\"1\" class=\"dataframe\">\n",
       "  <thead>\n",
       "    <tr style=\"text-align: right;\">\n",
       "      <th></th>\n",
       "      <th>geoid</th>\n",
       "      <th>name</th>\n",
       "      <th>Total</th>\n",
       "      <th>geometry</th>\n",
       "      <th>gvTexas_count</th>\n",
       "      <th>gvTexas_per_1000</th>\n",
       "    </tr>\n",
       "  </thead>\n",
       "  <tbody>\n",
       "    <tr>\n",
       "      <th>2417</th>\n",
       "      <td>14000US48303000700</td>\n",
       "      <td>Census Tract 7, Lubbock, TX</td>\n",
       "      <td>975.0</td>\n",
       "      <td>MULTIPOLYGON (((-11338474.119 3972266.960, -11...</td>\n",
       "      <td>20</td>\n",
       "      <td>20.512821</td>\n",
       "    </tr>\n",
       "    <tr>\n",
       "      <th>2415</th>\n",
       "      <td>14000US48303000605</td>\n",
       "      <td>Census Tract 6.05, Lubbock, TX</td>\n",
       "      <td>841.0</td>\n",
       "      <td>MULTIPOLYGON (((-11339224.747 3974200.268, -11...</td>\n",
       "      <td>19</td>\n",
       "      <td>22.592152</td>\n",
       "    </tr>\n",
       "    <tr>\n",
       "      <th>1419</th>\n",
       "      <td>14000US48201100000</td>\n",
       "      <td>Census Tract 1000, Harris, TX</td>\n",
       "      <td>6011.0</td>\n",
       "      <td>MULTIPOLYGON (((-10617052.129 3472431.021, -10...</td>\n",
       "      <td>154</td>\n",
       "      <td>25.619697</td>\n",
       "    </tr>\n",
       "    <tr>\n",
       "      <th>695</th>\n",
       "      <td>14000US48113002100</td>\n",
       "      <td>Census Tract 21, Dallas, TX</td>\n",
       "      <td>2338.0</td>\n",
       "      <td>MULTIPOLYGON (((-10777023.915 3866292.111, -10...</td>\n",
       "      <td>65</td>\n",
       "      <td>27.801540</td>\n",
       "    </tr>\n",
       "    <tr>\n",
       "      <th>2083</th>\n",
       "      <td>14000US48201980100</td>\n",
       "      <td>Census Tract 9801, Harris, TX</td>\n",
       "      <td>519.0</td>\n",
       "      <td>MULTIPOLYGON (((-10617664.164 3506168.743, -10...</td>\n",
       "      <td>197</td>\n",
       "      <td>379.576108</td>\n",
       "    </tr>\n",
       "  </tbody>\n",
       "</table>\n",
       "</div>"
      ],
      "text/plain": [
       "                   geoid                            name   Total  \\\n",
       "2417  14000US48303000700     Census Tract 7, Lubbock, TX   975.0   \n",
       "2415  14000US48303000605  Census Tract 6.05, Lubbock, TX   841.0   \n",
       "1419  14000US48201100000   Census Tract 1000, Harris, TX  6011.0   \n",
       "695   14000US48113002100     Census Tract 21, Dallas, TX  2338.0   \n",
       "2083  14000US48201980100   Census Tract 9801, Harris, TX   519.0   \n",
       "\n",
       "                                               geometry  gvTexas_count  \\\n",
       "2417  MULTIPOLYGON (((-11338474.119 3972266.960, -11...             20   \n",
       "2415  MULTIPOLYGON (((-11339224.747 3974200.268, -11...             19   \n",
       "1419  MULTIPOLYGON (((-10617052.129 3472431.021, -10...            154   \n",
       "695   MULTIPOLYGON (((-10777023.915 3866292.111, -10...             65   \n",
       "2083  MULTIPOLYGON (((-10617664.164 3506168.743, -10...            197   \n",
       "\n",
       "      gvTexas_per_1000  \n",
       "2417         20.512821  \n",
       "2415         22.592152  \n",
       "1419         25.619697  \n",
       "695          27.801540  \n",
       "2083        379.576108  "
      ]
     },
     "execution_count": 82,
     "metadata": {},
     "output_type": "execute_result"
    }
   ],
   "source": [
    "texasPop.sort_values(by=\"gvTexas_per_1000\").tail()"
   ]
  },
  {
   "cell_type": "markdown",
   "id": "exempt-coordinator",
   "metadata": {},
   "source": [
    "We will now be using the KNN library and we will set k=8 to account for surrounding neighbors to determine the spatial weight of gun violence in Texas. Then we do row standardization to adjust the nearest neighbor weight in a spatial weight matrix\n",
    "\n"
   ]
  },
  {
   "cell_type": "code",
   "execution_count": 83,
   "id": "partial-excuse",
   "metadata": {},
   "outputs": [],
   "source": [
    "wq = lps.weights.KNN.from_dataframe(texasPop,k=8)\n",
    "wq.transform = 'r'"
   ]
  },
  {
   "cell_type": "markdown",
   "id": "labeled-reason",
   "metadata": {},
   "source": [
    "We will now be creating a new column for the average of the “r” value to create a single value"
   ]
  },
  {
   "cell_type": "code",
   "execution_count": 84,
   "id": "military-transcript",
   "metadata": {},
   "outputs": [],
   "source": [
    "texasPop['gvTexas_per_1000_lag'] = lps.weights.lag_spatial(wq, texasPop['gvTexas_per_1000'])"
   ]
  },
  {
   "cell_type": "markdown",
   "id": "correct-roller",
   "metadata": {},
   "source": [
    "create new column that calculates the difference between gun violence data and spatial lag"
   ]
  },
  {
   "cell_type": "code",
   "execution_count": 85,
   "id": "forbidden-violin",
   "metadata": {},
   "outputs": [],
   "source": [
    "texasPop['gvtexas_lag_diff'] = texasPop['gvTexas_per_1000'] - texasPop['gvTexas_per_1000_lag']"
   ]
  },
  {
   "cell_type": "markdown",
   "id": "baking-evaluation",
   "metadata": {},
   "source": [
    "check the first and last 5 rows"
   ]
  },
  {
   "cell_type": "code",
   "execution_count": 86,
   "id": "oriental-candy",
   "metadata": {},
   "outputs": [
    {
     "data": {
      "text/html": [
       "<div>\n",
       "<style scoped>\n",
       "    .dataframe tbody tr th:only-of-type {\n",
       "        vertical-align: middle;\n",
       "    }\n",
       "\n",
       "    .dataframe tbody tr th {\n",
       "        vertical-align: top;\n",
       "    }\n",
       "\n",
       "    .dataframe thead th {\n",
       "        text-align: right;\n",
       "    }\n",
       "</style>\n",
       "<table border=\"1\" class=\"dataframe\">\n",
       "  <thead>\n",
       "    <tr style=\"text-align: right;\">\n",
       "      <th></th>\n",
       "      <th>geoid</th>\n",
       "      <th>name</th>\n",
       "      <th>Total</th>\n",
       "      <th>geometry</th>\n",
       "      <th>gvTexas_count</th>\n",
       "      <th>gvTexas_per_1000</th>\n",
       "      <th>gvTexas_per_1000_lag</th>\n",
       "      <th>gvtexas_lag_diff</th>\n",
       "    </tr>\n",
       "  </thead>\n",
       "  <tbody>\n",
       "    <tr>\n",
       "      <th>1520</th>\n",
       "      <td>14000US48201240902</td>\n",
       "      <td>Census Tract 2409.02, Harris, TX</td>\n",
       "      <td>16658.0</td>\n",
       "      <td>MULTIPOLYGON (((-10609743.225 3504316.612, -10...</td>\n",
       "      <td>3</td>\n",
       "      <td>0.180094</td>\n",
       "      <td>48.039673</td>\n",
       "      <td>-47.859580</td>\n",
       "    </tr>\n",
       "    <tr>\n",
       "      <th>1511</th>\n",
       "      <td>14000US48201240400</td>\n",
       "      <td>Census Tract 2404, Harris, TX</td>\n",
       "      <td>8300.0</td>\n",
       "      <td>MULTIPOLYGON (((-10620411.640 3506356.838, -10...</td>\n",
       "      <td>6</td>\n",
       "      <td>0.722892</td>\n",
       "      <td>48.297036</td>\n",
       "      <td>-47.574145</td>\n",
       "    </tr>\n",
       "    <tr>\n",
       "      <th>1519</th>\n",
       "      <td>14000US48201240901</td>\n",
       "      <td>Census Tract 2409.01, Harris, TX</td>\n",
       "      <td>11399.0</td>\n",
       "      <td>MULTIPOLYGON (((-10612099.302 3505045.631, -10...</td>\n",
       "      <td>9</td>\n",
       "      <td>0.789543</td>\n",
       "      <td>48.019157</td>\n",
       "      <td>-47.229615</td>\n",
       "    </tr>\n",
       "    <tr>\n",
       "      <th>1518</th>\n",
       "      <td>14000US48201240802</td>\n",
       "      <td>Census Tract 2408.02, Harris, TX</td>\n",
       "      <td>6859.0</td>\n",
       "      <td>MULTIPOLYGON (((-10620483.998 3507550.143, -10...</td>\n",
       "      <td>6</td>\n",
       "      <td>0.874763</td>\n",
       "      <td>47.885970</td>\n",
       "      <td>-47.011207</td>\n",
       "    </tr>\n",
       "    <tr>\n",
       "      <th>1528</th>\n",
       "      <td>14000US48201241500</td>\n",
       "      <td>Census Tract 2415, Harris, TX</td>\n",
       "      <td>7911.0</td>\n",
       "      <td>MULTIPOLYGON (((-10618056.788 3497036.165, -10...</td>\n",
       "      <td>13</td>\n",
       "      <td>1.643282</td>\n",
       "      <td>48.130228</td>\n",
       "      <td>-46.486946</td>\n",
       "    </tr>\n",
       "    <tr>\n",
       "      <th>...</th>\n",
       "      <td>...</td>\n",
       "      <td>...</td>\n",
       "      <td>...</td>\n",
       "      <td>...</td>\n",
       "      <td>...</td>\n",
       "      <td>...</td>\n",
       "      <td>...</td>\n",
       "      <td>...</td>\n",
       "    </tr>\n",
       "    <tr>\n",
       "      <th>2687</th>\n",
       "      <td>14000US48355006400</td>\n",
       "      <td>Census Tract 64, Nueces, TX</td>\n",
       "      <td>2687.0</td>\n",
       "      <td>MULTIPOLYGON (((-10844359.628 3223622.368, -10...</td>\n",
       "      <td>55</td>\n",
       "      <td>20.468924</td>\n",
       "      <td>3.949466</td>\n",
       "      <td>16.519458</td>\n",
       "    </tr>\n",
       "    <tr>\n",
       "      <th>2415</th>\n",
       "      <td>14000US48303000605</td>\n",
       "      <td>Census Tract 6.05, Lubbock, TX</td>\n",
       "      <td>841.0</td>\n",
       "      <td>MULTIPOLYGON (((-11339224.747 3974200.268, -11...</td>\n",
       "      <td>19</td>\n",
       "      <td>22.592152</td>\n",
       "      <td>4.421124</td>\n",
       "      <td>18.171028</td>\n",
       "    </tr>\n",
       "    <tr>\n",
       "      <th>1419</th>\n",
       "      <td>14000US48201100000</td>\n",
       "      <td>Census Tract 1000, Harris, TX</td>\n",
       "      <td>6011.0</td>\n",
       "      <td>MULTIPOLYGON (((-10617052.129 3472431.021, -10...</td>\n",
       "      <td>154</td>\n",
       "      <td>25.619697</td>\n",
       "      <td>1.806920</td>\n",
       "      <td>23.812777</td>\n",
       "    </tr>\n",
       "    <tr>\n",
       "      <th>695</th>\n",
       "      <td>14000US48113002100</td>\n",
       "      <td>Census Tract 21, Dallas, TX</td>\n",
       "      <td>2338.0</td>\n",
       "      <td>MULTIPOLYGON (((-10777023.915 3866292.111, -10...</td>\n",
       "      <td>65</td>\n",
       "      <td>27.801540</td>\n",
       "      <td>1.467431</td>\n",
       "      <td>26.334109</td>\n",
       "    </tr>\n",
       "    <tr>\n",
       "      <th>2083</th>\n",
       "      <td>14000US48201980100</td>\n",
       "      <td>Census Tract 9801, Harris, TX</td>\n",
       "      <td>519.0</td>\n",
       "      <td>MULTIPOLYGON (((-10617664.164 3506168.743, -10...</td>\n",
       "      <td>197</td>\n",
       "      <td>379.576108</td>\n",
       "      <td>0.833927</td>\n",
       "      <td>378.742181</td>\n",
       "    </tr>\n",
       "  </tbody>\n",
       "</table>\n",
       "<p>3555 rows × 8 columns</p>\n",
       "</div>"
      ],
      "text/plain": [
       "                   geoid                              name    Total  \\\n",
       "1520  14000US48201240902  Census Tract 2409.02, Harris, TX  16658.0   \n",
       "1511  14000US48201240400     Census Tract 2404, Harris, TX   8300.0   \n",
       "1519  14000US48201240901  Census Tract 2409.01, Harris, TX  11399.0   \n",
       "1518  14000US48201240802  Census Tract 2408.02, Harris, TX   6859.0   \n",
       "1528  14000US48201241500     Census Tract 2415, Harris, TX   7911.0   \n",
       "...                  ...                               ...      ...   \n",
       "2687  14000US48355006400       Census Tract 64, Nueces, TX   2687.0   \n",
       "2415  14000US48303000605    Census Tract 6.05, Lubbock, TX    841.0   \n",
       "1419  14000US48201100000     Census Tract 1000, Harris, TX   6011.0   \n",
       "695   14000US48113002100       Census Tract 21, Dallas, TX   2338.0   \n",
       "2083  14000US48201980100     Census Tract 9801, Harris, TX    519.0   \n",
       "\n",
       "                                               geometry  gvTexas_count  \\\n",
       "1520  MULTIPOLYGON (((-10609743.225 3504316.612, -10...              3   \n",
       "1511  MULTIPOLYGON (((-10620411.640 3506356.838, -10...              6   \n",
       "1519  MULTIPOLYGON (((-10612099.302 3505045.631, -10...              9   \n",
       "1518  MULTIPOLYGON (((-10620483.998 3507550.143, -10...              6   \n",
       "1528  MULTIPOLYGON (((-10618056.788 3497036.165, -10...             13   \n",
       "...                                                 ...            ...   \n",
       "2687  MULTIPOLYGON (((-10844359.628 3223622.368, -10...             55   \n",
       "2415  MULTIPOLYGON (((-11339224.747 3974200.268, -11...             19   \n",
       "1419  MULTIPOLYGON (((-10617052.129 3472431.021, -10...            154   \n",
       "695   MULTIPOLYGON (((-10777023.915 3866292.111, -10...             65   \n",
       "2083  MULTIPOLYGON (((-10617664.164 3506168.743, -10...            197   \n",
       "\n",
       "      gvTexas_per_1000  gvTexas_per_1000_lag  gvtexas_lag_diff  \n",
       "1520          0.180094             48.039673        -47.859580  \n",
       "1511          0.722892             48.297036        -47.574145  \n",
       "1519          0.789543             48.019157        -47.229615  \n",
       "1518          0.874763             47.885970        -47.011207  \n",
       "1528          1.643282             48.130228        -46.486946  \n",
       "...                ...                   ...               ...  \n",
       "2687         20.468924              3.949466         16.519458  \n",
       "2415         22.592152              4.421124         18.171028  \n",
       "1419         25.619697              1.806920         23.812777  \n",
       "695          27.801540              1.467431         26.334109  \n",
       "2083        379.576108              0.833927        378.742181  \n",
       "\n",
       "[3555 rows x 8 columns]"
      ]
     },
     "execution_count": 86,
     "metadata": {},
     "output_type": "execute_result"
    }
   ],
   "source": [
    "texasPop.sort_values(by='gvtexas_lag_diff')"
   ]
  },
  {
   "cell_type": "markdown",
   "id": "impossible-investigator",
   "metadata": {},
   "source": [
    "## Moran's Plot\n",
    "Now we will quantify the degree of the spatial correlations using Moran's Plot"
   ]
  },
  {
   "cell_type": "code",
   "execution_count": 88,
   "id": "bottom-sunday",
   "metadata": {},
   "outputs": [
    {
     "data": {
      "text/plain": [
       "0.010816472422853688"
      ]
     },
     "execution_count": 88,
     "metadata": {},
     "output_type": "execute_result"
    }
   ],
   "source": [
    "y = texasPop.gvTexas_per_1000\n",
    "moran = Moran(y, wq)\n",
    "moran.I"
   ]
  },
  {
   "cell_type": "markdown",
   "id": "certain-nightlife",
   "metadata": {},
   "source": [
    "It seems our Moran value is 0.012 which is a  positive value which means there is a positive spatial autocorrelation. \n",
    "\n",
    "now we output a scatter plot of our \"gun violence data per 1000\" and \"gun violence data per 1000 spatial lag\" in Texas"
   ]
  },
  {
   "cell_type": "code",
   "execution_count": 89,
   "id": "behind-employee",
   "metadata": {},
   "outputs": [
    {
     "data": {
      "image/png": "[encoded data removed]",
      "text/plain": [
       "<Figure size 504x504 with 1 Axes>"
      ]
     },
     "metadata": {
      "needs_background": "light"
     },
     "output_type": "display_data"
    }
   ],
   "source": [
    "fig, ax = moran_scatterplot(moran, aspect_equal=True)\n",
    "plt.show()"
   ]
  },
  {
   "cell_type": "markdown",
   "id": "traditional-progressive",
   "metadata": {},
   "source": [
    "We will now compare our observed Moran’s I value to this reference distribution"
   ]
  },
  {
   "cell_type": "code",
   "execution_count": 90,
   "id": "published-saturday",
   "metadata": {},
   "outputs": [
    {
     "name": "stderr",
     "output_type": "stream",
     "text": [
      "/opt/conda/lib/python3.8/site-packages/splot/_viz_esda_mpl.py:47: MatplotlibDeprecationWarning: \n",
      "The set_smart_bounds function was deprecated in Matplotlib 3.2 and will be removed two minor releases later.\n",
      "  ax.spines['left'].set_smart_bounds(True)\n",
      "/opt/conda/lib/python3.8/site-packages/splot/_viz_esda_mpl.py:48: MatplotlibDeprecationWarning: \n",
      "The set_smart_bounds function was deprecated in Matplotlib 3.2 and will be removed two minor releases later.\n",
      "  ax.spines['bottom'].set_smart_bounds(True)\n"
     ]
    },
    {
     "data": {
      "text/plain": [
       "(<Figure size 504x504 with 1 Axes>,\n",
       " <matplotlib.axes._subplots.AxesSubplot at 0x7f41f8294dc0>)"
      ]
     },
     "execution_count": 90,
     "metadata": {},
     "output_type": "execute_result"
    },
    {
     "data": {
      "image/png": "[encoded data removed]",
      "text/plain": [
       "<Figure size 504x504 with 1 Axes>"
      ]
     },
     "metadata": {
      "needs_background": "light"
     },
     "output_type": "display_data"
    }
   ],
   "source": [
    "plot_moran_simulation(moran,aspect_equal=False)"
   ]
  },
  {
   "cell_type": "code",
   "execution_count": 91,
   "id": "written-cursor",
   "metadata": {},
   "outputs": [
    {
     "data": {
      "text/plain": [
       "0.008"
      ]
     },
     "execution_count": 91,
     "metadata": {},
     "output_type": "execute_result"
    }
   ],
   "source": [
    "moran.p_sim"
   ]
  },
  {
   "cell_type": "markdown",
   "id": "fewer-turner",
   "metadata": {},
   "source": [
    "Looking at the distribution above and the calculated P value of 0.008, we can determine that only 0.8% of Moran’s statistic would be larger than the one calculated (0.012). Proving that the correlation is high enough to be predictable.\n",
    "\n",
    "calculate local moran values"
   ]
  },
  {
   "cell_type": "code",
   "execution_count": 92,
   "id": "czech-greek",
   "metadata": {},
   "outputs": [],
   "source": [
    "lisa = esda.moran.Moran_Local(y, wq)"
   ]
  },
  {
   "cell_type": "markdown",
   "id": "crazy-priority",
   "metadata": {},
   "source": [
    "now we plot and add some arguments for the labels for our moran local scatterplot. using lisa to detect clusters for the correlation in neighborhood quality and our gun data, we can discern the high values near to high values (HH), low values with nearby low values (LL), low values with high values in its neighborhood (& vice-versa)"
   ]
  },
  {
   "cell_type": "code",
   "execution_count": 101,
   "id": "owned-orlando",
   "metadata": {},
   "outputs": [
    {
     "data": {
      "image/png": "[encoded data removed]",
      "text/plain": [
       "<Figure size 1080x21600 with 1 Axes>"
      ]
     },
     "metadata": {
      "needs_background": "light"
     },
     "output_type": "display_data"
    }
   ],
   "source": [
    "fig,ax = plt.subplots(figsize=(15,300))\n",
    "\n",
    "moran_scatterplot(lisa, ax=ax, p=0.05)\n",
    "ax.set_xlabel(\"Gun Violence in TX\")\n",
    "ax.set_ylabel('Spatial Lag of Gun Violence in TX')\n",
    "\n",
    "plt.text(1.95, 0.5, \"HH\", fontsize=12)\n",
    "plt.text(1.95, -1, \"HL\", fontsize=12)\n",
    "plt.text(-2, 1, \"LH\", fontsize=12)\n",
    "plt.text(-1, -1, \"LL\", fontsize=12)\n",
    "plt.show()"
   ]
  },
  {
   "cell_type": "markdown",
   "id": "transparent-verse",
   "metadata": {},
   "source": [
    "judging by the visualization there are clusters but they are not high in spatial lag, there is a relatively high correlation proving the gun violence incidents are not entirely located randomly\n",
    "\n",
    "using the lisa_cluster function we can map the clusters"
   ]
  },
  {
   "cell_type": "code",
   "execution_count": 94,
   "id": "academic-freight",
   "metadata": {},
   "outputs": [
    {
     "data": {
      "image/png": "[encoded data removed]",
      "text/plain": [
       "<Figure size 1008x864 with 1 Axes>"
      ]
     },
     "metadata": {
      "needs_background": "light"
     },
     "output_type": "display_data"
    }
   ],
   "source": [
    "fig, ax = plt.subplots(figsize=(14,12))\n",
    "lisa_cluster(lisa, texasPop, p=0.05, ax=ax)\n",
    "plt.show()"
   ]
  },
  {
   "cell_type": "markdown",
   "id": "saving-retirement",
   "metadata": {},
   "source": [
    "From this visualizations we see collections of LL areas and HH areas proving like areas surround like areas. However there are some diamonds, which are high incident census tracts bordered by low incident census tracts."
   ]
  },
  {
   "cell_type": "code",
   "execution_count": null,
   "id": "brilliant-browse",
   "metadata": {},
   "outputs": [],
   "source": []
  }
 ],
 "metadata": {
  "kernelspec": {
   "display_name": "Python 3",
   "language": "python",
   "name": "python3"
  },
  "language_info": {
   "codemirror_mode": {
    "name": "ipython",
    "version": 3
   },
   "file_extension": ".py",
   "mimetype": "text/x-python",
   "name": "python",
   "nbconvert_exporter": "python",
   "pygments_lexer": "ipython3",
   "version": "3.8.5"
  },
  "toc": {
   "base_numbering": 1,
   "nav_menu": {},
   "number_sections": true,
   "sideBar": true,
   "skip_h1_title": false,
   "title_cell": "Table of Contents",
   "title_sidebar": "Contents",
   "toc_cell": false,
   "toc_position": {},
   "toc_section_display": true,
   "toc_window_display": false
  }
 },
 "nbformat": 4,
 "nbformat_minor": 5
}
