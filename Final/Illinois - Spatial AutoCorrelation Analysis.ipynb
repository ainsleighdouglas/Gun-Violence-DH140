{
 "cells": [
  {
   "cell_type": "markdown",
   "id": "located-review",
   "metadata": {},
   "source": [
    "# Illinois Saptial AutoCorrelation Analysis\n",
    "Lets take a deep dive into the correlation between the geolocation of gun violence incidents and the Illinois census tract data. Is there a correlation between the locations of incidents throughout the state of Illinois?\n",
    "\n",
    "We will now install the libraries needed to read/wrangle data, create spacial data, analyze Moran's number, and to create graphics."
   ]
  },
  {
   "cell_type": "code",
   "execution_count": 51,
   "id": "furnished-sally",
   "metadata": {},
   "outputs": [],
   "source": [
    "import geopandas as gpd\n",
    "import contextily as ctx\n",
    "import esda\n",
    "from esda.moran import Moran, Moran_Local\n",
    "import splot\n",
    "from splot.esda import moran_scatterplot, plot_moran, lisa_cluster,plot_moran_simulation\n",
    "import libpysal as lps\n",
    "import matplotlib.pyplot as plt\n",
    "import plotly.express as px\n",
    "\n",
    "import osmnx as ox\n",
    "import pandas as pd"
   ]
  },
  {
   "cell_type": "markdown",
   "id": "patent-slope",
   "metadata": {},
   "source": [
    "## Import First Data Set"
   ]
  },
  {
   "cell_type": "markdown",
   "id": "split-hartford",
   "metadata": {},
   "source": [
    "Import illinois data of gun violence related incidents"
   ]
  },
  {
   "cell_type": "code",
   "execution_count": 8,
   "id": "floating-portugal",
   "metadata": {},
   "outputs": [],
   "source": [
    "gvIllinois = gpd.read_file('cleanGunDataIllinois.csv')"
   ]
  },
  {
   "cell_type": "markdown",
   "id": "necessary-controversy",
   "metadata": {},
   "source": [
    "Extract the geospatial aspect of the gun violence data into columns with the latitude and longitude"
   ]
  },
  {
   "cell_type": "code",
   "execution_count": 9,
   "id": "greenhouse-spencer",
   "metadata": {},
   "outputs": [
    {
     "data": {
      "text/html": [
       "<div>\n",
       "<style scoped>\n",
       "    .dataframe tbody tr th:only-of-type {\n",
       "        vertical-align: middle;\n",
       "    }\n",
       "\n",
       "    .dataframe tbody tr th {\n",
       "        vertical-align: top;\n",
       "    }\n",
       "\n",
       "    .dataframe thead th {\n",
       "        text-align: right;\n",
       "    }\n",
       "</style>\n",
       "<table border=\"1\" class=\"dataframe\">\n",
       "  <thead>\n",
       "    <tr style=\"text-align: right;\">\n",
       "      <th></th>\n",
       "      <th>latitude</th>\n",
       "      <th>longitude</th>\n",
       "    </tr>\n",
       "  </thead>\n",
       "  <tbody>\n",
       "    <tr>\n",
       "      <th>0</th>\n",
       "      <td>41.7592</td>\n",
       "      <td>-87.5628</td>\n",
       "    </tr>\n",
       "    <tr>\n",
       "      <th>1</th>\n",
       "      <td>41.7358</td>\n",
       "      <td>-87.6631</td>\n",
       "    </tr>\n",
       "    <tr>\n",
       "      <th>2</th>\n",
       "      <td>41.7906</td>\n",
       "      <td>-87.6418</td>\n",
       "    </tr>\n",
       "    <tr>\n",
       "      <th>3</th>\n",
       "      <td>39.5417</td>\n",
       "      <td>-90.3301</td>\n",
       "    </tr>\n",
       "    <tr>\n",
       "      <th>4</th>\n",
       "      <td>41.8968</td>\n",
       "      <td>-87.7556</td>\n",
       "    </tr>\n",
       "    <tr>\n",
       "      <th>...</th>\n",
       "      <td>...</td>\n",
       "      <td>...</td>\n",
       "    </tr>\n",
       "    <tr>\n",
       "      <th>17551</th>\n",
       "      <td>42.2523</td>\n",
       "      <td>-89.0864</td>\n",
       "    </tr>\n",
       "    <tr>\n",
       "      <th>17552</th>\n",
       "      <td></td>\n",
       "      <td></td>\n",
       "    </tr>\n",
       "    <tr>\n",
       "      <th>17553</th>\n",
       "      <td></td>\n",
       "      <td></td>\n",
       "    </tr>\n",
       "    <tr>\n",
       "      <th>17554</th>\n",
       "      <td>41.7286</td>\n",
       "      <td>-87.6425</td>\n",
       "    </tr>\n",
       "    <tr>\n",
       "      <th>17555</th>\n",
       "      <td></td>\n",
       "      <td></td>\n",
       "    </tr>\n",
       "  </tbody>\n",
       "</table>\n",
       "<p>17556 rows × 2 columns</p>\n",
       "</div>"
      ],
      "text/plain": [
       "      latitude longitude\n",
       "0      41.7592  -87.5628\n",
       "1      41.7358  -87.6631\n",
       "2      41.7906  -87.6418\n",
       "3      39.5417  -90.3301\n",
       "4      41.8968  -87.7556\n",
       "...        ...       ...\n",
       "17551  42.2523  -89.0864\n",
       "17552                   \n",
       "17553                   \n",
       "17554  41.7286  -87.6425\n",
       "17555                   \n",
       "\n",
       "[17556 rows x 2 columns]"
      ]
     },
     "execution_count": 9,
     "metadata": {},
     "output_type": "execute_result"
    }
   ],
   "source": [
    "gvIllinois = gvIllinois[[\n",
    " 'latitude',\n",
    " 'longitude']]\n",
    "gvIllinois"
   ]
  },
  {
   "cell_type": "markdown",
   "id": "military-paintball",
   "metadata": {},
   "source": [
    "convert the pandas strings data type of the long. and lat. to floats"
   ]
  },
  {
   "cell_type": "code",
   "execution_count": 10,
   "id": "stretch-royal",
   "metadata": {},
   "outputs": [],
   "source": [
    "gvIllinois['latitude'] = pd.to_numeric(gvIllinois['latitude'],errors='coerce')\n",
    "gvIllinois['longitude'] = pd.to_numeric(gvIllinois['longitude'],errors='coerce')"
   ]
  },
  {
   "cell_type": "markdown",
   "id": "played-individual",
   "metadata": {},
   "source": [
    "convert the gun violence data from pandas to geopandas dataframe"
   ]
  },
  {
   "cell_type": "code",
   "execution_count": 11,
   "id": "pointed-leather",
   "metadata": {},
   "outputs": [],
   "source": [
    "gvIllinois = gpd.GeoDataFrame(gvIllinois, \n",
    "                         crs='EPSG:4326',\n",
    "                         geometry=gpd.points_from_xy(gvIllinois.longitude, gvIllinois.latitude))"
   ]
  },
  {
   "cell_type": "markdown",
   "id": "formal-sandwich",
   "metadata": {},
   "source": [
    "project data onto a mercator map"
   ]
  },
  {
   "cell_type": "code",
   "execution_count": 12,
   "id": "forward-proxy",
   "metadata": {},
   "outputs": [],
   "source": [
    "gvIllinois = gvIllinois.to_crs(epsg=3857)"
   ]
  },
  {
   "cell_type": "markdown",
   "id": "secret-candy",
   "metadata": {},
   "source": [
    "## Important Illinois Population Census Data\n",
    "Import the census tract record of population in Illinois"
   ]
  },
  {
   "cell_type": "code",
   "execution_count": 25,
   "id": "familiar-terry",
   "metadata": {},
   "outputs": [],
   "source": [
    "illinoisPop = gpd.read_file('illinoisPop.geojson')"
   ]
  },
  {
   "cell_type": "markdown",
   "id": "jewish-forge",
   "metadata": {},
   "source": [
    "Remove the first row of the data frame that includes Illinois total accumilation of population so it doesn't skew the data"
   ]
  },
  {
   "cell_type": "code",
   "execution_count": 26,
   "id": "lined-bowling",
   "metadata": {},
   "outputs": [],
   "source": [
    "illinoisPop = illinoisPop.drop([0])"
   ]
  },
  {
   "cell_type": "markdown",
   "id": "national-protest",
   "metadata": {},
   "source": [
    "Check to see if the row was dropped"
   ]
  },
  {
   "cell_type": "code",
   "execution_count": 27,
   "id": "native-compact",
   "metadata": {},
   "outputs": [
    {
     "data": {
      "text/html": [
       "<div>\n",
       "<style scoped>\n",
       "    .dataframe tbody tr th:only-of-type {\n",
       "        vertical-align: middle;\n",
       "    }\n",
       "\n",
       "    .dataframe tbody tr th {\n",
       "        vertical-align: top;\n",
       "    }\n",
       "\n",
       "    .dataframe thead th {\n",
       "        text-align: right;\n",
       "    }\n",
       "</style>\n",
       "<table border=\"1\" class=\"dataframe\">\n",
       "  <thead>\n",
       "    <tr style=\"text-align: right;\">\n",
       "      <th></th>\n",
       "      <th>geoid</th>\n",
       "      <th>name</th>\n",
       "      <th>B01003001</th>\n",
       "      <th>B01003001, Error</th>\n",
       "      <th>geometry</th>\n",
       "    </tr>\n",
       "  </thead>\n",
       "  <tbody>\n",
       "    <tr>\n",
       "      <th>1</th>\n",
       "      <td>14000US17001000100</td>\n",
       "      <td>Census Tract 1, Adams, IL</td>\n",
       "      <td>4761.0</td>\n",
       "      <td>340.0</td>\n",
       "      <td>MULTIPOLYGON (((-91.37766 39.94285, -91.37766 ...</td>\n",
       "    </tr>\n",
       "    <tr>\n",
       "      <th>2</th>\n",
       "      <td>14000US17001000201</td>\n",
       "      <td>Census Tract 2.01, Adams, IL</td>\n",
       "      <td>1985.0</td>\n",
       "      <td>166.0</td>\n",
       "      <td>MULTIPOLYGON (((-91.39655 39.95078, -91.39654 ...</td>\n",
       "    </tr>\n",
       "    <tr>\n",
       "      <th>3</th>\n",
       "      <td>14000US17001000202</td>\n",
       "      <td>Census Tract 2.02, Adams, IL</td>\n",
       "      <td>2376.0</td>\n",
       "      <td>246.0</td>\n",
       "      <td>MULTIPOLYGON (((-91.39369 39.94311, -91.39369 ...</td>\n",
       "    </tr>\n",
       "    <tr>\n",
       "      <th>4</th>\n",
       "      <td>14000US17001000400</td>\n",
       "      <td>Census Tract 4, Adams, IL</td>\n",
       "      <td>3422.0</td>\n",
       "      <td>440.0</td>\n",
       "      <td>MULTIPOLYGON (((-91.42005 39.95081, -91.41917 ...</td>\n",
       "    </tr>\n",
       "    <tr>\n",
       "      <th>5</th>\n",
       "      <td>14000US17001000500</td>\n",
       "      <td>Census Tract 5, Adams, IL</td>\n",
       "      <td>2175.0</td>\n",
       "      <td>239.0</td>\n",
       "      <td>MULTIPOLYGON (((-91.40341 39.94942, -91.40340 ...</td>\n",
       "    </tr>\n",
       "  </tbody>\n",
       "</table>\n",
       "</div>"
      ],
      "text/plain": [
       "                geoid                          name  B01003001  \\\n",
       "1  14000US17001000100     Census Tract 1, Adams, IL     4761.0   \n",
       "2  14000US17001000201  Census Tract 2.01, Adams, IL     1985.0   \n",
       "3  14000US17001000202  Census Tract 2.02, Adams, IL     2376.0   \n",
       "4  14000US17001000400     Census Tract 4, Adams, IL     3422.0   \n",
       "5  14000US17001000500     Census Tract 5, Adams, IL     2175.0   \n",
       "\n",
       "   B01003001, Error                                           geometry  \n",
       "1             340.0  MULTIPOLYGON (((-91.37766 39.94285, -91.37766 ...  \n",
       "2             166.0  MULTIPOLYGON (((-91.39655 39.95078, -91.39654 ...  \n",
       "3             246.0  MULTIPOLYGON (((-91.39369 39.94311, -91.39369 ...  \n",
       "4             440.0  MULTIPOLYGON (((-91.42005 39.95081, -91.41917 ...  \n",
       "5             239.0  MULTIPOLYGON (((-91.40341 39.94942, -91.40340 ...  "
      ]
     },
     "execution_count": 27,
     "metadata": {},
     "output_type": "execute_result"
    }
   ],
   "source": [
    "illinoisPop.head()"
   ]
  },
  {
   "cell_type": "markdown",
   "id": "instant-sterling",
   "metadata": {},
   "source": [
    "Trim down the columns "
   ]
  },
  {
   "cell_type": "code",
   "execution_count": 28,
   "id": "italic-italian",
   "metadata": {},
   "outputs": [],
   "source": [
    "list(illinoisPop)\n",
    "columns_to_keep = ['geoid',\n",
    "'name',\n",
    "'B01003001',\n",
    "'geometry']\n",
    "illinoisPop = illinoisPop[columns_to_keep]"
   ]
  },
  {
   "cell_type": "markdown",
   "id": "beneficial-football",
   "metadata": {},
   "source": [
    "Rename the columns so they are usable and check"
   ]
  },
  {
   "cell_type": "code",
   "execution_count": 29,
   "id": "mobile-supervision",
   "metadata": {},
   "outputs": [
    {
     "data": {
      "text/html": [
       "<div>\n",
       "<style scoped>\n",
       "    .dataframe tbody tr th:only-of-type {\n",
       "        vertical-align: middle;\n",
       "    }\n",
       "\n",
       "    .dataframe tbody tr th {\n",
       "        vertical-align: top;\n",
       "    }\n",
       "\n",
       "    .dataframe thead th {\n",
       "        text-align: right;\n",
       "    }\n",
       "</style>\n",
       "<table border=\"1\" class=\"dataframe\">\n",
       "  <thead>\n",
       "    <tr style=\"text-align: right;\">\n",
       "      <th></th>\n",
       "      <th>geoid</th>\n",
       "      <th>name</th>\n",
       "      <th>Total</th>\n",
       "      <th>geometry</th>\n",
       "    </tr>\n",
       "  </thead>\n",
       "  <tbody>\n",
       "    <tr>\n",
       "      <th>1</th>\n",
       "      <td>14000US17001000100</td>\n",
       "      <td>Census Tract 1, Adams, IL</td>\n",
       "      <td>4761.0</td>\n",
       "      <td>MULTIPOLYGON (((-91.37766 39.94285, -91.37766 ...</td>\n",
       "    </tr>\n",
       "    <tr>\n",
       "      <th>2</th>\n",
       "      <td>14000US17001000201</td>\n",
       "      <td>Census Tract 2.01, Adams, IL</td>\n",
       "      <td>1985.0</td>\n",
       "      <td>MULTIPOLYGON (((-91.39655 39.95078, -91.39654 ...</td>\n",
       "    </tr>\n",
       "    <tr>\n",
       "      <th>3</th>\n",
       "      <td>14000US17001000202</td>\n",
       "      <td>Census Tract 2.02, Adams, IL</td>\n",
       "      <td>2376.0</td>\n",
       "      <td>MULTIPOLYGON (((-91.39369 39.94311, -91.39369 ...</td>\n",
       "    </tr>\n",
       "    <tr>\n",
       "      <th>4</th>\n",
       "      <td>14000US17001000400</td>\n",
       "      <td>Census Tract 4, Adams, IL</td>\n",
       "      <td>3422.0</td>\n",
       "      <td>MULTIPOLYGON (((-91.42005 39.95081, -91.41917 ...</td>\n",
       "    </tr>\n",
       "    <tr>\n",
       "      <th>5</th>\n",
       "      <td>14000US17001000500</td>\n",
       "      <td>Census Tract 5, Adams, IL</td>\n",
       "      <td>2175.0</td>\n",
       "      <td>MULTIPOLYGON (((-91.40341 39.94942, -91.40340 ...</td>\n",
       "    </tr>\n",
       "  </tbody>\n",
       "</table>\n",
       "</div>"
      ],
      "text/plain": [
       "                geoid                          name   Total  \\\n",
       "1  14000US17001000100     Census Tract 1, Adams, IL  4761.0   \n",
       "2  14000US17001000201  Census Tract 2.01, Adams, IL  1985.0   \n",
       "3  14000US17001000202  Census Tract 2.02, Adams, IL  2376.0   \n",
       "4  14000US17001000400     Census Tract 4, Adams, IL  3422.0   \n",
       "5  14000US17001000500     Census Tract 5, Adams, IL  2175.0   \n",
       "\n",
       "                                            geometry  \n",
       "1  MULTIPOLYGON (((-91.37766 39.94285, -91.37766 ...  \n",
       "2  MULTIPOLYGON (((-91.39655 39.95078, -91.39654 ...  \n",
       "3  MULTIPOLYGON (((-91.39369 39.94311, -91.39369 ...  \n",
       "4  MULTIPOLYGON (((-91.42005 39.95081, -91.41917 ...  \n",
       "5  MULTIPOLYGON (((-91.40341 39.94942, -91.40340 ...  "
      ]
     },
     "execution_count": 29,
     "metadata": {},
     "output_type": "execute_result"
    }
   ],
   "source": [
    "illinoisPop.columns = ['geoid',\n",
    " 'name',\n",
    " 'Total',\n",
    " 'geometry']\n",
    "illinoisPop.head()"
   ]
  },
  {
   "cell_type": "markdown",
   "id": "metallic-wireless",
   "metadata": {},
   "source": [
    "delete rows that have less than a 100 population geographies"
   ]
  },
  {
   "cell_type": "code",
   "execution_count": 30,
   "id": "pretty-frank",
   "metadata": {},
   "outputs": [],
   "source": [
    "illinoisPop = illinoisPop[illinoisPop['Total']>100]"
   ]
  },
  {
   "cell_type": "markdown",
   "id": "dominant-vehicle",
   "metadata": {},
   "source": [
    "project data onto a mercator map so it matches the gun violence data"
   ]
  },
  {
   "cell_type": "code",
   "execution_count": 31,
   "id": "simplified-cruise",
   "metadata": {},
   "outputs": [],
   "source": [
    "illinoisPop = illinoisPop.to_crs(epsg=3857)"
   ]
  },
  {
   "cell_type": "markdown",
   "id": "qualified-boxing",
   "metadata": {},
   "source": [
    "## Spatial Join"
   ]
  },
  {
   "cell_type": "markdown",
   "id": "exposed-journalism",
   "metadata": {},
   "source": [
    "Now we will be doing a spatial join of the Illinois population data and the gun violence data. We will be attaching the gun violence data to the population data"
   ]
  },
  {
   "cell_type": "code",
   "execution_count": 32,
   "id": "reasonable-approach",
   "metadata": {},
   "outputs": [
    {
     "data": {
      "text/html": [
       "<div>\n",
       "<style scoped>\n",
       "    .dataframe tbody tr th:only-of-type {\n",
       "        vertical-align: middle;\n",
       "    }\n",
       "\n",
       "    .dataframe tbody tr th {\n",
       "        vertical-align: top;\n",
       "    }\n",
       "\n",
       "    .dataframe thead th {\n",
       "        text-align: right;\n",
       "    }\n",
       "</style>\n",
       "<table border=\"1\" class=\"dataframe\">\n",
       "  <thead>\n",
       "    <tr style=\"text-align: right;\">\n",
       "      <th></th>\n",
       "      <th>latitude</th>\n",
       "      <th>longitude</th>\n",
       "      <th>geometry</th>\n",
       "      <th>index_right</th>\n",
       "      <th>geoid</th>\n",
       "      <th>name</th>\n",
       "      <th>Total</th>\n",
       "    </tr>\n",
       "  </thead>\n",
       "  <tbody>\n",
       "    <tr>\n",
       "      <th>0</th>\n",
       "      <td>41.7592</td>\n",
       "      <td>-87.5628</td>\n",
       "      <td>POINT (-9747446.308 5124976.743)</td>\n",
       "      <td>594.0</td>\n",
       "      <td>14000US17031431302</td>\n",
       "      <td>Census Tract 4313.02, Cook, IL</td>\n",
       "      <td>4329.0</td>\n",
       "    </tr>\n",
       "    <tr>\n",
       "      <th>1</th>\n",
       "      <td>41.7358</td>\n",
       "      <td>-87.6631</td>\n",
       "      <td>POINT (-9758611.653 5121485.357)</td>\n",
       "      <td>792.0</td>\n",
       "      <td>14000US17031711200</td>\n",
       "      <td>Census Tract 7112, Cook, IL</td>\n",
       "      <td>4949.0</td>\n",
       "    </tr>\n",
       "    <tr>\n",
       "      <th>2</th>\n",
       "      <td>41.7906</td>\n",
       "      <td>-87.6418</td>\n",
       "      <td>POINT (-9756240.548 5129663.767)</td>\n",
       "      <td>1379.0</td>\n",
       "      <td>14000US17031834700</td>\n",
       "      <td>Census Tract 8347, Cook, IL</td>\n",
       "      <td>1258.0</td>\n",
       "    </tr>\n",
       "    <tr>\n",
       "      <th>3</th>\n",
       "      <td>39.5417</td>\n",
       "      <td>-90.3301</td>\n",
       "      <td>POINT (-10055500.735 4799565.173)</td>\n",
       "      <td>2749.0</td>\n",
       "      <td>14000US17171970700</td>\n",
       "      <td>Census Tract 9707, Scott, IL</td>\n",
       "      <td>3261.0</td>\n",
       "    </tr>\n",
       "    <tr>\n",
       "      <th>4</th>\n",
       "      <td>41.8968</td>\n",
       "      <td>-87.7556</td>\n",
       "      <td>POINT (-9768908.706 5145533.098)</td>\n",
       "      <td>459.0</td>\n",
       "      <td>14000US17031251100</td>\n",
       "      <td>Census Tract 2511, Cook, IL</td>\n",
       "      <td>4811.0</td>\n",
       "    </tr>\n",
       "  </tbody>\n",
       "</table>\n",
       "</div>"
      ],
      "text/plain": [
       "   latitude  longitude                           geometry  index_right  \\\n",
       "0   41.7592   -87.5628   POINT (-9747446.308 5124976.743)        594.0   \n",
       "1   41.7358   -87.6631   POINT (-9758611.653 5121485.357)        792.0   \n",
       "2   41.7906   -87.6418   POINT (-9756240.548 5129663.767)       1379.0   \n",
       "3   39.5417   -90.3301  POINT (-10055500.735 4799565.173)       2749.0   \n",
       "4   41.8968   -87.7556   POINT (-9768908.706 5145533.098)        459.0   \n",
       "\n",
       "                geoid                            name   Total  \n",
       "0  14000US17031431302  Census Tract 4313.02, Cook, IL  4329.0  \n",
       "1  14000US17031711200     Census Tract 7112, Cook, IL  4949.0  \n",
       "2  14000US17031834700     Census Tract 8347, Cook, IL  1258.0  \n",
       "3  14000US17171970700    Census Tract 9707, Scott, IL  3261.0  \n",
       "4  14000US17031251100     Census Tract 2511, Cook, IL  4811.0  "
      ]
     },
     "execution_count": 32,
     "metadata": {},
     "output_type": "execute_result"
    }
   ],
   "source": [
    "join = gpd.sjoin(gvIllinois, illinoisPop, how='left')\n",
    "join.head()"
   ]
  },
  {
   "cell_type": "markdown",
   "id": "thousand-overhead",
   "metadata": {},
   "source": [
    "This counts gun violence rates by their corresponding census group in the pop. data, we will be using geoid as a geographic reference"
   ]
  },
  {
   "cell_type": "code",
   "execution_count": 33,
   "id": "dynamic-exclusion",
   "metadata": {},
   "outputs": [],
   "source": [
    "gvIllinois_by_illinoisPop = join.geoid.value_counts().rename_axis('geoid').reset_index(name='gvIllinois_count')"
   ]
  },
  {
   "cell_type": "markdown",
   "id": "heavy-capacity",
   "metadata": {},
   "source": [
    "print to check"
   ]
  },
  {
   "cell_type": "code",
   "execution_count": 34,
   "id": "psychological-gregory",
   "metadata": {},
   "outputs": [
    {
     "data": {
      "text/html": [
       "<div>\n",
       "<style scoped>\n",
       "    .dataframe tbody tr th:only-of-type {\n",
       "        vertical-align: middle;\n",
       "    }\n",
       "\n",
       "    .dataframe tbody tr th {\n",
       "        vertical-align: top;\n",
       "    }\n",
       "\n",
       "    .dataframe thead th {\n",
       "        text-align: right;\n",
       "    }\n",
       "</style>\n",
       "<table border=\"1\" class=\"dataframe\">\n",
       "  <thead>\n",
       "    <tr style=\"text-align: right;\">\n",
       "      <th></th>\n",
       "      <th>geoid</th>\n",
       "      <th>gvIllinois_count</th>\n",
       "    </tr>\n",
       "  </thead>\n",
       "  <tbody>\n",
       "    <tr>\n",
       "      <th>0</th>\n",
       "      <td>14000US17031231500</td>\n",
       "      <td>122</td>\n",
       "    </tr>\n",
       "    <tr>\n",
       "      <th>1</th>\n",
       "      <td>14000US17031251800</td>\n",
       "      <td>104</td>\n",
       "    </tr>\n",
       "    <tr>\n",
       "      <th>2</th>\n",
       "      <td>14000US17031252102</td>\n",
       "      <td>98</td>\n",
       "    </tr>\n",
       "    <tr>\n",
       "      <th>3</th>\n",
       "      <td>14000US17143000300</td>\n",
       "      <td>94</td>\n",
       "    </tr>\n",
       "    <tr>\n",
       "      <th>4</th>\n",
       "      <td>14000US17031252202</td>\n",
       "      <td>91</td>\n",
       "    </tr>\n",
       "  </tbody>\n",
       "</table>\n",
       "</div>"
      ],
      "text/plain": [
       "                geoid  gvIllinois_count\n",
       "0  14000US17031231500               122\n",
       "1  14000US17031251800               104\n",
       "2  14000US17031252102                98\n",
       "3  14000US17143000300                94\n",
       "4  14000US17031252202                91"
      ]
     },
     "execution_count": 34,
     "metadata": {},
     "output_type": "execute_result"
    }
   ],
   "source": [
    "gvIllinois_by_illinoisPop.head()"
   ]
  },
  {
   "cell_type": "markdown",
   "id": "equipped-tuition",
   "metadata": {},
   "source": [
    "this is a barchart of the top 20 block groups with the largest amount of gun violence incidents"
   ]
  },
  {
   "cell_type": "code",
   "execution_count": 35,
   "id": "compact-workshop",
   "metadata": {},
   "outputs": [
    {
     "data": {
      "text/plain": [
       "<matplotlib.axes._subplots.AxesSubplot at 0x7f7c8d0d8d60>"
      ]
     },
     "execution_count": 35,
     "metadata": {},
     "output_type": "execute_result"
    },
    {
     "data": {
      "image/png": "[encoded data removed]",
      "text/plain": [
       "<Figure size 1440x288 with 1 Axes>"
      ]
     },
     "metadata": {
      "needs_background": "light"
     },
     "output_type": "display_data"
    }
   ],
   "source": [
    "gvIllinois_by_illinoisPop[:20].plot.bar(figsize=(20,4),\n",
    "                             x='geoid',\n",
    "                             y='gvIllinois_count')"
   ]
  },
  {
   "cell_type": "markdown",
   "id": "progressive-continent",
   "metadata": {},
   "source": [
    "now we will join the summary table back to the pop. data"
   ]
  },
  {
   "cell_type": "code",
   "execution_count": 36,
   "id": "forward-chase",
   "metadata": {},
   "outputs": [],
   "source": [
    "illinoisPop = illinoisPop.merge(gvIllinois_by_illinoisPop,on='geoid')"
   ]
  },
  {
   "cell_type": "markdown",
   "id": "indonesian-problem",
   "metadata": {},
   "source": [
    "and check again"
   ]
  },
  {
   "cell_type": "code",
   "execution_count": 37,
   "id": "academic-colombia",
   "metadata": {},
   "outputs": [
    {
     "data": {
      "text/html": [
       "<div>\n",
       "<style scoped>\n",
       "    .dataframe tbody tr th:only-of-type {\n",
       "        vertical-align: middle;\n",
       "    }\n",
       "\n",
       "    .dataframe tbody tr th {\n",
       "        vertical-align: top;\n",
       "    }\n",
       "\n",
       "    .dataframe thead th {\n",
       "        text-align: right;\n",
       "    }\n",
       "</style>\n",
       "<table border=\"1\" class=\"dataframe\">\n",
       "  <thead>\n",
       "    <tr style=\"text-align: right;\">\n",
       "      <th></th>\n",
       "      <th>geoid</th>\n",
       "      <th>name</th>\n",
       "      <th>Total</th>\n",
       "      <th>geometry</th>\n",
       "      <th>gvIllinois_count</th>\n",
       "    </tr>\n",
       "  </thead>\n",
       "  <tbody>\n",
       "    <tr>\n",
       "      <th>0</th>\n",
       "      <td>14000US17001000100</td>\n",
       "      <td>Census Tract 1, Adams, IL</td>\n",
       "      <td>4761.0</td>\n",
       "      <td>MULTIPOLYGON (((-10172114.915 4857640.724, -10...</td>\n",
       "      <td>2</td>\n",
       "    </tr>\n",
       "    <tr>\n",
       "      <th>1</th>\n",
       "      <td>14000US17001000201</td>\n",
       "      <td>Census Tract 2.01, Adams, IL</td>\n",
       "      <td>1985.0</td>\n",
       "      <td>MULTIPOLYGON (((-10174217.629 4858791.758, -10...</td>\n",
       "      <td>1</td>\n",
       "    </tr>\n",
       "    <tr>\n",
       "      <th>2</th>\n",
       "      <td>14000US17001000202</td>\n",
       "      <td>Census Tract 2.02, Adams, IL</td>\n",
       "      <td>2376.0</td>\n",
       "      <td>MULTIPOLYGON (((-10173899.478 4857678.330, -10...</td>\n",
       "      <td>1</td>\n",
       "    </tr>\n",
       "    <tr>\n",
       "      <th>3</th>\n",
       "      <td>14000US17001000400</td>\n",
       "      <td>Census Tract 4, Adams, IL</td>\n",
       "      <td>3422.0</td>\n",
       "      <td>MULTIPOLYGON (((-10176832.969 4858796.550, -10...</td>\n",
       "      <td>15</td>\n",
       "    </tr>\n",
       "    <tr>\n",
       "      <th>4</th>\n",
       "      <td>14000US17001000500</td>\n",
       "      <td>Census Tract 5, Adams, IL</td>\n",
       "      <td>2175.0</td>\n",
       "      <td>MULTIPOLYGON (((-10174981.503 4858594.707, -10...</td>\n",
       "      <td>6</td>\n",
       "    </tr>\n",
       "  </tbody>\n",
       "</table>\n",
       "</div>"
      ],
      "text/plain": [
       "                geoid                          name   Total  \\\n",
       "0  14000US17001000100     Census Tract 1, Adams, IL  4761.0   \n",
       "1  14000US17001000201  Census Tract 2.01, Adams, IL  1985.0   \n",
       "2  14000US17001000202  Census Tract 2.02, Adams, IL  2376.0   \n",
       "3  14000US17001000400     Census Tract 4, Adams, IL  3422.0   \n",
       "4  14000US17001000500     Census Tract 5, Adams, IL  2175.0   \n",
       "\n",
       "                                            geometry  gvIllinois_count  \n",
       "0  MULTIPOLYGON (((-10172114.915 4857640.724, -10...                 2  \n",
       "1  MULTIPOLYGON (((-10174217.629 4858791.758, -10...                 1  \n",
       "2  MULTIPOLYGON (((-10173899.478 4857678.330, -10...                 1  \n",
       "3  MULTIPOLYGON (((-10176832.969 4858796.550, -10...                15  \n",
       "4  MULTIPOLYGON (((-10174981.503 4858594.707, -10...                 6  "
      ]
     },
     "execution_count": 37,
     "metadata": {},
     "output_type": "execute_result"
    }
   ],
   "source": [
    "illinoisPop.head()"
   ]
  },
  {
   "cell_type": "markdown",
   "id": "brilliant-professional",
   "metadata": {},
   "source": [
    "normalize the data and add a new column for the number of gun violence incidents per 1000"
   ]
  },
  {
   "cell_type": "code",
   "execution_count": 38,
   "id": "straight-remainder",
   "metadata": {},
   "outputs": [],
   "source": [
    "illinoisPop['gvIllinois_per_1000'] = illinoisPop['gvIllinois_count']/illinoisPop['Total']*1000"
   ]
  },
  {
   "cell_type": "markdown",
   "id": "velvet-wichita",
   "metadata": {},
   "source": [
    "check again!"
   ]
  },
  {
   "cell_type": "code",
   "execution_count": 39,
   "id": "boxed-university",
   "metadata": {},
   "outputs": [
    {
     "data": {
      "text/html": [
       "<div>\n",
       "<style scoped>\n",
       "    .dataframe tbody tr th:only-of-type {\n",
       "        vertical-align: middle;\n",
       "    }\n",
       "\n",
       "    .dataframe tbody tr th {\n",
       "        vertical-align: top;\n",
       "    }\n",
       "\n",
       "    .dataframe thead th {\n",
       "        text-align: right;\n",
       "    }\n",
       "</style>\n",
       "<table border=\"1\" class=\"dataframe\">\n",
       "  <thead>\n",
       "    <tr style=\"text-align: right;\">\n",
       "      <th></th>\n",
       "      <th>geoid</th>\n",
       "      <th>name</th>\n",
       "      <th>Total</th>\n",
       "      <th>geometry</th>\n",
       "      <th>gvIllinois_count</th>\n",
       "      <th>gvIllinois_per_1000</th>\n",
       "    </tr>\n",
       "  </thead>\n",
       "  <tbody>\n",
       "    <tr>\n",
       "      <th>388</th>\n",
       "      <td>14000US17031270500</td>\n",
       "      <td>Census Tract 2705, Cook, IL</td>\n",
       "      <td>1271.0</td>\n",
       "      <td>MULTIPOLYGON (((-9765038.016 5143138.758, -976...</td>\n",
       "      <td>46</td>\n",
       "      <td>36.191975</td>\n",
       "    </tr>\n",
       "    <tr>\n",
       "      <th>396</th>\n",
       "      <td>14000US17031280800</td>\n",
       "      <td>Census Tract 2808, Cook, IL</td>\n",
       "      <td>786.0</td>\n",
       "      <td>MULTIPOLYGON (((-9761773.683 5143187.351, -976...</td>\n",
       "      <td>29</td>\n",
       "      <td>36.895674</td>\n",
       "    </tr>\n",
       "    <tr>\n",
       "      <th>647</th>\n",
       "      <td>14000US17031671400</td>\n",
       "      <td>Census Tract 6714, Cook, IL</td>\n",
       "      <td>1147.0</td>\n",
       "      <td>MULTIPOLYGON (((-9760359.035 5127538.500, -976...</td>\n",
       "      <td>46</td>\n",
       "      <td>40.104621</td>\n",
       "    </tr>\n",
       "    <tr>\n",
       "      <th>1038</th>\n",
       "      <td>14000US17031834700</td>\n",
       "      <td>Census Tract 8347, Cook, IL</td>\n",
       "      <td>1258.0</td>\n",
       "      <td>MULTIPOLYGON (((-9757155.149 5130207.252, -975...</td>\n",
       "      <td>51</td>\n",
       "      <td>40.540541</td>\n",
       "    </tr>\n",
       "    <tr>\n",
       "      <th>1633</th>\n",
       "      <td>14000US17143000300</td>\n",
       "      <td>Census Tract 3, Peoria, IL</td>\n",
       "      <td>1698.0</td>\n",
       "      <td>MULTIPOLYGON (((-9977889.232 4963374.776, -997...</td>\n",
       "      <td>94</td>\n",
       "      <td>55.359246</td>\n",
       "    </tr>\n",
       "  </tbody>\n",
       "</table>\n",
       "</div>"
      ],
      "text/plain": [
       "                   geoid                         name   Total  \\\n",
       "388   14000US17031270500  Census Tract 2705, Cook, IL  1271.0   \n",
       "396   14000US17031280800  Census Tract 2808, Cook, IL   786.0   \n",
       "647   14000US17031671400  Census Tract 6714, Cook, IL  1147.0   \n",
       "1038  14000US17031834700  Census Tract 8347, Cook, IL  1258.0   \n",
       "1633  14000US17143000300   Census Tract 3, Peoria, IL  1698.0   \n",
       "\n",
       "                                               geometry  gvIllinois_count  \\\n",
       "388   MULTIPOLYGON (((-9765038.016 5143138.758, -976...                46   \n",
       "396   MULTIPOLYGON (((-9761773.683 5143187.351, -976...                29   \n",
       "647   MULTIPOLYGON (((-9760359.035 5127538.500, -976...                46   \n",
       "1038  MULTIPOLYGON (((-9757155.149 5130207.252, -975...                51   \n",
       "1633  MULTIPOLYGON (((-9977889.232 4963374.776, -997...                94   \n",
       "\n",
       "      gvIllinois_per_1000  \n",
       "388             36.191975  \n",
       "396             36.895674  \n",
       "647             40.104621  \n",
       "1038            40.540541  \n",
       "1633            55.359246  "
      ]
     },
     "execution_count": 39,
     "metadata": {},
     "output_type": "execute_result"
    }
   ],
   "source": [
    "illinoisPop.sort_values(by=\"gvIllinois_per_1000\").tail()"
   ]
  },
  {
   "cell_type": "markdown",
   "id": "temporal-clause",
   "metadata": {},
   "source": [
    "We will now be using the KNN library and we will set k=8 to account for surrounding neighbors to determine the spatial weight of gun violence in Illinois. Then we do row standardization to adjust the nearest neighbor weight in a spatial weight matrix"
   ]
  },
  {
   "cell_type": "code",
   "execution_count": 40,
   "id": "stock-option",
   "metadata": {},
   "outputs": [],
   "source": [
    "wq = lps.weights.KNN.from_dataframe(illinoisPop,k=8)\n",
    "wq.transform = 'r'"
   ]
  },
  {
   "cell_type": "markdown",
   "id": "dutch-brazil",
   "metadata": {},
   "source": [
    "We will now be creating a new column for the average of the “r” value to create a single value"
   ]
  },
  {
   "cell_type": "code",
   "execution_count": 41,
   "id": "neither-burst",
   "metadata": {},
   "outputs": [],
   "source": [
    "illinoisPop['gvIllinois_per_1000_lag'] = lps.weights.lag_spatial(wq, illinoisPop['gvIllinois_per_1000'])"
   ]
  },
  {
   "cell_type": "markdown",
   "id": "strong-savage",
   "metadata": {},
   "source": [
    "create new column that calculates the difference between gun violence data and spatial lag"
   ]
  },
  {
   "cell_type": "code",
   "execution_count": 42,
   "id": "willing-dakota",
   "metadata": {},
   "outputs": [],
   "source": [
    "illinoisPop['gvIllinois_lag_diff'] = illinoisPop['gvIllinois_per_1000'] - illinoisPop['gvIllinois_per_1000_lag']"
   ]
  },
  {
   "cell_type": "markdown",
   "id": "skilled-enemy",
   "metadata": {},
   "source": [
    "\n",
    "check the first and last 5 rows"
   ]
  },
  {
   "cell_type": "code",
   "execution_count": 43,
   "id": "impossible-thomas",
   "metadata": {},
   "outputs": [
    {
     "data": {
      "text/html": [
       "<div>\n",
       "<style scoped>\n",
       "    .dataframe tbody tr th:only-of-type {\n",
       "        vertical-align: middle;\n",
       "    }\n",
       "\n",
       "    .dataframe tbody tr th {\n",
       "        vertical-align: top;\n",
       "    }\n",
       "\n",
       "    .dataframe thead th {\n",
       "        text-align: right;\n",
       "    }\n",
       "</style>\n",
       "<table border=\"1\" class=\"dataframe\">\n",
       "  <thead>\n",
       "    <tr style=\"text-align: right;\">\n",
       "      <th></th>\n",
       "      <th>geoid</th>\n",
       "      <th>name</th>\n",
       "      <th>Total</th>\n",
       "      <th>geometry</th>\n",
       "      <th>gvIllinois_count</th>\n",
       "      <th>gvIllinois_per_1000</th>\n",
       "      <th>gvIllinois_per_1000_lag</th>\n",
       "      <th>gvIllinois_lag_diff</th>\n",
       "    </tr>\n",
       "  </thead>\n",
       "  <tbody>\n",
       "    <tr>\n",
       "      <th>1824</th>\n",
       "      <td>14000US17179020400</td>\n",
       "      <td>Census Tract 204, Tazewell, IL</td>\n",
       "      <td>5360.0</td>\n",
       "      <td>MULTIPOLYGON (((-9976691.879 4958637.297, -997...</td>\n",
       "      <td>4</td>\n",
       "      <td>0.746269</td>\n",
       "      <td>22.959926</td>\n",
       "      <td>-22.213658</td>\n",
       "    </tr>\n",
       "    <tr>\n",
       "      <th>1670</th>\n",
       "      <td>14000US17143004802</td>\n",
       "      <td>Census Tract 48.02, Peoria, IL</td>\n",
       "      <td>4197.0</td>\n",
       "      <td>MULTIPOLYGON (((-9983165.998 4961739.553, -998...</td>\n",
       "      <td>7</td>\n",
       "      <td>1.667858</td>\n",
       "      <td>22.506189</td>\n",
       "      <td>-20.838331</td>\n",
       "    </tr>\n",
       "    <tr>\n",
       "      <th>1669</th>\n",
       "      <td>14000US17143004801</td>\n",
       "      <td>Census Tract 48.01, Peoria, IL</td>\n",
       "      <td>4661.0</td>\n",
       "      <td>MULTIPOLYGON (((-9989770.806 4962003.242, -998...</td>\n",
       "      <td>4</td>\n",
       "      <td>0.858185</td>\n",
       "      <td>19.202132</td>\n",
       "      <td>-18.343947</td>\n",
       "    </tr>\n",
       "    <tr>\n",
       "      <th>1821</th>\n",
       "      <td>14000US17179020100</td>\n",
       "      <td>Census Tract 201, Tazewell, IL</td>\n",
       "      <td>2485.0</td>\n",
       "      <td>MULTIPOLYGON (((-9976014.945 4962473.704, -997...</td>\n",
       "      <td>3</td>\n",
       "      <td>1.207243</td>\n",
       "      <td>19.489096</td>\n",
       "      <td>-18.281853</td>\n",
       "    </tr>\n",
       "    <tr>\n",
       "      <th>380</th>\n",
       "      <td>14000US17031260300</td>\n",
       "      <td>Census Tract 2603, Cook, IL</td>\n",
       "      <td>1668.0</td>\n",
       "      <td>MULTIPOLYGON (((-9766695.007 5144198.881, -976...</td>\n",
       "      <td>18</td>\n",
       "      <td>10.791367</td>\n",
       "      <td>26.200791</td>\n",
       "      <td>-15.409424</td>\n",
       "    </tr>\n",
       "    <tr>\n",
       "      <th>...</th>\n",
       "      <td>...</td>\n",
       "      <td>...</td>\n",
       "      <td>...</td>\n",
       "      <td>...</td>\n",
       "      <td>...</td>\n",
       "      <td>...</td>\n",
       "      <td>...</td>\n",
       "      <td>...</td>\n",
       "    </tr>\n",
       "    <tr>\n",
       "      <th>393</th>\n",
       "      <td>14000US17031271800</td>\n",
       "      <td>Census Tract 2718, Cook, IL</td>\n",
       "      <td>730.0</td>\n",
       "      <td>MULTIPOLYGON (((-9762832.109 5142086.078, -976...</td>\n",
       "      <td>26</td>\n",
       "      <td>35.616438</td>\n",
       "      <td>14.948661</td>\n",
       "      <td>20.667778</td>\n",
       "    </tr>\n",
       "    <tr>\n",
       "      <th>1356</th>\n",
       "      <td>14000US17091011600</td>\n",
       "      <td>Census Tract 116, Kankakee, IL</td>\n",
       "      <td>1482.0</td>\n",
       "      <td>MULTIPOLYGON (((-9781092.736 5030710.056, -978...</td>\n",
       "      <td>40</td>\n",
       "      <td>26.990553</td>\n",
       "      <td>4.789948</td>\n",
       "      <td>22.200606</td>\n",
       "    </tr>\n",
       "    <tr>\n",
       "      <th>396</th>\n",
       "      <td>14000US17031280800</td>\n",
       "      <td>Census Tract 2808, Cook, IL</td>\n",
       "      <td>786.0</td>\n",
       "      <td>MULTIPOLYGON (((-9761773.683 5143187.351, -976...</td>\n",
       "      <td>29</td>\n",
       "      <td>36.895674</td>\n",
       "      <td>14.044689</td>\n",
       "      <td>22.850986</td>\n",
       "    </tr>\n",
       "    <tr>\n",
       "      <th>647</th>\n",
       "      <td>14000US17031671400</td>\n",
       "      <td>Census Tract 6714, Cook, IL</td>\n",
       "      <td>1147.0</td>\n",
       "      <td>MULTIPOLYGON (((-9760359.035 5127538.500, -976...</td>\n",
       "      <td>46</td>\n",
       "      <td>40.104621</td>\n",
       "      <td>17.204441</td>\n",
       "      <td>22.900179</td>\n",
       "    </tr>\n",
       "    <tr>\n",
       "      <th>1633</th>\n",
       "      <td>14000US17143000300</td>\n",
       "      <td>Census Tract 3, Peoria, IL</td>\n",
       "      <td>1698.0</td>\n",
       "      <td>MULTIPOLYGON (((-9977889.232 4963374.776, -997...</td>\n",
       "      <td>94</td>\n",
       "      <td>55.359246</td>\n",
       "      <td>18.222905</td>\n",
       "      <td>37.136341</td>\n",
       "    </tr>\n",
       "  </tbody>\n",
       "</table>\n",
       "<p>2050 rows × 8 columns</p>\n",
       "</div>"
      ],
      "text/plain": [
       "                   geoid                            name   Total  \\\n",
       "1824  14000US17179020400  Census Tract 204, Tazewell, IL  5360.0   \n",
       "1670  14000US17143004802  Census Tract 48.02, Peoria, IL  4197.0   \n",
       "1669  14000US17143004801  Census Tract 48.01, Peoria, IL  4661.0   \n",
       "1821  14000US17179020100  Census Tract 201, Tazewell, IL  2485.0   \n",
       "380   14000US17031260300     Census Tract 2603, Cook, IL  1668.0   \n",
       "...                  ...                             ...     ...   \n",
       "393   14000US17031271800     Census Tract 2718, Cook, IL   730.0   \n",
       "1356  14000US17091011600  Census Tract 116, Kankakee, IL  1482.0   \n",
       "396   14000US17031280800     Census Tract 2808, Cook, IL   786.0   \n",
       "647   14000US17031671400     Census Tract 6714, Cook, IL  1147.0   \n",
       "1633  14000US17143000300      Census Tract 3, Peoria, IL  1698.0   \n",
       "\n",
       "                                               geometry  gvIllinois_count  \\\n",
       "1824  MULTIPOLYGON (((-9976691.879 4958637.297, -997...                 4   \n",
       "1670  MULTIPOLYGON (((-9983165.998 4961739.553, -998...                 7   \n",
       "1669  MULTIPOLYGON (((-9989770.806 4962003.242, -998...                 4   \n",
       "1821  MULTIPOLYGON (((-9976014.945 4962473.704, -997...                 3   \n",
       "380   MULTIPOLYGON (((-9766695.007 5144198.881, -976...                18   \n",
       "...                                                 ...               ...   \n",
       "393   MULTIPOLYGON (((-9762832.109 5142086.078, -976...                26   \n",
       "1356  MULTIPOLYGON (((-9781092.736 5030710.056, -978...                40   \n",
       "396   MULTIPOLYGON (((-9761773.683 5143187.351, -976...                29   \n",
       "647   MULTIPOLYGON (((-9760359.035 5127538.500, -976...                46   \n",
       "1633  MULTIPOLYGON (((-9977889.232 4963374.776, -997...                94   \n",
       "\n",
       "      gvIllinois_per_1000  gvIllinois_per_1000_lag  gvIllinois_lag_diff  \n",
       "1824             0.746269                22.959926           -22.213658  \n",
       "1670             1.667858                22.506189           -20.838331  \n",
       "1669             0.858185                19.202132           -18.343947  \n",
       "1821             1.207243                19.489096           -18.281853  \n",
       "380             10.791367                26.200791           -15.409424  \n",
       "...                   ...                      ...                  ...  \n",
       "393             35.616438                14.948661            20.667778  \n",
       "1356            26.990553                 4.789948            22.200606  \n",
       "396             36.895674                14.044689            22.850986  \n",
       "647             40.104621                17.204441            22.900179  \n",
       "1633            55.359246                18.222905            37.136341  \n",
       "\n",
       "[2050 rows x 8 columns]"
      ]
     },
     "execution_count": 43,
     "metadata": {},
     "output_type": "execute_result"
    }
   ],
   "source": [
    "illinoisPop.sort_values(by='gvIllinois_lag_diff')"
   ]
  },
  {
   "cell_type": "markdown",
   "id": "dedicated-friday",
   "metadata": {},
   "source": [
    "## Moran Plot\n",
    "\n",
    "Now we will quantify the degree of the spatial correlations using Moran's Plot"
   ]
  },
  {
   "cell_type": "code",
   "execution_count": 44,
   "id": "quantitative-council",
   "metadata": {},
   "outputs": [
    {
     "data": {
      "text/plain": [
       "0.6907841838799409"
      ]
     },
     "execution_count": 44,
     "metadata": {},
     "output_type": "execute_result"
    }
   ],
   "source": [
    "y = illinoisPop.gvIllinois_per_1000\n",
    "moran = Moran(y, wq)\n",
    "moran.I"
   ]
  },
  {
   "cell_type": "markdown",
   "id": "catholic-burke",
   "metadata": {},
   "source": [
    "It seems our Moran value is 0.69 which is a high positive value which means there is a positive spatial autocorrelation. Which means like values are close to like values (ex/ low incident rate areas are close to other low incident rate areas)\n",
    "\n",
    "\n",
    "now we output a scatter plot of our \"gun violence data per 1000\" and \"gun violence data per 1000 spatial lag\" in Illinois"
   ]
  },
  {
   "cell_type": "code",
   "execution_count": 45,
   "id": "armed-recipient",
   "metadata": {},
   "outputs": [
    {
     "data": {
      "image/png": "[encoded data removed]",
      "text/plain": [
       "<Figure size 504x504 with 1 Axes>"
      ]
     },
     "metadata": {
      "needs_background": "light"
     },
     "output_type": "display_data"
    }
   ],
   "source": [
    "fig, ax = moran_scatterplot(moran, aspect_equal=True)\n",
    "plt.show()"
   ]
  },
  {
   "cell_type": "markdown",
   "id": "deadly-asian",
   "metadata": {},
   "source": [
    "We will now compare our observed Moran’s I value to this reference distribution"
   ]
  },
  {
   "cell_type": "code",
   "execution_count": 46,
   "id": "upper-chicago",
   "metadata": {},
   "outputs": [
    {
     "name": "stderr",
     "output_type": "stream",
     "text": [
      "/opt/conda/lib/python3.8/site-packages/splot/_viz_esda_mpl.py:47: MatplotlibDeprecationWarning: \n",
      "The set_smart_bounds function was deprecated in Matplotlib 3.2 and will be removed two minor releases later.\n",
      "  ax.spines['left'].set_smart_bounds(True)\n",
      "/opt/conda/lib/python3.8/site-packages/splot/_viz_esda_mpl.py:48: MatplotlibDeprecationWarning: \n",
      "The set_smart_bounds function was deprecated in Matplotlib 3.2 and will be removed two minor releases later.\n",
      "  ax.spines['bottom'].set_smart_bounds(True)\n"
     ]
    },
    {
     "data": {
      "text/plain": [
       "(<Figure size 504x504 with 1 Axes>,\n",
       " <matplotlib.axes._subplots.AxesSubplot at 0x7f7c8cec9cd0>)"
      ]
     },
     "execution_count": 46,
     "metadata": {},
     "output_type": "execute_result"
    },
    {
     "data": {
      "image/png": "[encoded data removed]",
      "text/plain": [
       "<Figure size 504x504 with 1 Axes>"
      ]
     },
     "metadata": {
      "needs_background": "light"
     },
     "output_type": "display_data"
    }
   ],
   "source": [
    "plot_moran_simulation(moran,aspect_equal=False)"
   ]
  },
  {
   "cell_type": "code",
   "execution_count": 47,
   "id": "considerable-healthcare",
   "metadata": {},
   "outputs": [
    {
     "data": {
      "text/plain": [
       "0.001"
      ]
     },
     "execution_count": 47,
     "metadata": {},
     "output_type": "execute_result"
    }
   ],
   "source": [
    "moran.p_sim"
   ]
  },
  {
   "cell_type": "markdown",
   "id": "adopted-visiting",
   "metadata": {},
   "source": [
    "Looking at the distribution above and the calculated P value of 0.001, we can determine that only 0.1% of Moran’s statistic would be larger than the onee calculator (0.69). Proving that the correlation is high enough to be predictable."
   ]
  },
  {
   "cell_type": "markdown",
   "id": "greek-buyer",
   "metadata": {},
   "source": [
    "calculate local moran values"
   ]
  },
  {
   "cell_type": "code",
   "execution_count": 48,
   "id": "dependent-begin",
   "metadata": {},
   "outputs": [],
   "source": [
    "lisa = esda.moran.Moran_Local(y, wq)"
   ]
  },
  {
   "cell_type": "markdown",
   "id": "allied-spanking",
   "metadata": {},
   "source": [
    "now we plot and add some arguments for the labels for our moran local scatterplot. using lisa to detect clusters for the correlation in neighborhood quality and our gun data, we can discern the high values near to high values (HH), low values with nearby low values (LL), low values with high values in its neighborhood (& vice-versa)"
   ]
  },
  {
   "cell_type": "code",
   "execution_count": 49,
   "id": "standing-annual",
   "metadata": {},
   "outputs": [
    {
     "data": {
      "image/png": "[encoded data removed]",
      "text/plain": [
       "<Figure size 720x1080 with 1 Axes>"
      ]
     },
     "metadata": {
      "needs_background": "light"
     },
     "output_type": "display_data"
    }
   ],
   "source": [
    "fig,ax = plt.subplots(figsize=(10,15))\n",
    "\n",
    "moran_scatterplot(lisa, ax=ax, p=0.05)\n",
    "ax.set_xlabel(\"Gun Violence in IL\")\n",
    "ax.set_ylabel('Spatial Lag of Gun Violence in IL')\n",
    "\n",
    "plt.text(1.95, 0.5, \"HH\", fontsize=25)\n",
    "plt.text(1.95, -1, \"HL\", fontsize=25)\n",
    "plt.text(-2, 1, \"LH\", fontsize=25)\n",
    "plt.text(-1, -1, \"LL\", fontsize=25)\n",
    "plt.show()"
   ]
  },
  {
   "cell_type": "markdown",
   "id": "aware-laugh",
   "metadata": {},
   "source": [
    "judging by the visualization, and the abundance of clusters, there is a high correlation proving the gun violence incidents are not located randomly"
   ]
  },
  {
   "cell_type": "markdown",
   "id": "prompt-japanese",
   "metadata": {},
   "source": [
    "using the lisa_cluster function we can map the clusters"
   ]
  },
  {
   "cell_type": "code",
   "execution_count": 50,
   "id": "abstract-anaheim",
   "metadata": {},
   "outputs": [
    {
     "data": {
      "image/png": "[encoded data removed]",
      "text/plain": [
       "<Figure size 1008x864 with 1 Axes>"
      ]
     },
     "metadata": {
      "needs_background": "light"
     },
     "output_type": "display_data"
    }
   ],
   "source": [
    "fig, ax = plt.subplots(figsize=(14,12))\n",
    "lisa_cluster(lisa, illinoisPop, p=0.05, ax=ax)\n",
    "plt.show()"
   ]
  },
  {
   "cell_type": "markdown",
   "id": "foster-obligation",
   "metadata": {},
   "source": [
    "From this visualizations we see collections of LL areas and HH areas proving like areas surround like areas. However ther are some donuts of lower incident census tracts bordering higher incident areas. There are no diamonds in this collection."
   ]
  },
  {
   "cell_type": "code",
   "execution_count": null,
   "id": "honest-works",
   "metadata": {},
   "outputs": [],
   "source": []
  }
 ],
 "metadata": {
  "kernelspec": {
   "display_name": "Python 3",
   "language": "python",
   "name": "python3"
  },
  "language_info": {
   "codemirror_mode": {
    "name": "ipython",
    "version": 3
   },
   "file_extension": ".py",
   "mimetype": "text/x-python",
   "name": "python",
   "nbconvert_exporter": "python",
   "pygments_lexer": "ipython3",
   "version": "3.8.5"
  },
  "toc": {
   "base_numbering": 1,
   "nav_menu": {},
   "number_sections": true,
   "sideBar": true,
   "skip_h1_title": false,
   "title_cell": "Table of Contents",
   "title_sidebar": "Contents",
   "toc_cell": false,
   "toc_position": {},
   "toc_section_display": true,
   "toc_window_display": false
  }
 },
 "nbformat": 4,
 "nbformat_minor": 5
}
