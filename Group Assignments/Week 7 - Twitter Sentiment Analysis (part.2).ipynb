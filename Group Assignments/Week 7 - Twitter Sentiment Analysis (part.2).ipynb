{
 "cells": [
  {
   "cell_type": "markdown",
   "metadata": {},
   "source": [
    "<h1> Texas \"Gun Control\" Tweets: Word Cloud and Sentiment Analysis\n",
    "\n",
    "<h5> In this notebook we explore Huston,Texas \"Gun Control\" Tweets and generate visualizations in the form of a word cloud and bar chart of the sentiment analysis. This is to explore the discourse of people online and discern their feelings and language toward the topic of gun control.\n",
    "    \n",
    "By Stacy Carlos"
   ]
  },
  {
   "cell_type": "markdown",
   "metadata": {},
   "source": [
    "here I import the libraries we commonly use pandas, numpy, plotly, osmnx, and matplot. however, we need additional libraries to get the tweets, to conduct a sentiment analysis, and create a word cloud. these are tweepy, textblob, and wordcloud(and stopwords). "
   ]
  },
  {
   "cell_type": "code",
   "execution_count": 68,
   "metadata": {},
   "outputs": [],
   "source": [
    "import pandas as pd\n",
    "import numpy as np\n",
    "import plotly.express as px\n",
    "import osmnx as ox\n",
    "import matplotlib.pyplot as plt\n",
    "import tweepy as tw\n",
    "from textblob import TextBlob\n",
    "import re\n",
    "from wordcloud import WordCloud, STOPWORDS"
   ]
  },
  {
   "cell_type": "markdown",
   "metadata": {},
   "source": [
    "to access the twitter data i know enter my designated twitter keys, secrets, and tokens."
   ]
  },
  {
   "cell_type": "code",
   "execution_count": 69,
   "metadata": {},
   "outputs": [],
   "source": [
    "consumer_key= 'ty2GnPuGohxxB5pW3GNcJcFS9'\n",
    "consumer_secret= 'wrPxNQR2VAPdaMBW0Vx170FAOyOxacYuenWEDop7755kxZcQcE'\n",
    "access_token= '949867966832762880-Prkgcaa3zpTS6JKVm1yO0rECilOWZFy'\n",
    "access_token_secret= 'V8JINe49YIGi61NtHdDyWbSRkUu3qbSdJjlcYnhsfjUhF'"
   ]
  },
  {
   "cell_type": "markdown",
   "metadata": {},
   "source": [
    "there I am authenticating myself with twitter "
   ]
  },
  {
   "cell_type": "code",
   "execution_count": 70,
   "metadata": {},
   "outputs": [],
   "source": [
    "auth = tw.OAuthHandler(consumer_key, consumer_secret)\n",
    "auth.set_access_token(access_token, access_token_secret)\n",
    "api = tw.API(auth, wait_on_rate_limit=True)"
   ]
  },
  {
   "cell_type": "markdown",
   "metadata": {},
   "source": [
    "now I am going to conduct a query within twitter for the searchterm \"gun control.\" I also create the variable q to filter out any retweets, and then make another variable called max_tweets to state how many I want to retrieve. finally I create a query method with the arguments I want included."
   ]
  },
  {
   "cell_type": "code",
   "execution_count": 71,
   "metadata": {},
   "outputs": [],
   "source": [
    "searchterm = 'gun control'\n",
    "q = searchterm + \" -filter:retweets\"\n",
    "max_tweets = 500\n",
    "tweets = tw.Cursor(api.search,\n",
    "                   q=q, \n",
    "                   tweet_mode='extended').items(max_tweets)"
   ]
  },
  {
   "cell_type": "markdown",
   "metadata": {},
   "source": [
    "then by using a for loop I can access each index/tweet and have them print as it runs"
   ]
  },
  {
   "cell_type": "code",
   "execution_count": 72,
   "metadata": {},
   "outputs": [
    {
     "name": "stdout",
     "output_type": "stream",
     "text": [
      "0 @HyruleFieldFan While they may have strict gun control laws now, I consider that a byproduct of other factors that lead up to it, most primarily being that people willingly chose this, with a culture that supports peacekeeping and good faith practices.\n",
      "1 Don't claim to be \"anti-fascist\" if you are wanting to implement fascist policies like Censorship and Gun Control. https://t.co/FFxK2lp2Ql\n",
      "2 Here are just a few companies that support gun control measures and Patriots must boycott and push back against flat out communism: Panera Bread, Burger King, Subway, Sonic, KFC, Pizza Hut, Taco Bell, Coca Cola, and Chipotle. I know, but we MUST break them and this is how.\n",
      "3 Biden considers regulating ghost guns in first move on gun control https://t.co/wlk1Mge2J9 via @MailOnline\n",
      "4 In 1931, the Weimar government authorized the registration of all firearms and the confiscation thereof, if required for \"public safety.\" In 1933, the Nazis used the records to identify, disarm, and attack political opponents and Jews.\n",
      "\n",
      "https://t.co/6lfQosRptl #2a\n",
      "5 @funnyordie These American gun ads are getting out of control. https://t.co/jDCpLwyMUS\n",
      "6 I understand that the bill ostensibly keeps certain  people from carrying handguns, but makes it difficult to actually ascertain who those people are. Even Supreme Court Justice Antonin Scalia noted that 2A rights aren't unlimited.\n",
      "https://t.co/TTOHVIk0f2\n",
      "7 @Principalaz @damijwh @cschneider8224 @ProfessorCrunk Ok, so a moderate Dem is better than a far right conservative. He’s not for LGBTQ stuff, environmental regulations, or gun control...but he’s a vote we need for worker rights. If he’s not a Dem, McConnell would still control what votes come to the floor\n",
      "8 . explains why we talk awards, gun control tower...\n",
      "9 @hdzziin @strongmansiri @TSM_ImperialHal But if a gun does a lot of damage it's either hard to control and hit like the wingman or the fire rate is very modest like the 30 30 or scout but the tiff is bassicaly roll up 2 shots done.\n",
      "10 I'll put my gun where I want. I'll put it in my pants. You don't control me.\n",
      "11 America would ban every form of media before having proper gun control or ban guns altogether https://t.co/rBC2TyBacs\n",
      "12 @MikeinEdmonds was humiliated for the hundredth time as his insane attempts at gun control on a city level were hilariously shoved up his balloon knot by the State with a warning to close his fucking mouth going forward. lol\n",
      "13 @KhrissyChoate @NickKnudsenUS @ReallyAmerican1 @MittRomney Yep, Romney is a right wing conservative. Apart from his opposition to a decent minimum wage of 15$ Are you aware of his position on Freedom of choice ? LGBTQ? Higher tax rate for big or giant corporations ? The environment ? Gun control ? Death penalty?\n",
      "14 @foxy_Reynard @General_Wilhelm @cvquick1 @911CORLEBRA777 @laurenboebert @rockrichard Gun control works when it is imposed nationally. The UK government outlawed all pistols and all semi/full auto weapons. The homicide rate fell off a cliff and kept tumbling for over a decade thereafter.\n",
      "15 Sheila Jackson Lee's gun control plan is 'disgusting' https://t.co/LXhSASSApd via @YouTube\n",
      "16 @SteamerHarrold @General_Wilhelm @cvquick1 @911CORLEBRA777 @laurenboebert @rockrichard Gun control doesnt work. The cities and states with the strictest laws have some of the highest gun crime. The laws dont work. Plus gun control is pretty much dead in this country even with that totalitarian 127 looming over our heads. 3D printer go brrrr\n",
      "17 Biden Gun Control Plan Would ‘Criminalize’ up to 105 Million People: Gun-rights Group https://t.co/b7vsgp9zmn via @epochtimes\n",
      "18 @foxy_Reynard @General_Wilhelm @cvquick1 @911CORLEBRA777 @laurenboebert @rockrichard No, it's proof that NY gun control is utterly inadequate because other states aren't as strict. You need nationally consistent controls to crack down on smuggling. Like, if London banned guns but you could buy them legally in Leicester, you'd just make the trip up the M1.\n",
      "19 @AntiHeliRides @Quality_JWC @ConStrawmen @prageru Well fair enough I guess, I mean nothing has ever really been accomplished through a Twitter exchange. I'm really only here to shit on gun control activists anyway.\n",
      "Even though I think collectivism &amp; central planning are severely detrimental to society I appreciate your civility.\n",
      "20 @SteamerHarrold @General_Wilhelm @cvquick1 @911CORLEBRA777 @laurenboebert @rockrichard So gun control doesnt work? Thank you for proving my point.\n",
      "21 @niccara @newsmax Hitler? The vegan socialist that was pro gun control?\n",
      "22 @m3rc111 @dgpensgirl @washingtonpost your one of those people who don’t read/listen to an entire promise.  pick it apart and leave out things like “i promise to SEND A BILL TO CONGRESS for better gun control.” Look it up\n",
      "23 Biden administration ‘not reading the room’ on gun control: Pavlich https://t.co/M4SzR1Hqlz\n",
      "24 Gun control propaganda debunked \n",
      "https://t.co/S32PbGaHfE\n",
      "25 @2Aupdates Funny how racism and gun control go hand in hand\n",
      "26 Go MO 👍\n",
      "https://t.co/WIz7IntJ9i\n",
      "27 @HuttonDukes @Numbers28 No one said that. What do you think gun control will do literally nothing. Drugs are illegal people do then and die from them everyday right? People go to jail for doing illegal things everyday right? Making guns illegal will do nothing that won’t stop people especially criminals\n",
      "28 It's been awhile...Is now a good time to talk about gun control? guncontrol\n",
      "29 @joshuadowens This might explain why you've never been elected in Indiana.\n",
      "\n",
      "Stop wasting political capital on bad policy. Drop gun control, and get real work done.\n",
      "30 If I run an orchard of some type in my retirement I'm hiring anti gun control activists only because they're the best at cherry picking. That's efficiency Amazon would kill for.\n",
      "31 Biden Gun Control Plan Would ‘Criminalize’ up to 105 Million People: Gun-rights Group in Direct Violation of Our 2nd Amendment Rights https://t.co/LNExtteL1y via @epochtimes\n",
      "32 @AntiHeliRides @Quality_JWC @ConStrawmen @prageru Actually ngl if they pass the gun control they want to I predict it will mainly negatively impact poc and I'll change my tune, but I'm not wrong in saying that up until the last 10 years or so racism was on the decline. Overt racism was practically relegated to the internet.\n",
      "33 March for Our Lives Is Making a Big Demand of Biden... to the Tune of $1 Billion https://t.co/n4j1eeYCME\n",
      "34 @IcyJaime @loasinloren Good timing!! Big worries on sex work enforcement and gun control from the current administration. Well played!\n",
      "35 Biden administration 'not reading the room' on gun control: Pavlich https://t.co/LZCtDTw219\n",
      "36 Guess who just made the top of the list on the Insurrection investigations. \n",
      "\n",
      "https://t.co/3c9Gre9lH2\n",
      "37 @iam_balaji @aditya_kondawar Agreed. Holds true for FEW money enlightened individuals like you. Masses make massive mistakes when it comes to debt.\n",
      "\n",
      "+ CC are SOLD, NOT BOUGHT exposing least prepared for big risks originating from poor money behavior. Giving gun to person with poor self-control can be fatal.\n",
      "38 MSCHF mounted a remote-control paintball gun to Spot - TechCrunch 🙋 https://t.co/JaKxZ5uaHf something to give away 🎁 https://t.co/dovCSkIgH1\n",
      "39 https://t.co/14dJMcmAZt\n",
      "40 A random act or targeted?  Regardless, protect yourselves.  Train hard, get a CCW, resist govt gun control efforts.   https://t.co/MBbW9IXeMA\n",
      "41 Biden Gun Control Plan Could ‘Criminalize’ over 100 Million Law-Abiding Americans, Says US Concealed Carry Association. Americans people’s federalist law is not up to the president.  President Donald trump has. to get clarification on statues of federalist law\n",
      "42 @BigBeanKindaBig @SubToOptimus No it's an absolutely ridiculous gun control law that, among other things, want's to ban the online sale of ammunition overnight. Nothing in the bill actually gonna solve anything other than making tons of people felons over night.\n",
      "43 Biden Gun Control Plan Could ‘Criminalize’ over 100 Million Law-Abiding Americans, Says US Concealed Carry Association joe Biden 4 faces becomes criminal banning Americans people’s independence constitution freedoms rights he is breaking the Americans people’s federalist law.\n",
      "44 These Are the Roughly 200 Businesses Whose Leaders Are Backing Gun Control Initiatives https://t.co/tqj1xqLv9C\n",
      "45 @thehill If only AMERICANS can stop paying taxes until the politicians figure out a way for gun control for all Americans ! \n",
      "@FuckThe_NRA \n",
      "@NRABoycott \n",
      "@NRA \n",
      "#BanAllGuns\n",
      "#BanTrophyHunting \n",
      "#NRA https://t.co/ykguOh1BHO\n",
      "46 @atheist_vegan @POTUS Gun control and gradual demilitirization of the police.\n",
      "47 @EastBayTimes and we still don't don't pass proper gun control laws. how many more have to die? #sadness we are our worst enemies\n",
      "48 https://t.co/BwdzihzWGk\n",
      "49 -Gun Control: Shouldn't exist.\n",
      "-Health Care: Pay for your own, let poor people die, even if they're kids.\n",
      "-Homeland Security: Throw lots of money at it, spy on everyone, but OK with insurrection.\n",
      "-Immigration: Seriously?\n",
      "...\n",
      "50 The way some bitch on IG who doesn't even have a good fighting stance and looks like she could be knocked over by a bottle of water decided to come in my DMs &amp; argue with me about gun control when I wasn't even fucking talking about her\n",
      "51 @Knonfodder @DanFriedman81 @rogman11 @pebonilla @DevinCow So because you had violence happen to someone you care about, you have to make sure you don't have a gun because your impulse control as an adult isn't strong enough to keep you from doing what a child did?  But that child should suffer.\n",
      "\n",
      "Am I following you correctly?\n",
      "52 @ChaffeyGOP @JayObernolte @TeamObernolte Hey Jay. Just thought you should know HR127 is about unconstitutional gun control.\n",
      "\n",
      "Did you even read it or is this a typo?\n",
      "\n",
      "@seanhannity \n",
      "@TuckerCarlson \n",
      "@DonaldJTrumpJr\n",
      "53 https://t.co/RMhjKjpEAI\n",
      "54 https://t.co/hFF4Wh6TBg\n",
      "55 The main grief is evident in the early paragraphs. Licensing gives the state money. This isn’t a “gun safety” outrage. Not to the real Dems in power. Though they can sell it that position to the control nuts at their convenien$ https://t.co/hHVe61RFin https://t.co/Sz13xXffK2\n",
      "56 I genuinely think democrats would win many more elections if the party dropped gun control.\n",
      "\n",
      "Almost nobody votes D just because they want gun control- millions and millions of people vote R to stop gun control.\n",
      "57 @MJTobinator @GovKemp No, I didn't say it was your position. That's what is written in HR 127, which is the gun control bill being brought to the house floor. A lot of gun-gun owners aren't aware of that, which is why conversations need to be had. That's a dangerous idea on so many levels.\n",
      "58 And while I'm at it I'm not a fan of the idea for what people have on gun control.\n",
      "\n",
      "\"More gun control means we'll be safer\", I dont want to see a world where guns become nearly accessible to the common folk under legal means. All youre doing is making people more powerless.\n",
      "59 @foxy_Reynard They just go out to states with more lax gun laws and buy them there, bring them in and turn their city into gangland. Real gun control works - hence the UK having a lower homicide rate than South Dakota, which has the lowest homicide rate of any American state.\n",
      "60 @SteamerHarrold It is damn near impossible to get a gun in new york and insanely expensive. And yet gun crime still happens there. Shocker that gun control doesnt work. Theres no convincing a statist boot licker like you. Have a nice life\n",
      "61 It’s so frustrating, Especially when the logic doesnt follow. I’m moving away from gun control because I think the effects are too minscule. Talking to Dami and Ziora also cleared some other things on my perspective and I came to the conclusion from MY OWN READING\n",
      "62 @Everytown Gun control is racist.\n",
      "63 @SteamerHarrold No it doesnt lmao. With how many guns we have we should be a warzone. But the only places where its even remotely bad is in the inner cities which have *gasp* strict gun control. Outside the cities its quite peaceful and they have loose gun laws\n",
      "64 This is prob my last gun control post, I’m so annoyed rn https://t.co/4v37FsgpwX\n",
      "65 LOST MY SENSE IM DEFENCELESS YOUR PERFUMES HOLDING ME RANSOM SWEET AND SOUR I DEVOUR LYING HERE I COUNT THE HOURSSSSSS WAKIN UP BESIDE YOU IM A LOADED GUN I CANT CONTAIN THIS ANYMORE IM ALL YOURS I GOT NO CONTROL NO CONTROOOOL POWERLESS AND I DONT CARE ITS OBVIOUS I JUST CANT GET\n",
      "66 https://t.co/hZoN1a3B77\n",
      "67 here's sprites i'm messing around with. time to cut her in half and animate the legs running and draw her torso+arms+gun shooting in 8 directions, plus additional frames for talking and using control panels and such xᆺx⁠💦 https://t.co/g2J7WgyVi7\n",
      "68 @ericgarland https://t.co/GZXfOyfNxr\n",
      "69 @Nya_7a @MattressBelow @morealias @shoe0nhead gun control is dead... https://t.co/EkNGL40Kn3\n",
      "70 @MaxKingsleyEh Prepared to die, drives across the country, crashes through the gates with loaded firearms including prohibited weapons to \"protest gun control\"?  Bet he doesn't see the irony.  All the risk indicators are there.  He's a threat. I hope he gets a long sentence (but he won't).\n",
      "71 @RepBrianMast But where are the gun control laws? Thats the core issue #universalbackgroundchecks\n",
      "72 I’m voting for trump in 2024 if libs try doing gun control\n",
      "73 @Harada_TEKKEN Also don't mention gun control 🙃\n",
      "74 Comments:\n",
      "• Air Brigadier General Robert Spalding: Biden following CCP agenda\n",
      "• Snopes made by Soros to serve left\n",
      "• Lifesite's Covid-19 conference\n",
      "• Vatican leads the way in vaccine tyranny\n",
      "• A little history on gun control &amp; oppressive governments\n",
      "https://t.co/vYnydbPpn6 https://t.co/X4HIFITgzz\n",
      "75 Biden Gun Control Plan Would &amp;#8216;Criminalize&amp;#8217; up to 105 Million People: Gun-rights Group https://t.co/fDdvEPa69o via @epochtimes\n",
      "76 @EmmalineClemen4 @chrisg409ubc @hrt6017 @jimaw63 @JohnLepper6 @PhuckSea @4JOC1 @rayl1975 @WillieB1two3 @GQPklepto @Klee34036780 @Birdwatcher291 @ThereseOSulliv2 @r0xie_f0x @DanaCos @Flattielover @lsuecamp @lostandlovinit @SpRiNgStR3Am @FindingTruths @TomDoubting @JDW714 @MrPantaloni @laylow88861429 @RoseannaBandan1 @LadyOfTheOcean1 @Allie4Christ @HGoheavily @bacchaus351 @RogerLHaviland @ToccyLa @KattMist @IFDrinkLib @wookietim @Keithjo05883263 @ChiefLizWarren @Gun_YouDown @Leo97894180 @Mongo3804 @JOSIE24055239 @4Cocacoladave @cbowling4512 @MomoaScrunchie @Heather4amazon @psfnyc5 @corinne_locher @ButDidYOUSeeIt @boodacat2020 @Black_is_back5 @jim16919077 I'm eating a snack.\n",
      "\n",
      "Only Nazis want to control what people say.\n",
      "\n",
      "Only Nazis say \"We're coming for you\". \n",
      "\n",
      "And as far as narrow channels, yours is about the size io a sewing needle.\n",
      "\n",
      "\"You Vill THINK Vhat I vant, und you vill LIKE IT.\"\n",
      "\n",
      "Soviets made more sense than you\n",
      "77 バイデン銃規制計画は最大1億500万人を犯罪者にしてしまう\n",
      "https://t.co/tKDd5lcXzG\n",
      "78 https://t.co/FoNnVS74aG\n",
      "79 @karenxmarco No, you’re not crazy. You’re normal. This is just our culture :( it’s expected of me to buy a gun to protect myself from someone who can’t control himself\n",
      "80 @daviddiano @ksorbs You mean taking away the keys of sober drivers while really doing nothing to stop drunk drivers. It would be control on legal gun owners, which make up a small fraction of the gun violence in America.\n",
      "81 Matt Gurney: Trudeau’s gun control fizzle https://t.co/eLOqtgXqYQ via @YouTube\n",
      "82 @EmmalineClemen4 @chrisg409ubc @hrt6017 @jimaw63 @JohnLepper6 @PhuckSea @4JOC1 @rayl1975 @WillieB1two3 @GQPklepto @Klee34036780 @Birdwatcher291 @ThereseOSulliv2 @r0xie_f0x @DanaCos @Flattielover @lsuecamp @lostandlovinit @SpRiNgStR3Am @FindingTruths @TomDoubting @JDW714 @MrPantaloni @laylow88861429 @RoseannaBandan1 @LadyOfTheOcean1 @Allie4Christ @HGoheavily @bacchaus351 @RogerLHaviland @ToccyLa @KattMist @IFDrinkLib @wookietim @Keithjo05883263 @ChiefLizWarren @Gun_YouDown @Leo97894180 @Mongo3804 @JOSIE24055239 @4Cocacoladave @cbowling4512 @MomoaScrunchie @Heather4amazon @psfnyc5 @corinne_locher @ButDidYOUSeeIt @boodacat2020 @Black_is_back5 @jim16919077 After you.\n",
      "\n",
      "You're the one that seems to be into Thought Control.\n",
      "\n",
      "You have a bad case of Projection. \n",
      "\n",
      "\"You think like I think, or you don't think\".\n",
      "\n",
      "You sound kinda Commie-Pinko-Control freak to me.\n",
      "83 @OlgaNYC1211 @mattgaetz https://t.co/GZXfOyfNxr\n",
      "84 @ViktoriiaUAH @realjuliasong He’s been a bad person for a very long time. He was a big bankroller of anti rights initiatives. He and his control freak wife funded Initiative 676 in Washington in 1997. It would have made Washington’s gun laws be like New York.\n",
      "85 @DempMcgee Is Vermont really lax on gun control? I mean compared to New York it's probably like the wild west. But compared to Tennessee?\n",
      "86 @marcopollo036 Why hunt? Pop control and it's a healthier alternative to buying meat at the store. Also, more humane. Self-protection? Never know when you'll face multiple threats. While you cower and wait 10+ min for the police, someone with an AR could save you. Sport? Hunting and 3 gun.\n",
      "87 @gmoneystud @BarbaraRKay @dogsbite It looks like Jeff Borchardt ignore other dead children, when he calls their grieving parents useful idiots, when they want stricter gun control, cause they lost children to gun violence. https://t.co/DW5seYAApr\n",
      "88 Merrick Garland admits his DOJ would 'advance' Joe Biden's gun control agenda: 'Entitled to pursue' https://t.co/dbfeoZgcMw\n",
      "89 Grandfathering Firearms &amp; Safe Storage | New Gun Control in Canada | Bil... https://t.co/HyfI7J1EXt via @YouTube\n",
      "90 @ksorbs No. It isn't.  Gun control is like taking away the keys (or cars) from the drunk drivers.\n",
      "91 @CNN What is your purpose to silence the truth? Why do you choose to disarm legal gun owners? Why do you want to be part of the left agenda?I understand how it would benefit lawmakers, who would then be in control,but what would you get out of it?How is the US going to be better?\n",
      "92 @11thHour @PhilipRucker Well I guess while Congress was doing NOTHING about assault rifles and any other sort of other gun control, 74 million nuts were building an army. Thanks, elected officials!!!\n",
      "93 @Polygon They should first introduce gun control\n",
      "94 https://t.co/yMmHuf7t5p\n",
      "95 i hope someone buys me gun stuff for my birthday before these neoliberals wanna decide the fate of the 2022 and 2024 election by passing gun control. it’s almost as if they want the GOP to win\n",
      "96 @mehdirhasan We don't need Senate action on gun control, thanks.\n",
      "97 @LynnSharig8 https://t.co/GZXfOyfNxr\n",
      "98 Biden considers regulating ‘ghost guns,’ other executive actions to curb gun violence https://t.co/tuFIOe8A8V via @Yahoo ZERO = number of \"ghost guns\" used to murder.  It's not about safety; it's about control - don't ever forget it.  Just say \"NO!\" to any further gun control.\n",
      "99 @GemSpoiledLefty @norcalbooknerd no i as a non-american also think that leftists liking guns is very specific to the US\n",
      "\n",
      "(i dunno if that's only because there already are guns there or because the NRA did a really good job, but it baffles me since leftists here are largely in favour of US gun control)\n",
      "100 HUGE: NRA Sues Over 2 Washington Gun Control Laws and WINS via @TheRFAngle https://t.co/8zMGUnn9af\n",
      "101 @generalblie @KathrynTewson @Mcbob05073705 @AkivaMCohen I’ve asked you a number of times to at least *try* to be a little less dishonest. \n",
      "\n",
      "Nobody has been cancelled for supporting, or not supporting, gun control. \n",
      "\n",
      "Why do you decide to keep pretending you don’t know what really happened with Carano?\n",
      "102 @Owen40743987 @SocialistBowden Seeing a big push for gun control  getting started now.\n",
      "Guns for the oligarchy and the enforcers only is the goal.\n",
      "103 Biden Gun Control Plan Would ‘Criminalize’ up to 105 Million People: Gun-rights Group https://t.co/ZZ9veNQOYb via @epochtimes\n",
      "104 Biden Gun Control Plan Would ‘Criminalize’ up to 105 Million People: Gun-rights Group https://t.co/VHL38lOW4s via @epochtimes\n",
      "105 The FBI stated last month that it processed a record 39.7 million firearm background checks in 2020, which bested the previous high of 10 million. ]👉🏻  Biden Gun Control Plan Would ‘Criminalize’ up to 105 Million People: Gun-rights Group https://t.co/NBFNi20TR3 @epochtimes\n",
      "106 @NewYorker @KCMeadows1 They were never trying to protect children.  It was about not spreading the virus.  IF they were concerned about children, they would have passed gun control laws.\n",
      "107 Biden Gun Control Plan Would ‘Criminalize’ up to 105 Million People: Gun-rights Group https://t.co/5bCb19VcMO\n",
      "108 @DennisKendel @alandrummond2 @Docs4GunControl @najmadoc @RBlakeBrown @PremierScottMoe If it was illegal for politicians, some doctors &amp; gun control zealots to lie to Canadians about firearm laws the prisons would be full. The fact that these \"superior\" beings lie to impose their fears is oppression. Educate yourself before you listen to another firearm lie.\n",
      "109 Stained coffee cup\n",
      "Just a fingerprint of lipstick's not enough\n",
      "Sleep, where you lay\n",
      "Still a trace of innocence on the pillow case\n",
      "Waking up\n",
      "Beside you, I'm my loaded gun\n",
      "I can't contain this anymore\n",
      "I'm all yours, I've got no control\n",
      "No control\n",
      "Powerless\n",
      "\n",
      "to feliz me deixa\n",
      "110 @Polysesouvient @alandrummond2 @JustinTrudeau @BillBlair @erinotoole @CPC_HQ If it was illegal for politicians, some doctors &amp; gun control zealots to lie to Canadians about firearm laws the prisons would be full. The fact that these \"superior\" beings lie to impose their fears is oppression. Educate yourself before you listen to another firearm lie.\n",
      "111 @Tampke @FrancaRose33 @darkenrahl86 @Steven_Swenson @kglarson @jamminhaus @BenjaminHampson @photoartist9 @AggressiveDem @DebLeeFab1 @DarkLor23935043 @SHOSTUNZ @extremecompute @JacquotLeGrand @46_billy @Peaches_Sabrina @yammerapple @FlynDutchman466 @Libertybibbledy @badjin_rank @insaneknight85 @Peyton_PTP_ @Gormogons @samg399 @FBIWFO @LincolnProject3 @CocaCola Most media is deceptive on this, as are most Democrat politicians and other gun control advocates.\n",
      "112 @najmadoc @Docs4GunControl If it was illegal for politicians, some doctors &amp; gun control zealots to lie to Canadians about firearm laws the prisons would be full. The fact that these \"superior\" beings lie to impose their fears is oppression. Educate yourself before you listen to another firearm lie.\n",
      "113 Biden Gun Control Plan Would &amp;#8216;Criminalize&amp;#8217; up to 105 Million People: Gun-rights Group https://t.co/ZMp9eSY9wu через @epochtimes\n",
      "114 @IGN Before any republicans pipe up, just remember that your party is just as guilty: https://t.co/H2XXVv24sN\n",
      "115 Group: Biden gun control would ‘criminalize’ 105M law-abiding people https://t.co/qlp7uoe7kS\n",
      "116 @Gallows7777 @mwd5841 @IGN Huh https://t.co/H2XXVv24sN\n",
      "117 Biden Gun Control Plan Would ‘Criminalize’ up to 105 Million People: Gun-rights Group https://t.co/44mDbveERV via @epochtimes \n",
      "This lunatic, who plays president, legalizes alien criminals both here or on their way here, who will always find guns.\n",
      "118 @AnnieClaireBO @Docs4GunControl If it was illegal for politicians, some doctors &amp; gun control zealots to lie to Canadians about firearm laws the prisons would be full. The fact that these \"superior\" beings lie to impose their fears is oppression. Educate yourself before you listen to another firearm lie.\n",
      "119 @JosephLPoulin @KathrynTewson @Mcbob05073705 @AkivaMCohen 1. I never compared anything to the holocaust or murder (accept to analogize that attempting something is also wrong).\n",
      "2. I am for stricter gun control, but I don't like people who say \"Wah, I can't watch a movie unless the actor also wants stricter gun control.\"\n",
      "120 @Qualifyfor Thanks for posting.  I added my name and donated to @liberal_party Every time I see something about our gun control or about idiotic Conservatives, I donate a little more.\n",
      "121 @imhere_82 @ksorbs You were allowed to own an entire warship. On top of that they had weapons that could shoot over 16 rounds at once. They didn't have stricter gun control I can't even put a forward assist on my gun, because it \"makes it more dangerous\"\n",
      "122 Gun Grabbing in the works. Time to Impeach/Remove. An Oath to Our Constitution is an Oath to ALL of the Constitution. - No Takebacks. .  https://t.co/Tc8RhoLwTQ\n",
      "123 @DennisKendel @Docs4GunControl @najmadoc @RBlakeBrown @PremierScottMoe If it was illegal for politicians, some doctors &amp; gun control zealots to lie to Canadians about firearm laws the prisons would be full. The fact that these \"superior\" beings lie to impose their fears is oppression. Educate yourself before you listen to another firearm lie.\n",
      "124 @Docs4GunControl @erinotoole @CPC_HQ If it was illegal for politicians, some doctors &amp; gun control zealots to lie to Canadians about firearm laws the prisons would be full. The fact that these \"superior\" beings lie to impose their fears is oppression. Educate yourself before you listen to another firearm lie.\n",
      "125 @PamDamoff If it was illegal for politicians, some doctors &amp; gun control zealots to lie to Canadians about firearm laws the prisons would be full. The fact that these \"superior\" beings lie to impose their fears is oppression. Educate yourself before you listen to another firearm lie.\n",
      "126 @PamDamoff If it was illegal for politicians, some doctors &amp; gun control zealots to lie to Canadians about firearm laws the prisons would be full. The fact that these \"superior\" beings lie to impose their fears is oppression. Educate yourself before you listen to another firearm lie.\n",
      "127 @Docs4GunControl @PamDamoff @erinotoole @CPC_HQ If it was illegal for politicians, some doctors &amp; gun control zealots to lie to Canadians about firearm laws the prisons would be full. The fact that these \"superior\" beings lie to impose their fears is oppression. Educate yourself before you listen to another firearm lie.\n",
      "128 https://t.co/D26Rn6LjO2\n",
      "129 @ksorbs The 2A was created primarily because the founders feared a standing army. They had stricter gun control than we do.\n",
      "130 @BobBurg11324144 Once \"gun control\" makes the firearm I own illegal, it becomes de facto, \"gun confiscation\".\n",
      "\n",
      "But you already knew this, so stop arguing disingenuously.\n",
      "131 @JenniferMascia Just now legislators are twigging to the idea that people carrying assault rifles up to their office doors may believe its their duty to stop elected officials by any means necessary?\n",
      "Have they never considered the fastest way to get gun control is to lose a few Politicians?\n",
      "132 @NCBearkat @PeoriaLori @GiffordsCourage I still don't know what your point is.\n",
      "\n",
      "You don't want gun control, but you want people locked up for gun violations? Not only that, you want them locked up twice for the same violation just because there's a state law and a federal law?\n",
      "133 @bagelpennies // guns\n",
      "\n",
      "one time in eighth grade i wrote a paper abt gun control and i go to a conservative school i've just been taking risks since eighth grade\n",
      "134 @Xelorsmile @DestinyIsMyGame @Irrev77 @whitemagexx @BenHilly94 @Captain_Angel29 @arrpucks @Polygon Yeah, the only people I've seen who want gun control are centrists(liberal democrat kind) and totalitarians who want their oppressed citizens to be defenseless.\n",
      "135 Biden Gun Control Plan Would ‘Criminalize’ up to 105 Million People: Gun-rights Group https://t.co/jg3jMtC2BT via @epochtimes\n",
      "136 MSCHF’s latest drop lets you control a Boston Dynamics robot with a paintball gun on its back https://t.co/wWr5L3h3kh via @Verge\n",
      "137 @lucathrowsheat @zerohedge Love it my dude, the more good people are armed, stronger the movement its and it becomes harder for the gob to pass gun control bills.\n",
      "138 A gun-rights organization said that President Joe Biden’s gun control proposal would potentially make about 105 million law-abiding gun owners into criminals.\n",
      "https://t.co/RJCnMds4Er https://t.co/Zfwf7ZwS5a\n",
      "139 March for Our Lives Is Making a Big Demand of Biden... to the Tune of $1 Billion https://t.co/8AGM47t9nv\n",
      "140 @jimaw63 @EmmalineClemen4 @JohnLepper6 @PhuckSea @4JOC1 @rayl1975 @WillieB1two3 @GQPklepto @Klee34036780 @Birdwatcher291 @ThereseOSulliv2 @r0xie_f0x @SlimJimJohn1 @DanaCos @Flattielover @lsuecamp @lostandlovinit @SpRiNgStR3Am @FindingTruths @TomDoubting @JDW714 @MrPantaloni @chrisg409ubc @laylow88861429 @RoseannaBandan1 @LadyOfTheOcean1 @Allie4Christ @HGoheavily @bacchaus351 @RogerLHaviland @ToccyLa @KattMist @IFDrinkLib @wookietim @Keithjo05883263 @ChiefLizWarren @Gun_YouDown @Leo97894180 @Mongo3804 @JOSIE24055239 @4Cocacoladave @cbowling4512 @MomoaScrunchie @Heather4amazon @psfnyc5 @corinne_locher @ButDidYOUSeeIt @boodacat2020 @Black_is_back5 @jim16919077 But those in our government gave it to them so they can control anything the deep state wants to suppress.\n",
      "141 @BrianDaPianoMan @DestinyIsMyGame @Irrev77 @whitemagexx @BenHilly94 @Captain_Angel29 @arrpucks @Polygon Exactly. I don't even think there's a single group outside of liberals that actually wants gun control. The unionists don't want it, the rednecks don't want it, the republicans don't want it, the libertarians don't want it, and the socialists don't want it\n",
      "142 Criminals love gun control; it makes their jobs safer.\n",
      "143 @jakecorsi republican congress members shouldn’t be endorsing gun control  ¯\\_(ツ)_/¯\n",
      "144 Gun control  https://t.co/U4GyCyfZ27\n",
      "145 https://t.co/HFCIlUMNRq\n",
      "146 Urban spawl is probably more responsible for american mass shootings than lack of gun control\n",
      "147 For that? I had some gun control pushing former special ops guy telling me he hopes I kiss a .308 bullet and twitter didn’t do shit about it.\n",
      "\n",
      "Coming from this psycho it’s way more of a threat than “I hope you get ran over” https://t.co/LQlwY0Sg8F\n",
      "148 M-16 / Surefire 100 rd mag https://t.co/sKyRIPvf5f via @YouTube One of the biggest forms of racism is Gun Control. In cities where blks live, all kinds of laws limit gun ownership and weaponry while in rural &amp; suburban AmeriKKKa, whites are left to arm themselves to the MAX!\n",
      "149 @Zac2040 @saintsundere @BenjaminABoyce How can I forget. Gun control\n",
      "150 Biden Gun Control Plan Would ‘Criminalize’ up to 105 Million People: Gun-rights Group https://t.co/65mDwtc6o6 via @epochtimes\n",
      "151 @Repevans33 needs to focus on gun control not game control.\n",
      "\n",
      " https://t.co/5F0jvuiUS4\n",
      "152 @DestinyIsMyGame @Xelorsmile @Irrev77 @whitemagexx @BenHilly94 @Captain_Angel29 @arrpucks @Polygon gun control is used by capitalists to disarm the working class and prevent them from protecting themselves from their oppressors. https://t.co/EKfpaaxbTi\n",
      "153 Dick around\n",
      "\n",
      "Now your rights\n",
      "\n",
      "Are gone\n",
      "\n",
      "https://t.co/41Atk6yoAw\n",
      "154 \"'civil rights,' feminism, environmentalism, national health care, gun control, and abortion on demand may not seem intrinsically related, but they all extend the authority and power of the centralized state over private relations.\"\n",
      "155 Even as President Biden calls upon lawmakers at the federal level to enact new gun control measures, at the state level, legislators are pushing back. https://t.co/d2DL34Gwpq\n",
      "156 Every gun control debate I have with someone on the right devolves into them saying “I know more about guns than you do”. It’s kinda pointless speaking with these people sometimes.\n",
      "157 @SenatorSinema you’ve been in Washington long enough to know that what you’re saying is not reality. This is a fatal mistake to assume republicans want compromise on anything thats part of helping working class Americans, climate change,gun control. \n",
      "#theydontcare \n",
      "#wakethefuckup https://t.co/FMc8GdU7b3\n",
      "158 This is a good quick interview that might shed some light on the ‘gun control’ issue in Canada... worth the watch!   https://t.co/FgBC4pVRV9\n",
      "159 #Somalia politicians are sure sending of a lot of condolences to victims of COVID-19 after failing to manufacture oxygen. It’s equivalent to members of Republican Party sending thoughts &amp; prayers to victims of gun violence after refusing to pass basic gun control legislation.\n",
      "160 LOL, @KLoeffler's web developers use an image from a gun control protest... https://t.co/yng3wB4f2f\n",
      "161 And I don't think the NRA is afraid to stand up to Biden!\n",
      "\n",
      "Biden Gun Control Plan Would ‘Criminalize’ up to 105 Million People: Gun-rights Group https://t.co/GQZrZVNXrX via @epochtimes\n",
      "162 Biden AG pick Merrick Garland says there’s room for new gun control https://t.co/bvsdp3Uord\n",
      "163 @baconbaps1 @hunkybloodydory Yes, government dictators fear an armed population, armed people are harder to subjugate and enslave, an armed population is harder to oppress. Also, Gun control is incredibly racist and therefor you must be too, also, you’re a Nazi.\n",
      "164 This is the exact same reverse moral shaming people do after, say, gun violence when they go “you’re bringing up gun control NOW? Wow that’s so disrespectful to the victims. Can’t believe your use their deaths to push your agenda 🙄” https://t.co/9AvInNNYBz\n",
      "165 @Thomas08072966 @akaLLTribune @BAmerican2 @wrtv Every major city with strict gun control laws are the leaders in gun violence. Mass shootings are performed by criminals. They don’t follow the law so what are gun laws going to do?  Armed security would stop the shootings.\n",
      "166 @BeaumontHusky @ollierowe_rowe @american_okay @HarshitkumarGo5 @benshapiro Let me ask you this, will gun control affect the criminals?\n",
      "167 This is literally what I’ve been wanting to say to every one of my friends who seem to think all this gun control is a good thing.\n",
      "\n",
      "Great job articulating things and making it clear, @MrColionNoir. Awesome video!\n",
      "\n",
      "https://t.co/crUB0lWw4h via @YouTube\n",
      "168 @MomsDemand @Everytown We’re calling out moms complaining for doing nothing for gun safety and everything for control.\n",
      "169 @SpawnWaveMedia ah yes its the video games and not the lax gun control .\n",
      "170 @Betty55475630 @johnrich It’s not gun control, it’s GUN REFORM!!! Common sense gun laws, like ensuring everyone who buys a gun goes through a background check. Jesus, there’s a reason so many support it. Educate your.\n",
      "171 Liberal Supporting Joe Biden's Gun Control Responds To My Video, Here's ... https://t.co/dU84iGxVCG via @YouTube\n",
      "172 @damiencaelum @PPants2021 @clockoutwars @POTUS None of them deserved to die.\n",
      "\n",
      "What about Daniel Shaver, shot dead unarmed in a hotel corridor after being spotted inside his hotel room with an air gun he used for his pest control job? Or Maggie Brooks? Shot dead when her dog attacked police? Both white.\n",
      "\n",
      "None deserved to die.\n",
      "173 @mileslunn @danneufeld @Docs4GunControl Unfortunately the numbers just don’t prove it.\n",
      " I matter how much you twist it gun control does not equal crime control\n",
      "174 Biden gun control would ‘criminalize’ 105M law-abiding people https://t.co/ePsFCIPgw5\n",
      "175 @thefairbear @dreingar @HolderStephen But, thanks for the heads up! Looks like really the only party to enact any laws for gun control (background checks fir private sales) was in 2018, with that Republican Governor. Surprising to me.\n",
      "176 @marcorubio It’s also not the “job” of Senate Republicans to instill fear in Americans about immigration &amp; gun control....but that hasn’t stopped them has it?\n",
      "177 @BeebeJayme @avenaim Isn’t it though? The gun lobby, the oil &amp; gas lobby, and Christian fundamentalist literally OWN the Republican Party &amp; any sector of government they control.  I don’t know why I didn’t see this sooner  but there’s no denying it now.\n",
      "178 Biden Gun Control Plan Would ‘Criminalize’ up to 105 Million People: Gun-rights Group\n",
      "BY JACK PHILLIPS February 23, 2021\n",
      "https://t.co/afmGJf5OJP\n",
      "179 Biden Gun Control Plan Would ‘Criminalize’ up to 105 Million People: Gun-rights Group https://t.co/58QmA5B0NL\n",
      "180 @GAprogressive15 @mehdirhasan ...\n",
      "Either way, you and I strongly support ending the War on Drugs. That'll reduce the gun homicide rate far more than any of these gun control policies being considered. Oregon will be a good experiment over the next couple years. Let's see what happens.\n",
      "181 I mean, she and @JoeManchinWV clearly /want/ no action on climate change, gun control, or voting access. They aren't idiots. They both know that they can only get away with blocking the parts of the Dem platform they don't like by claiming it's about senate rules and procedure https://t.co/e015JtEySY\n",
      "182 200 Businesses Whose Leaders Are Backing Gun Control Initiatives \n",
      "\n",
      "Let them know we can take our business elsewhere...\n",
      "\n",
      "https://t.co/V4PtJGyHv6\n",
      "183 Good M16 build in CODM is the one in which you make the gun as light as possible.\n",
      "This gun has so little recoil (thanks to the burst mechanism), you'll be just fine without recoil control or bullet spread attachments at all. https://t.co/FaMjDWcXae\n",
      "184 @chrisg409ubc @JohnLepper6 @EmmalineClemen4 @PhuckSea @4JOC1 @rayl1975 @WillieB1two3 @GQPklepto @Klee34036780 @Birdwatcher291 @ThereseOSulliv2 @r0xie_f0x @SlimJimJohn1 @DanaCos @Flattielover @lsuecamp @lostandlovinit @SpRiNgStR3Am @FindingTruths @TomDoubting @JDW714 @MrPantaloni @jimaw63 @laylow88861429 @RoseannaBandan1 @LadyOfTheOcean1 @Allie4Christ @HGoheavily @bacchaus351 @RogerLHaviland @ToccyLa @KattMist @IFDrinkLib @wookietim @Keithjo05883263 @ChiefLizWarren @Gun_YouDown @Leo97894180 @Mongo3804 @JOSIE24055239 @4Cocacoladave @cbowling4512 @MomoaScrunchie @Heather4amazon @psfnyc5 @corinne_locher @ButDidYOUSeeIt @boodacat2020 @Black_is_back5 @jim16919077 I certainly believe that foreign governments have bought an control a major part of our government. Maybe even the Supreme Court.\n",
      "185 Racist Democrats are a racist party of racist fascism. Here's how:\n",
      "\n",
      "1) Racist bigotry with #CocaCoca racist orientation\n",
      "2) Sexually aroused by #RushLimbaugh dying\n",
      "3) Gun Control\n",
      "4) Widespread, more intense daily riots\n",
      "5) 80% of felons\n",
      "6) Projecting Nazism to evade suspicion\n",
      "\n",
      "#BLM\n",
      "186 @nytimes Makes sense - Chicago has one of the lowest crime rates in the nation and THE lowest murder rates worldwide - due in part to its tough stance on gun control.\n",
      "\n",
      "How many people use cash bail in the utopia of Illinois?\n",
      "187 @Repevans33 sure because that what's needed fixing in Chicago, banning video games in stores instead of gun control or stoping the crimes from happening\n",
      "188 Nothing on climate change, immigration, gun control, racial justice, healthcare, childcare, or housing. And it's just so undeniably obvious that millions will suffer, and an untold number will die, because of our inaction now. And for what benefit? Hypothetical bipartisanship?\n",
      "189 Pavlich: Biden administration 'not reading the room' on gun control |  https://t.co/31Yyuk1S4b @KatiePavlich and @KennedyNation talk gun grabbing liberals.\n",
      "190 @Soylent_Lament @AnnCoulter @JesseKellyDC Seems a little hard to believe these politicians calling for gun control the only shot dead person was an unarmed lady if you know about hunting you watch this officers gun barrel survey the crowd a couple times then target achieved and dead lady ! This was planned for 0 deaths !\n",
      "191 Way to GO, #DementiaJoe Great Unifying!\n",
      "Biden Gun Control Plan Would ‘Criminalize’ up to 105 Million People: Gun-rights Group https://t.co/3YcL9CG0xu via @epochtimes\n",
      "192 @USATODAY Gun control, like most liberal ideas, has backfired\n",
      "193 @SenatorSinema No Senate action on gun control, climate change, voting access?? Your position on the filibuster will lead to this. Why?!?! Wtf? Please reconsider your future vote for your community, the country, and your conscience. Don't be an asshole.\n",
      "194 Biden Gun Control Plan Would ‘Criminalize’ up to 105 Million People: Gun-rights Group https://t.co/DtPNC0N4rz via @epochtimes\n",
      "195 Biden Gun Control Plan Would ‘Criminalize’ up to 105 Million People: Gun-rights Group https://t.co/QVjsxNFmW0 via @epochtimes\n",
      "196 @wa11ssupremacy WAKING UP BESIDE YOU IM A LOADED GUN I CANT CONTAIN THIS ANYMORE IM ALL YOUR I GOT NO CONTROL NO CONTROLLLOOL\n",
      "197 Imagine thinking gun control is the answer.\n",
      "198 @lucathrowsheat @zerohedge Love 'em. Makes overly-strict gun control measures that shouldn't exist pretty much obsolete from the get-go.\n",
      "\n",
      "It's basically a big middle finger to anyone who wants to over-extend their control via any form of public office.\n",
      "199 Group: Biden gun control would ‘criminalize’ 105M law-abiding people https://t.co/HVszkhL50I\n",
      "200 @dirtycorza @skeletate literally yes, someone qrted it saying, it's like, \"don't politicize this tragedy\" to ppl talking abt gun control after a mass shooting and the ones saying that are the mass shooters\n",
      "201 @julibriskman If fewer guns = safer communities then why do localities with the strictest gun control have higher violent crime?  All ears 👂👂👂\n",
      "202 @mehdirhasan No Senate action on gun control is a good thing for the Democrats. They'd get absolutely massacred in 2022 otherwise.\n",
      "203 What’s so frustrating about this defense of bipartisanship and compromise in the Senate is that it’s so abstract and doesn’t deal in particulars. Is Sinema ok with no Senate action on climate change, on gun control, on voting access? Because that’s what her position leads to. https://t.co/gVFCHJtO0b\n",
      "204 Biden Gun Control Plan Would ‘Criminalize’ up to 105 Million People: Gun-rights Group https://t.co/kL6MHoF0B6\n",
      "205 Insane gun control and banning of violent video games will cause a civil war or riot. Mark my words.\n",
      "206 Gun control extremists: \"You should be trained to have access to firearms\"\n",
      "\n",
      "Firearms owner: \"Ok, I'll set up a range and let people train there for free\"\n",
      "\n",
      "Gun control extremists: https://t.co/VhRljaiKHF\n",
      "207 @MJTobinator @GovKemp You know, at some point, right and left are gonna have to start having actual discussions about our differences, 2A being the main concern. Thus far, every single gun control supporter I've encountered, makes weak attempts at gunsplaining with ZERO knowledge about firearms.\n",
      "208 MO county passes law to arrest feds who try enforcing federal gun control laws in county | American Military News https://t.co/sSd7R9NzKx\n",
      "209 @KasieElaine__ I don't believe so. I know they did a gun buyback a while back and they have stricter gun control. But, some Australians I've talked to have said that they think Americans are obsessed with guns and they don't get the obsession.\n",
      "210 @EpochTimes Gun control is illegal....\n",
      "211 Are folks so worried about suicide rates among kids also advocating for some type of gun control? \"Every study that has examined the issue to date has found that within the U.S., access to firearms is associated with increased suicide risk.\"\n",
      "Source: https://t.co/YC97wpaMdd https://t.co/1psXJVvxgm\n",
      "212 News Analysis🔎President Biden has yet to unveil details of his #GunControl agenda, but his comments on the campaign trail and since then suggest it will be ambitious. https://t.co/fKp4SXjEfF\n",
      "213 Biden Gun Control Plan Would ‘Criminalize’ up to 105 Million People: Gun-rights Group https://t.co/ZM6ird3gvh via @epochtimes\n",
      "214 Biden Gun Control Plan Would ‘Criminalize’ up to 105 Million People: Gun-rights Group https://t.co/Sgr8XsQWRo via @epochtimes\n",
      "215 Americans felt the need to arm themselves in 2020:\n",
      "\n",
      "\"The FBI stated last month that it processed a record 39.7 million firearm background checks in 2020, which bested the previous high of 10 million.\" https://t.co/sX7azLsjE5\n",
      "216 @kyleruggles @rath_22 Whoah. I am Debbie. Who the fuck are you? 🤣 far from conservative, shot a gun once when I was 15 &amp; def for gun control &amp; never liked/voted Trump. Now that your wrong about everything. I prefer not to see posts w/dick &amp; Pussy. Personal preference I guess 🤷🏼‍♀️\n",
      "217 @NikkiBalzzz @ksorbs We can see that some of you want gun control. It's literally in H.R. 127.\n",
      "218 @Major_Hutch @ksorbs But most crimes and mass murders are committed with handguns. I thought the plan was to lower that? Why only allow the weapon most used in those acts? Oh that’s right, gun control is not about saving lives just tricking the uneducated into thinking it is\n",
      "219 anything but gun control. https://t.co/TpTzFoZKkP\n",
      "220 Answer to Why is background check not effective to gun control in the US? by Charles Vanderford https://t.co/cU4tK6NrFg\n",
      "221 The barrel of the 105 mm Indian Field Gun burst into pieces killing the soldier and wounded two others. Poor quality control at ammo and barrel manufacturing facilities continues. @adgpi @rwac48 https://t.co/ICfUVdY8mm\n",
      "222 March For Our Lives wants Biden-Harris administration to appoint Gun Control Czar,https://t.co/L8R75N9EC9\n",
      "223 @Ivan_Is_Back 'gun friendly'\n",
      "&gt;A gun control bill, passed on March 30, 2018, bans sale of magazines of more than 10 rounds for long guns and 15 rounds for pistols.[15] It was signed by Governor Scott on April 11. https://t.co/7fpfagfVBN\n",
      "224 Biden Gun Control Plan Would ‘Criminalize’ up to 105 Million People: Gun-rights Group https://t.co/3OoUKYRbVN\n",
      "225 @IGN Bwahahaha\n",
      "\n",
      "when far left lunatics turn out to be just like the hardcore religious right 🤣\n",
      "\n",
      "say goodbye to your video games because they can't admit that GUN CONTROL FAILED\n",
      "226 Biden Gun Control Plan Would ‘Criminalize’ up to 105 Million People: Gun-rights Group https://t.co/CzTJsE04V3\n",
      "227 Really want to piss off a chud? Remind them that protecting private ownership of firearms is a Marxist ideology and that gun control as we know it today, especially California but also federally, can be tied directly to Reagan and the GOP. https://t.co/Pa7Wmjn8Tj\n",
      "228 200 Businesses Whose Leaders Are Backing Gun Control Initiatives https://t.co/c8DdEz0XS9\n",
      "229 @QuickDCapital So pick your policy and I’d be glad to demonstrate how it negatively impacts minority communities. From solar power to gun control.\n",
      "230 @ClementLiberty @PamDamoff I wasn't asking you to *prove* anything. \n",
      "\n",
      "Simply curious is he's ever stated he doesn't support it.\n",
      "\n",
      "Really not that hard a thing &amp; not a *gotcha* question.\n",
      "\n",
      "He's a politician he's taken fairly vocal stances on gun control it's not out of the realms to think he's discussed it\n",
      "231 Merrick Garland admits his DOJ would 'advance' Joe Biden's gun control agenda: 'Entitled to pursue' https://t.co/OpKGQ6UOYY  Is this the tipping point?\n",
      "232 https://t.co/f4oFbNxMBG\n",
      "233 Biden Gun Control Plan Would ‘Criminalize’ up to 105 Million People: Gun-rights Group https://t.co/MxbskDXF2N via @epochtimes\n",
      "234 @WTHRcom Yes. Because that’s what this country and state need: looser gun control. 🙄\n",
      "235 Biden Gun Control Plan Would ‘Criminalize’ up to 105 Million People: Gun-rights Group https://t.co/F90sPKY7r5 via @epochtimes\n",
      "236 @GregButcher_ @tyseymour no republican who endorsed gun control should walk away unscathed. i hope she’s a thorn in his side, essentially. a reminder that he will be  held accountable for his actions by those who have voted for him.\n",
      "237 Worth remembering the police unions have often supported democratic candidates and priorities, including gun control. The NAPO supported Obama twice. Racism, yes, but departments create decent-paying jobs for minorities, as Chicago mayor Lori Lightfoot pointed out.\n",
      "238 \"He is not afraid of standing up to the NRA...\" I call BS. He probably has a hard time standing up to pee.\n",
      "https://t.co/6hGThYWR1c\n",
      "239 Should the civilian population be armed? What are the pros and cons of legal gun ownership....\n",
      "\n",
      "Think for yourself. #cdnpoli #onpoli #guncontrol \n",
      "\n",
      "How the Nazis Used Gun Control | National Review https://t.co/FqicwPhqnc\n",
      "240 Biden Gun Control Plan Would ‘Criminalize’ up to 105 Million People: Gun-rights Group https://t.co/iNEUsD8rjL via @epochtimes\n",
      "241 @PeggyYoungMcco1 @GreggSmithCO3 I'm a democrat and own my controlled gun.\n",
      "I hate gov. trying to control it for me.\n",
      "242 Biden’s America Last https://t.co/XnMBclAO3W\n",
      "243 They're also opening the borders, purging the military, making big tech censorship into law, demanding reparations, enacting gun control, starting a domestic war on terror, and criminalizing political dissent.\n",
      "\n",
      "But no yeah, the budget is all partisan and stuff. Thanks Mitch. https://t.co/o1C6BFy1XB\n",
      "244 @GenikChechnya @ProjectLincoln Not one mentions of gun control. No one is taking my guns.\n",
      "245 Biden Gun Control Plan Would ‘Criminalize’ up to 105 Million People: Gun-rights Group https://t.co/NXnF35ReKA via @epochtimes\n",
      "246 @nichcarlson I learned that plant based diets unlock magic vibrations that are killed by dead animal flesh, but only for black people. This was in a room called Biden and gun control.\n",
      "247 These radicals won't rest until they've banned every gun, every magazine, every accessory!\n",
      "\n",
      "Diane Feinstein Sends Letter To Joe Biden Listing Requirements For His Pick To Head The ATF -- Enforcing Radical New Gun Control Is Part Of The Job! https://t.co/NzQy9CfnKB\n",
      "248 @geostylegeo Gun control\n",
      "Immigration \n",
      "Race relations\n",
      "Abortion\n",
      "249 @WVwontWait @ksorbs Don't believe that quote attributed to Reagan, but he did say:\n",
      "“We will never disarm any American who seeks to protect his or her family from fear and harm,” may '83\n",
      "And \"you won't get gun control by disarming law abiding citizens... Disarm the thugs and the criminals\" June '83\n",
      "250 📺 #Kennedy @KennedyNation \n",
      "(Watch the Midnight ET replay)\n",
      "\n",
      "@KatiePavlich : Biden administration 'not reading the room' on gun control \n",
      "\n",
      "https://t.co/qWuGJc8Ym6\n",
      "251 Biden Gun Control Plan Would ‘Criminalize’ up to 105 Million People: Gun-rights Group https://t.co/3ydmL2OhGj via @epochtimes\n",
      "252 Biden Gun Control Plan Would ‘Criminalize’ up to 105 Million People: Gun-rights Group https://t.co/70yDpirKkk via @epochtimes\n",
      "253 @JoshKelNASCAR @rangerfan014 @bluelivesmtr There have been mass stabbings both the UK and France last year. Even with the massive increase in legal gun purchases in the US in the past 12 months, this has not resulted in an increase in mass shootings. Gun control isn’t the answer, enforcing the laws and prosecution are.\n",
      "254 It’s not being used a “gotcha” the harassment from antis was the direct cause of what happened. You sound like Republicans who don’t want to talk about gun control after school shootings https://t.co/5qKUeEmVju\n",
      "255 @terry_go_online Issues with the gun on the F-35A, flight control issue on both the F-35B and F-35C come to mind. Reliability and maintenance issues.\n",
      "256 Gun control is necessary to  counter terrorism; it is necessary for national security, and it is necessary to address the public health crisis espoused by gun violence. https://t.co/l2GpAzm6B4\n",
      "257 Merrick Garland admits his DOJ would 'advance' Joe Biden's gun control agenda: 'Entitled to pursue' https://t.co/cmr4a5QQPt #MerrickGarland #DOJ #JoeBiden #guncontrol https://t.co/Av8ZvpFDWE\n",
      "258 It’s getting harder and harder to find businesses that are pro 2nd Amendment.\n",
      "200 Businesses Whose Leaders Are Backing Gun Control Initiatives https://t.co/sOLgOsfHMq\n",
      "259 this is like “don’t politicize this tragedy” when people bring up gun control after a mass shooting https://t.co/v8kNbBhy8T\n",
      "260 Why do Americans laugh at Canada?  They have a gun control bill proposed that wants to make Airsoft illegal and owning Airsoft guns illegal, but won't restrict things like shotguns. FYI I'm a 2A supporting American who is against all forms of gun control. But wtf Canada.\n",
      "261 Biden Gun Control Plan Would ‘Criminalize’ up to 105 Million People: Gun-rights Group - DEMS are FINE with CRIMINALIZING MILLIONS OF \"LAW ABIDING\" Americans BUT Releasing ACTUAL CRIMINALS!  As long as it achieves their IDEOLOGICAL GOALS, they are FINE WITH IT!  Wake Up America !!\n",
      "262 Biden Gun Control Plan Would ‘Criminalize’ up to 105 Million People: Gun-rights Group -https://t.co/CEGNnrBzPQ via @epochtimes\n",
      "263 @ShiguSquad @MaskOffCons Actually, Mr Dennis Prager is a Jew and is a person who laughs a lot, and they share a political philosophy, so I’m sure he laughed too. Wake up, Hitler justified gun control that way. Also, of the 1000s of shootings in 2019 or 2020, how many were by LEGAL gun owners?\n",
      "264 Biden Gun Control Plan Would Criminalize up to 105 Million People: Gun-rights Group https://t.co/EswI3aUna6 via @news_ntd\n",
      "265 @Sungsam12 @SamsonWrigley @OpieRadio @JimNorton @CompoundBoss Also if you like Nancy pelosi and gun control then I completely understand why you are a fan of somebody like opie\n",
      "266 @Fakenam61826047 @SamsonWrigley @OpieRadio @JimNorton @CompoundBoss You like AOC Nancy Pelosi and Gun Control?\n",
      "267 March For Our Lives wants Biden-Harris administration to appoint Gun Control Czar https://t.co/ABmFSwFsMD https://t.co/om5f1PIagA\n",
      "268 Control women's bodies, control trans bodies, promote forced patriotism ... the entire legislative agenda for the @TexasGOP.  They're useless to average Texans. Vote them out. https://t.co/NsSubHHnOV\n",
      "269 What more Americans need to realise is that Australia got strict gun control from a very conservative leader and government and it’s not a political issue it’s a cultural issue\n",
      "270 How about taking some of that money spent on gun control laws criminals don't obey and fix the power grid in Texas https://t.co/5gqLUZMe7Z\n",
      "271 200 Businesses Whose Leaders Are Backing Gun Control Initiatives https://t.co/sah3N6lsot\n",
      "272 @LanazzerRinkilr @KSLcom According to the new AG hearings in Washington today, he plans to go along with ole’ spaghetti brain’s gun control agenda.  So, yeah. Local protection from federal tyranny is necessary.\n",
      "273 RU kidding! You're not saying anything factual your pro gun rant is insignificant!\n",
      "Who cares what you say?! You have no say as to what government decides! Remember May 202  busy covid🇲🇶 BS 🥱\n",
      "\n",
      "10/3 podcast: The troubles with Trudeau's gun control policy. https://t.co/Oo3K5sCjgO\n",
      "274 🖕🏿\n",
      "\n",
      "Biden's AG nominee Garland says DOJ would pursue gun control agenda | American Military News https://t.co/Q0TxmZBf9z\n",
      "275 A line in the sand... MO county passes law to arrest feds who try enforcing federal gun control laws in county https://t.co/T7p6Q6CQyl via @amermilnews\n",
      "276 @Fakenam61826047 @SamsonWrigley @OpieRadio @JimNorton @CompoundBoss Says the man who's triggered by gun control Nancy Pelosi and AOC\n",
      "277 Biden's AG nominee Garland says DOJ would pursue gun control agenda https://t.co/bslQ8RjMIY via @amermilnews\n",
      "278 remember that those gun control laws only hurt the people who are poor\n",
      "279 Gun control what a joke. Ignorance of guns is the problem with Sheila Jackson lee. How come the government does not go after criminals not abiding citizens. Why are you so backwards?\n",
      "280 Biden Brings Aggressive Gun Control Plans, Where Trump Supported 2nd Amendment https://t.co/6q5iz0yQVz via @epochtimes\n",
      "281 Biden Gun Control Plan Would ‘Criminalize’ up to 105 Million People: Gun-rights Group https://t.co/uvWM5YlYLL via @epochtimes\n",
      "282 10/3 podcast: The troubles with Trudeau's gun control policy. https://t.co/Oo3K5sCjgO\n",
      "283 YES!!. @MittRomney is #FakeNews.  He is so jealous of President Trump. He is PRO Socialism, PRO Government Control,  ANTI gun, ANTI Freedom, ANTI ANYTHING that is FOR  #WeThePeople. #Trump2024 https://t.co/kRd0qN4CEm https://t.co/HcGm6qM6nT\n",
      "284 Biden Gun Control Plan Could ‘Criminalize’ over 100 Million Law-Abiding Americans, Says US Concealed Carry Association\n",
      "https://t.co/teEPcIwEQc\n",
      "285 Of course. Start donating to Second Amendment defenders. They're going to need the money.\n",
      "\n",
      "https://t.co/4ujCtlc7f7\n",
      "286 i can’t believe aus &amp; nz have set the standard for so many things like gun control, liveable minimum wages &amp; covid response and the north american leaders have the audacity to say they’re “doing their best”\n",
      "287 @sheridan0422 @shannonrwatts All gun control is racist, chalkroach. https://t.co/0roMEIN7MV\n",
      "288 @quantum_redroad @MarcusFitzsimon @laurenboebert At what point did I say it doesn't happen...feel free to re-read my original comment.  As for my argument, you've already proven I was correct.  My original comment was a reference to the incidents of mass shootings in Canada (gun control) vs the U.S. (no gun control).\n",
      "289 Biden Gun Control Plan Would ‘Criminalize’ up to 105 Million People: Gun-rights Group https://t.co/HPkZqYE9W6 via @epochtimes\n",
      "290 READ MORE HERE: Biden Gun Control Plan Would ‘Criminalize’ up to 105 Million People: Gun-rights Group (https://t.co/qMCZ6QTJs1) (https://t.co/7b12Ai43Xr)\n",
      "291 The group—which, according to the group’s website (https://t.co/6229fVpD8A), has about 556,000 members—said the president’s push for gun control on the anniversary of the Parkland, Florida mass shooting was needless.\n",
      "292 A gun-rights organization said that President Joe Biden (https://t.co/K08ZQiOAmj)’s gun control proposal would potentially make about 105 million law-abiding gun owners into criminals.\n",
      "293 Biden Gun Control Plan Would ‘Criminalize’ up to 105 Million People: Gun-rights Group\n",
      "\n",
      "A thread ⬇️ https://t.co/wa7O3yQd9M\n",
      "294 I had somebody flash a gun at me the last time I was on Thompson Lane. A friend got shot in an attempted robbery at Opry Mills just a few weeks ago. The crime in Nashville is out of control. https://t.co/IW33bjvpYd\n",
      "295 @MomsDemand @shannonrwatts @Everytown I used to be a member - and still am thankful for what they taught me about gun safety.  However, over the decades, the organization really changed.\n",
      "\n",
      "https://t.co/OF5CLRRV9H\n",
      "296 @DavidLafond11 @VoteGoldJen @EMonko111 @hunkybloodydory Then why are high gun control nations safer\n",
      "297 @realpersonpltcs @alwaysberunning @jwink4 Biden Gun Control Plan Would ‘Criminalize’ up to 105 Million People: Gun-rights Group https://t.co/6JJyXaKJtr\n",
      "298 @WhiteHouse Joe Biden needs to get A life on  all these gun control thing they are you do a background check on all guns leave a gun store come on  man so everything is legal and at least the store I should be able to protect my home with whatever I want it’s my house\n",
      "299 @DenverDougScott @docelm0 @FULLYSEMIAUT0 @Everytown No, the actual facts surrounding guns in the United States do not care about your feelings. Gun control is the single biggest losing issue for the authoritarian democrats. I have cited verifiable statistics and you just go on about emotion.\n",
      "300 Report: Biden Weighing Gun Control EO on ‘Ghost Guns‘ https://t.co/U0uxBczvpC via @BreitbartNews\n",
      "301 gun control https://t.co/G4gESHcznL\n",
      "302 The attack on the Capitol could have been much much worse, a massacre, if DC didn’t have strong gun control laws. Gun control works. You think these #MAGATerrorists wouldn’t have been armed with assault rifles if it was an open carry area? \n",
      "#CapitolRiotHearing\n",
      "303 @MrXBob Shoes how much America is messed up, yup let's ban violent video games even though we have messed up gun control and our government is so messed up we can't even impeach an ex president even though we know he's insane and caused riots ....\n",
      "304 Socialist. Doesn't believe in justice, fairness, freedoms, liberties, decency, morals; just their way, cruelty, force &amp; control all at the barrel of a gun. Those are the weak, cowardly, insecure kind. Nothing strong there. Always the easy way out.Her bookcase arsenal showed that https://t.co/Lgpfg3ikVd\n",
      "305 Biden Gun Control Plan Would ‘Criminalize’ up to 105 Million People: Gun-rights Group https://t.co/JqksAbkzLY\n",
      "306 Instead of limiting access to guns, the @USCCA is urging @JoeBiden to nationalize legal permitting and end the patchwork of state regulations. https://t.co/kynUOj8cbP\n",
      "307 @DoubleMeat5 @ollierowe_rowe @american_okay @HarshitkumarGo5 @benshapiro Lol, you got me there. We are pretty clearly talking about the 2nd amendment which doesn’t just cover guns but I did say gun control.   Machine guns, sawed off shotguns, Tech 9.   Pretty sure those have all been illegal for a while.\n",
      "308 .@mattgurney joins @BreakenridgeYEG on @TenThreePodcast to discuss issues with delegating bans to cities, why the legislation is targeting the wrong people, and why Liberal actions don’t match their overheated rhetoric. https://t.co/RRWnIfwKT5\n",
      "309 Merrick Garland admits his DOJ would 'advance' Joe Biden's gun control agenda: 'Entitled to pursue' https://t.co/cn6Rkpvw9h\n",
      "310 No need for gun control, just ban the video games! https://t.co/eEwQvmzrwj\n",
      "311 https://t.co/fXo2ScQ7Es\n",
      "312 Group: Biden gun control would ‘criminalize’ 105M law-abiding people https://t.co/n9zKtiirjj\n",
      "313 It's also 100% unconstitutional. | Biden Gun Control Plan Would ‘Criminalize’ up to 105 Million People: Gun-rights Group https://t.co/difsVnH5Mv via @epochtimes\n",
      "314 Biden Gun Control Plan Would ‘Criminalize’ up to 105 Million People: Gun-rights Group https://t.co/SB2o1zMOhb via @epochtimes\n",
      "315 How fucking petrified of us they are...\n",
      "\n",
      "https://t.co/rfPqObAam8\n",
      "316 @Runesael Me-“ah yes, safe inside my void bubble that can defend against even a golden gun”\n",
      "Some crystal-chucking sweat-load out flawless gearlord in Control - *laughs derisively*\n",
      "317 Nooses For Gun Control | Subverted Nation\n",
      "https://t.co/2xXRVmT0X7\n",
      "318 @mansoortshams You being a marine has zero bearing on your knowledge and interpretation of the 2a. The supreme court and all of US history disagrees with you. Furthermore, gun control has been and is being used specifically to disarm POC. You are helping with that. Still sound like a good idea?\n",
      "319 Superb hosting tonight @KatiePavlich - especially the gun control seg w/@DLoesch .... !\n",
      "320 Biden Gun Control Plan Would ‘Criminalize’ up to 105 Million People: Gun-rights Group https://t.co/gn2NWTgZbF via @epochtimes\n",
      "321 Liberal Supporting Joe Biden's Gun Control Responds To My Video, Here's ... https://t.co/amqHDdl5lu via @YouTube\n",
      "322 Biden Gun Control Plan Would ‘Criminalize’ up to 105 Million People: Gun-rights Group https://t.co/GfOfjZWBL9 via @epochtimes\n",
      "323 The Australian Gun Control Fallacy - https://t.co/IJo2L90iHu #2a #guns #gunrights #gunsense\n",
      "324 @StephenGutowski Gun control will be Biden’s and the DNC’s downfall, but by all means shoot for the moon\n",
      "325 Not because of her stance on “gun control” but because of “incompetence” and the same thing with him giving “firearms” advice!!! Who “authorized ‘HIM’” to gives firearms advice to “ANYBODY!!!” He’s worried about guns being in the “wrong hands???”😂\n",
      "326 Brooklyn-based company @mschf is crowdsourcing control of the @BostonDynamics robot Spot They mounted a paintball gun on it to protest what they say is its inevitable use as a military tool. But @BostonDynamics says mounting guns on their robots is exactly what they're against. https://t.co/WTGpsqPNaj\n",
      "327 Biden Gun Control Plan Would ‘Criminalize’ up to 105 Million People: Gun-rights Group https://t.co/JnHt43Qyxa\n",
      "328 Biden Gun Control Plan Would ‘Criminalize’ up to 105 Million People: Gun-rights Group https://t.co/3DIQ96327i\n",
      "329 @MJMusicEars Biden has betrayed the young people of Parkland and all of us with his abandonment of Comprehensive Gun Control Legislation. The NRA is \"friends\" with Joe's \"FRIENDS\" in the Republican Party. Joe's connect to Raytheon was an early clue he would not pursue real gun control LAWS\n",
      "330 Watch out gun owners. Joey Buyden’s orders will make all of us felons with a stroke of his creepy criminal pen! https://t.co/sH6pmX8a49\n",
      "331 Biden Gun Control Plan Would ‘Criminalize’ up to 105 Million People: Gun-rights Group https://t.co/0jBLU2r1ld via @epochtimes\n",
      "332 Biden Gun Control Plan Would ‘Criminalize’ up to 105 Million People: Gun-rights Group https://t.co/Ib8FhB1Vhb\n",
      "333 Utah #GOP:\n",
      "Local control of mask requirements = good\n",
      "Local control over gun restrictions in public = bad\n",
      "\n",
      "So, it's not really about local control, is it? 🤔🤔🤔🤔🤔\n",
      "334 @laurenboebert Why do people think more gun control is going to get the guns out of the hands of bad people? That approach clearly hasn't worked so far!\n",
      "335 https://t.co/GxMJFgJCUT\n",
      "336 @w_terrence Gun control will be your downfall\n",
      "337 @golikehellmachi Every time I get into talking about gun control I try to mention police’s role. Disarm. Deescalate. Funny, someone responded to me here like I’m being crazy, “combat law enforcement by disarming law enforcement.” Totally! https://t.co/pYNQSZ2PGJ\n",
      "338 Liberal Supporting Joe Biden's Gun Control Responds To My Video, Here's ... https://t.co/VFYMEqW7Tk via @YouTube\n",
      "339 Report: Biden Weighing Gun Control EO on ‘Ghost Guns‘ https://t.co/N6hf1w5iM6 via @BreitbartNews\n",
      "340 @newblakestone @ATATChat Which is probably why I saw the gun control debate in civil war, because to alot of gun owners the government following what happens in civil war would be the worst of the worst. Confiscation, arrests and imprisonment, all for doing what most of them feel is the right thing.\n",
      "341 Debating a tankie troll, reviewing UnnaturalVegan's response, reviewing gun control videos https://t.co/8iG28hRxcj\n",
      "342 @MomsDemand I'm horrified President Biden has abandoned Comprehensive Gun Control Legislation. It didn't take long for his \"FRIENDS\" in the (n)R(a)epublican Party to get him to betray the victims of Gun Violence.\n",
      "343 @golikehellmachi In my paramedic days I had to learn to check pockets for firearms before I defibrillated people. Also had to keep a really close eye out when I was in homes. Without gun control, cops-who aren't there to help-have a more legitimate need for their military weaponry.\n",
      "344 @POTUS @DonaldJTrumpJr @WhiteHouse @RepDanCrenshaw @TomiLahren  u see joe This group and I same team as many others will be also and they begging to see!!! Try ur gun shit u may be getting into some u can’t control just like this show now!!!! We like to eat!!! Refer to right pic https://t.co/NhIFw4ZIiM\n",
      "345 Pure intimidation. That’s the GOP when they pose in front of guns or do interviews with guns behind them like Rep Boebert. And Don Jr. talking about the teachers unions with a wall of guns behind him. Stronger gun control in definitely needed now. https://t.co/Uef5SaNYFQ\n",
      "346 Gun-Control Groups Lash Out at Biden - Washington Free Beacon https://t.co/tAJCOwWThJ\n",
      "347 Biden Gun Control Plan Would ‘Criminalize’ up to 105 Million People: Gun-rights Group https://t.co/g6L4ldtSu6 via @epochtimes\n",
      "348 @DillsWeirdo @Dylan_Macri Gun control does not work.\n",
      "349 @FoxNews I think our government needs more gun control and start taking away guns from people who insight riots participate in riots or condone riots or show guns in their videos trying to intimidate voters\n",
      "350 Biden Gun Control Plan Would ‘Criminalize’ up to 105 Million People: Gun-rights Group https://t.co/TNxXvZwyVb via @epochtimes \n",
      "THIS will not end well....for the DIM DEMS!\n",
      "351 Biden Gun Control Plan Would ‘Criminalize’ up to 105 Million People: Gun-rights Group https://t.co/xJHIChKtXn via @epochtimes.   Asshole!!!\n",
      "352 WAKING UP BESIDED YOU IM MY LOADED GUN I CANT CONTAIN THIS ANYMORE IM ALL YOURS IVE GOT NO CONTROL NO CONTROOOOL\n",
      "353 @Dylan_Macri It either this or gun control. And gun control might actually work so we can’t do that\n",
      "354 @FuryBahamut @BuzzPatterson What kind of gun control would you like\n",
      "355 Biden gun control would ‘criminalize’ 105M law-abiding people\n",
      "https://t.co/HXaU10664w\n",
      "356 As a species we just made it to Mars..but we’re still in a pandemic, arguing about healthcare, minimum wage, gun control, climate change, basic human rights. As sentient beings we can accomplish whatever we set out to do, we just need to recalibrate our priorities...\n",
      "357 https://t.co/6rrohR9sdV\n",
      "358 @POTUS @JoeBiden Still no national mask mandate? Or national emergency for climate change or gun control? \n",
      "\n",
      "C'mon man!\n",
      "359 If gun mfgers are going to be liable for indirect injury of their product, why can't pharma be liable for direct injury of their product? #MakePharmaLiable\n",
      "https://t.co/DhNBGHY57h\n",
      "360 @ChrisCuomo @donlemon @sarasidnerCNN it's things like this that makes sense 4 more gun control.Things being done 4 a short time is not good enough. ✊🏾♊💯 https://t.co/v4Yeo7CZit\n",
      "361 Biden Gun Control Plan Would ‘Criminalize’ up to 105 Million People: Gun-rights Group https://t.co/BBiHe41hZk via @epochtimes China 🇨🇳 Biden.\n",
      "362 Biden Gun Control Plan Would ‘Criminalize’ up to 105 Million People: Gun-rights Group https://t.co/LLSvScaKbo\n",
      "363 Liberal Supporting Joe Biden's Gun Control Responds To My Video, Here's ... https://t.co/TnXaipn2EW via @YouTube\n",
      "364 Biden Gun Control Plan Would ‘Criminalize’ up to 105 Million People: Gun-rights Group #2A https://t.co/bHG151R3TC via @epochtimes\n",
      "365 @Dodivo1 @thehill This is a black control problem, not a gun control problem,\n",
      "366 Biden Gun Control Plan Would &amp;#8216;Criminalize&amp;#8217; up to 105 Million People: Gun-rights Group https://t.co/XUCP4WtfFx via @epochtimes\n",
      "367 Most gun control argument miss the point. If all control boils fundamentally to force,how can one resist aggression without equal force? How can a truly “free” state exist if the individual citizen is enslaved to the forceful will of individual or organized aggressors? It can't\n",
      "368 Biden Gun Control Plan Would ‘Criminalize’ up to 105 Million People: Gun-rights Group https://t.co/pfPZEOmLBA via @epochtimes\n",
      "369 https://t.co/HAe0uinZFu\n",
      "370 @carterforva @JordanChariton Teachers/public education is under political assault, IMO, in the US.  We KNOW that their working conditions are unsafe w/ or w/o a pandemic. At the very least schools should have state-of-the-art ventilation systems, $60K/yr min wage for teachers, nations wide gun control. https://t.co/e8zBYR3Lbj\n",
      "371 restrict the police to significantly less powerful weapons, and their unions will once again return to demanding action on gun control. that's, i think, they only way we get there, and i wish i were creative enough to think of others.\n",
      "372 MO county passes law to arrest feds who try enforcing federal gun control laws in county https://t.co/zw4KEn4THj via @amermilnews\n",
      "373 @sardinest @Crackford @scrowder More voter fraud occurs than mass shootings but voter fraud is no big deal and not “wide spread” and the other means we should have gun control\n",
      "\n",
      "Something doesn’t add up\n",
      "374 @RobMacD62866567 @EMRAdam @montrealronin @Docs4GunControl @erinotoole Prove it? The most lethal terror attack in Frances' history was committed with a truck. The most lethal mass killing in Canada was committed with a van.\n",
      "\n",
      "Guns cause no damage, criminals do. Gun control as it is now is extremely effective, this is just killing industry/sports.\n",
      "375 Here’s a list of business’s that support taking guns away from you.                                          https://t.co/SG4OmJYU36\n",
      "376 Biden's AG nominee Garland says DOJ would pursue gun control agenda https://t.co/7kIE2sCXrG via @amermilnews\n",
      "377 Biden Gun Control Plan Would ‘Criminalize’ up to 105 Million People: Gun-rights Group https://t.co/bIfHuHQiNt\n",
      " \n",
      "Download our app to read more at https://t.co/QhpZmHR7RY\n",
      "378 Biden Gun Control Plan Would &amp;#8216;Criminalize&amp;#8217; up to 105 Million People: Gun-rights Group https://t.co/7c7Uuh90XR a través de @epochtimes\n",
      "379 @Nichola65876203 @akaLLTribune @BAmerican2 @wrtv Im saying the ones who wrote it understood the need for gun control if they saw that need who are we not to..well regulated meens just that it was a right wing supreme court that changed the meaning\n",
      "380 Biden Gun Control proposal would potentially make about 105 million law-abiding gun owners into criminals.\n",
      "\n",
      "Now the election's over, the WASHINGTON lefties have realized they're in the minority and NEED to be in CONTROL.\n",
      "\n",
      "https://t.co/usZ8ntJfPl\n",
      "381 #2A #2ADefenders\n",
      "#2AShallNOTBeInfringed\n",
      "😡😠🤬\n",
      "These Are the Roughly 200 Businesses Whose Leaders Are Backing Gun Control Initiatives\n",
      "https://t.co/ufSHOlCiXT\n",
      "382 @RepMTG I guess accosting an 18 year old over gun control after he was in a mass shooting is what God wants you to do\n",
      "383 Are you ready for Spot's Revenge? Happening tomorrow, you can control the four legged fiend in an art gallery with a paint gun. I hope the art is auctioned after. Expecting Jackson Pollock style.\n",
      "https://t.co/3ySmCCi5Px\n",
      "384 I feel like the left is just biding (Biden?) their time on the gun control issue until something \"happens\". They always use a crisis for political leverage.\n",
      "385 There is no momentum for Gun Control, Joe's Pen will do the work with Garland to take away our 2A.\n",
      "386 #NotMyPresident #MolonLabe \n",
      "😳\"What Ghost Guns?ALL my #Firearms were lost in  a tragic #Boating Accident\"(😞) Report: Biden Weighing Gun Control EO on ‘Ghost Guns‘ https://t.co/W44ptMdOI4 via @BreitbartNews\n",
      "387 Biden Gun Control Plan Would ‘Criminalize’ up to 105 Million People: Gun-rights Group https://t.co/6LJSyOr8og\n",
      "388 @golikehellmachi What’s interesting is that police unions used to be more in favor of gun control but it seems like that went away with polarization in the last decade or so. I could be empirically wrong on this but I distinctly remember a lot of unions backing control efforts when I was young.\n",
      "389 @grandedamnannie No reason to own a gun? Some people hunt. I'm all for gun control though. A automatic that holds 60 rounds in the clip should only be owned/operated by the military. https://t.co/2kqUFpm8Go\n",
      "390 Biden Gun Control Plan Would ‘Criminalize’ up to 105 Million People: Gun-rights Group https://t.co/aPVpwbKzXp via @epochtimes\n",
      "391 March For Our Lives Issue Biden $1 Billion List Of Gun Control Policy Demands  https://t.co/jPTiEHWVlv\n",
      "392 Group: Biden gun control would ‘criminalize’ 105M law-abiding people https://t.co/LCJlkuyTQO\n",
      "393 Add your name.\n",
      "https://t.co/MijuEy5aU5\n",
      "394 Powerful message from @NYCPDDEA Policies have consequences.  Fix NY State's Bail Laws!  Gun Violence in NYC is Out of Control https://t.co/gkf0u8gyRx via @YouTube\n",
      "395 https://t.co/QO2ctPaHXr\n",
      "396 https://t.co/DnpfvfXmBG\n",
      "397 @golikehellmachi You are the only person who has brought that up. We'll get police reform with breaking their unions, making them pay with their pensions AND gun control!\n",
      "398 @golikehellmachi I so agree. And I don't think you can have serious community buy-in on gun control efforts without also demilitarizing local police forces.\n",
      "399 Data show gun control doesn't reduce US violent crime - American Thinker https://t.co/1K1eLNnAFJ\n",
      "400 while we're tackling big and challenging problems here on twitter, where we'll definitely solve them, i don't think that you realistically are able to achieve significant police reform *by any name* without parallel gun control efforts.\n",
      "401 @taracharamod Why do they think people turn to drugs? This is like gun control. There are people out there making a case that they should be banned because the majority of deaths by them are suicide, instead of actually examining why people are depressed enough to overcome basic instinct\n",
      "402 ⁦@SenMikeLee⁩ ⁦@sltrib⁩ ⁦@DeseretNews⁩ \n",
      "The AG enforces the laws you were grilling him about his an opinion about gun control is ridiculous as is your viewpoint on everything else https://t.co/k07eBG5mUZ\n",
      "403 I can't believe we have to keep saying this but:\n",
      "Healthcare\n",
      "COVID relief\n",
      "Gun control\n",
      "Climate change\n",
      "\n",
      "These are the things we want our elected officials to do. Not:\n",
      "Taking a knee\n",
      "Holding candles https://t.co/XzxqhbhWl3\n",
      "404 Biden likes that because China wants that.\n",
      "\n",
      "https://t.co/uWPM4fsYvM\n",
      "405 @POTUS @JustinTrudeau so, you got the stim bill passed and an immigration bill and gun control too? now you are going to shut down the pipelines while having your chat with trudeau, right?\n",
      "406 AG Nominee Merrick Garland thinks gun control sounds SWELL and Biden's 'ENTITLED' to do it. https://t.co/ho9wwFhCGc\n",
      "407 @mariegamalski @Locke_Wiggins @mansoortshams I never said heavily. I merely proposing the right to defend myself. Are you aware gun control is rooted in racism? Are you aware that Switzerland gun laws is looser than Chicago or New York gun laws, yet has a lower violent crime rate. Or that my owning gun ≠ you getting shot.\n",
      "408 Biden Gun Control Plan Would ‘Criminalize’ up to 105 Million People: Gun-rights Group https://t.co/FML2kRMz1A via @epochtimes\n",
      "409 @gmoneystud @BarbaraRKay @dogsbite And don't mention gun control, when your other guru Jeff Borchardt from Daxton's Friend's calls grieving parents useful idiots, when they want stricter gun control, cause they lost children to gun violence. https://t.co/T7wRMg1J93\n",
      "410 https://t.co/SC505h0aA5\n",
      "411 Biden Gun Control Plan Would ‘Criminalize’ up to 105 Million People: Gun-rights Group\n",
      "\n",
      "⁦@NRA⁩  https://t.co/zY6C0e4cht\n",
      "412 After being shot multiple times in the head and face, Chicago police say the woman was able to gain control of the gun and shoot the man in the leg.​  https://t.co/fOEgGqHHEv\n",
      "413 Biden Gun Control Plan Would ‘Criminalize’ up to 105 Million People: Gun-rights Group https://t.co/zY6C0e4cht\n",
      "414 MO County Ordinance: Sheriff's Can Arrest Feds Who Enforce Gun Control https://t.co/zfkky9ibBY\n",
      "415 Report: Biden Weighing Gun Control EO on ‘Ghost Guns‘ https://t.co/3QIvmU94sn via @BreitbartNews\n",
      "416 Imagine you’re going into a gun fight and you know your mate doesn’t even know how to pull a trigger correctly, how confident would you feel about your side winning? \n",
      "\n",
      "I’m thinking about Kane having to play with Sissoko every game who can’t control or shoot a fucking football https://t.co/Jwso69142G\n",
      "417 Biden Gun Control Plan Would ‘Criminalize’ up to 105 Million People: Gun-rights Group https://t.co/PQJmO7ePWv via @epochtimes\n",
      "418 @realDailyWire What do they hope to achieve with gun control? They do know that criminals don't abide by the law, right?\n",
      "419 So residents are screaming for a scalp re: gun violence but what about the parents how the hell do they get a pass.. the mayor.. nor commish is raising these kids! New PSA - Parents Asks4Help or be fined $1000.00 the get your child under control fine 🤔\n",
      "420 Now blocking all foreigners with opinions on American gun control\n",
      "421 Or you could pass gun control laws... that would actually curb violence https://t.co/Cy9ud8Qz8j\n",
      "422 @Shroomy3420 @Reglei1 @belan_joey @PTitanfall @arrpucks @Polygon If you actually look at gun control in most countries, you'd still have a gun used for hunting. You just don't want to listen\n",
      "423 The Liberal government has introduced new legislation containing the strongest measures to combat gun violence that our country has ever seen.\n",
      "\n",
      "Add your name to support stronger gun control in Canada ⬇️\n",
      "https://t.co/Bk7r7F7t89\n",
      "424 These dumb Democrats wanna restrict the rights of legal gun owners that have never done anything illegal with their guns you want to go after guns go after the criminals time for Americans to speak up https://t.co/F0XGqY6ajX via @epochtimes\n",
      "425 Report: Biden Weighing Gun Control EO on 'Ghost Guns' https://t.co/bvE9xwjHTK\n",
      "426 200 Businesses Whose Leaders Are Backing Gun Control Initiatives https://t.co/mBjwzgiTq6\n",
      "427 \"\"While we can agree ... we firmly believe that the path forward should be protecting responsible, law-abiding Americans—not criminalizing and punishing them,” the U.S. Concealed Carry Association said in a letter to Biden this week.\"\n",
      "https://t.co/QTSBeBSjP1\n",
      "428 Biden Gun Control Plan Would ‘Criminalize’ up to 105 Million People: Gun-rights Group https://t.co/KGme348DWo\n",
      "429 @k_man100 @DynamicEyebrow @SJHolden11 @WordofTheDavid @redsteeze Or be more like Australia.\n",
      "\n",
      "If the U.S. did the gun buyback program Australia did and had the same gun control Australia did, on top of their levels of lockdown they'd be...like Australia.\n",
      "\n",
      "But with better internet speeds.\n",
      "430 Biden Gun Control Plan Would ‘Criminalize’ up to 105 Million People: Gun-rights Group https://t.co/vQbufds3eh\n",
      "431 Biden Gun Control Plan Would ‘Criminalize’ up to 105 Million People: Gun-rights Group https://t.co/KGme348DWo\n",
      "432 MSCHF’s latest drop lets you control a Boston Dynamics robot with a paintball gun on its back - The Verge https://t.co/cLMUvbutWG\n",
      "433 DEMOCRATS AND CRIMINALS HATE GUNS IN THE HANDS OF LAW-ABIDING CITIZENS\n",
      "Biden Gun Control Plan Would ‘Criminalize’ up to 105 Million People: Gun-rights Group https://t.co/yLeCZEaZMF via @epochtimes\n",
      "434 Daily reminder that @PamKeithFL doesn't really care about gun control...she cares about cash control...just like every other asshole democratic social justice polietician #2A https://t.co/tuhjDzN8Qv\n",
      "435 Loeffler's group has already stolen a photo to use for their website and twitter account from a \"Mom's Demand Action\" rally fighting for gun control (they did take down the photo when people noticed).  I'm actually surprised that Loeffler wants to stay involved.\n",
      "#GASen\n",
      "5/5\n",
      "436 Hitler had GUN CONTROL. He also forbade FREE SPEECH. America, we are losing our country if something doesn't stop this BIDEN train!!!\n",
      "437 Biden Gun Control Plan Would ‘Criminalize’ up to 105 Million People: Gun-rights Group https://t.co/yYgblSlx4T via @epochtimes\n",
      "438 @NewtownAction Gun control is unconstitutional.\n",
      "439 @Kryptokid714 @NY_Tuck @nytimes Here's a list of a FEW things Reps are scared of\n",
      "Masks, LGBTQ, PoC, Non-Christians, Abortions, Gun Control, Governments, Everything that is not a White man.\n",
      "\n",
      "I do thank you for being a prime example as to why these are important:\n",
      "- Better education\n",
      "- Birth control\n",
      "- Abortion\n",
      "440 Biden Gun Control Plan Would &amp;#8216;Criminalize&amp;#8217; up to 105 Million People: Gun-rights Group https://t.co/jfz2sRIB9b via @epochtimes\n",
      "441 Daily Wire: March For Our Lives Issue Biden $1 Billion List Of Gun Control Policy Demands https://t.co/bRcZIGEe8X\n",
      "442 @JohnFeinblatt @Everytown Gun control is unconstitutional.\n",
      "443 https://t.co/McPQDakNJw\n",
      "444 @johnrich We know.  It was evident when Faith Hill and Tim McGraw starting talking gun control. Dumped them pronto.\n",
      "445 #Biden Gun Control Plan Would ‘Criminalize’ up to 105 Million People: Gun-rights Group #2ndAmendment https://t.co/MFVx9B4x3m\n",
      "446 @noahquintana1 His views changed overtime I didn’t agree with it. And those aren’t the same thing at all. Gun control and the crime bill aren’t even close to being related.\n",
      "447 曾被奧巴馬提名做最高法院大法官的加蘭德，#2017年 時還沒等到參議院聽證，就被川普給 #取消 了提名資格，他是個純左派人物。\n",
      "在聽證上，加蘭德表示他當了司法部長，會積極推動拜登的 #控槍政策。而這一點，也是他歷來備受爭議的重要原因所在。\n",
      "https://t.co/pK213pWlSQ\n",
      "448 .Biden Gun Control Plan Would &amp;#8216;Criminalize&amp;#8217; up to 105 Million People: Gun-rights Group https://t.co/j3WmQOa1JY via @epochtimes\n",
      "449 Reminder, the very same \"people\" who do the \"ACAB,\" bullshit routine, also want gun control as a top priority issue. Not for the cops, just for you. Because they want you to be disarmed and the cops armed, so you are helpless against the cops.\n",
      "\n",
      "https://t.co/W3XVZEY7tL https://t.co/N8h2nYppUS\n",
      "450 Merrick Garland admits his DOJ would 'advance' Joe Biden's gun control agenda: 'Entitled to pursue' https://t.co/cDaZAr88HQ\n",
      "451 We see these sort of headlines to often. We need gun control! https://t.co/GYKtBL8foZ\n",
      "452 @Everytown @ColinAllredTX Gun control is racist\n",
      "453 Asked about how he’ll protect 1st and 2nd amendment rights:\n",
      "\n",
      "He won’t do anything to harm it. Thinks they’re important.\n",
      "\n",
      "Talks about his A rating of 2nd amendment protections.\n",
      "\n",
      "Says people can be concerned. Hopes Biden was just talking up his pro gun control position, but is mod\n",
      "454 @seditiontrack Well she’ll lose her gun rights with a felony so......gun control one bust at a time\n",
      "455 https://t.co/rGLBAO9A3Z\n",
      "456 Biden Gun Control Plan Would ‘Criminalize’ up to 105 Million People: Gun-rights Group https://t.co/K4QfFdtvr7\n",
      "457 Biden Gun Control Plan Would ‘Criminalize’ up to 105 Million People: Gun-rights Group https://t.co/TVKoUV9oZH via @epochtimes\n",
      "458 I dunno why I let my fear of shooting a gun control me ... I think it’s time to get over that fear ... 👀\n",
      "459 Biden Gun Control Plan Would ‘Criminalize’ up to 105 Million People: Gun-rights Group. Wow! It’s getting out of control...  https://t.co/KkPUrPveIy via @epochtimes\n",
      "460 Biden Gun Control Plan Would ‘Criminalize’ up to 105 Million People: Gun-rights Group https://t.co/r9kDqzjFkI via @epochtimes\n",
      "461 Better start donating to your favorite Second Amendment Group if you don't want this shit to happen. #2AShallNOTBeInfringed #2a \n",
      "https://t.co/Sa9HMEpg0d\n",
      "462 Biden Gun Control Plan Would ‘Criminalize’ up to 105 Million People: Gun-rights Group https://t.co/Fb0e43iAg0\n",
      "463 Biden Gun Control Plan Would ‘Criminalize’ up to 105 Million People: Gun-rights Group https://t.co/u2uDpTOmdI via @epochtimes luckily it’s not going to happen.\n",
      "464 This is late 2001 and they’re talking about a church shooter perpetrated by a domestic abuser looking for his estranged wife. Yet again, it’s twenty years later and this is still something we’re dealing with. Still no real gun control.\n",
      "465 Biden Gun Control Plan Would ‘Criminalize’ up to 105 Million People: Gun-rights Group https://t.co/FkL9crFS5v via @epochtimes\n",
      "466 Gun-Control Groups Lash Out at Biden #RicoTheDems #ArrestThemAllNow #ImpeachObamasJudges https://t.co/ROLyRhZOLw #news #feedly\n",
      "467 @Nichola65876203 @akaLLTribune @BAmerican2 @wrtv Lol. You guys always use that bs. A well regulated milta. They had gun control back when they signed it no one was allowed to have a gun in the city limits of Boston and farmers were only allowe one pound of gun powder so your saying they were wrong?\n",
      "468 Biden Gun Control Plan Would ‘Criminalize’ up to 105 Million People: Gun-rights Group https://t.co/U5HcXCqu2w via @epochtimes\n",
      "469 Biden Gun Control Plan Would ‘Criminalize’ up to 105 Million People: Gun-rights Group https://t.co/fFC4xBfsd2 via @epochtimes\n",
      "470 We will not give up our weapons. Just you wait and see. He will start a civil war and we will win! Biden Gun Control Plan Would ‘Criminalize’ up to 105 Million People: Gun-rights Group https://t.co/T606mFjmTA via @epochtimes\n",
      "471 Biden Gun Control Plan Would ‘Criminalize’ up to 105 Million People: Gun-rights Group https://t.co/9cZAlIv4Uv\n",
      "472 @RepAndyBiggsAZ So, denounce the laissez faire gun culture of Arizona.  Do it now. Prove that you mean what you say.  If you truly value life - you will implement serious gun control.  You will ensure guns are not permitted anywhere and that strict background checks are performed.\n",
      "473 Solid message to gun owners from @erinotoole, with a commitment to repeal the Liberal gun control bills and last year’s order-in-council, and a plan go after actual gun crime rather than lawful gun owners.  https://t.co/unGDQmjM6N\n",
      "474 https://t.co/uXqw95c6jK\n",
      "475 Biden Gun Control Plan Would ‘Criminalize’ up to 105 Million People: Gun-rights Group https://t.co/RH5FSZxfhN via @epochtimes\n",
      "476 March For Our Lives Issue Biden $1 Billion List Of Gun Control Policy Demands https://t.co/fdjXRmCvj0 https://t.co/RlH63jiHE7\n",
      "477 Biden Gun Control Plan Would ‘Criminalize’ up to 105 Million People: Gun-rights Group https://t.co/b49PQHQHmJ\n",
      "478 I really need to stop bring up gun control around my fiancee we just end up fighting\n",
      "479 Biden Gun Control Plan Would ‘Criminalize’ up to 105 Million People: Gun-rights Group https://t.co/ZnYPsgDy9X via @epochtimes\n",
      "480 Gun-Control Groups Lash Out at Biden https://t.co/dZArkLs6oJ  via @skinnergj\n",
      "481 @el_dracoJayy 🥱🥱 maybe if american politicians actually cared about gun control\n",
      "482 Liked on YouTube: Liberal Supporting Joe Biden's Gun Control Responds To My Video, Here's My Response https://t.co/OKVvs57gRo\n",
      "483 Biden Gun Control Plan Would ‘Criminalize’ up to 105 Million People: Gun-rights Group https://t.co/KbJpS6JnGo via @epochtimes\n",
      "484 Biden Gun Control Plan Would ‘Criminalize’ up to 105 Million People: Gun-rights Group https://t.co/MbSY0MooJq\n",
      " \n",
      "Download our app to read more at https://t.co/4OBIn6jKvG\n",
      "485 Biden Brings Aggressive Gun Control Plans, Where Trump Supported 2nd Amendment https://t.co/a0eRzQEsky via @epochtimes\n",
      "486 Biden Gun Control Plan Would ‘Criminalize’ up to 105 Million People: Gun-rights Group https://t.co/HsKwviCsD1 via @epochtimes\n",
      "487 Biden Gun Control Plan Would ‘Criminalize’ up to 105 Million People: Gun-rights Group https://t.co/p82SZu5qDC via @epochtimes\n",
      "488 @Everytown The people incarcerated the most from gun control laws are actually black men. Gun control is racist!\n",
      "489 @yungb00by lately unknown fact: in england u can legally have a gun. but there’s a lot of control of who can buy them and what types and stuff. so we don’t have gun violence- we do however have knife violence so take ur pick\n",
      "490 lost my senses I’m defenseless her perfumes holding me ransom sweet n sour heart devour lying here i count the hours WAKIN UP BESIDES YOU IM A LOADED GUN I CANT CONTAIN IT ANYMORE IM ALL YOURS I GOT NO CONTROL!!!!! NO CONTROL!!!!!!!!\n",
      "491 March For Our Lives Issue Biden $1 Billion List Of Gun Control Policy Demands https://t.co/YcOoCIHDeV via The Daily Wire https://t.co/hyqHpeHsrE\n",
      "492 March For Our Lives Issue Biden $1 Billion List Of Gun Control Policy Demands https://t.co/kV5c7DvSPT via @realDailyWire\n",
      "493 Biden Gun Control Plan Would ‘Criminalize’ up to 105 Million People: Gun-rights Group https://t.co/iRMtzT7baZ via @epochtimes\n",
      "494 Taking on the gaming industry is ten times easier than talking about mental health, poverty, gun control; ya know, real stuff? https://t.co/AJKbnnS9gA\n",
      "495 It took mere days after new gun controls for @erinotoole to roll over under pressure of @CCFR_CCDAF (Canada's extremely well funded NRA) to agree to repeal any recent gun control &amp; \"review\" the firearms act if elected. \n",
      "\n",
      "They also want legal concealed hand gun carry\n",
      "\n",
      "#cdnpoli\n",
      "496 Biden Gun Control Plan Would ‘Criminalize’ up to 105 Million People: Gun-rights Group https://t.co/PPmOpYj53B via @epochtimes\n",
      "497 I have all the answers.  The journalists are the criminals.  Immigration and nuclear strategy are in my book.  I know gun control.  I know all the economics.  For the world.  Get the book The Macroeconomic Laws by Gregory Del Jones.\n",
      "498 @notyourenemy7 @RottweilerTeeth @erj7181 @mindelshek @CawthornforNC 02:  And some county LE warn feds that they will be arrested if they come into these pro 2A zones and try to enforce gun control. So yeah, gun rights aren't going away for most of us. Sadly gun rights in big cities will continue to be extinguished. But that will be their problem.\n",
      "499 K. Bryon Klebold is ok. He is starting a podcast called \"ACTIVE SHOOTER\" where he talks about shooting around America. And he is writing a book. That all. Ok. Stop talking about Columbine. WE NEED GUN CONTROL.\n"
     ]
    }
   ],
   "source": [
    "for index, tweet in enumerate(tweets):\n",
    "    print(index, tweet.full_text)"
   ]
  },
  {
   "cell_type": "markdown",
   "metadata": {},
   "source": [
    "now I am going to search for my search term \"gun control\" within a certain area. to do that i add have to add arguments specifying the cordinates and spance."
   ]
  },
  {
   "cell_type": "code",
   "execution_count": 73,
   "metadata": {},
   "outputs": [],
   "source": [
    "tweets = tw.Cursor(api.search,\n",
    "                   q=q,\n",
    "                   geocode='29.766083,-95.358810,50km', \n",
    "                   tweet_mode='extended').items(max_tweets)"
   ]
  },
  {
   "cell_type": "markdown",
   "metadata": {},
   "source": [
    "using another for loop I will go through each tweet and print them along with the information of when they were created"
   ]
  },
  {
   "cell_type": "code",
   "execution_count": 74,
   "metadata": {
    "scrolled": false
   },
   "outputs": [
    {
     "name": "stdout",
     "output_type": "stream",
     "text": [
      "2021-02-24 03:15:50: @Major_Hutch @ksorbs But most crimes and mass murders are committed with handguns. I thought the plan was to lower that? Why only allow the weapon most used in those acts? Oh that’s right, gun control is not about saving lives just tricking the uneducated into thinking it is\n",
      "2021-02-24 00:29:52: @NewtownAction Gun control is unconstitutional.\n",
      "2021-02-24 00:27:29: @JohnFeinblatt @Everytown Gun control is unconstitutional.\n",
      "2021-02-23 17:52:40: Biden Gun Control Plan Would ‘Criminalize’ up to 105 Million People: Gun-rights Group\n",
      "\n",
      "https://t.co/F2awZ2XFJl\n",
      "2021-02-23 17:14:43: Biden Gun Control Plan Would ‘Criminalize’ up to 105 Million People: Gun-rights Group\n",
      "\n",
      "https://t.co/WOWs8lfAIP\n",
      "2021-02-23 16:53:20: @nicoleshodges @BetoORourke He’s not a Senator ....He’s a wannabe gun control nut\n",
      "2021-02-23 16:51:59: These Are the Roughly 200 Businesses Whose Leaders Are Backing Gun Control Initiatives https://t.co/n6KpZbNxX4\n",
      "2021-02-23 16:14:04: A Hypocritical Biden “Virtue Signals” His Extreme Gun Control Agenda A Hypocritical Biden “Virtue Signals” His Extreme Gun Control AgendaSPRINGFIELD, VA – Gun Owners of America (GOA) Senior Vice President Erich Pratt released the following... https://t.co/UotoRev1ZP\n",
      "2021-02-23 16:14:01: A Hypocritical Biden “Virtue Signals” His Extreme Gun Control Agenda https://t.co/rfyZIHu8Nl\n",
      "2021-02-23 14:06:39: @mikedrake178 @marcorubio All that sound ok but Marco’s job ha to protect his constituents and has yet to do anything about gun control! @fred_guttenberg so what is he good at specifically?\n",
      "2021-02-23 14:00:28: Vermont’s Supreme Court upheld a state law banning the possession of handgun magazines with a capacity greater than 15 rounds and rifle magazines with a capacity of over 10 rounds.\n",
      "\n",
      "https://t.co/IPt5v3RPT3\n",
      "\n",
      "#HSC #vermont\n",
      "2021-02-23 13:16:09: @TractusB @laddie43 @laurenboebert Says former police officers and military fueling white supremacy...which doesn’t exist (facts back it up) 54% of Americans thinks he is a puppet for radical left(true)He or they withdraw sanctions on Iran..Israel won’t be happy...Gun Control will be attempted...his pet project.\n",
      "2021-02-23 10:56:39: @laurenboebert The People who think we need gun control are the 90% who want universal background checks and the 2/3rds who support a assault weapons ban and removing guns from violent offenders.\n",
      "Americans by &amp; large want, gun reform.\n",
      "It will happen, deal with it.\n",
      "2021-02-23 09:23:10: I&amp;rsquo;ve piloted Spot a number of ways in a number of different settings. I had the chance to control the robot for the first time at one of our Robotics events a number of years back, and drove one around an obstacle course at https://t.co/a7vCuowFA5\n",
      "2021-02-23 00:24:02: @SheddScott “Gun control”? Who needs gun control with a camera?\n",
      "2021-02-22 23:22:10: These Are the Roughly 200 Businesses Whose Leaders Are Backing Gun Control Initiatives https://t.co/kzdVuUsstY\n",
      "2021-02-22 20:01:44: @agentmangeek @hunkybloodydory @BoredomDidIt Great.  Your math works.  Don't buy a gun, then.  Who cares?  Why should your economic computation control what my neighbor down the street does?\n",
      "2021-02-22 19:46:14: @LEastsound @CaslerNoel @PureSamie @GovAbbott Actually comprehensive gun control could win in Texas especially as larger cities are seeing an uptake in gun violence. The reason things like this don’t pass is gerrymandering. 💁🏻‍♀️\n",
      "2021-02-22 18:15:38: @TonyAtamanuik Gun control is a necessity!! Men have guns to make up for what they lack.\n",
      "2021-02-22 18:10:10: @chriburns31 @lrnhogan @abc13houston Interesting.... just out of curiosity where do you Stand on gun control?🤔\n",
      "2021-02-22 17:55:04: Canada’s Liberal Government: More Gun Control! https://t.co/gAUFe0i8fq https://t.co/v3Ap5AXjvJ\n",
      "2021-02-22 17:36:49: 10/3 podcast: The troubles with Trudeau's gun control policy https://t.co/3eK7fu2ygY\n",
      "2021-02-22 11:27:01: @NewtownAction Gun control is unconstitutional.\n",
      "2021-02-22 04:23:53: @PamKeithFL Which insurance company hired you as a lobbyist? F that, f ur financial insurance gun control that targets the poor!\n",
      "2021-02-21 23:02:42: @Viktor4Liberty And on the topic of guns specifically, I've always been a hardcore 2A advocate and against all gun control 😎🇺🇸 that will never change. Protecting gun rights was the one issue that made me politically active when I was younger, and my mind is unchangeable on that topic.\n",
      "2021-02-21 19:26:29: @RidOfGOP Shit!  Don Jr is Exhibit A-Z on why we need gun control, birth control, and abortion.\n",
      "2021-02-21 18:28:22: Biden’s Gun Control Proposals Will Do As Much to Stop School Shootings as David Hogg's Pillows  https://t.co/diGHKHzEbs\n",
      "2021-02-21 15:36:28: Stop calling for gun control. Weapons control is more appropriate https://t.co/OQ4OTuKcDd\n",
      "2021-02-21 15:16:43: I really don’t care to hear how Republicans plan to open schools “safely” because they won’t entertain anything gun control related after a school shooting.\n",
      "2021-02-21 12:13:50: @atrupar @JoaniSparkles Just past 6am on a Sunday, and I've already heard 13 gunshots from the apartment complex across the street (a burst of ten, followed seconds later by 3 more.)\n",
      "\n",
      "The gun situation in this country is out of control.\n",
      "2021-02-21 02:56:30: @onewaybooster @billwil22305294 @Savage_Author @axios Meaning passing laws. Republicans don’t wanna do anything on immigration, infrastructure, climate change, gun control, housing, etc.\n",
      "2021-02-21 02:34:03: @TheSkotzman @mansoortshams Well sir they are and until leaders go after the guns doing all the killing, illegally obtained firearms in all the neighborhoods, I refuse to have the conversation about gun control laws.\n",
      "2021-02-21 01:43:31: TV Shows Push Gun Control Myths -- in Sync With Biden\n",
      "They will NEVER take our guns\n",
      "https://t.co/EbCyD88b3m\n",
      "2021-02-20 23:59:31: Suddenly, not so fun to not have gun control when a mentally unstable communist is holding a very powerful gun huh\n",
      "2021-02-20 23:58:53: Re: gun control\n",
      "Give me a gun and I'll show you who controls the situation\n",
      "2021-02-20 23:58:44: Oh AR-15 is trending. Lol can’t wait to read the debates on why we need gun control.\n",
      "2021-02-20 22:11:31: Father of Parkland victim slams Biden's latest gun control measures https://t.co/62I71grqza via @YouTube\n",
      "2021-02-20 21:56:25: Biden’s Gun Control Proposals Will Do As Much to Stop School Shootings as David Hogg's Pillows by Andrew Pollack https://t.co/QtBTJ1kYi4\n",
      "2021-02-20 21:42:30: The people who think we need more gun control spent the summer after surviving #Parkland to register young people to vote and they voted in numbers never before seen in history and freaked out and whined like a little baby.\n",
      "\n",
      "We won.  You lost.  Deal. https://t.co/SxHAFJAXLP\n",
      "2021-02-20 21:41:50: @laurenboebert The people who think we need more gun control spent the summer after surviving #Parkland to register young people to vote and they voted in numbers never before seen in history and freaked out and whined like a little baby.\n",
      "2021-02-20 20:34:45: @laurenboebert   No the ones that think there should be gun control are actually the ones that know (cont) https://t.co/EPDtKNMf7t\n",
      "2021-02-20 19:55:07: @laurenboebert You are an idiot! If you can't hit your target with 6 bullets you sure as hell don't need 12! That IS how you control a gun. Former Gunner's Mate for the Navy, retired SGT for the Army!\n",
      "2021-02-20 18:34:32: @laurenboebert I know what it stands for. One one. And still believe in gun control. #onetermboebert\n",
      "2021-02-20 17:32:11: @laurenboebert It stands for \"ArmaLite rifle\" and I think we need better gun control. \n",
      "\n",
      "NEXT...\n",
      "2021-02-20 16:42:23: @geoff55318 @Orvieto2016 @laurenboebert Yup. So it isn’t gun control or what you are trying to point out the only way of gun control. Please troll we know what you up to buddy.\n",
      "2021-02-20 15:57:59: @Stinkfist423 @geoff55318 @Orvieto2016 @laurenboebert This isn’t gun control. This is gun discipline. Obviously this is how you carry a weapon. But this is not gonna control. This is just another silly way of you guys trying to justify.\n",
      "2021-02-20 15:56:24: @geoff55318 @Orvieto2016 @laurenboebert This is already a well known fact on how to carry a weapon. But this is not gun control. This is gun discipline.\n",
      "2021-02-20 15:36:35: @tylerblack32 @dfreedman7 @TheKidKidDoc @Patricia_Ann_E I have studied this fairly extensively, as part of my advocacy with the ACS on capitol hill- I personally lobbied for the ACS consensus(lobbying Ted Cruz' staffer on gun control was fun...)- but we have apparently come to different conclusions.  https://t.co/qpD0umSM9r\n",
      "2021-02-20 15:01:44: @Orvieto2016 @laurenboebert Ur stupid if u think gun control effects criminals\n",
      "2021-02-20 14:13:44: Are students taught during Black History Month that gun control began as a means to deny free blacks the right to own guns? https://t.co/HWQk00sh0K via @larryelder @DailySignal\n",
      "2021-02-20 05:30:17: @RBReich Or the voting rights act or gun control laws or pretty much anything all Democrats care about. Will our Senate Dems do the right thing? @SenSchumer @ewarren @amyklobuchar @maziehirono 👀👀👀\n",
      "2021-02-20 02:19:08: Gallup: Less Than Half Of Americans Want More Gun Control – Bearing Arms https://t.co/xRRMRaiXhH\n",
      "2021-02-20 01:34:41: @ExposeTheMedia Our country was founded on the principle that laws work. Gun control laws have worked in many countries and reduced mass shootings. As much as I hate knife attacks, there is a reason less innocent people die in those.\n",
      "2021-02-20 00:53:20: @laurenboebert I guess you never actually read Justice Scalia's Heller ruling? He re-wrote the 2nd Amendment...&amp; here's the kicker he favored gun control in schools, churches and federal buildings. \n",
      "\n",
      "https://t.co/M15n72I9gT\n",
      "2021-02-19 12:35:04: @NewtownAction @POTUS @SpeakerPelosi @SenSchumer @RepJerryNadler @SenatorDurbin Gun control is unconstitutional.\n",
      "2021-02-19 10:44:46: Father of Parkland Victim Slams Biden for Taking Advantage of Anniversary of Shooting to Push Gun Control via @WestJournalism https://t.co/Q6NzFn3dRo\n",
      "2021-02-19 01:29:48: @Brigglesbee @MelissaAmour72 This is the correct statement. Although probably a noble effort given the gun violence that took place in El Paso during the campaign, weighing in on gun control in Texas sunk Beto ... which left us again with this sentient pile of garbage.\n",
      "2021-02-18 20:34:41: If you teach your children about guns and how to properly use and care for them, they will be safer for it. Gun control starts at home. This is the parents responsibility to teach safety and what’s right/wrong. If you can’t teach your kids correctly, don’t expect anyone else to\n",
      "2021-02-18 20:12:55: 2nd Amend Alert: Biden Plans To Bypass Congress To Enforce New Strict Gun Control Measures https://t.co/g4fDdwEy9E via @ThudNews\n",
      "2021-02-18 17:58:33: @DanielleWalk20 @katia04 @BetoORourke They can’t take your 2A rights away they just want gun control which isn’t bad and if you can own a gun you shouldn’t be scared of gun control\n",
      "2021-02-18 08:11:34: @wa_kin_gup @BrendaA24168120 @MaryMister8 @NewaiGreen @ALilac6 @BustersBrew @DoniTheDon_  @lawabiding771 @Ghost17571 @dhiggins63 @fantasticlegs @maximus_u @ronmolina @JWSpry @BlueSea1964 @AnonPS2341 @qubrat1s @Blunt_Maddness @Qynton #EmboldensCriminals https://t.co/FETiWE53Gn\n",
      "2021-02-18 01:13:43: Joe Biden Tells  Congress To Ban AR-15s and Enact Other Gun Control to D... https://t.co/V33cxrsWnn via @MrColionNoir\n",
      "2021-02-17 22:09:38: How Biden could tighten gun control without Congress\n",
      "\n",
      "https://t.co/aZM9hoqNvH\n",
      "Biden is the same person who said he’d use a shotgun to protect his home and family! So he now uses National Guard troops to protect him. That’s one way to get around gun ownership.\n",
      "2021-02-17 19:39:20: @MarxIsMyNigga gun control disproportionately targets the poor and marginalized communities while doing absolutely nothing to address the actual causes of gun violence in the united states. no anti-gun “socialist” is a comrade of mine. they’re just a liberal.\n",
      "2021-02-17 19:21:01: Pelosi, Top Democrats Renew Call for Gun Control https://t.co/GJ3vRowra6\n",
      "2021-02-17 15:57:40: That reminds me, I’ll be on Fox News with Tucker Carlson tonight you talk communism and gun control. I’ll be great. As always. https://t.co/NE2WfmHR7d\n",
      "2021-02-17 15:52:59: This administration is at war with the Constitution, therefore, with the American people. They find  no security issues opening floodgates of illegal aliens and unvetted refugees while building walls fortified with military \n",
      "https://t.co/ojOpTM0BBf https://t.co/EcMz6zMLoA\n",
      "2021-02-17 14:42:33: @mtgreenee We need gun control.  Go away, MTG.\n",
      "2021-02-17 13:43:26: @VintageBuccos @MSNBC He is helping.\n",
      "\n",
      "Also Don’t be like those fools who do not want to speak about gun control after mass shootings only so it can be swept under the rug and forgotten.\n",
      "2021-02-17 09:47:17: @tooronlists Hold up! I live in Texas, own guns but believe in sensible gun control. I am a Democrat in a red state. \n",
      "\n",
      "God, what is it with people picking on Texas today? Is it not enough for you that millions are still without power and suffering? Ok. Sure.\n",
      "2021-02-17 07:04:35: @NewtownAction Gun control is unconstitutional.\n",
      "2021-02-17 06:06:42: @BrandyMcgillTV @WLOX Instead of gun control, we are building bullet proof desks. SMH\n",
      "2021-02-17 05:15:02: @TheDNCJames Texas is big on guns and he’s pro gun control. He has no chance of winning\n",
      "2021-02-17 01:12:39: Ok I’m going to say this here and now. If states do not stand up to this bullshit from Biden and his over reaching. Our country will collapse. Just three hours ago it came out that he may go it alone with Gun Control. States had no problem setting boundaries for Trump.\n",
      "2021-02-17 01:07:57: @POTUS @JoeBiden 1: Do you think you’ll be able to persuade Senator Joe Manchin to vote for the $15 an hour minimum wage in the COVID Relief Bill?\n",
      "\n",
      "2: What will you do to move forward your priorities, such as common-sense gun control, if none of the Republicans in the Senate will vote yes?\n",
      "2021-02-16 23:18:13: Gun control? How can there be any gun control without infringing on 2nd amendment?\n",
      "2021-02-16 21:53:09: Watch \"Biden Demands Gun Control NOW Amid INSANE HR 127 Bill, Democrats Are Wasting NO TIME\" on YouTube https://t.co/RIMvUwXRU7\n",
      "2021-02-16 21:26:42: @niais @GeekMelange Republicans have a clear choice reject their belief that global warming exists and that government regulation can be good, or move forward and accept that some lives will be lost. Given their actions on gun control, Covid, and actual insurrection, will anyone be surprised?\n",
      "2021-02-16 21:16:21: *School Shooting*\n",
      "Liberals: “We need to do something about gun control”\n",
      "Conservatives: “Now is not the time to politicize a tragedy, Thoughts and prayers”\n",
      "\n",
      "*Power out for 5 million people due to Winter Weather and poor planning*\n",
      "\n",
      "Liberals: “We need to do fix this”Conservatives: https://t.co/Q4EoTL6O9B\n",
      "2021-02-16 19:56:34: @TheSarahBarkey @CoolGaySkeleton It’s true though... Reagan implemented gun control after the Black Panthers did open carry demonstrations...\n",
      "2021-02-16 19:32:46: @Blue_Texas2022 Stop talking about gun control in Texas, so that you don’t shoot yourself in the foot (pun intended) with that rhetoric. If you do that, perhaps you could become governor. #texas #BetoForGovernor #AbbottFailedTexas\n",
      "2021-02-16 18:16:05: @BlackKnight10k @SheIsBeauty101 I have guns in my house also. I’m not running. I also vote blue and I’m for Joe’s recent statement on reasonable gun control. Not every gun owner is a Republican or racist.\n",
      "2021-02-16 16:57:16: Parkland parent calls Biden’s gun control agenda far from ‘common sense’ - https://t.co/IhJygaajwJ\n"
     ]
    }
   ],
   "source": [
    "for index, tweet in enumerate(tweets):\n",
    "    print(str(tweet.created_at) + ': ' + tweet.full_text)"
   ]
  },
  {
   "cell_type": "markdown",
   "metadata": {},
   "source": [
    "now I search twitter again because for some reason the item iterator returned by the tw.Cursor fun can only run one loop operation"
   ]
  },
  {
   "cell_type": "code",
   "execution_count": 75,
   "metadata": {},
   "outputs": [],
   "source": [
    "tweets = tw.Cursor(api.search,\n",
    "                   q=q,\n",
    "                   geocode='34.068921,-118.4473751,50km', \n",
    "                   tweet_mode='extended').items(max_tweets)"
   ]
  },
  {
   "cell_type": "markdown",
   "metadata": {},
   "source": [
    "When printing the tweets we can see that it is in json format so we have to convert it into a dataframe that is more accessible. as seen and don in the next two cells."
   ]
  },
  {
   "cell_type": "code",
   "execution_count": 76,
   "metadata": {},
   "outputs": [
    {
     "name": "stdout",
     "output_type": "stream",
     "text": [
      "<tweepy.cursor.ItemIterator object at 0x7f38cf0698e0>\n"
     ]
    }
   ],
   "source": [
    "print(tweets)"
   ]
  },
  {
   "cell_type": "code",
   "execution_count": 77,
   "metadata": {},
   "outputs": [],
   "source": [
    "json_data = [tweet._json for tweet in tweets]"
   ]
  },
  {
   "cell_type": "markdown",
   "metadata": {},
   "source": [
    "here I create a variable that will contain the normalized dataframe"
   ]
  },
  {
   "cell_type": "code",
   "execution_count": 78,
   "metadata": {},
   "outputs": [
    {
     "data": {
      "text/html": [
       "<div>\n",
       "<style scoped>\n",
       "    .dataframe tbody tr th:only-of-type {\n",
       "        vertical-align: middle;\n",
       "    }\n",
       "\n",
       "    .dataframe tbody tr th {\n",
       "        vertical-align: top;\n",
       "    }\n",
       "\n",
       "    .dataframe thead th {\n",
       "        text-align: right;\n",
       "    }\n",
       "</style>\n",
       "<table border=\"1\" class=\"dataframe\">\n",
       "  <thead>\n",
       "    <tr style=\"text-align: right;\">\n",
       "      <th></th>\n",
       "      <th>created_at</th>\n",
       "      <th>id</th>\n",
       "      <th>id_str</th>\n",
       "      <th>full_text</th>\n",
       "      <th>truncated</th>\n",
       "      <th>display_text_range</th>\n",
       "      <th>source</th>\n",
       "      <th>in_reply_to_status_id</th>\n",
       "      <th>in_reply_to_status_id_str</th>\n",
       "      <th>in_reply_to_user_id</th>\n",
       "      <th>...</th>\n",
       "      <th>place.place_type</th>\n",
       "      <th>place.name</th>\n",
       "      <th>place.full_name</th>\n",
       "      <th>place.country_code</th>\n",
       "      <th>place.country</th>\n",
       "      <th>place.contained_within</th>\n",
       "      <th>place.bounding_box.type</th>\n",
       "      <th>place.bounding_box.coordinates</th>\n",
       "      <th>quoted_status.quoted_status_id</th>\n",
       "      <th>quoted_status.quoted_status_id_str</th>\n",
       "    </tr>\n",
       "  </thead>\n",
       "  <tbody>\n",
       "    <tr>\n",
       "      <th>0</th>\n",
       "      <td>Wed Feb 24 05:35:35 +0000 2021</td>\n",
       "      <td>1364448868553814024</td>\n",
       "      <td>1364448868553814024</td>\n",
       "      <td>Comments:\\n• Air Brigadier General Robert Spalding: Biden following CCP agenda\\n• Snopes made by Soros to serve left\\n• Lifesite's Covid-19 conference\\n• Vatican leads the way in vaccine tyranny\\n• A little history on gun control &amp;amp; oppressive governments\\nhttps://t.co/vYnydbPpn6 https://t.co/X4HIFITgzz</td>\n",
       "      <td>False</td>\n",
       "      <td>[0, 277]</td>\n",
       "      <td>&lt;a href=\"https://mobile.twitter.com\" rel=\"nofollow\"&gt;Twitter Web App&lt;/a&gt;</td>\n",
       "      <td>NaN</td>\n",
       "      <td>None</td>\n",
       "      <td>NaN</td>\n",
       "      <td>...</td>\n",
       "      <td>NaN</td>\n",
       "      <td>NaN</td>\n",
       "      <td>NaN</td>\n",
       "      <td>NaN</td>\n",
       "      <td>NaN</td>\n",
       "      <td>NaN</td>\n",
       "      <td>NaN</td>\n",
       "      <td>NaN</td>\n",
       "      <td>NaN</td>\n",
       "      <td>NaN</td>\n",
       "    </tr>\n",
       "    <tr>\n",
       "      <th>1</th>\n",
       "      <td>Tue Feb 23 22:44:54 +0000 2021</td>\n",
       "      <td>1364345518571233283</td>\n",
       "      <td>1364345518571233283</td>\n",
       "      <td>@lionel_trolling certainly makes David Hogg's evolution from \"gun control now\" to \"I'm making a liberal pillow company to own the conservative pillow guy\" more understandable</td>\n",
       "      <td>False</td>\n",
       "      <td>[17, 174]</td>\n",
       "      <td>&lt;a href=\"https://mobile.twitter.com\" rel=\"nofollow\"&gt;Twitter Web App&lt;/a&gt;</td>\n",
       "      <td>1.364344e+18</td>\n",
       "      <td>1364344433190334471</td>\n",
       "      <td>3.441358e+09</td>\n",
       "      <td>...</td>\n",
       "      <td>NaN</td>\n",
       "      <td>NaN</td>\n",
       "      <td>NaN</td>\n",
       "      <td>NaN</td>\n",
       "      <td>NaN</td>\n",
       "      <td>NaN</td>\n",
       "      <td>NaN</td>\n",
       "      <td>NaN</td>\n",
       "      <td>NaN</td>\n",
       "      <td>NaN</td>\n",
       "    </tr>\n",
       "    <tr>\n",
       "      <th>2</th>\n",
       "      <td>Tue Feb 23 20:42:41 +0000 2021</td>\n",
       "      <td>1364314763010875393</td>\n",
       "      <td>1364314763010875393</td>\n",
       "      <td>@JonJay1us @gscucci Gun control and gun rights are different things. One does not negate the other. Sensible gun laws help soceity. Don't worry 'Charelton Heston'. If you are intimating Trump was for guns, you are wrong. He only said it b/c it was trigger for his minions. You prove my point</td>\n",
       "      <td>False</td>\n",
       "      <td>[20, 291]</td>\n",
       "      <td>&lt;a href=\"http://twitter.com/download/android\" rel=\"nofollow\"&gt;Twitter for Android&lt;/a&gt;</td>\n",
       "      <td>1.364313e+18</td>\n",
       "      <td>1364313067560067072</td>\n",
       "      <td>3.304570e+08</td>\n",
       "      <td>...</td>\n",
       "      <td>NaN</td>\n",
       "      <td>NaN</td>\n",
       "      <td>NaN</td>\n",
       "      <td>NaN</td>\n",
       "      <td>NaN</td>\n",
       "      <td>NaN</td>\n",
       "      <td>NaN</td>\n",
       "      <td>NaN</td>\n",
       "      <td>NaN</td>\n",
       "      <td>NaN</td>\n",
       "    </tr>\n",
       "    <tr>\n",
       "      <th>3</th>\n",
       "      <td>Tue Feb 23 20:19:31 +0000 2021</td>\n",
       "      <td>1364308930952798209</td>\n",
       "      <td>1364308930952798209</td>\n",
       "      <td>Lied. Read on. The bio is gossipy + scandelous (not pub. in the UK coz of the libel laws, I think). I’m enjoying hating it. The speed of Cruise’s success is crazy. He went from being spotted by an agent in a school play to having a degree of creative control over Top Gun in 6 yrs https://t.co/AjFnrRpHEl</td>\n",
       "      <td>False</td>\n",
       "      <td>[0, 280]</td>\n",
       "      <td>&lt;a href=\"http://twitter.com/download/iphone\" rel=\"nofollow\"&gt;Twitter for iPhone&lt;/a&gt;</td>\n",
       "      <td>NaN</td>\n",
       "      <td>None</td>\n",
       "      <td>NaN</td>\n",
       "      <td>...</td>\n",
       "      <td>NaN</td>\n",
       "      <td>NaN</td>\n",
       "      <td>NaN</td>\n",
       "      <td>NaN</td>\n",
       "      <td>NaN</td>\n",
       "      <td>NaN</td>\n",
       "      <td>NaN</td>\n",
       "      <td>NaN</td>\n",
       "      <td>NaN</td>\n",
       "      <td>NaN</td>\n",
       "    </tr>\n",
       "    <tr>\n",
       "      <th>4</th>\n",
       "      <td>Tue Feb 23 19:21:18 +0000 2021</td>\n",
       "      <td>1364294281934987267</td>\n",
       "      <td>1364294281934987267</td>\n",
       "      <td>Biden Gun Control Plan Would ‘Criminalize’ up to 105 Million People: Gun-rights Group https://t.co/82qJ3SRgWa via @epochtimes</td>\n",
       "      <td>False</td>\n",
       "      <td>[0, 125]</td>\n",
       "      <td>&lt;a href=\"https://mobile.twitter.com\" rel=\"nofollow\"&gt;Twitter Web App&lt;/a&gt;</td>\n",
       "      <td>NaN</td>\n",
       "      <td>None</td>\n",
       "      <td>NaN</td>\n",
       "      <td>...</td>\n",
       "      <td>NaN</td>\n",
       "      <td>NaN</td>\n",
       "      <td>NaN</td>\n",
       "      <td>NaN</td>\n",
       "      <td>NaN</td>\n",
       "      <td>NaN</td>\n",
       "      <td>NaN</td>\n",
       "      <td>NaN</td>\n",
       "      <td>NaN</td>\n",
       "      <td>NaN</td>\n",
       "    </tr>\n",
       "  </tbody>\n",
       "</table>\n",
       "<p>5 rows × 162 columns</p>\n",
       "</div>"
      ],
      "text/plain": [
       "                       created_at                   id               id_str  \\\n",
       "0  Wed Feb 24 05:35:35 +0000 2021  1364448868553814024  1364448868553814024   \n",
       "1  Tue Feb 23 22:44:54 +0000 2021  1364345518571233283  1364345518571233283   \n",
       "2  Tue Feb 23 20:42:41 +0000 2021  1364314763010875393  1364314763010875393   \n",
       "3  Tue Feb 23 20:19:31 +0000 2021  1364308930952798209  1364308930952798209   \n",
       "4  Tue Feb 23 19:21:18 +0000 2021  1364294281934987267  1364294281934987267   \n",
       "\n",
       "                                                                                                                                                                                                                                                                                                             full_text  \\\n",
       "0  Comments:\\n• Air Brigadier General Robert Spalding: Biden following CCP agenda\\n• Snopes made by Soros to serve left\\n• Lifesite's Covid-19 conference\\n• Vatican leads the way in vaccine tyranny\\n• A little history on gun control &amp; oppressive governments\\nhttps://t.co/vYnydbPpn6 https://t.co/X4HIFITgzz   \n",
       "1                                                                                                                                       @lionel_trolling certainly makes David Hogg's evolution from \"gun control now\" to \"I'm making a liberal pillow company to own the conservative pillow guy\" more understandable   \n",
       "2                  @JonJay1us @gscucci Gun control and gun rights are different things. One does not negate the other. Sensible gun laws help soceity. Don't worry 'Charelton Heston'. If you are intimating Trump was for guns, you are wrong. He only said it b/c it was trigger for his minions. You prove my point   \n",
       "3     Lied. Read on. The bio is gossipy + scandelous (not pub. in the UK coz of the libel laws, I think). I’m enjoying hating it. The speed of Cruise’s success is crazy. He went from being spotted by an agent in a school play to having a degree of creative control over Top Gun in 6 yrs https://t.co/AjFnrRpHEl   \n",
       "4                                                                                                                                                                                        Biden Gun Control Plan Would ‘Criminalize’ up to 105 Million People: Gun-rights Group https://t.co/82qJ3SRgWa via @epochtimes   \n",
       "\n",
       "   truncated display_text_range  \\\n",
       "0      False           [0, 277]   \n",
       "1      False          [17, 174]   \n",
       "2      False          [20, 291]   \n",
       "3      False           [0, 280]   \n",
       "4      False           [0, 125]   \n",
       "\n",
       "                                                                                 source  \\\n",
       "0               <a href=\"https://mobile.twitter.com\" rel=\"nofollow\">Twitter Web App</a>   \n",
       "1               <a href=\"https://mobile.twitter.com\" rel=\"nofollow\">Twitter Web App</a>   \n",
       "2  <a href=\"http://twitter.com/download/android\" rel=\"nofollow\">Twitter for Android</a>   \n",
       "3    <a href=\"http://twitter.com/download/iphone\" rel=\"nofollow\">Twitter for iPhone</a>   \n",
       "4               <a href=\"https://mobile.twitter.com\" rel=\"nofollow\">Twitter Web App</a>   \n",
       "\n",
       "   in_reply_to_status_id in_reply_to_status_id_str  in_reply_to_user_id  ...  \\\n",
       "0                    NaN                      None                  NaN  ...   \n",
       "1           1.364344e+18       1364344433190334471         3.441358e+09  ...   \n",
       "2           1.364313e+18       1364313067560067072         3.304570e+08  ...   \n",
       "3                    NaN                      None                  NaN  ...   \n",
       "4                    NaN                      None                  NaN  ...   \n",
       "\n",
       "  place.place_type place.name place.full_name place.country_code  \\\n",
       "0              NaN        NaN             NaN                NaN   \n",
       "1              NaN        NaN             NaN                NaN   \n",
       "2              NaN        NaN             NaN                NaN   \n",
       "3              NaN        NaN             NaN                NaN   \n",
       "4              NaN        NaN             NaN                NaN   \n",
       "\n",
       "   place.country place.contained_within  place.bounding_box.type  \\\n",
       "0            NaN                    NaN                      NaN   \n",
       "1            NaN                    NaN                      NaN   \n",
       "2            NaN                    NaN                      NaN   \n",
       "3            NaN                    NaN                      NaN   \n",
       "4            NaN                    NaN                      NaN   \n",
       "\n",
       "   place.bounding_box.coordinates  quoted_status.quoted_status_id  \\\n",
       "0                             NaN                             NaN   \n",
       "1                             NaN                             NaN   \n",
       "2                             NaN                             NaN   \n",
       "3                             NaN                             NaN   \n",
       "4                             NaN                             NaN   \n",
       "\n",
       "   quoted_status.quoted_status_id_str  \n",
       "0                                 NaN  \n",
       "1                                 NaN  \n",
       "2                                 NaN  \n",
       "3                                 NaN  \n",
       "4                                 NaN  \n",
       "\n",
       "[5 rows x 162 columns]"
      ]
     },
     "execution_count": 78,
     "metadata": {},
     "output_type": "execute_result"
    }
   ],
   "source": [
    "df = pd.json_normalize(json_data)\n",
    "df.head()"
   ]
  },
  {
   "cell_type": "markdown",
   "metadata": {},
   "source": [
    "now i will look into the fields of the dataframe"
   ]
  },
  {
   "cell_type": "code",
   "execution_count": 79,
   "metadata": {},
   "outputs": [
    {
     "name": "stdout",
     "output_type": "stream",
     "text": [
      "<class 'pandas.core.frame.DataFrame'>\n",
      "RangeIndex: 134 entries, 0 to 133\n",
      "Data columns (total 162 columns):\n",
      " #   Column                                                 Non-Null Count  Dtype  \n",
      "---  ------                                                 --------------  -----  \n",
      " 0   created_at                                             134 non-null    object \n",
      " 1   id                                                     134 non-null    int64  \n",
      " 2   id_str                                                 134 non-null    object \n",
      " 3   full_text                                              134 non-null    object \n",
      " 4   truncated                                              134 non-null    bool   \n",
      " 5   display_text_range                                     134 non-null    object \n",
      " 6   source                                                 134 non-null    object \n",
      " 7   in_reply_to_status_id                                  58 non-null     float64\n",
      " 8   in_reply_to_status_id_str                              58 non-null     object \n",
      " 9   in_reply_to_user_id                                    62 non-null     float64\n",
      " 10  in_reply_to_user_id_str                                62 non-null     object \n",
      " 11  in_reply_to_screen_name                                62 non-null     object \n",
      " 12  geo                                                    0 non-null      object \n",
      " 13  coordinates                                            0 non-null      object \n",
      " 14  place                                                  0 non-null      float64\n",
      " 15  contributors                                           0 non-null      object \n",
      " 16  is_quote_status                                        134 non-null    bool   \n",
      " 17  retweet_count                                          134 non-null    int64  \n",
      " 18  favorite_count                                         134 non-null    int64  \n",
      " 19  favorited                                              134 non-null    bool   \n",
      " 20  retweeted                                              134 non-null    bool   \n",
      " 21  possibly_sensitive                                     63 non-null     object \n",
      " 22  lang                                                   134 non-null    object \n",
      " 23  entities.hashtags                                      134 non-null    object \n",
      " 24  entities.symbols                                       134 non-null    object \n",
      " 25  entities.user_mentions                                 134 non-null    object \n",
      " 26  entities.urls                                          134 non-null    object \n",
      " 27  entities.media                                         9 non-null      object \n",
      " 28  extended_entities.media                                9 non-null      object \n",
      " 29  metadata.iso_language_code                             134 non-null    object \n",
      " 30  metadata.result_type                                   134 non-null    object \n",
      " 31  user.id                                                134 non-null    int64  \n",
      " 32  user.id_str                                            134 non-null    object \n",
      " 33  user.name                                              134 non-null    object \n",
      " 34  user.screen_name                                       134 non-null    object \n",
      " 35  user.location                                          134 non-null    object \n",
      " 36  user.description                                       134 non-null    object \n",
      " 37  user.url                                               57 non-null     object \n",
      " 38  user.entities.url.urls                                 57 non-null     object \n",
      " 39  user.entities.description.urls                         134 non-null    object \n",
      " 40  user.protected                                         134 non-null    bool   \n",
      " 41  user.followers_count                                   134 non-null    int64  \n",
      " 42  user.friends_count                                     134 non-null    int64  \n",
      " 43  user.listed_count                                      134 non-null    int64  \n",
      " 44  user.created_at                                        134 non-null    object \n",
      " 45  user.favourites_count                                  134 non-null    int64  \n",
      " 46  user.utc_offset                                        0 non-null      object \n",
      " 47  user.time_zone                                         0 non-null      object \n",
      " 48  user.geo_enabled                                       134 non-null    bool   \n",
      " 49  user.verified                                          134 non-null    bool   \n",
      " 50  user.statuses_count                                    134 non-null    int64  \n",
      " 51  user.lang                                              0 non-null      object \n",
      " 52  user.contributors_enabled                              134 non-null    bool   \n",
      " 53  user.is_translator                                     134 non-null    bool   \n",
      " 54  user.is_translation_enabled                            134 non-null    bool   \n",
      " 55  user.profile_background_color                          134 non-null    object \n",
      " 56  user.profile_background_image_url                      96 non-null     object \n",
      " 57  user.profile_background_image_url_https                96 non-null     object \n",
      " 58  user.profile_background_tile                           134 non-null    bool   \n",
      " 59  user.profile_image_url                                 134 non-null    object \n",
      " 60  user.profile_image_url_https                           134 non-null    object \n",
      " 61  user.profile_banner_url                                109 non-null    object \n",
      " 62  user.profile_link_color                                134 non-null    object \n",
      " 63  user.profile_sidebar_border_color                      134 non-null    object \n",
      " 64  user.profile_sidebar_fill_color                        134 non-null    object \n",
      " 65  user.profile_text_color                                134 non-null    object \n",
      " 66  user.profile_use_background_image                      134 non-null    bool   \n",
      " 67  user.has_extended_profile                              134 non-null    bool   \n",
      " 68  user.default_profile                                   134 non-null    bool   \n",
      " 69  user.default_profile_image                             134 non-null    bool   \n",
      " 70  user.following                                         134 non-null    bool   \n",
      " 71  user.follow_request_sent                               134 non-null    bool   \n",
      " 72  user.notifications                                     134 non-null    bool   \n",
      " 73  user.translator_type                                   134 non-null    object \n",
      " 74  quoted_status_id                                       19 non-null     float64\n",
      " 75  quoted_status_id_str                                   19 non-null     object \n",
      " 76  quoted_status.created_at                               19 non-null     object \n",
      " 77  quoted_status.id                                       19 non-null     float64\n",
      " 78  quoted_status.id_str                                   19 non-null     object \n",
      " 79  quoted_status.full_text                                19 non-null     object \n",
      " 80  quoted_status.truncated                                19 non-null     object \n",
      " 81  quoted_status.display_text_range                       19 non-null     object \n",
      " 82  quoted_status.entities.hashtags                        19 non-null     object \n",
      " 83  quoted_status.entities.symbols                         19 non-null     object \n",
      " 84  quoted_status.entities.user_mentions                   19 non-null     object \n",
      " 85  quoted_status.entities.urls                            19 non-null     object \n",
      " 86  quoted_status.entities.media                           9 non-null      object \n",
      " 87  quoted_status.extended_entities.media                  9 non-null      object \n",
      " 88  quoted_status.metadata.iso_language_code               19 non-null     object \n",
      " 89  quoted_status.metadata.result_type                     19 non-null     object \n",
      " 90  quoted_status.source                                   19 non-null     object \n",
      " 91  quoted_status.in_reply_to_status_id                    1 non-null      float64\n",
      " 92  quoted_status.in_reply_to_status_id_str                1 non-null      object \n",
      " 93  quoted_status.in_reply_to_user_id                      1 non-null      float64\n",
      " 94  quoted_status.in_reply_to_user_id_str                  1 non-null      object \n",
      " 95  quoted_status.in_reply_to_screen_name                  1 non-null      object \n",
      " 96  quoted_status.user.id                                  19 non-null     float64\n",
      " 97  quoted_status.user.id_str                              19 non-null     object \n",
      " 98  quoted_status.user.name                                19 non-null     object \n",
      " 99  quoted_status.user.screen_name                         19 non-null     object \n",
      " 100 quoted_status.user.location                            19 non-null     object \n",
      " 101 quoted_status.user.description                         19 non-null     object \n",
      " 102 quoted_status.user.url                                 18 non-null     object \n",
      " 103 quoted_status.user.entities.url.urls                   18 non-null     object \n",
      " 104 quoted_status.user.entities.description.urls           19 non-null     object \n",
      " 105 quoted_status.user.protected                           19 non-null     object \n",
      " 106 quoted_status.user.followers_count                     19 non-null     float64\n",
      " 107 quoted_status.user.friends_count                       19 non-null     float64\n",
      " 108 quoted_status.user.listed_count                        19 non-null     float64\n",
      " 109 quoted_status.user.created_at                          19 non-null     object \n",
      " 110 quoted_status.user.favourites_count                    19 non-null     float64\n",
      " 111 quoted_status.user.utc_offset                          0 non-null      float64\n",
      " 112 quoted_status.user.time_zone                           0 non-null      float64\n",
      " 113 quoted_status.user.geo_enabled                         19 non-null     object \n",
      " 114 quoted_status.user.verified                            19 non-null     object \n",
      " 115 quoted_status.user.statuses_count                      19 non-null     float64\n",
      " 116 quoted_status.user.lang                                0 non-null      float64\n",
      " 117 quoted_status.user.contributors_enabled                19 non-null     object \n",
      " 118 quoted_status.user.is_translator                       19 non-null     object \n",
      " 119 quoted_status.user.is_translation_enabled              19 non-null     object \n",
      " 120 quoted_status.user.profile_background_color            19 non-null     object \n",
      " 121 quoted_status.user.profile_background_image_url        10 non-null     object \n",
      " 122 quoted_status.user.profile_background_image_url_https  10 non-null     object \n",
      " 123 quoted_status.user.profile_background_tile             19 non-null     object \n",
      " 124 quoted_status.user.profile_image_url                   19 non-null     object \n",
      " 125 quoted_status.user.profile_image_url_https             19 non-null     object \n",
      " 126 quoted_status.user.profile_banner_url                  18 non-null     object \n",
      " 127 quoted_status.user.profile_link_color                  19 non-null     object \n",
      " 128 quoted_status.user.profile_sidebar_border_color        19 non-null     object \n",
      " 129 quoted_status.user.profile_sidebar_fill_color          19 non-null     object \n",
      " 130 quoted_status.user.profile_text_color                  19 non-null     object \n",
      " 131 quoted_status.user.profile_use_background_image        19 non-null     object \n",
      " 132 quoted_status.user.has_extended_profile                19 non-null     object \n",
      " 133 quoted_status.user.default_profile                     19 non-null     object \n",
      " 134 quoted_status.user.default_profile_image               19 non-null     object \n",
      " 135 quoted_status.user.following                           19 non-null     object \n",
      " 136 quoted_status.user.follow_request_sent                 19 non-null     object \n",
      " 137 quoted_status.user.notifications                       19 non-null     object \n",
      " 138 quoted_status.user.translator_type                     19 non-null     object \n",
      " 139 quoted_status.geo                                      0 non-null      float64\n",
      " 140 quoted_status.coordinates                              0 non-null      float64\n",
      " 141 quoted_status.place                                    0 non-null      float64\n",
      " 142 quoted_status.contributors                             0 non-null      float64\n",
      " 143 quoted_status.is_quote_status                          19 non-null     object \n",
      " 144 quoted_status.retweet_count                            19 non-null     float64\n",
      " 145 quoted_status.favorite_count                           19 non-null     float64\n",
      " 146 quoted_status.favorited                                19 non-null     object \n",
      " 147 quoted_status.retweeted                                19 non-null     object \n",
      " 148 quoted_status.possibly_sensitive                       14 non-null     object \n",
      " 149 quoted_status.lang                                     19 non-null     object \n",
      " 150 place.id                                               7 non-null      object \n",
      " 151 place.url                                              7 non-null      object \n",
      " 152 place.place_type                                       7 non-null      object \n",
      " 153 place.name                                             7 non-null      object \n",
      " 154 place.full_name                                        7 non-null      object \n",
      " 155 place.country_code                                     7 non-null      object \n",
      " 156 place.country                                          7 non-null      object \n",
      " 157 place.contained_within                                 7 non-null      object \n",
      " 158 place.bounding_box.type                                7 non-null      object \n",
      " 159 place.bounding_box.coordinates                         7 non-null      object \n",
      " 160 quoted_status.quoted_status_id                         1 non-null      float64\n",
      " 161 quoted_status.quoted_status_id_str                     1 non-null      object \n",
      "dtypes: bool(18), float64(23), int64(9), object(112)\n",
      "memory usage: 153.2+ KB\n"
     ]
    }
   ],
   "source": [
    "df.info(verbose=True, null_counts=True)"
   ]
  },
  {
   "cell_type": "markdown",
   "metadata": {},
   "source": [
    "in order to condense the amount of columns/metadata collected for each tweet. here i trim the columns and rename them."
   ]
  },
  {
   "cell_type": "code",
   "execution_count": 80,
   "metadata": {},
   "outputs": [],
   "source": [
    "df = df[['created_at','full_text','user.screen_name','user.profile_image_url_https']]\n",
    "df.columns = ['created_at','text','screen_name','profile_image']"
   ]
  },
  {
   "cell_type": "markdown",
   "metadata": {},
   "source": [
    "here I override the default so that the entire text can be seen in the column"
   ]
  },
  {
   "cell_type": "code",
   "execution_count": 81,
   "metadata": {},
   "outputs": [],
   "source": [
    "pd.set_option('display.max_colwidth', None)"
   ]
  },
  {
   "cell_type": "markdown",
   "metadata": {},
   "source": [
    "now to check I get a sample "
   ]
  },
  {
   "cell_type": "code",
   "execution_count": 82,
   "metadata": {},
   "outputs": [
    {
     "data": {
      "text/html": [
       "<div>\n",
       "<style scoped>\n",
       "    .dataframe tbody tr th:only-of-type {\n",
       "        vertical-align: middle;\n",
       "    }\n",
       "\n",
       "    .dataframe tbody tr th {\n",
       "        vertical-align: top;\n",
       "    }\n",
       "\n",
       "    .dataframe thead th {\n",
       "        text-align: right;\n",
       "    }\n",
       "</style>\n",
       "<table border=\"1\" class=\"dataframe\">\n",
       "  <thead>\n",
       "    <tr style=\"text-align: right;\">\n",
       "      <th></th>\n",
       "      <th>created_at</th>\n",
       "      <th>text</th>\n",
       "      <th>screen_name</th>\n",
       "      <th>profile_image</th>\n",
       "    </tr>\n",
       "  </thead>\n",
       "  <tbody>\n",
       "    <tr>\n",
       "      <th>84</th>\n",
       "      <td>Thu Feb 18 14:00:02 +0000 2021</td>\n",
       "      <td>How Biden could tighten gun control without Congress - Fox News\\nhttps://t.co/CbVUaieuxr</td>\n",
       "      <td>NewsfeedsMedia</td>\n",
       "      <td>https://pbs.twimg.com/profile_images/1007727007520550912/N-2SnA2K_normal.jpg</td>\n",
       "    </tr>\n",
       "    <tr>\n",
       "      <th>47</th>\n",
       "      <td>Sun Feb 21 01:50:51 +0000 2021</td>\n",
       "      <td>https://t.co/srHBbPzVQ4</td>\n",
       "      <td>joesegal</td>\n",
       "      <td>https://pbs.twimg.com/profile_images/1249052499941552128/INJ40i9T_normal.jpg</td>\n",
       "    </tr>\n",
       "    <tr>\n",
       "      <th>116</th>\n",
       "      <td>Wed Feb 17 01:27:50 +0000 2021</td>\n",
       "      <td>Biden Tells Congress To Start Working On Gun Control Legislation https://t.co/hU38P1MQaE via @YouTube</td>\n",
       "      <td>GrammaJammin</td>\n",
       "      <td>https://pbs.twimg.com/profile_images/1347390634345123842/Ushc6I2-_normal.jpg</td>\n",
       "    </tr>\n",
       "    <tr>\n",
       "      <th>64</th>\n",
       "      <td>Sat Feb 20 06:55:54 +0000 2021</td>\n",
       "      <td>gonna go ahead and bet they fixed the issue with gun control https://t.co/ro1b6HS1cQ</td>\n",
       "      <td>unreservist</td>\n",
       "      <td>https://pbs.twimg.com/profile_images/845097288926031872/L6J1cwbi_normal.jpg</td>\n",
       "    </tr>\n",
       "    <tr>\n",
       "      <th>81</th>\n",
       "      <td>Thu Feb 18 16:40:20 +0000 2021</td>\n",
       "      <td>Opinion: The Constitution and Supreme Court set a high bar for gun control https://t.co/MROQpHzzST</td>\n",
       "      <td>SGVTribune</td>\n",
       "      <td>https://pbs.twimg.com/profile_images/817474890945040384/IjagBnXi_normal.jpg</td>\n",
       "    </tr>\n",
       "  </tbody>\n",
       "</table>\n",
       "</div>"
      ],
      "text/plain": [
       "                         created_at  \\\n",
       "84   Thu Feb 18 14:00:02 +0000 2021   \n",
       "47   Sun Feb 21 01:50:51 +0000 2021   \n",
       "116  Wed Feb 17 01:27:50 +0000 2021   \n",
       "64   Sat Feb 20 06:55:54 +0000 2021   \n",
       "81   Thu Feb 18 16:40:20 +0000 2021   \n",
       "\n",
       "                                                                                                      text  \\\n",
       "84                How Biden could tighten gun control without Congress - Fox News\\nhttps://t.co/CbVUaieuxr   \n",
       "47                                                                                 https://t.co/srHBbPzVQ4   \n",
       "116  Biden Tells Congress To Start Working On Gun Control Legislation https://t.co/hU38P1MQaE via @YouTube   \n",
       "64                    gonna go ahead and bet they fixed the issue with gun control https://t.co/ro1b6HS1cQ   \n",
       "81      Opinion: The Constitution and Supreme Court set a high bar for gun control https://t.co/MROQpHzzST   \n",
       "\n",
       "        screen_name  \\\n",
       "84   NewsfeedsMedia   \n",
       "47         joesegal   \n",
       "116    GrammaJammin   \n",
       "64      unreservist   \n",
       "81       SGVTribune   \n",
       "\n",
       "                                                                    profile_image  \n",
       "84   https://pbs.twimg.com/profile_images/1007727007520550912/N-2SnA2K_normal.jpg  \n",
       "47   https://pbs.twimg.com/profile_images/1249052499941552128/INJ40i9T_normal.jpg  \n",
       "116  https://pbs.twimg.com/profile_images/1347390634345123842/Ushc6I2-_normal.jpg  \n",
       "64    https://pbs.twimg.com/profile_images/845097288926031872/L6J1cwbi_normal.jpg  \n",
       "81    https://pbs.twimg.com/profile_images/817474890945040384/IjagBnXi_normal.jpg  "
      ]
     },
     "execution_count": 82,
     "metadata": {},
     "output_type": "execute_result"
    }
   ],
   "source": [
    "df.sample(5)"
   ]
  },
  {
   "cell_type": "markdown",
   "metadata": {},
   "source": [
    "<h5> Word Cloud"
   ]
  },
  {
   "cell_type": "markdown",
   "metadata": {},
   "source": [
    "given that tweets contain emojis and other characters this fuction will clean the tweets using regular expressions"
   ]
  },
  {
   "cell_type": "code",
   "execution_count": 83,
   "metadata": {},
   "outputs": [],
   "source": [
    "def clean_tweet(tweet):\n",
    "    return ' '.join(re.sub(\"(@[A-Za-z0-9]+)|([^0-9A-Za-z \\t])|(\\w+:\\/\\/\\S+)\", \"\", tweet).split())"
   ]
  },
  {
   "cell_type": "markdown",
   "metadata": {},
   "source": [
    "the following is the printed orig. tweet and the cleaned one"
   ]
  },
  {
   "cell_type": "code",
   "execution_count": 84,
   "metadata": {},
   "outputs": [
    {
     "name": "stdout",
     "output_type": "stream",
     "text": [
      "\"The legislation introduced on Tuesday failed to satisfy people on either side of the debate.\n",
      "\n",
      "Groups calling for gun control were disappointed, for instance, that the buyback program will not be mandatory, as was the case in New Zealand.\"\n"
     ]
    },
    {
     "data": {
      "text/plain": [
       "'The legislation introduced on Tuesday failed to satisfy people on either side of the debateGroups calling for gun control were disappointed for instance that the buyback program will not be mandatory as was the case in New Zealand'"
      ]
     },
     "execution_count": 84,
     "metadata": {},
     "output_type": "execute_result"
    }
   ],
   "source": [
    "tweet = df.sample().text.values[0]\n",
    "print(tweet)\n",
    "clean_tweet(tweet)"
   ]
  },
  {
   "cell_type": "markdown",
   "metadata": {},
   "source": [
    "the following adds the clean text into its own column then use a loop to add the clean tweets into it"
   ]
  },
  {
   "cell_type": "code",
   "execution_count": 85,
   "metadata": {},
   "outputs": [],
   "source": [
    "df['clean_text'] = ''"
   ]
  },
  {
   "cell_type": "code",
   "execution_count": 86,
   "metadata": {},
   "outputs": [],
   "source": [
    "for i, row in df.iterrows():\n",
    "    clean = clean_tweet(row.text)\n",
    "    df.at[i,'clean_text'] = clean"
   ]
  },
  {
   "cell_type": "markdown",
   "metadata": {},
   "source": [
    "now I will get a sample to see it the change is made"
   ]
  },
  {
   "cell_type": "code",
   "execution_count": 87,
   "metadata": {},
   "outputs": [
    {
     "data": {
      "text/html": [
       "<div>\n",
       "<style scoped>\n",
       "    .dataframe tbody tr th:only-of-type {\n",
       "        vertical-align: middle;\n",
       "    }\n",
       "\n",
       "    .dataframe tbody tr th {\n",
       "        vertical-align: top;\n",
       "    }\n",
       "\n",
       "    .dataframe thead th {\n",
       "        text-align: right;\n",
       "    }\n",
       "</style>\n",
       "<table border=\"1\" class=\"dataframe\">\n",
       "  <thead>\n",
       "    <tr style=\"text-align: right;\">\n",
       "      <th></th>\n",
       "      <th>text</th>\n",
       "      <th>clean_text</th>\n",
       "    </tr>\n",
       "  </thead>\n",
       "  <tbody>\n",
       "    <tr>\n",
       "      <th>14</th>\n",
       "      <td>The Constitution and Supreme Court set a high bar for gun control https://t.co/Z3a6ABguvJ</td>\n",
       "      <td>The Constitution and Supreme Court set a high bar for gun control</td>\n",
       "    </tr>\n",
       "    <tr>\n",
       "      <th>38</th>\n",
       "      <td>So, three people died over a fight about a gun control law outside a gun store which strongly suggests the law doesn’t go far enough. https://t.co/5PJl9OeZSr</td>\n",
       "      <td>So three people died over a fight about a gun control law outside a gun store which strongly suggests the law doesnt go far enough</td>\n",
       "    </tr>\n",
       "    <tr>\n",
       "      <th>22</th>\n",
       "      <td>If you have 7 minutes to spare on a serious issue, I strongly encourage you to watch this video. \\n\\nJoe Biden Tells Congress To Ban AR-15s and Enact Other Gun Control to De... https://t.co/YHdPson4rV via @YouTube</td>\n",
       "      <td>If you have 7 minutes to spare on a serious issue I strongly encourage you to watch this video Joe Biden Tells Congress To Ban AR15s and Enact Other Gun Control to De via</td>\n",
       "    </tr>\n",
       "    <tr>\n",
       "      <th>121</th>\n",
       "      <td>My only real input to the gun discourse is that this is a really cool piece by a firearm owning Australian, in which a pretty decent model is explained that I think is worth looking at. Not perfect but a good balance of measures.\\n\\nhttps://t.co/pSZFMpVC6e</td>\n",
       "      <td>My only real input to the gun discourse is that this is a really cool piece by a firearm owning Australian in which a pretty decent model is explained that I think is worth looking at Not perfect but a good balance of measures</td>\n",
       "    </tr>\n",
       "    <tr>\n",
       "      <th>7</th>\n",
       "      <td>Banning so-called ‘assault weapons’ will do nothing to end criminal use of firearms | Letters - Chicago Sun-Times https://t.co/BjiS1balAj</td>\n",
       "      <td>Banning socalled assault weapons will do nothing to end criminal use of firearms Letters Chicago SunTimes</td>\n",
       "    </tr>\n",
       "  </tbody>\n",
       "</table>\n",
       "</div>"
      ],
      "text/plain": [
       "                                                                                                                                                                                                                                                                 text  \\\n",
       "14                                                                                                                                                                          The Constitution and Supreme Court set a high bar for gun control https://t.co/Z3a6ABguvJ   \n",
       "38                                                                                                      So, three people died over a fight about a gun control law outside a gun store which strongly suggests the law doesn’t go far enough. https://t.co/5PJl9OeZSr   \n",
       "22                                              If you have 7 minutes to spare on a serious issue, I strongly encourage you to watch this video. \\n\\nJoe Biden Tells Congress To Ban AR-15s and Enact Other Gun Control to De... https://t.co/YHdPson4rV via @YouTube   \n",
       "121  My only real input to the gun discourse is that this is a really cool piece by a firearm owning Australian, in which a pretty decent model is explained that I think is worth looking at. Not perfect but a good balance of measures.\\n\\nhttps://t.co/pSZFMpVC6e   \n",
       "7                                                                                                                           Banning so-called ‘assault weapons’ will do nothing to end criminal use of firearms | Letters - Chicago Sun-Times https://t.co/BjiS1balAj   \n",
       "\n",
       "                                                                                                                                                                                                                             clean_text  \n",
       "14                                                                                                                                                                    The Constitution and Supreme Court set a high bar for gun control  \n",
       "38                                                                                                   So three people died over a fight about a gun control law outside a gun store which strongly suggests the law doesnt go far enough  \n",
       "22                                                           If you have 7 minutes to spare on a serious issue I strongly encourage you to watch this video Joe Biden Tells Congress To Ban AR15s and Enact Other Gun Control to De via  \n",
       "121  My only real input to the gun discourse is that this is a really cool piece by a firearm owning Australian in which a pretty decent model is explained that I think is worth looking at Not perfect but a good balance of measures  \n",
       "7                                                                                                                             Banning socalled assault weapons will do nothing to end criminal use of firearms Letters Chicago SunTimes  "
      ]
     },
     "execution_count": 87,
     "metadata": {},
     "output_type": "execute_result"
    }
   ],
   "source": [
    "df.sample(5)[['text','clean_text']]"
   ]
  },
  {
   "cell_type": "markdown",
   "metadata": {},
   "source": [
    "now that the tweets are clean I will creat a variable that will contain all the tweet words from the dataframe. then i print it to see that the variable contains all the words"
   ]
  },
  {
   "cell_type": "code",
   "execution_count": 88,
   "metadata": {},
   "outputs": [
    {
     "data": {
      "text/plain": [
       "'Comments Air Brigadier General Robert Spalding Biden following CCP agenda Snopes made by Soros to serve left Lifesites Covid19 conference Vatican leads the way in vaccine tyranny A little history on gun control amp oppressive governments trolling certainly makes David Hoggs evolution from gun control now to Im making a liberal pillow company to own the conservative pillow guy more understandable Gun control and gun rights are different things One does not negate the other Sensible gun laws help soceity Dont worry Charelton Heston If you are intimating Trump was for guns you are wrong He only said it bc it was trigger for his minions You prove my point Lied Read on The bio is gossipy scandelous not pub in the UK coz of the libel laws I think Im enjoying hating it The speed of Cruises success is crazy He went from being spotted by an agent in a school play to having a degree of creative control over Top Gun in 6 yrs Biden Gun Control Plan Would Criminalize up to 105 Million People Gunrights Group via Basically gun control no cop control yes In high school I wrote an oped for the LA Times high school thing and I wrote about how historically gun control has been used to get poc in jail and how we should focus on getting rid of cops instead the liberals were seething Banning socalled assault weapons will do nothing to end criminal use of firearms Letters Chicago SunTimes Not completely true cartels have been working with the Middle East for years smuggling guns into the US using cartels and their Narco routes The only thing gun control does is control law abiding citizens kind of like these lockdowns and closed businesses you know i will never forgive the internet for demonizing emma gonzalez david hogg and so many other teenagers who survived mass shootings because they understandably pushed for gun control so backwards My brains ability to ward off my anxiety is so bad it was formerly known as gun control but now its going by capitol security for some reason Well I guess the old NRA defense that you need a good guy with a gun to stop shootings just got murdered A store full of armed employees couldnt stop a single man from killing two people and injuring another two Imagine a school workplace or church More gun control now The only gun control I support is making accessories use flathead screws The issue involving gun control remains politically divisiveResearch by Profs Poliquin luca amp Malhotra shows that GOP legislatures often made firearm laws looser after infamous events amp mass shootings The Constitution and Supreme Court set a high bar for gun control talon underground Idk maybe just the massive problem America has with fun violence and mass shootings Are you just playing dumb or do you legit not know why people want gun control MSCHF mounted a remotecontrol paintball gun to Spot Montana and Utah republicans pushed and just passed laws specifically allowing people to carry weapons into their Capitol building Whether you support or oppose gun control what the hell is the purpose of that Insane Showdown Looms As Dems Gun Control Agenda Likely To Meet Stiff Opposition From Nations Sheriffs Who Say They Will Not Enforce Unconstitutional Laws NO GUN CONTROL WORSTPRESIDENTEVER I have hearing loss from early rock shows but thats outside government control A suppressor costs 500 at the low end Foam ear plugs are 5 Neither will bring back loss Owning disputed gun accessories is about nothing but expressing power No one needs them Except we can stop people who shouldnt own guns from being able to attain them before they use it criminally So just because we cant control knife violence we should do nothing to control gun violence even though we have the power to Thats the worst argument Ive ever heard If you have 7 minutes to spare on a serious issue I strongly encourage you to watch this video Joe Biden Tells Congress To Ban AR15s and Enact Other Gun Control to De via Show87 Um reread my tweet There is a difference There should be no gun control I have a DdForm214 AND worked munitions I can spell it out for you I disagree with you AND I have a DDform214 since that was your prerequisite to the argumentsooooo America needs gun control so bad bruh why are yall waiting for the next largescale event to speak up about it You do know its the left who love school shootings right As soon as one happens they use it to propel their gun control agenda talon underground Your interpretation of the constitution is not the law of the land The second amendment does not say gun control is unconstitutional So military members are well within their oath of service to support gun control We could just let the red states have their own country If they want a lowregulations superfreemarket guncarrying Jesusloving nofednohomo griftistocracy where policy is irrelevant let them We could then have gun control healthcare work on climate change etc Yea gun control so we cant defend ourselves against idiots like this It was Texas that separated from the National grid And didnt bother to maintain their own systems Texas honestly I cant really feel sorry for They always acted lone against everyone on gun control and mamy policies Let them learn now If mass shootings start happening at gun stores instead of schools well probably have some reasonable gun control licketysplit dont you think Heres the latest PSA for GUN CONTROL GunControlNow The way she has her guns arranged behind her speaks volumes for gun control There is no respect for the weapons in that photo She needs a few classes on gun safety She just looks like a sad woman terrified of the world talon underground Are you suggesting that the military should take violent action on politicians who seen to pass gun control Just so were clear about what youre saying That too But a tweet is only so long so I couldnt mention everything We had just fought off the British army so it makes sense that youd want guns at that time But now the UK has some of the strictest gun control laws amp the least gun violence so maybe we should take note Well he is representing his constituents not you I hate that he voted for Trumps judges amp sides with Republicans on abortion amp gun control but he also voted to save the ACA Planned Parenthood funding amp against the 2017 Republican Tax Plan Hes far better than a Republican Are your personal experiences the same as everyone elses NO thats a stupid question But the obvious thing is The less guns there are out there the less death will happen from them We need to crack down on illegal guns also The UK has less gun violence bc of gun control We believe in gun control we arent trying to take away all your fucking guns But people with mental illness and criminals shouldnt have guns Just like people who have multiple DUIs shouldnt have their license Thats a better comparison You are so obsessed with guns So three people died over a fight about a gun control law outside a gun store which strongly suggests the law doesnt go far enough And regardless of whether everyone advocating for stricter gun control knows the origins of what AR stands for a lot of people have a decent general sense of what those guns are capable of Thats what matters How come when somebody shoots the computer or control panel it instantly blows up the gun or whatever weapon of mass destruction Liberal Supporting Joe Bidens Gun Control Responds To My Video Heres My Response Before we officially get out of this pandemic can we please do something about gun control Because we really should understand how precious life is after the last year at the least My god But idiot Biden is for gun control WORSTPRESIDENTEVER Okay We know good guys with guns stop shootings and there were plenty of guns around Does that mean there just werent any good guys Help Im starting to think we may need gun control Gun control gn yes that how it happened the bad guy was still taken down simple as that no amount of gun control wouldve stopped this The only ever way to stop criminals from obtaining firearms is to live in a fantasy where guns never existed  A nuanced thread on gun control from a person with relevant experience talon underground So you admit that banning openclosed carry is not gun control Someone should let the NRA know Really Im for gun control and I know it stands for ArmaLite Just because we are for gun control doesnt mean we dont know about gunsmaybe its because we know about guns that we WANT sensible gun control laws no talon underground Actually it started with cowboys The movie Tombstone is literally about gun control no guns in town Good point we need gun control measures for both Well Armagonna have to slap you with some gun control Klannie Oakley I know what AR stands forI own and will continue to own gunsI stand for gun control I also know what LB stands for and Im sad that the people of Colorado voted for a vapid hateful anti intellectual loudmouth Gun Control Does NOT WORK Prohibition Has FAILED Every Time It Has Been via The people who think we need no gun control are the same people who are stupid SJPeace Do you also shush gun control activists after a school shootingAlways the right space to call out root causes Hey I know AR stands for ArmaLite Rifle and I STILL believe we need more better and more vociferously enforced gun control Absolute no brainer just like gun control America needs to step up They didnt say prohibit guns They said gun control dumbass Im for gun control and I served in the Army for 10 years I know EXACTLY that AR stands for Armalite Rifle the company that designed the M16 and AR15 platform FOR THE MILITARY and NOT for civilian use Your strawman argument is LAME and your trolling WEAK Father of Parkland victim slams Bidens latest gun controlmeasures Heres my theory Theyre going to create a psyop or a type of logical regulation for gun control in the name of safety and CONDITION you to accept it but they scam and fool you into giving up your guns so that you cant fight back against tyranny WakeUp WeThePeople gonna go ahead and bet they fixed the issue with gun control Why are you people so fucking obsessed with guns I dont get it Ive never owned a gun I never will Ive NEVER needed a gun I doubt I ever will Id much rather have free healthcare than a fucking gun amp I want gun control to protect children in schools Whos the hateful one This is easier than gun control How WANT to stop Drunk Drivers from killing Sober Drivers Ban Sober Drivers from driving Thats how Gun Control works VoteDemsOut Impeach46 Joe Biden Tells Congress To Ban AR15s and Enact Other Gun Control to Destroy the Gun Industry HR127 These Gun Control Bills are NOT About Savings Lives Theyre about Money Power amp Control Sheila Jackson Lees gun control plan is disgusting West America Bank has officially started cancelling every gun store and FFL who has an account with them Per KXEXAM and the Guillermo Moreno Show The Biden gun control crap Part 2 has startedWe warned you peopleGUN BidenLied Parkland gun control group breaks with Hogg over pillow venture We in states with stricter gun control do not want that That is why we have stricter gun control guttenberg I did read it and I had sympathy until she turned it into an illogical gun control tirade She writes Approximately 40000 people per year lose their life to gun violence and refers to banning weapons of war ie AR15s Yet the gun she wants to ban kills less than 200 Father of Parkland Victim Slams Biden for Taking Advantage of Anniversary of Shooting to Push Gun Control via As soon as I saw this I thought WHY WOULD YOU DO THIS INSTEAD OF JUST ENACTING STRICTER GUN CONTROL But I know the answer Its capitalismAlso this design is sizeist and ableist as hell Another sensible gun control solution offer large rewards for illegal firearms If your illegal 100 high point is suddenly worth 5000 if you turn it in to the police Are you goinna resell it to your homie for 500 or take the police reward no questions asked I dunno man bringing up one shooting since their ban as proof that gun control is a total failure when that body count is lower than a slow news day here in the States is a pretty massive selfown Last year an average of 36 people were shot in LA per day This year the average is 5 Shootings are out of control and a neverending flow of untraceable firearms that get into the hands of felons amp gang members makes solving these crimes tougher These issuespolice reform voting rights HR 1 gun controlwill all stay secondary during COVID amp likely 2nd reconciliation for multitrillion Biden recovery plan But eventually by fall the Senate blockade will grow impossible to ignore What will BidenSchumer do then Opinion The Constitution and Supreme Court set a high bar for gun control Wow yeah I dont think Ive ever seen an unemploymentbased argument AGAINST gun control but I guess theyre running out of good excuses for dead kids WORSTPRESIDENTEVER How Biden could tighten gun control without Congress Fox News HR 127 is a gun control bill and HR 350 is umThis bill amends the Clean Air Act to allow the modification of a vehicles air emission controls if the vehicle is used solely for competitionExtreme left indeed Love that is pushin for bold legislation but frankly gun control laws amp immigration reform shouldnt be the first actions to take We STILL have not gotten a new relief package passed and the CURRENT pandemic proves we need systemic healthcare reform Now If kindergartners get murdered in Sandy Hook didnt prompt gun control m not sure ORAND HEAR ME OUTWE HAVE GUN CONTROL Rush Limbaugh helped create todays polarized America by normalizing racism bigotry misogyny amp mockery tweeted Shannon Watts founder of gun control group Moms Demand ActionHe was a demagogue who got rich off of hate speech division lies and toxicity Thats his legacy Biden wont rule out gun control via executive order via Then lets look at the science of gun violence in schools Science not the NRA should guide the timetable for gun control Biden Administration Meets With Gun Control Groups HERE WE GO Biden Calls Congress To Pass Gun Control Apple instituted emoji gun control a few updates ago Now we get bearded women emojis that look like Jesus Inclusion for 04 percent at the expense of Democratic 2022 control of the House and Senate Better reform healthcare The prices are killing me America will do literally anything else but gun control lmao this is pathetic Instead of saying hey maybe we shouldnt give you a gun Theyd rather tell kids heres this in case you get shot Good luck I hate it here The legislation introduced on Tuesday failed to satisfy people on either side of the debateGroups calling for gun control were disappointed for instance that the buyback program will not be mandatory as was the case in New Zealand POLITICO Playbook PM White House gives mixed messages on gun control Politico Take guns out of the hands of liberals take their typewriters and their keyboards away from em dont let em anywhere near a gun and control their speech You would wipe out 90 of the crime 85 to 95 of the hate and a hundred percent of the lies from society1115 not jealous more like frustrated and horrified with our lack of gun control legislation e True but the NRA is on the ropes and slowly Americans are moving toward more sensible gun control Biden really might be the man who can make it happen Anyone saying that we shouldnt make this situation political right now are the same kind of rubes who think we cant talk about gun control when theres a school shooting America need to follow s new gun control measures You can also place commonsense gun control legislation inside the desk where nothing can harm it as its carried to the Senate to become law amp save lives Biden Could Sign Another Executive Order This Time It Would Be on Gun Control Biden Demands Gun Control NOW Amid INSANE HR 127 Bill Democrats Are Wasting NO TIME via The first gun control laws implemented by the Democrat Party were to keep freed black slaves disarmed Today the same gun controls implemented by the Democrat Party are to keep blacks disarmed Gun control Nah Lets just create mini panic room desks for all the kids instead Cant wait to see where schools find the funding in their already sparse budgets for these I choose gun control This isnt how you preventschoolshootings GUN REGULATION AND GUN CONTROL is how you prevent school shootings twink i Bidens part of the crime bill was The Violence Against Women Act amp gun control measures It had strong support from all political spectrum including black community leaders amp a democratic socialist Violent crime dropped 46 in the following decade after its passage Biden Tells Congress To Start Working On Gun Control Legislation President Joe Biden told Congress to get busy on gun reform legislation over the weekend as the country marked the grim anniversary of the Parkland t So pick a side Trump or a bunch of people who helped Republicans give tax cuts to the rich opposed gun control amp womens choice and helped voter suppression efforts My side is Democrats I appreciated your antiTrump efforts but have a longer memory Gulags gt Gun Control Guess this is one way to goWe could do what other countries have done Pass sensible gun control lawsArming teachers bullet proof backpacks metal detectors police in schools and stuff like this is preferable to a large number of people We could also just realize that blue America and red America both want totally different Americas and split up We can have fair elections diversity healthcare and gun control they can have low taxes shitty services Jesus in government and closed borders Biden Tells Congress To Start Working On Gun Control Legislation via Two teenagers tried to steal a car at gunpoint on a residential block here in Burbank A neighbor came to the rescue firing their own weaponWe can talk about shootouts in the street and gun control all day AND SHOULDBut we need to address the economic desperation of 2021 Thats what frustrating to me Ratchet and Clank is not and has never been politically heavy handed And it shouldnt be Transgender topics shouldnt be put in kids games same as topics on any form of politics Whether thats gun rightscontrol race etc Conservatives blaming renewable energy for the catastrophes caused by climate change seems weird until you remember that they also blame school shootings on gun control Based as usual My only addendum to this would be that more comprehensive regulation should be a cared about issue certainly in the US but Im sure u agree Heres a gun owning Australians description of what they do a pretty interesting model My only real input to the gun discourse is that this is a really cool piece by a firearm owning Australian in which a pretty decent model is explained that I think is worth looking at Not perfect but a good balance of measures This woman wants more school shootings more night club shootings more concert shootings GOPGrimReaper GunsAreMoreImportantThanKids Biden Demands Gun Control NOW Amid INSANE HR 127 Bill Democrats Are Was via Sensible gun control is a bipartisan issue and universal background checks is sensible Gun control this gun control that why dont you figure out how to control your flow of bitches Hey Should we talk about more comprehensive gun control so we dont have school shootingsNaw Lets just have a school desk that turns into a metal box Why did we get stuck with this illegitimate man thats in office Psaki Gun control a priority Biden not afraid of standing up to the NRA Fox News he has the super majority but they wont address gun control because fill in your answer here Psaki Gun control a priority Biden not afraid of standing up to the NRA Fox News Yeah it feels weird when other libsocs argue against gun control in context of an armed revolution That would vary greatly depending on where we are talking about Syria Sure it would The US not so much Although the primary issue with guns in the US is gun culture imo The ambitious agenda is just another plan Biden and the Democrats are working to take away our rightsWe have to fight back their agenda Havent you learned that citing facts only makes Republicans angry If you want them on your side keep moving more income amp wealth to the top while you holler about abortion amp gun control WORST PRESIDENT EVER'"
      ]
     },
     "execution_count": 88,
     "metadata": {},
     "output_type": "execute_result"
    }
   ],
   "source": [
    "all_text = ' '.join(df['clean_text'])\n",
    "all_text"
   ]
  },
  {
   "cell_type": "markdown",
   "metadata": {},
   "source": [
    "nowing that the word cloud library has stop words to help take out filler words from my word cloud (ex:the). I will add my search word to a new list variable that will contain the library's stop words and any I want added to it and not in my cloud. "
   ]
  },
  {
   "cell_type": "code",
   "execution_count": 89,
   "metadata": {},
   "outputs": [],
   "source": [
    "stop_words = ['gun'] + ['control']+['thats'] +['will'] +['via']+['guns']+ list(STOPWORDS)"
   ]
  },
  {
   "cell_type": "markdown",
   "metadata": {},
   "source": [
    "now I will feed it through the word cloud factory to generate the visualization "
   ]
  },
  {
   "cell_type": "code",
   "execution_count": 90,
   "metadata": {},
   "outputs": [
    {
     "data": {
      "image/png": "[encoded data removed]",
      "text/plain": [
       "<Figure size 864x864 with 1 Axes>"
      ]
     },
     "metadata": {
      "needs_background": "light"
     },
     "output_type": "display_data"
    }
   ],
   "source": [
    "wordcloud = WordCloud(width=1200, \n",
    "                      height=800,\n",
    "                      background_color=\"white\",\n",
    "                      stopwords=stop_words).generate(all_text)\n",
    "\n",
    "# Display the WordCloud                    \n",
    "plt.figure(figsize=(12,12))\n",
    "plt.imshow(wordcloud, interpolation=\"bilinear\")\n",
    "plt.axis(\"off\")\n",
    "plt.show()"
   ]
  },
  {
   "cell_type": "markdown",
   "metadata": {},
   "source": [
    "This word cloud demonstrates a lot that is going on right now with gun coltrol. Specifically with the plans Biden has on the topic of gun control, and as a result of this, there is currently a strong discussion which was interesting given it is a reflection of current politics. I removed a series of words I did not want included in order to clear up the visual. I can notice the mention of laws on the mater some, that i had noticed when looking at the samples expressed the need or distaste of further regulation on guns. The word shouldn't made it to the word cloud but that can go both way of pro or anti gun control. The is a call to knowledge and common sense as well. I am however left wondering the purpose and repetitiveness of amp but I believe it can relate to the phrase amp up, possibly."
   ]
  },
  {
   "cell_type": "markdown",
   "metadata": {},
   "source": [
    "<h5> Sentiment Analysis Bar Chart"
   ]
  },
  {
   "cell_type": "markdown",
   "metadata": {},
   "source": [
    "i am going to add a new column specifically for the polarity value of the tweets"
   ]
  },
  {
   "cell_type": "code",
   "execution_count": 91,
   "metadata": {},
   "outputs": [],
   "source": [
    "df['polarity']=''"
   ]
  },
  {
   "cell_type": "markdown",
   "metadata": {},
   "source": [
    "using a for loop I am going to go through every tween and add to the column its polarity value"
   ]
  },
  {
   "cell_type": "code",
   "execution_count": 92,
   "metadata": {},
   "outputs": [],
   "source": [
    "for i, row in df.iterrows():\n",
    "    a = TextBlob(row.clean_text)\n",
    "    df.at[i,'polarity'] = a.polarity"
   ]
  },
  {
   "cell_type": "markdown",
   "metadata": {},
   "source": [
    "now to check that it happened I am going to get a sample of the last two colums (the clean tweet and the polarity column)"
   ]
  },
  {
   "cell_type": "code",
   "execution_count": 93,
   "metadata": {},
   "outputs": [
    {
     "data": {
      "text/html": [
       "<div>\n",
       "<style scoped>\n",
       "    .dataframe tbody tr th:only-of-type {\n",
       "        vertical-align: middle;\n",
       "    }\n",
       "\n",
       "    .dataframe tbody tr th {\n",
       "        vertical-align: top;\n",
       "    }\n",
       "\n",
       "    .dataframe thead th {\n",
       "        text-align: right;\n",
       "    }\n",
       "</style>\n",
       "<table border=\"1\" class=\"dataframe\">\n",
       "  <thead>\n",
       "    <tr style=\"text-align: right;\">\n",
       "      <th></th>\n",
       "      <th>clean_text</th>\n",
       "      <th>polarity</th>\n",
       "    </tr>\n",
       "  </thead>\n",
       "  <tbody>\n",
       "    <tr>\n",
       "      <th>35</th>\n",
       "      <td>Well he is representing his constituents not you I hate that he voted for Trumps judges amp sides with Republicans on abortion amp gun control but he also voted to save the ACA Planned Parenthood funding amp against the 2017 Republican Tax Plan Hes far better than a Republican</td>\n",
       "      <td>-0.0666667</td>\n",
       "    </tr>\n",
       "    <tr>\n",
       "      <th>20</th>\n",
       "      <td>I have hearing loss from early rock shows but thats outside government control A suppressor costs 500 at the low end Foam ear plugs are 5 Neither will bring back loss Owning disputed gun accessories is about nothing but expressing power No one needs them</td>\n",
       "      <td>0.025</td>\n",
       "    </tr>\n",
       "    <tr>\n",
       "      <th>87</th>\n",
       "      <td>If kindergartners get murdered in Sandy Hook didnt prompt gun control m not sure</td>\n",
       "      <td>-0.25</td>\n",
       "    </tr>\n",
       "    <tr>\n",
       "      <th>16</th>\n",
       "      <td>MSCHF mounted a remotecontrol paintball gun to Spot</td>\n",
       "      <td>0</td>\n",
       "    </tr>\n",
       "    <tr>\n",
       "      <th>79</th>\n",
       "      <td>Last year an average of 36 people were shot in LA per day This year the average is 5 Shootings are out of control and a neverending flow of untraceable firearms that get into the hands of felons amp gang members makes solving these crimes tougher</td>\n",
       "      <td>-0.15</td>\n",
       "    </tr>\n",
       "  </tbody>\n",
       "</table>\n",
       "</div>"
      ],
      "text/plain": [
       "                                                                                                                                                                                                                                                                               clean_text  \\\n",
       "35  Well he is representing his constituents not you I hate that he voted for Trumps judges amp sides with Republicans on abortion amp gun control but he also voted to save the ACA Planned Parenthood funding amp against the 2017 Republican Tax Plan Hes far better than a Republican   \n",
       "20                         I have hearing loss from early rock shows but thats outside government control A suppressor costs 500 at the low end Foam ear plugs are 5 Neither will bring back loss Owning disputed gun accessories is about nothing but expressing power No one needs them   \n",
       "87                                                                                                                                                                                                       If kindergartners get murdered in Sandy Hook didnt prompt gun control m not sure   \n",
       "16                                                                                                                                                                                                                                    MSCHF mounted a remotecontrol paintball gun to Spot   \n",
       "79                                 Last year an average of 36 people were shot in LA per day This year the average is 5 Shootings are out of control and a neverending flow of untraceable firearms that get into the hands of felons amp gang members makes solving these crimes tougher   \n",
       "\n",
       "     polarity  \n",
       "35 -0.0666667  \n",
       "20      0.025  \n",
       "87      -0.25  \n",
       "16          0  \n",
       "79      -0.15  "
      ]
     },
     "execution_count": 93,
     "metadata": {},
     "output_type": "execute_result"
    }
   ],
   "source": [
    "df[['clean_text','polarity']].sample(5)"
   ]
  },
  {
   "cell_type": "markdown",
   "metadata": {},
   "source": [
    "I am now going to assign polarity values positive and negative sentiments, respectively. I will first to create the condition as to what each value would be considered later(on a scale of very neg. to very pos.). then I create a list of values that will be assigned to each condition. Finally, i create the column that will hold each tweets value. the np.select allows me to assign using the list as arguments."
   ]
  },
  {
   "cell_type": "code",
   "execution_count": 94,
   "metadata": {},
   "outputs": [],
   "source": [
    "conditions = [\n",
    "    (df['polarity'] < -0.2),\n",
    "    (df['polarity'] < 0) & (df['polarity'] >= -0.2),\n",
    "    (df['polarity'] == 0),\n",
    "    (df['polarity'] > 0) & (df['polarity'] <= 0.2),\n",
    "    (df['polarity'] > 0.2)\n",
    "    ]\n",
    "\n",
    "values = [\n",
    "    'very negative', \n",
    "    'negative', \n",
    "    'neutral', \n",
    "    'positive',\n",
    "    'very positive'\n",
    "    ]\n",
    "\n",
    "df['sentiment'] = np.select(conditions, values)"
   ]
  },
  {
   "cell_type": "markdown",
   "metadata": {},
   "source": [
    "to check if its updated again I use the sample command again"
   ]
  },
  {
   "cell_type": "code",
   "execution_count": 95,
   "metadata": {},
   "outputs": [
    {
     "data": {
      "text/html": [
       "<div>\n",
       "<style scoped>\n",
       "    .dataframe tbody tr th:only-of-type {\n",
       "        vertical-align: middle;\n",
       "    }\n",
       "\n",
       "    .dataframe tbody tr th {\n",
       "        vertical-align: top;\n",
       "    }\n",
       "\n",
       "    .dataframe thead th {\n",
       "        text-align: right;\n",
       "    }\n",
       "</style>\n",
       "<table border=\"1\" class=\"dataframe\">\n",
       "  <thead>\n",
       "    <tr style=\"text-align: right;\">\n",
       "      <th></th>\n",
       "      <th>clean_text</th>\n",
       "      <th>polarity</th>\n",
       "      <th>sentiment</th>\n",
       "    </tr>\n",
       "  </thead>\n",
       "  <tbody>\n",
       "    <tr>\n",
       "      <th>63</th>\n",
       "      <td>Heres my theory Theyre going to create a psyop or a type of logical regulation for gun control in the name of safety and CONDITION you to accept it but they scam and fool you into giving up your guns so that you cant fight back against tyranny WakeUp WeThePeople</td>\n",
       "      <td>0.125</td>\n",
       "      <td>positive</td>\n",
       "    </tr>\n",
       "    <tr>\n",
       "      <th>131</th>\n",
       "      <td>The ambitious agenda is just another plan Biden and the Democrats are working to take away our rightsWe have to fight back their agenda</td>\n",
       "      <td>0.125</td>\n",
       "      <td>positive</td>\n",
       "    </tr>\n",
       "    <tr>\n",
       "      <th>84</th>\n",
       "      <td>How Biden could tighten gun control without Congress Fox News</td>\n",
       "      <td>0</td>\n",
       "      <td>neutral</td>\n",
       "    </tr>\n",
       "    <tr>\n",
       "      <th>1</th>\n",
       "      <td>trolling certainly makes David Hoggs evolution from gun control now to Im making a liberal pillow company to own the conservative pillow guy more understandable</td>\n",
       "      <td>0.438095</td>\n",
       "      <td>very positive</td>\n",
       "    </tr>\n",
       "    <tr>\n",
       "      <th>6</th>\n",
       "      <td>In high school I wrote an oped for the LA Times high school thing and I wrote about how historically gun control has been used to get poc in jail and how we should focus on getting rid of cops instead the liberals were seething</td>\n",
       "      <td>0.055</td>\n",
       "      <td>positive</td>\n",
       "    </tr>\n",
       "  </tbody>\n",
       "</table>\n",
       "</div>"
      ],
      "text/plain": [
       "                                                                                                                                                                                                                                                                 clean_text  \\\n",
       "63   Heres my theory Theyre going to create a psyop or a type of logical regulation for gun control in the name of safety and CONDITION you to accept it but they scam and fool you into giving up your guns so that you cant fight back against tyranny WakeUp WeThePeople   \n",
       "131                                                                                                                                 The ambitious agenda is just another plan Biden and the Democrats are working to take away our rightsWe have to fight back their agenda   \n",
       "84                                                                                                                                                                                                            How Biden could tighten gun control without Congress Fox News   \n",
       "1                                                                                                          trolling certainly makes David Hoggs evolution from gun control now to Im making a liberal pillow company to own the conservative pillow guy more understandable   \n",
       "6                                       In high school I wrote an oped for the LA Times high school thing and I wrote about how historically gun control has been used to get poc in jail and how we should focus on getting rid of cops instead the liberals were seething   \n",
       "\n",
       "     polarity      sentiment  \n",
       "63      0.125       positive  \n",
       "131     0.125       positive  \n",
       "84          0        neutral  \n",
       "1    0.438095  very positive  \n",
       "6       0.055       positive  "
      ]
     },
     "execution_count": 95,
     "metadata": {},
     "output_type": "execute_result"
    }
   ],
   "source": [
    "df.sample(5)[['clean_text','polarity','sentiment']]"
   ]
  },
  {
   "cell_type": "markdown",
   "metadata": {},
   "source": [
    "here I am selecting 5 colors for each sentiment in my chart"
   ]
  },
  {
   "cell_type": "code",
   "execution_count": 96,
   "metadata": {},
   "outputs": [],
   "source": [
    "sentiment_colors = ox.plot.get_colors(5, cmap='PiYG', return_hex = True)"
   ]
  },
  {
   "cell_type": "markdown",
   "metadata": {},
   "source": [
    "now I create the bar chart and add the needed argument as to how I want it built/organized"
   ]
  },
  {
   "cell_type": "code",
   "execution_count": 97,
   "metadata": {},
   "outputs": [
    {
     "data": {
      "application/vnd.plotly.v1+json": {
       "config": {
        "plotlyServerURL": "https://plot.ly"
       },
       "data": [
        {
         "alignmentgroup": "True",
         "hovertemplate": "sentiment=%{x}<br>count=%{y}<extra></extra>",
         "legendgroup": "very negative",
         "marker": {
          "color": "#8e0152",
          "line": {
           "width": 0
          }
         },
         "name": "very negative",
         "offsetgroup": "very negative",
         "orientation": "v",
         "showlegend": true,
         "textposition": "auto",
         "type": "bar",
         "x": [
          "very negative",
          "very negative",
          "very negative",
          "very negative",
          "very negative",
          "very negative",
          "very negative",
          "very negative",
          "very negative",
          "very negative",
          "very negative",
          "very negative",
          "very negative",
          "very negative",
          "very negative",
          "very negative",
          "very negative",
          "very negative",
          "very negative",
          "very negative",
          "very negative",
          "very negative",
          "very negative",
          "very negative"
         ],
         "xaxis": "x",
         "y": [
          1,
          1,
          1,
          1,
          1,
          1,
          1,
          1,
          1,
          1,
          1,
          1,
          1,
          1,
          1,
          1,
          1,
          1,
          1,
          1,
          1,
          1,
          1,
          1
         ],
         "yaxis": "y"
        },
        {
         "alignmentgroup": "True",
         "hovertemplate": "sentiment=%{x}<br>count=%{y}<extra></extra>",
         "legendgroup": "negative",
         "marker": {
          "color": "#e897c4",
          "line": {
           "width": 0
          }
         },
         "name": "negative",
         "offsetgroup": "negative",
         "orientation": "v",
         "showlegend": true,
         "textposition": "auto",
         "type": "bar",
         "x": [
          "negative",
          "negative",
          "negative",
          "negative",
          "negative",
          "negative",
          "negative",
          "negative",
          "negative",
          "negative",
          "negative",
          "negative",
          "negative",
          "negative",
          "negative",
          "negative",
          "negative",
          "negative",
          "negative",
          "negative",
          "negative",
          "negative",
          "negative",
          "negative",
          "negative"
         ],
         "xaxis": "x",
         "y": [
          1,
          1,
          1,
          1,
          1,
          1,
          1,
          1,
          1,
          1,
          1,
          1,
          1,
          1,
          1,
          1,
          1,
          1,
          1,
          1,
          1,
          1,
          1,
          1,
          1
         ],
         "yaxis": "y"
        },
        {
         "alignmentgroup": "True",
         "hovertemplate": "sentiment=%{x}<br>count=%{y}<extra></extra>",
         "legendgroup": "neutral",
         "marker": {
          "color": "#f7f7f6",
          "line": {
           "width": 0
          }
         },
         "name": "neutral",
         "offsetgroup": "neutral",
         "orientation": "v",
         "showlegend": true,
         "textposition": "auto",
         "type": "bar",
         "x": [
          "neutral",
          "neutral",
          "neutral",
          "neutral",
          "neutral",
          "neutral",
          "neutral",
          "neutral",
          "neutral",
          "neutral",
          "neutral",
          "neutral",
          "neutral",
          "neutral",
          "neutral",
          "neutral",
          "neutral",
          "neutral",
          "neutral",
          "neutral",
          "neutral",
          "neutral",
          "neutral",
          "neutral",
          "neutral",
          "neutral",
          "neutral",
          "neutral",
          "neutral",
          "neutral",
          "neutral",
          "neutral",
          "neutral",
          "neutral",
          "neutral"
         ],
         "xaxis": "x",
         "y": [
          1,
          1,
          1,
          1,
          1,
          1,
          1,
          1,
          1,
          1,
          1,
          1,
          1,
          1,
          1,
          1,
          1,
          1,
          1,
          1,
          1,
          1,
          1,
          1,
          1,
          1,
          1,
          1,
          1,
          1,
          1,
          1,
          1,
          1,
          1
         ],
         "yaxis": "y"
        },
        {
         "alignmentgroup": "True",
         "hovertemplate": "sentiment=%{x}<br>count=%{y}<extra></extra>",
         "legendgroup": "positive",
         "marker": {
          "color": "#9acd61",
          "line": {
           "width": 0
          }
         },
         "name": "positive",
         "offsetgroup": "positive",
         "orientation": "v",
         "showlegend": true,
         "textposition": "auto",
         "type": "bar",
         "x": [
          "positive",
          "positive",
          "positive",
          "positive",
          "positive",
          "positive",
          "positive",
          "positive",
          "positive",
          "positive",
          "positive",
          "positive",
          "positive",
          "positive",
          "positive",
          "positive",
          "positive",
          "positive",
          "positive",
          "positive",
          "positive",
          "positive",
          "positive",
          "positive",
          "positive",
          "positive"
         ],
         "xaxis": "x",
         "y": [
          1,
          1,
          1,
          1,
          1,
          1,
          1,
          1,
          1,
          1,
          1,
          1,
          1,
          1,
          1,
          1,
          1,
          1,
          1,
          1,
          1,
          1,
          1,
          1,
          1,
          1
         ],
         "yaxis": "y"
        },
        {
         "alignmentgroup": "True",
         "hovertemplate": "sentiment=%{x}<br>count=%{y}<extra></extra>",
         "legendgroup": "very positive",
         "marker": {
          "color": "#276419",
          "line": {
           "width": 0
          }
         },
         "name": "very positive",
         "offsetgroup": "very positive",
         "orientation": "v",
         "showlegend": true,
         "textposition": "auto",
         "type": "bar",
         "x": [
          "very positive",
          "very positive",
          "very positive",
          "very positive",
          "very positive",
          "very positive",
          "very positive",
          "very positive",
          "very positive",
          "very positive",
          "very positive",
          "very positive",
          "very positive",
          "very positive",
          "very positive",
          "very positive",
          "very positive",
          "very positive",
          "very positive",
          "very positive",
          "very positive",
          "very positive",
          "very positive",
          "very positive"
         ],
         "xaxis": "x",
         "y": [
          1,
          1,
          1,
          1,
          1,
          1,
          1,
          1,
          1,
          1,
          1,
          1,
          1,
          1,
          1,
          1,
          1,
          1,
          1,
          1,
          1,
          1,
          1,
          1
         ],
         "yaxis": "y"
        }
       ],
       "layout": {
        "barmode": "relative",
        "legend": {
         "title": {
          "text": "sentiment"
         },
         "tracegroupgap": 0
        },
        "template": {
         "data": {
          "bar": [
           {
            "error_x": {
             "color": "#2a3f5f"
            },
            "error_y": {
             "color": "#2a3f5f"
            },
            "marker": {
             "line": {
              "color": "#E5ECF6",
              "width": 0.5
             }
            },
            "type": "bar"
           }
          ],
          "barpolar": [
           {
            "marker": {
             "line": {
              "color": "#E5ECF6",
              "width": 0.5
             }
            },
            "type": "barpolar"
           }
          ],
          "carpet": [
           {
            "aaxis": {
             "endlinecolor": "#2a3f5f",
             "gridcolor": "white",
             "linecolor": "white",
             "minorgridcolor": "white",
             "startlinecolor": "#2a3f5f"
            },
            "baxis": {
             "endlinecolor": "#2a3f5f",
             "gridcolor": "white",
             "linecolor": "white",
             "minorgridcolor": "white",
             "startlinecolor": "#2a3f5f"
            },
            "type": "carpet"
           }
          ],
          "choropleth": [
           {
            "colorbar": {
             "outlinewidth": 0,
             "ticks": ""
            },
            "type": "choropleth"
           }
          ],
          "contour": [
           {
            "colorbar": {
             "outlinewidth": 0,
             "ticks": ""
            },
            "colorscale": [
             [
              0,
              "#0d0887"
             ],
             [
              0.1111111111111111,
              "#46039f"
             ],
             [
              0.2222222222222222,
              "#7201a8"
             ],
             [
              0.3333333333333333,
              "#9c179e"
             ],
             [
              0.4444444444444444,
              "#bd3786"
             ],
             [
              0.5555555555555556,
              "#d8576b"
             ],
             [
              0.6666666666666666,
              "#ed7953"
             ],
             [
              0.7777777777777778,
              "#fb9f3a"
             ],
             [
              0.8888888888888888,
              "#fdca26"
             ],
             [
              1,
              "#f0f921"
             ]
            ],
            "type": "contour"
           }
          ],
          "contourcarpet": [
           {
            "colorbar": {
             "outlinewidth": 0,
             "ticks": ""
            },
            "type": "contourcarpet"
           }
          ],
          "heatmap": [
           {
            "colorbar": {
             "outlinewidth": 0,
             "ticks": ""
            },
            "colorscale": [
             [
              0,
              "#0d0887"
             ],
             [
              0.1111111111111111,
              "#46039f"
             ],
             [
              0.2222222222222222,
              "#7201a8"
             ],
             [
              0.3333333333333333,
              "#9c179e"
             ],
             [
              0.4444444444444444,
              "#bd3786"
             ],
             [
              0.5555555555555556,
              "#d8576b"
             ],
             [
              0.6666666666666666,
              "#ed7953"
             ],
             [
              0.7777777777777778,
              "#fb9f3a"
             ],
             [
              0.8888888888888888,
              "#fdca26"
             ],
             [
              1,
              "#f0f921"
             ]
            ],
            "type": "heatmap"
           }
          ],
          "heatmapgl": [
           {
            "colorbar": {
             "outlinewidth": 0,
             "ticks": ""
            },
            "colorscale": [
             [
              0,
              "#0d0887"
             ],
             [
              0.1111111111111111,
              "#46039f"
             ],
             [
              0.2222222222222222,
              "#7201a8"
             ],
             [
              0.3333333333333333,
              "#9c179e"
             ],
             [
              0.4444444444444444,
              "#bd3786"
             ],
             [
              0.5555555555555556,
              "#d8576b"
             ],
             [
              0.6666666666666666,
              "#ed7953"
             ],
             [
              0.7777777777777778,
              "#fb9f3a"
             ],
             [
              0.8888888888888888,
              "#fdca26"
             ],
             [
              1,
              "#f0f921"
             ]
            ],
            "type": "heatmapgl"
           }
          ],
          "histogram": [
           {
            "marker": {
             "colorbar": {
              "outlinewidth": 0,
              "ticks": ""
             }
            },
            "type": "histogram"
           }
          ],
          "histogram2d": [
           {
            "colorbar": {
             "outlinewidth": 0,
             "ticks": ""
            },
            "colorscale": [
             [
              0,
              "#0d0887"
             ],
             [
              0.1111111111111111,
              "#46039f"
             ],
             [
              0.2222222222222222,
              "#7201a8"
             ],
             [
              0.3333333333333333,
              "#9c179e"
             ],
             [
              0.4444444444444444,
              "#bd3786"
             ],
             [
              0.5555555555555556,
              "#d8576b"
             ],
             [
              0.6666666666666666,
              "#ed7953"
             ],
             [
              0.7777777777777778,
              "#fb9f3a"
             ],
             [
              0.8888888888888888,
              "#fdca26"
             ],
             [
              1,
              "#f0f921"
             ]
            ],
            "type": "histogram2d"
           }
          ],
          "histogram2dcontour": [
           {
            "colorbar": {
             "outlinewidth": 0,
             "ticks": ""
            },
            "colorscale": [
             [
              0,
              "#0d0887"
             ],
             [
              0.1111111111111111,
              "#46039f"
             ],
             [
              0.2222222222222222,
              "#7201a8"
             ],
             [
              0.3333333333333333,
              "#9c179e"
             ],
             [
              0.4444444444444444,
              "#bd3786"
             ],
             [
              0.5555555555555556,
              "#d8576b"
             ],
             [
              0.6666666666666666,
              "#ed7953"
             ],
             [
              0.7777777777777778,
              "#fb9f3a"
             ],
             [
              0.8888888888888888,
              "#fdca26"
             ],
             [
              1,
              "#f0f921"
             ]
            ],
            "type": "histogram2dcontour"
           }
          ],
          "mesh3d": [
           {
            "colorbar": {
             "outlinewidth": 0,
             "ticks": ""
            },
            "type": "mesh3d"
           }
          ],
          "parcoords": [
           {
            "line": {
             "colorbar": {
              "outlinewidth": 0,
              "ticks": ""
             }
            },
            "type": "parcoords"
           }
          ],
          "pie": [
           {
            "automargin": true,
            "type": "pie"
           }
          ],
          "scatter": [
           {
            "marker": {
             "colorbar": {
              "outlinewidth": 0,
              "ticks": ""
             }
            },
            "type": "scatter"
           }
          ],
          "scatter3d": [
           {
            "line": {
             "colorbar": {
              "outlinewidth": 0,
              "ticks": ""
             }
            },
            "marker": {
             "colorbar": {
              "outlinewidth": 0,
              "ticks": ""
             }
            },
            "type": "scatter3d"
           }
          ],
          "scattercarpet": [
           {
            "marker": {
             "colorbar": {
              "outlinewidth": 0,
              "ticks": ""
             }
            },
            "type": "scattercarpet"
           }
          ],
          "scattergeo": [
           {
            "marker": {
             "colorbar": {
              "outlinewidth": 0,
              "ticks": ""
             }
            },
            "type": "scattergeo"
           }
          ],
          "scattergl": [
           {
            "marker": {
             "colorbar": {
              "outlinewidth": 0,
              "ticks": ""
             }
            },
            "type": "scattergl"
           }
          ],
          "scattermapbox": [
           {
            "marker": {
             "colorbar": {
              "outlinewidth": 0,
              "ticks": ""
             }
            },
            "type": "scattermapbox"
           }
          ],
          "scatterpolar": [
           {
            "marker": {
             "colorbar": {
              "outlinewidth": 0,
              "ticks": ""
             }
            },
            "type": "scatterpolar"
           }
          ],
          "scatterpolargl": [
           {
            "marker": {
             "colorbar": {
              "outlinewidth": 0,
              "ticks": ""
             }
            },
            "type": "scatterpolargl"
           }
          ],
          "scatterternary": [
           {
            "marker": {
             "colorbar": {
              "outlinewidth": 0,
              "ticks": ""
             }
            },
            "type": "scatterternary"
           }
          ],
          "surface": [
           {
            "colorbar": {
             "outlinewidth": 0,
             "ticks": ""
            },
            "colorscale": [
             [
              0,
              "#0d0887"
             ],
             [
              0.1111111111111111,
              "#46039f"
             ],
             [
              0.2222222222222222,
              "#7201a8"
             ],
             [
              0.3333333333333333,
              "#9c179e"
             ],
             [
              0.4444444444444444,
              "#bd3786"
             ],
             [
              0.5555555555555556,
              "#d8576b"
             ],
             [
              0.6666666666666666,
              "#ed7953"
             ],
             [
              0.7777777777777778,
              "#fb9f3a"
             ],
             [
              0.8888888888888888,
              "#fdca26"
             ],
             [
              1,
              "#f0f921"
             ]
            ],
            "type": "surface"
           }
          ],
          "table": [
           {
            "cells": {
             "fill": {
              "color": "#EBF0F8"
             },
             "line": {
              "color": "white"
             }
            },
            "header": {
             "fill": {
              "color": "#C8D4E3"
             },
             "line": {
              "color": "white"
             }
            },
            "type": "table"
           }
          ]
         },
         "layout": {
          "annotationdefaults": {
           "arrowcolor": "#2a3f5f",
           "arrowhead": 0,
           "arrowwidth": 1
          },
          "coloraxis": {
           "colorbar": {
            "outlinewidth": 0,
            "ticks": ""
           }
          },
          "colorscale": {
           "diverging": [
            [
             0,
             "#8e0152"
            ],
            [
             0.1,
             "#c51b7d"
            ],
            [
             0.2,
             "#de77ae"
            ],
            [
             0.3,
             "#f1b6da"
            ],
            [
             0.4,
             "#fde0ef"
            ],
            [
             0.5,
             "#f7f7f7"
            ],
            [
             0.6,
             "#e6f5d0"
            ],
            [
             0.7,
             "#b8e186"
            ],
            [
             0.8,
             "#7fbc41"
            ],
            [
             0.9,
             "#4d9221"
            ],
            [
             1,
             "#276419"
            ]
           ],
           "sequential": [
            [
             0,
             "#0d0887"
            ],
            [
             0.1111111111111111,
             "#46039f"
            ],
            [
             0.2222222222222222,
             "#7201a8"
            ],
            [
             0.3333333333333333,
             "#9c179e"
            ],
            [
             0.4444444444444444,
             "#bd3786"
            ],
            [
             0.5555555555555556,
             "#d8576b"
            ],
            [
             0.6666666666666666,
             "#ed7953"
            ],
            [
             0.7777777777777778,
             "#fb9f3a"
            ],
            [
             0.8888888888888888,
             "#fdca26"
            ],
            [
             1,
             "#f0f921"
            ]
           ],
           "sequentialminus": [
            [
             0,
             "#0d0887"
            ],
            [
             0.1111111111111111,
             "#46039f"
            ],
            [
             0.2222222222222222,
             "#7201a8"
            ],
            [
             0.3333333333333333,
             "#9c179e"
            ],
            [
             0.4444444444444444,
             "#bd3786"
            ],
            [
             0.5555555555555556,
             "#d8576b"
            ],
            [
             0.6666666666666666,
             "#ed7953"
            ],
            [
             0.7777777777777778,
             "#fb9f3a"
            ],
            [
             0.8888888888888888,
             "#fdca26"
            ],
            [
             1,
             "#f0f921"
            ]
           ]
          },
          "colorway": [
           "#636efa",
           "#EF553B",
           "#00cc96",
           "#ab63fa",
           "#FFA15A",
           "#19d3f3",
           "#FF6692",
           "#B6E880",
           "#FF97FF",
           "#FECB52"
          ],
          "font": {
           "color": "#2a3f5f"
          },
          "geo": {
           "bgcolor": "white",
           "lakecolor": "white",
           "landcolor": "#E5ECF6",
           "showlakes": true,
           "showland": true,
           "subunitcolor": "white"
          },
          "hoverlabel": {
           "align": "left"
          },
          "hovermode": "closest",
          "mapbox": {
           "style": "light"
          },
          "paper_bgcolor": "white",
          "plot_bgcolor": "#E5ECF6",
          "polar": {
           "angularaxis": {
            "gridcolor": "white",
            "linecolor": "white",
            "ticks": ""
           },
           "bgcolor": "#E5ECF6",
           "radialaxis": {
            "gridcolor": "white",
            "linecolor": "white",
            "ticks": ""
           }
          },
          "scene": {
           "xaxis": {
            "backgroundcolor": "#E5ECF6",
            "gridcolor": "white",
            "gridwidth": 2,
            "linecolor": "white",
            "showbackground": true,
            "ticks": "",
            "zerolinecolor": "white"
           },
           "yaxis": {
            "backgroundcolor": "#E5ECF6",
            "gridcolor": "white",
            "gridwidth": 2,
            "linecolor": "white",
            "showbackground": true,
            "ticks": "",
            "zerolinecolor": "white"
           },
           "zaxis": {
            "backgroundcolor": "#E5ECF6",
            "gridcolor": "white",
            "gridwidth": 2,
            "linecolor": "white",
            "showbackground": true,
            "ticks": "",
            "zerolinecolor": "white"
           }
          },
          "shapedefaults": {
           "line": {
            "color": "#2a3f5f"
           }
          },
          "ternary": {
           "aaxis": {
            "gridcolor": "white",
            "linecolor": "white",
            "ticks": ""
           },
           "baxis": {
            "gridcolor": "white",
            "linecolor": "white",
            "ticks": ""
           },
           "bgcolor": "#E5ECF6",
           "caxis": {
            "gridcolor": "white",
            "linecolor": "white",
            "ticks": ""
           }
          },
          "title": {
           "x": 0.05
          },
          "xaxis": {
           "automargin": true,
           "gridcolor": "white",
           "linecolor": "white",
           "ticks": "",
           "title": {
            "standoff": 15
           },
           "zerolinecolor": "white",
           "zerolinewidth": 2
          },
          "yaxis": {
           "automargin": true,
           "gridcolor": "white",
           "linecolor": "white",
           "ticks": "",
           "title": {
            "standoff": 15
           },
           "zerolinecolor": "white",
           "zerolinewidth": 2
          }
         }
        },
        "title": {
         "text": "Sentiment analysis for \"gun control\""
        },
        "width": 600,
        "xaxis": {
         "anchor": "y",
         "categoryarray": [
          "very negative",
          "negative",
          "neutral",
          "positive",
          "very positive"
         ],
         "categoryorder": "array",
         "domain": [
          0,
          1
         ],
         "title": {
          "text": "sentiment"
         }
        },
        "yaxis": {
         "anchor": "x",
         "domain": [
          0,
          1
         ],
         "title": {
          "text": "count"
         }
        }
       }
      },
      "text/html": [
       "<div>                            <div id=\"e0d93205-630e-4d25-9573-4a054fc7391b\" class=\"plotly-graph-div\" style=\"height:525px; width:600px;\"></div>            <script type=\"text/javascript\">                require([\"plotly\"], function(Plotly) {                    window.PLOTLYENV=window.PLOTLYENV || {};                                    if (document.getElementById(\"e0d93205-630e-4d25-9573-4a054fc7391b\")) {                    Plotly.newPlot(                        \"e0d93205-630e-4d25-9573-4a054fc7391b\",                        [{\"alignmentgroup\": \"True\", \"hovertemplate\": \"sentiment=%{x}<br>count=%{y}<extra></extra>\", \"legendgroup\": \"very negative\", \"marker\": {\"color\": \"#8e0152\", \"line\": {\"width\": 0}}, \"name\": \"very negative\", \"offsetgroup\": \"very negative\", \"orientation\": \"v\", \"showlegend\": true, \"textposition\": \"auto\", \"type\": \"bar\", \"x\": [\"very negative\", \"very negative\", \"very negative\", \"very negative\", \"very negative\", \"very negative\", \"very negative\", \"very negative\", \"very negative\", \"very negative\", \"very negative\", \"very negative\", \"very negative\", \"very negative\", \"very negative\", \"very negative\", \"very negative\", \"very negative\", \"very negative\", \"very negative\", \"very negative\", \"very negative\", \"very negative\", \"very negative\"], \"xaxis\": \"x\", \"y\": [1, 1, 1, 1, 1, 1, 1, 1, 1, 1, 1, 1, 1, 1, 1, 1, 1, 1, 1, 1, 1, 1, 1, 1], \"yaxis\": \"y\"}, {\"alignmentgroup\": \"True\", \"hovertemplate\": \"sentiment=%{x}<br>count=%{y}<extra></extra>\", \"legendgroup\": \"negative\", \"marker\": {\"color\": \"#e897c4\", \"line\": {\"width\": 0}}, \"name\": \"negative\", \"offsetgroup\": \"negative\", \"orientation\": \"v\", \"showlegend\": true, \"textposition\": \"auto\", \"type\": \"bar\", \"x\": [\"negative\", \"negative\", \"negative\", \"negative\", \"negative\", \"negative\", \"negative\", \"negative\", \"negative\", \"negative\", \"negative\", \"negative\", \"negative\", \"negative\", \"negative\", \"negative\", \"negative\", \"negative\", \"negative\", \"negative\", \"negative\", \"negative\", \"negative\", \"negative\", \"negative\"], \"xaxis\": \"x\", \"y\": [1, 1, 1, 1, 1, 1, 1, 1, 1, 1, 1, 1, 1, 1, 1, 1, 1, 1, 1, 1, 1, 1, 1, 1, 1], \"yaxis\": \"y\"}, {\"alignmentgroup\": \"True\", \"hovertemplate\": \"sentiment=%{x}<br>count=%{y}<extra></extra>\", \"legendgroup\": \"neutral\", \"marker\": {\"color\": \"#f7f7f6\", \"line\": {\"width\": 0}}, \"name\": \"neutral\", \"offsetgroup\": \"neutral\", \"orientation\": \"v\", \"showlegend\": true, \"textposition\": \"auto\", \"type\": \"bar\", \"x\": [\"neutral\", \"neutral\", \"neutral\", \"neutral\", \"neutral\", \"neutral\", \"neutral\", \"neutral\", \"neutral\", \"neutral\", \"neutral\", \"neutral\", \"neutral\", \"neutral\", \"neutral\", \"neutral\", \"neutral\", \"neutral\", \"neutral\", \"neutral\", \"neutral\", \"neutral\", \"neutral\", \"neutral\", \"neutral\", \"neutral\", \"neutral\", \"neutral\", \"neutral\", \"neutral\", \"neutral\", \"neutral\", \"neutral\", \"neutral\", \"neutral\"], \"xaxis\": \"x\", \"y\": [1, 1, 1, 1, 1, 1, 1, 1, 1, 1, 1, 1, 1, 1, 1, 1, 1, 1, 1, 1, 1, 1, 1, 1, 1, 1, 1, 1, 1, 1, 1, 1, 1, 1, 1], \"yaxis\": \"y\"}, {\"alignmentgroup\": \"True\", \"hovertemplate\": \"sentiment=%{x}<br>count=%{y}<extra></extra>\", \"legendgroup\": \"positive\", \"marker\": {\"color\": \"#9acd61\", \"line\": {\"width\": 0}}, \"name\": \"positive\", \"offsetgroup\": \"positive\", \"orientation\": \"v\", \"showlegend\": true, \"textposition\": \"auto\", \"type\": \"bar\", \"x\": [\"positive\", \"positive\", \"positive\", \"positive\", \"positive\", \"positive\", \"positive\", \"positive\", \"positive\", \"positive\", \"positive\", \"positive\", \"positive\", \"positive\", \"positive\", \"positive\", \"positive\", \"positive\", \"positive\", \"positive\", \"positive\", \"positive\", \"positive\", \"positive\", \"positive\", \"positive\"], \"xaxis\": \"x\", \"y\": [1, 1, 1, 1, 1, 1, 1, 1, 1, 1, 1, 1, 1, 1, 1, 1, 1, 1, 1, 1, 1, 1, 1, 1, 1, 1], \"yaxis\": \"y\"}, {\"alignmentgroup\": \"True\", \"hovertemplate\": \"sentiment=%{x}<br>count=%{y}<extra></extra>\", \"legendgroup\": \"very positive\", \"marker\": {\"color\": \"#276419\", \"line\": {\"width\": 0}}, \"name\": \"very positive\", \"offsetgroup\": \"very positive\", \"orientation\": \"v\", \"showlegend\": true, \"textposition\": \"auto\", \"type\": \"bar\", \"x\": [\"very positive\", \"very positive\", \"very positive\", \"very positive\", \"very positive\", \"very positive\", \"very positive\", \"very positive\", \"very positive\", \"very positive\", \"very positive\", \"very positive\", \"very positive\", \"very positive\", \"very positive\", \"very positive\", \"very positive\", \"very positive\", \"very positive\", \"very positive\", \"very positive\", \"very positive\", \"very positive\", \"very positive\"], \"xaxis\": \"x\", \"y\": [1, 1, 1, 1, 1, 1, 1, 1, 1, 1, 1, 1, 1, 1, 1, 1, 1, 1, 1, 1, 1, 1, 1, 1], \"yaxis\": \"y\"}],                        {\"barmode\": \"relative\", \"legend\": {\"title\": {\"text\": \"sentiment\"}, \"tracegroupgap\": 0}, \"template\": {\"data\": {\"bar\": [{\"error_x\": {\"color\": \"#2a3f5f\"}, \"error_y\": {\"color\": \"#2a3f5f\"}, \"marker\": {\"line\": {\"color\": \"#E5ECF6\", \"width\": 0.5}}, \"type\": \"bar\"}], \"barpolar\": [{\"marker\": {\"line\": {\"color\": \"#E5ECF6\", \"width\": 0.5}}, \"type\": \"barpolar\"}], \"carpet\": [{\"aaxis\": {\"endlinecolor\": \"#2a3f5f\", \"gridcolor\": \"white\", \"linecolor\": \"white\", \"minorgridcolor\": \"white\", \"startlinecolor\": \"#2a3f5f\"}, \"baxis\": {\"endlinecolor\": \"#2a3f5f\", \"gridcolor\": \"white\", \"linecolor\": \"white\", \"minorgridcolor\": \"white\", \"startlinecolor\": \"#2a3f5f\"}, \"type\": \"carpet\"}], \"choropleth\": [{\"colorbar\": {\"outlinewidth\": 0, \"ticks\": \"\"}, \"type\": \"choropleth\"}], \"contour\": [{\"colorbar\": {\"outlinewidth\": 0, \"ticks\": \"\"}, \"colorscale\": [[0.0, \"#0d0887\"], [0.1111111111111111, \"#46039f\"], [0.2222222222222222, \"#7201a8\"], [0.3333333333333333, \"#9c179e\"], [0.4444444444444444, \"#bd3786\"], [0.5555555555555556, \"#d8576b\"], [0.6666666666666666, \"#ed7953\"], [0.7777777777777778, \"#fb9f3a\"], [0.8888888888888888, \"#fdca26\"], [1.0, \"#f0f921\"]], \"type\": \"contour\"}], \"contourcarpet\": [{\"colorbar\": {\"outlinewidth\": 0, \"ticks\": \"\"}, \"type\": \"contourcarpet\"}], \"heatmap\": [{\"colorbar\": {\"outlinewidth\": 0, \"ticks\": \"\"}, \"colorscale\": [[0.0, \"#0d0887\"], [0.1111111111111111, \"#46039f\"], [0.2222222222222222, \"#7201a8\"], [0.3333333333333333, \"#9c179e\"], [0.4444444444444444, \"#bd3786\"], [0.5555555555555556, \"#d8576b\"], [0.6666666666666666, \"#ed7953\"], [0.7777777777777778, \"#fb9f3a\"], [0.8888888888888888, \"#fdca26\"], [1.0, \"#f0f921\"]], \"type\": \"heatmap\"}], \"heatmapgl\": [{\"colorbar\": {\"outlinewidth\": 0, \"ticks\": \"\"}, \"colorscale\": [[0.0, \"#0d0887\"], [0.1111111111111111, \"#46039f\"], [0.2222222222222222, \"#7201a8\"], [0.3333333333333333, \"#9c179e\"], [0.4444444444444444, \"#bd3786\"], [0.5555555555555556, \"#d8576b\"], [0.6666666666666666, \"#ed7953\"], [0.7777777777777778, \"#fb9f3a\"], [0.8888888888888888, \"#fdca26\"], [1.0, \"#f0f921\"]], \"type\": \"heatmapgl\"}], \"histogram\": [{\"marker\": {\"colorbar\": {\"outlinewidth\": 0, \"ticks\": \"\"}}, \"type\": \"histogram\"}], \"histogram2d\": [{\"colorbar\": {\"outlinewidth\": 0, \"ticks\": \"\"}, \"colorscale\": [[0.0, \"#0d0887\"], [0.1111111111111111, \"#46039f\"], [0.2222222222222222, \"#7201a8\"], [0.3333333333333333, \"#9c179e\"], [0.4444444444444444, \"#bd3786\"], [0.5555555555555556, \"#d8576b\"], [0.6666666666666666, \"#ed7953\"], [0.7777777777777778, \"#fb9f3a\"], [0.8888888888888888, \"#fdca26\"], [1.0, \"#f0f921\"]], \"type\": \"histogram2d\"}], \"histogram2dcontour\": [{\"colorbar\": {\"outlinewidth\": 0, \"ticks\": \"\"}, \"colorscale\": [[0.0, \"#0d0887\"], [0.1111111111111111, \"#46039f\"], [0.2222222222222222, \"#7201a8\"], [0.3333333333333333, \"#9c179e\"], [0.4444444444444444, \"#bd3786\"], [0.5555555555555556, \"#d8576b\"], [0.6666666666666666, \"#ed7953\"], [0.7777777777777778, \"#fb9f3a\"], [0.8888888888888888, \"#fdca26\"], [1.0, \"#f0f921\"]], \"type\": \"histogram2dcontour\"}], \"mesh3d\": [{\"colorbar\": {\"outlinewidth\": 0, \"ticks\": \"\"}, \"type\": \"mesh3d\"}], \"parcoords\": [{\"line\": {\"colorbar\": {\"outlinewidth\": 0, \"ticks\": \"\"}}, \"type\": \"parcoords\"}], \"pie\": [{\"automargin\": true, \"type\": \"pie\"}], \"scatter\": [{\"marker\": {\"colorbar\": {\"outlinewidth\": 0, \"ticks\": \"\"}}, \"type\": \"scatter\"}], \"scatter3d\": [{\"line\": {\"colorbar\": {\"outlinewidth\": 0, \"ticks\": \"\"}}, \"marker\": {\"colorbar\": {\"outlinewidth\": 0, \"ticks\": \"\"}}, \"type\": \"scatter3d\"}], \"scattercarpet\": [{\"marker\": {\"colorbar\": {\"outlinewidth\": 0, \"ticks\": \"\"}}, \"type\": \"scattercarpet\"}], \"scattergeo\": [{\"marker\": {\"colorbar\": {\"outlinewidth\": 0, \"ticks\": \"\"}}, \"type\": \"scattergeo\"}], \"scattergl\": [{\"marker\": {\"colorbar\": {\"outlinewidth\": 0, \"ticks\": \"\"}}, \"type\": \"scattergl\"}], \"scattermapbox\": [{\"marker\": {\"colorbar\": {\"outlinewidth\": 0, \"ticks\": \"\"}}, \"type\": \"scattermapbox\"}], \"scatterpolar\": [{\"marker\": {\"colorbar\": {\"outlinewidth\": 0, \"ticks\": \"\"}}, \"type\": \"scatterpolar\"}], \"scatterpolargl\": [{\"marker\": {\"colorbar\": {\"outlinewidth\": 0, \"ticks\": \"\"}}, \"type\": \"scatterpolargl\"}], \"scatterternary\": [{\"marker\": {\"colorbar\": {\"outlinewidth\": 0, \"ticks\": \"\"}}, \"type\": \"scatterternary\"}], \"surface\": [{\"colorbar\": {\"outlinewidth\": 0, \"ticks\": \"\"}, \"colorscale\": [[0.0, \"#0d0887\"], [0.1111111111111111, \"#46039f\"], [0.2222222222222222, \"#7201a8\"], [0.3333333333333333, \"#9c179e\"], [0.4444444444444444, \"#bd3786\"], [0.5555555555555556, \"#d8576b\"], [0.6666666666666666, \"#ed7953\"], [0.7777777777777778, \"#fb9f3a\"], [0.8888888888888888, \"#fdca26\"], [1.0, \"#f0f921\"]], \"type\": \"surface\"}], \"table\": [{\"cells\": {\"fill\": {\"color\": \"#EBF0F8\"}, \"line\": {\"color\": \"white\"}}, \"header\": {\"fill\": {\"color\": \"#C8D4E3\"}, \"line\": {\"color\": \"white\"}}, \"type\": \"table\"}]}, \"layout\": {\"annotationdefaults\": {\"arrowcolor\": \"#2a3f5f\", \"arrowhead\": 0, \"arrowwidth\": 1}, \"coloraxis\": {\"colorbar\": {\"outlinewidth\": 0, \"ticks\": \"\"}}, \"colorscale\": {\"diverging\": [[0, \"#8e0152\"], [0.1, \"#c51b7d\"], [0.2, \"#de77ae\"], [0.3, \"#f1b6da\"], [0.4, \"#fde0ef\"], [0.5, \"#f7f7f7\"], [0.6, \"#e6f5d0\"], [0.7, \"#b8e186\"], [0.8, \"#7fbc41\"], [0.9, \"#4d9221\"], [1, \"#276419\"]], \"sequential\": [[0.0, \"#0d0887\"], [0.1111111111111111, \"#46039f\"], [0.2222222222222222, \"#7201a8\"], [0.3333333333333333, \"#9c179e\"], [0.4444444444444444, \"#bd3786\"], [0.5555555555555556, \"#d8576b\"], [0.6666666666666666, \"#ed7953\"], [0.7777777777777778, \"#fb9f3a\"], [0.8888888888888888, \"#fdca26\"], [1.0, \"#f0f921\"]], \"sequentialminus\": [[0.0, \"#0d0887\"], [0.1111111111111111, \"#46039f\"], [0.2222222222222222, \"#7201a8\"], [0.3333333333333333, \"#9c179e\"], [0.4444444444444444, \"#bd3786\"], [0.5555555555555556, \"#d8576b\"], [0.6666666666666666, \"#ed7953\"], [0.7777777777777778, \"#fb9f3a\"], [0.8888888888888888, \"#fdca26\"], [1.0, \"#f0f921\"]]}, \"colorway\": [\"#636efa\", \"#EF553B\", \"#00cc96\", \"#ab63fa\", \"#FFA15A\", \"#19d3f3\", \"#FF6692\", \"#B6E880\", \"#FF97FF\", \"#FECB52\"], \"font\": {\"color\": \"#2a3f5f\"}, \"geo\": {\"bgcolor\": \"white\", \"lakecolor\": \"white\", \"landcolor\": \"#E5ECF6\", \"showlakes\": true, \"showland\": true, \"subunitcolor\": \"white\"}, \"hoverlabel\": {\"align\": \"left\"}, \"hovermode\": \"closest\", \"mapbox\": {\"style\": \"light\"}, \"paper_bgcolor\": \"white\", \"plot_bgcolor\": \"#E5ECF6\", \"polar\": {\"angularaxis\": {\"gridcolor\": \"white\", \"linecolor\": \"white\", \"ticks\": \"\"}, \"bgcolor\": \"#E5ECF6\", \"radialaxis\": {\"gridcolor\": \"white\", \"linecolor\": \"white\", \"ticks\": \"\"}}, \"scene\": {\"xaxis\": {\"backgroundcolor\": \"#E5ECF6\", \"gridcolor\": \"white\", \"gridwidth\": 2, \"linecolor\": \"white\", \"showbackground\": true, \"ticks\": \"\", \"zerolinecolor\": \"white\"}, \"yaxis\": {\"backgroundcolor\": \"#E5ECF6\", \"gridcolor\": \"white\", \"gridwidth\": 2, \"linecolor\": \"white\", \"showbackground\": true, \"ticks\": \"\", \"zerolinecolor\": \"white\"}, \"zaxis\": {\"backgroundcolor\": \"#E5ECF6\", \"gridcolor\": \"white\", \"gridwidth\": 2, \"linecolor\": \"white\", \"showbackground\": true, \"ticks\": \"\", \"zerolinecolor\": \"white\"}}, \"shapedefaults\": {\"line\": {\"color\": \"#2a3f5f\"}}, \"ternary\": {\"aaxis\": {\"gridcolor\": \"white\", \"linecolor\": \"white\", \"ticks\": \"\"}, \"baxis\": {\"gridcolor\": \"white\", \"linecolor\": \"white\", \"ticks\": \"\"}, \"bgcolor\": \"#E5ECF6\", \"caxis\": {\"gridcolor\": \"white\", \"linecolor\": \"white\", \"ticks\": \"\"}}, \"title\": {\"x\": 0.05}, \"xaxis\": {\"automargin\": true, \"gridcolor\": \"white\", \"linecolor\": \"white\", \"ticks\": \"\", \"title\": {\"standoff\": 15}, \"zerolinecolor\": \"white\", \"zerolinewidth\": 2}, \"yaxis\": {\"automargin\": true, \"gridcolor\": \"white\", \"linecolor\": \"white\", \"ticks\": \"\", \"title\": {\"standoff\": 15}, \"zerolinecolor\": \"white\", \"zerolinewidth\": 2}}}, \"title\": {\"text\": \"Sentiment analysis for \\\"gun control\\\"\"}, \"width\": 600, \"xaxis\": {\"anchor\": \"y\", \"categoryarray\": [\"very negative\", \"negative\", \"neutral\", \"positive\", \"very positive\"], \"categoryorder\": \"array\", \"domain\": [0.0, 1.0], \"title\": {\"text\": \"sentiment\"}}, \"yaxis\": {\"anchor\": \"x\", \"domain\": [0.0, 1.0], \"title\": {\"text\": \"count\"}}},                        {\"responsive\": true}                    ).then(function(){\n",
       "                            \n",
       "var gd = document.getElementById('e0d93205-630e-4d25-9573-4a054fc7391b');\n",
       "var x = new MutationObserver(function (mutations, observer) {{\n",
       "        var display = window.getComputedStyle(gd).display;\n",
       "        if (!display || display === 'none') {{\n",
       "            console.log([gd, 'removed!']);\n",
       "            Plotly.purge(gd);\n",
       "            observer.disconnect();\n",
       "        }}\n",
       "}});\n",
       "\n",
       "// Listen for the removal of the full notebook cells\n",
       "var notebookContainer = gd.closest('#notebook-container');\n",
       "if (notebookContainer) {{\n",
       "    x.observe(notebookContainer, {childList: true});\n",
       "}}\n",
       "\n",
       "// Listen for the clearing of the current output cell\n",
       "var outputEl = gd.closest('.output');\n",
       "if (outputEl) {{\n",
       "    x.observe(outputEl, {childList: true});\n",
       "}}\n",
       "\n",
       "                        })                };                });            </script>        </div>"
      ]
     },
     "metadata": {},
     "output_type": "display_data"
    }
   ],
   "source": [
    "fig = px.bar(df, \n",
    "             x = 'sentiment',\n",
    "             width = 600,\n",
    "             title = 'Sentiment analysis for \"'+ searchterm + '\"',\n",
    "             color = 'sentiment',\n",
    "             category_orders = {'sentiment':['very negative','negative','neutral','positive','very positive']},\n",
    "             color_discrete_sequence = sentiment_colors, \n",
    "            )\n",
    "\n",
    "fig.update_traces(marker_line_width=0)\n",
    "fig.show()"
   ]
  },
  {
   "cell_type": "markdown",
   "metadata": {},
   "source": [
    "I am surprised by the sentiment distribution. I was expecting more of a difference between them all. I will even admit to my own bias over Texas being a state of strong pro gun opinions, and did not expect this. Maybe this has to do with the location I selected given that i selected a major city of Texas and even zeroed in on the cordinates of the University of Huston. There is more neutral sentiments which I also find surprising given that musch of the twitter discouse people interact with online tend to be extreme in it beliefs/statments. That, however, may attribute to the feed algorithm twitter has in place"
   ]
  },
  {
   "cell_type": "markdown",
   "metadata": {},
   "source": [
    "I, Stacy, analyzed gun control sentiments for the city of Huston, Texas. My partner, Ainsleigh, analysed gun control sentiments on the city of Chicago, Illinois in order for us to compare them further down the line."
   ]
  },
  {
   "cell_type": "code",
   "execution_count": null,
   "metadata": {},
   "outputs": [],
   "source": []
  }
 ],
 "metadata": {
  "kernelspec": {
   "display_name": "Python 3",
   "language": "python",
   "name": "python3"
  },
  "language_info": {
   "codemirror_mode": {
    "name": "ipython",
    "version": 3
   },
   "file_extension": ".py",
   "mimetype": "text/x-python",
   "name": "python",
   "nbconvert_exporter": "python",
   "pygments_lexer": "ipython3",
   "version": "3.8.5"
  },
  "toc": {
   "base_numbering": 1,
   "nav_menu": {},
   "number_sections": true,
   "sideBar": true,
   "skip_h1_title": false,
   "title_cell": "Table of Contents",
   "title_sidebar": "Contents",
   "toc_cell": false,
   "toc_position": {},
   "toc_section_display": true,
   "toc_window_display": false
  }
 },
 "nbformat": 4,
 "nbformat_minor": 4
}
