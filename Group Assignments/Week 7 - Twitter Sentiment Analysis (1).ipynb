{
 "cells": [
  {
   "cell_type": "markdown",
   "metadata": {},
   "source": [
    "## Twitter Analysis of gun control sentiments in Chicago\n"
   ]
  },
  {
   "cell_type": "markdown",
   "metadata": {},
   "source": [
    "I will be using twitter to better understand sentiments involving gun contol in the Chicago area\n",
    "\n",
    "By Ainsleigh Douglas"
   ]
  },
  {
   "cell_type": "markdown",
   "metadata": {},
   "source": [
    "First we will bring in all the libraries that will allow us to process and plot geo spatial data"
   ]
  },
  {
   "cell_type": "code",
   "execution_count": 3,
   "metadata": {},
   "outputs": [],
   "source": [
    "import pandas as pd\n",
    "import numpy as np\n",
    "import plotly.express as px\n",
    "import osmnx as ox\n",
    "import matplotlib.pyplot as plt"
   ]
  },
  {
   "cell_type": "markdown",
   "metadata": {},
   "source": [
    "Tweepy is the library to bring in twitter data using python, this library needs authentication such as a twitter develoepr account."
   ]
  },
  {
   "cell_type": "code",
   "execution_count": 4,
   "metadata": {},
   "outputs": [],
   "source": [
    "import tweepy as tw"
   ]
  },
  {
   "cell_type": "markdown",
   "metadata": {},
   "source": [
    "Textblob is a library for text analysis, used for cleaning up tweets and sentiment analysis"
   ]
  },
  {
   "cell_type": "code",
   "execution_count": 5,
   "metadata": {},
   "outputs": [],
   "source": [
    "from textblob import TextBlob\n",
    "import re"
   ]
  },
  {
   "cell_type": "markdown",
   "metadata": {},
   "source": [
    "This library called wordcloud will allow us to create word clouds"
   ]
  },
  {
   "cell_type": "code",
   "execution_count": 6,
   "metadata": {},
   "outputs": [],
   "source": [
    "from wordcloud import WordCloud, STOPWORDS"
   ]
  },
  {
   "cell_type": "markdown",
   "metadata": {},
   "source": [
    "Now we will upload our personal twitter keys inorder to access the API provided by twitter"
   ]
  },
  {
   "cell_type": "code",
   "execution_count": 7,
   "metadata": {},
   "outputs": [],
   "source": [
    "consumer_key= 'IdnKva5I3b3dwLngiiwZPvfZV'\n",
    "consumer_secret= 'I0kfwHZnesGOnm5x41ADgqqrFhlR4qPlcadVPDfzgM1LVzCg6h'\n",
    "access_token= '1362449105348304900-dWgBoUlT0XfdnuQ0SWdfYTNGmlFfsi'\n",
    "access_token_secret= '7mnMhZDffYkVswKMzdxdSSPqxX8wusNDYAlOOdNUPTxbA'"
   ]
  },
  {
   "cell_type": "markdown",
   "metadata": {},
   "source": [
    "Next I will authenticate myself"
   ]
  },
  {
   "cell_type": "code",
   "execution_count": 8,
   "metadata": {},
   "outputs": [],
   "source": [
    "auth = tw.OAuthHandler(consumer_key, consumer_secret)\n",
    "auth.set_access_token(access_token, access_token_secret)\n",
    "api = tw.API(auth, wait_on_rate_limit=True)"
   ]
  },
  {
   "cell_type": "markdown",
   "metadata": {},
   "source": [
    "### Defining my search criteria"
   ]
  },
  {
   "cell_type": "markdown",
   "metadata": {},
   "source": [
    "Now I will specific my research and clean the tweets I find accordingly. The search term I will use is \"gun control\" inorder to understand the overall twitter sentiments related to gun restrictions in the city of Chicago."
   ]
  },
  {
   "cell_type": "code",
   "execution_count": 9,
   "metadata": {},
   "outputs": [],
   "source": [
    "searchterm = 'gun control'"
   ]
  },
  {
   "cell_type": "markdown",
   "metadata": {},
   "source": [
    "Now I will filter out the retweets and cap the number of tweets at 500 because there is a limit to how many tweets you can process at a time."
   ]
  },
  {
   "cell_type": "code",
   "execution_count": 10,
   "metadata": {},
   "outputs": [],
   "source": [
    "q = searchterm + \" -filter:retweets\"\n",
    "max_tweets = 500"
   ]
  },
  {
   "cell_type": "markdown",
   "metadata": {},
   "source": [
    "Next I will run a query for full length tweets that will max at 500 based on my key phrase \"gun control\""
   ]
  },
  {
   "cell_type": "code",
   "execution_count": 11,
   "metadata": {},
   "outputs": [],
   "source": [
    "tweets = tw.Cursor(api.search,\n",
    "                   q=q, \n",
    "                   tweet_mode='extended').items(max_tweets)"
   ]
  },
  {
   "cell_type": "markdown",
   "metadata": {},
   "source": [
    "Now I will run a loop to print 500 tweets referencing my search phrase."
   ]
  },
  {
   "cell_type": "code",
   "execution_count": 12,
   "metadata": {},
   "outputs": [
    {
     "name": "stdout",
     "output_type": "stream",
     "text": [
      "0 @11thHour @PhilipRucker Well I guess while Congress was doing NOTHING about assault rifles and any other sort of other gun control, 74 million nuts were building an army. Thanks, elected officials!!!\n",
      "1 @Polygon They should first introduce gun control\n",
      "2 https://t.co/yMmHuf7t5p\n",
      "3 i hope someone buys me gun stuff for my birthday before these neoliberals wanna decide the fate of the 2022 and 2024 election by passing gun control. it’s almost as if they want the GOP to win\n",
      "4 @mehdirhasan We don't need Senate action on gun control, thanks.\n",
      "5 @LynnSharig8 https://t.co/GZXfOyfNxr\n",
      "6 Biden considers regulating ‘ghost guns,’ other executive actions to curb gun violence https://t.co/tuFIOe8A8V via @Yahoo ZERO = number of \"ghost guns\" used to murder.  It's not about safety; it's about control - don't ever forget it.  Just say \"NO!\" to any further gun control.\n",
      "7 @GemSpoiledLefty @norcalbooknerd no i as a non-american also think that leftists liking guns is very specific to the US\n",
      "\n",
      "(i dunno if that's only because there already are guns there or because the NRA did a really good job, but it baffles me since leftists here are largely in favour of US gun control)\n",
      "8 HUGE: NRA Sues Over 2 Washington Gun Control Laws and WINS via @TheRFAngle https://t.co/8zMGUnn9af\n",
      "9 @generalblie @KathrynTewson @Mcbob05073705 @AkivaMCohen I’ve asked you a number of times to at least *try* to be a little less dishonest. \n",
      "\n",
      "Nobody has been cancelled for supporting, or not supporting, gun control. \n",
      "\n",
      "Why do you decide to keep pretending you don’t know what really happened with Carano?\n",
      "10 @Owen40743987 @SocialistBowden Seeing a big push for gun control  getting started now.\n",
      "Guns for the oligarchy and the enforcers only is the goal.\n",
      "11 Biden Gun Control Plan Would ‘Criminalize’ up to 105 Million People: Gun-rights Group https://t.co/ZZ9veNQOYb via @epochtimes\n",
      "12 Biden Gun Control Plan Would ‘Criminalize’ up to 105 Million People: Gun-rights Group https://t.co/VHL38lOW4s via @epochtimes\n",
      "13 The FBI stated last month that it processed a record 39.7 million firearm background checks in 2020, which bested the previous high of 10 million. ]👉🏻  Biden Gun Control Plan Would ‘Criminalize’ up to 105 Million People: Gun-rights Group https://t.co/NBFNi20TR3 @epochtimes\n",
      "14 @NewYorker @KCMeadows1 They were never trying to protect children.  It was about not spreading the virus.  IF they were concerned about children, they would have passed gun control laws.\n",
      "15 Biden Gun Control Plan Would ‘Criminalize’ up to 105 Million People: Gun-rights Group https://t.co/5bCb19VcMO\n",
      "16 @DennisKendel @alandrummond2 @Docs4GunControl @najmadoc @RBlakeBrown @PremierScottMoe If it was illegal for politicians, some doctors &amp; gun control zealots to lie to Canadians about firearm laws the prisons would be full. The fact that these \"superior\" beings lie to impose their fears is oppression. Educate yourself before you listen to another firearm lie.\n",
      "17 Stained coffee cup\n",
      "Just a fingerprint of lipstick's not enough\n",
      "Sleep, where you lay\n",
      "Still a trace of innocence on the pillow case\n",
      "Waking up\n",
      "Beside you, I'm my loaded gun\n",
      "I can't contain this anymore\n",
      "I'm all yours, I've got no control\n",
      "No control\n",
      "Powerless\n",
      "\n",
      "to feliz me deixa\n",
      "18 @Polysesouvient @alandrummond2 @JustinTrudeau @BillBlair @erinotoole @CPC_HQ If it was illegal for politicians, some doctors &amp; gun control zealots to lie to Canadians about firearm laws the prisons would be full. The fact that these \"superior\" beings lie to impose their fears is oppression. Educate yourself before you listen to another firearm lie.\n",
      "19 @Tampke @FrancaRose33 @darkenrahl86 @Steven_Swenson @kglarson @jamminhaus @BenjaminHampson @photoartist9 @AggressiveDem @DebLeeFab1 @DarkLor23935043 @SHOSTUNZ @extremecompute @JacquotLeGrand @46_billy @Peaches_Sabrina @yammerapple @FlynDutchman466 @Libertybibbledy @badjin_rank @insaneknight85 @Peyton_PTP_ @Gormogons @samg399 @FBIWFO @LincolnProject3 @CocaCola Most media is deceptive on this, as are most Democrat politicians and other gun control advocates.\n",
      "20 @najmadoc @Docs4GunControl If it was illegal for politicians, some doctors &amp; gun control zealots to lie to Canadians about firearm laws the prisons would be full. The fact that these \"superior\" beings lie to impose their fears is oppression. Educate yourself before you listen to another firearm lie.\n",
      "21 Biden Gun Control Plan Would &amp;#8216;Criminalize&amp;#8217; up to 105 Million People: Gun-rights Group https://t.co/ZMp9eSY9wu через @epochtimes\n",
      "22 @IGN Before any republicans pipe up, just remember that your party is just as guilty: https://t.co/H2XXVv24sN\n",
      "23 Group: Biden gun control would ‘criminalize’ 105M law-abiding people https://t.co/qlp7uoe7kS\n",
      "24 @Gallows7777 @mwd5841 @IGN Huh https://t.co/H2XXVv24sN\n",
      "25 Biden Gun Control Plan Would ‘Criminalize’ up to 105 Million People: Gun-rights Group https://t.co/44mDbveERV via @epochtimes \n",
      "This lunatic, who plays president, legalizes alien criminals both here or on their way here, who will always find guns.\n",
      "26 @AnnieClaireBO @Docs4GunControl If it was illegal for politicians, some doctors &amp; gun control zealots to lie to Canadians about firearm laws the prisons would be full. The fact that these \"superior\" beings lie to impose their fears is oppression. Educate yourself before you listen to another firearm lie.\n",
      "27 @JosephLPoulin @KathrynTewson @Mcbob05073705 @AkivaMCohen 1. I never compared anything to the holocaust or murder (accept to analogize that attempting something is also wrong).\n",
      "2. I am for stricter gun control, but I don't like people who say \"Wah, I can't watch a movie unless the actor also wants stricter gun control.\"\n",
      "28 @Qualifyfor Thanks for posting.  I added my name and donated to @liberal_party Every time I see something about our gun control or about idiotic Conservatives, I donate a little more.\n",
      "29 @imhere_82 @ksorbs You were allowed to own an entire warship. On top of that they had weapons that could shoot over 16 rounds at once. They didn't have stricter gun control I can't even put a forward assist on my gun, because it \"makes it more dangerous\"\n",
      "30 Gun Grabbing in the works. Time to Impeach/Remove. An Oath to Our Constitution is an Oath to ALL of the Constitution. - No Takebacks. .  https://t.co/Tc8RhoLwTQ\n",
      "31 @DennisKendel @Docs4GunControl @najmadoc @RBlakeBrown @PremierScottMoe If it was illegal for politicians, some doctors &amp; gun control zealots to lie to Canadians about firearm laws the prisons would be full. The fact that these \"superior\" beings lie to impose their fears is oppression. Educate yourself before you listen to another firearm lie.\n",
      "32 @Docs4GunControl @erinotoole @CPC_HQ If it was illegal for politicians, some doctors &amp; gun control zealots to lie to Canadians about firearm laws the prisons would be full. The fact that these \"superior\" beings lie to impose their fears is oppression. Educate yourself before you listen to another firearm lie.\n",
      "33 @PamDamoff If it was illegal for politicians, some doctors &amp; gun control zealots to lie to Canadians about firearm laws the prisons would be full. The fact that these \"superior\" beings lie to impose their fears is oppression. Educate yourself before you listen to another firearm lie.\n",
      "34 @PamDamoff If it was illegal for politicians, some doctors &amp; gun control zealots to lie to Canadians about firearm laws the prisons would be full. The fact that these \"superior\" beings lie to impose their fears is oppression. Educate yourself before you listen to another firearm lie.\n",
      "35 @Docs4GunControl @PamDamoff @erinotoole @CPC_HQ If it was illegal for politicians, some doctors &amp; gun control zealots to lie to Canadians about firearm laws the prisons would be full. The fact that these \"superior\" beings lie to impose their fears is oppression. Educate yourself before you listen to another firearm lie.\n",
      "36 https://t.co/D26Rn6LjO2\n",
      "37 @ksorbs The 2A was created primarily because the founders feared a standing army. They had stricter gun control than we do.\n",
      "38 @BobBurg11324144 Once \"gun control\" makes the firearm I own illegal, it becomes de facto, \"gun confiscation\".\n",
      "\n",
      "But you already knew this, so stop arguing disingenuously.\n",
      "39 @JenniferMascia Just now legislators are twigging to the idea that people carrying assault rifles up to their office doors may believe its their duty to stop elected officials by any means necessary?\n",
      "Have they never considered the fastest way to get gun control is to lose a few Politicians?\n",
      "40 @NCBearkat @PeoriaLori @GiffordsCourage I still don't know what your point is.\n",
      "\n",
      "You don't want gun control, but you want people locked up for gun violations? Not only that, you want them locked up twice for the same violation just because there's a state law and a federal law?\n",
      "41 @bagelpennies // guns\n",
      "\n",
      "one time in eighth grade i wrote a paper abt gun control and i go to a conservative school i've just been taking risks since eighth grade\n",
      "42 @Xelorsmile @DestinyIsMyGame @Irrev77 @whitemagexx @BenHilly94 @Captain_Angel29 @arrpucks @Polygon Yeah, the only people I've seen who want gun control are centrists(liberal democrat kind) and totalitarians who want their oppressed citizens to be defenseless.\n",
      "43 Biden Gun Control Plan Would ‘Criminalize’ up to 105 Million People: Gun-rights Group https://t.co/jg3jMtC2BT via @epochtimes\n",
      "44 MSCHF’s latest drop lets you control a Boston Dynamics robot with a paintball gun on its back https://t.co/wWr5L3h3kh via @Verge\n",
      "45 @lucathrowsheat @zerohedge Love it my dude, the more good people are armed, stronger the movement its and it becomes harder for the gob to pass gun control bills.\n",
      "46 A gun-rights organization said that President Joe Biden’s gun control proposal would potentially make about 105 million law-abiding gun owners into criminals.\n",
      "https://t.co/RJCnMds4Er https://t.co/Zfwf7ZwS5a\n",
      "47 March for Our Lives Is Making a Big Demand of Biden... to the Tune of $1 Billion https://t.co/8AGM47t9nv\n",
      "48 @jimaw63 @EmmalineClemen4 @JohnLepper6 @PhuckSea @4JOC1 @rayl1975 @WillieB1two3 @GQPklepto @Klee34036780 @Birdwatcher291 @ThereseOSulliv2 @r0xie_f0x @SlimJimJohn1 @DanaCos @Flattielover @lsuecamp @lostandlovinit @SpRiNgStR3Am @FindingTruths @TomDoubting @JDW714 @MrPantaloni @chrisg409ubc @laylow88861429 @RoseannaBandan1 @LadyOfTheOcean1 @Allie4Christ @HGoheavily @bacchaus351 @RogerLHaviland @ToccyLa @KattMist @IFDrinkLib @wookietim @Keithjo05883263 @ChiefLizWarren @Gun_YouDown @Leo97894180 @Mongo3804 @JOSIE24055239 @4Cocacoladave @cbowling4512 @MomoaScrunchie @Heather4amazon @psfnyc5 @corinne_locher @ButDidYOUSeeIt @boodacat2020 @Black_is_back5 @jim16919077 But those in our government gave it to them so they can control anything the deep state wants to suppress.\n",
      "49 @BrianDaPianoMan @DestinyIsMyGame @Irrev77 @whitemagexx @BenHilly94 @Captain_Angel29 @arrpucks @Polygon Exactly. I don't even think there's a single group outside of liberals that actually wants gun control. The unionists don't want it, the rednecks don't want it, the republicans don't want it, the libertarians don't want it, and the socialists don't want it\n",
      "50 Criminals love gun control; it makes their jobs safer.\n",
      "51 @jakecorsi republican congress members shouldn’t be endorsing gun control  ¯\\_(ツ)_/¯\n",
      "52 Gun control  https://t.co/U4GyCyfZ27\n",
      "53 https://t.co/HFCIlUMNRq\n",
      "54 Urban spawl is probably more responsible for american mass shootings than lack of gun control\n",
      "55 For that? I had some gun control pushing former special ops guy telling me he hopes I kiss a .308 bullet and twitter didn’t do shit about it.\n",
      "\n",
      "Coming from this psycho it’s way more of a threat than “I hope you get ran over” https://t.co/LQlwY0Sg8F\n",
      "56 M-16 / Surefire 100 rd mag https://t.co/sKyRIPvf5f via @YouTube One of the biggest forms of racism is Gun Control. In cities where blks live, all kinds of laws limit gun ownership and weaponry while in rural &amp; suburban AmeriKKKa, whites are left to arm themselves to the MAX!\n",
      "57 @Zac2040 @saintsundere @BenjaminABoyce How can I forget. Gun control\n",
      "58 Biden Gun Control Plan Would ‘Criminalize’ up to 105 Million People: Gun-rights Group https://t.co/65mDwtc6o6 via @epochtimes\n",
      "59 @Repevans33 needs to focus on gun control not game control.\n",
      "\n",
      " https://t.co/5F0jvuiUS4\n",
      "60 @DestinyIsMyGame @Xelorsmile @Irrev77 @whitemagexx @BenHilly94 @Captain_Angel29 @arrpucks @Polygon gun control is used by capitalists to disarm the working class and prevent them from protecting themselves from their oppressors. https://t.co/EKfpaaxbTi\n",
      "61 Dick around\n",
      "\n",
      "Now your rights\n",
      "\n",
      "Are gone\n",
      "\n",
      "https://t.co/41Atk6yoAw\n",
      "62 \"'civil rights,' feminism, environmentalism, national health care, gun control, and abortion on demand may not seem intrinsically related, but they all extend the authority and power of the centralized state over private relations.\"\n",
      "63 Even as President Biden calls upon lawmakers at the federal level to enact new gun control measures, at the state level, legislators are pushing back. https://t.co/d2DL34Gwpq\n",
      "64 Every gun control debate I have with someone on the right devolves into them saying “I know more about guns than you do”. It’s kinda pointless speaking with these people sometimes.\n",
      "65 @SenatorSinema you’ve been in Washington long enough to know that what you’re saying is not reality. This is a fatal mistake to assume republicans want compromise on anything thats part of helping working class Americans, climate change,gun control. \n",
      "#theydontcare \n",
      "#wakethefuckup https://t.co/FMc8GdU7b3\n",
      "66 This is a good quick interview that might shed some light on the ‘gun control’ issue in Canada... worth the watch!   https://t.co/FgBC4pVRV9\n",
      "67 #Somalia politicians are sure sending of a lot of condolences to victims of COVID-19 after failing to manufacture oxygen. It’s equivalent to members of Republican Party sending thoughts &amp; prayers to victims of gun violence after refusing to pass basic gun control legislation.\n",
      "68 LOL, @KLoeffler's web developers use an image from a gun control protest... https://t.co/yng3wB4f2f\n",
      "69 And I don't think the NRA is afraid to stand up to Biden!\n",
      "\n",
      "Biden Gun Control Plan Would ‘Criminalize’ up to 105 Million People: Gun-rights Group https://t.co/GQZrZVNXrX via @epochtimes\n",
      "70 Biden AG pick Merrick Garland says there’s room for new gun control https://t.co/bvsdp3Uord\n",
      "71 @baconbaps1 @hunkybloodydory Yes, government dictators fear an armed population, armed people are harder to subjugate and enslave, an armed population is harder to oppress. Also, Gun control is incredibly racist and therefor you must be too, also, you’re a Nazi.\n",
      "72 This is the exact same reverse moral shaming people do after, say, gun violence when they go “you’re bringing up gun control NOW? Wow that’s so disrespectful to the victims. Can’t believe your use their deaths to push your agenda 🙄” https://t.co/9AvInNNYBz\n",
      "73 @Thomas08072966 @akaLLTribune @BAmerican2 @wrtv Every major city with strict gun control laws are the leaders in gun violence. Mass shootings are performed by criminals. They don’t follow the law so what are gun laws going to do?  Armed security would stop the shootings.\n",
      "74 @BeaumontHusky @ollierowe_rowe @american_okay @HarshitkumarGo5 @benshapiro Let me ask you this, will gun control affect the criminals?\n",
      "75 This is literally what I’ve been wanting to say to every one of my friends who seem to think all this gun control is a good thing.\n",
      "\n",
      "Great job articulating things and making it clear, @MrColionNoir. Awesome video!\n",
      "\n",
      "https://t.co/crUB0lWw4h via @YouTube\n",
      "76 @MomsDemand @Everytown We’re calling out moms complaining for doing nothing for gun safety and everything for control.\n",
      "77 @SpawnWaveMedia ah yes its the video games and not the lax gun control .\n",
      "78 @Betty55475630 @johnrich It’s not gun control, it’s GUN REFORM!!! Common sense gun laws, like ensuring everyone who buys a gun goes through a background check. Jesus, there’s a reason so many support it. Educate your.\n",
      "79 Liberal Supporting Joe Biden's Gun Control Responds To My Video, Here's ... https://t.co/dU84iGxVCG via @YouTube\n",
      "80 @damiencaelum @PPants2021 @clockoutwars @POTUS None of them deserved to die.\n",
      "\n",
      "What about Daniel Shaver, shot dead unarmed in a hotel corridor after being spotted inside his hotel room with an air gun he used for his pest control job? Or Maggie Brooks? Shot dead when her dog attacked police? Both white.\n",
      "\n",
      "None deserved to die.\n",
      "81 @mileslunn @danneufeld @Docs4GunControl Unfortunately the numbers just don’t prove it.\n",
      " I matter how much you twist it gun control does not equal crime control\n",
      "82 Biden gun control would ‘criminalize’ 105M law-abiding people https://t.co/ePsFCIPgw5\n",
      "83 @thefairbear @dreingar @HolderStephen But, thanks for the heads up! Looks like really the only party to enact any laws for gun control (background checks fir private sales) was in 2018, with that Republican Governor. Surprising to me.\n",
      "84 @marcorubio It’s also not the “job” of Senate Republicans to instill fear in Americans about immigration &amp; gun control....but that hasn’t stopped them has it?\n",
      "85 @BeebeJayme @avenaim Isn’t it though? The gun lobby, the oil &amp; gas lobby, and Christian fundamentalist literally OWN the Republican Party &amp; any sector of government they control.  I don’t know why I didn’t see this sooner  but there’s no denying it now.\n",
      "86 Biden Gun Control Plan Would ‘Criminalize’ up to 105 Million People: Gun-rights Group\n",
      "BY JACK PHILLIPS February 23, 2021\n",
      "https://t.co/afmGJf5OJP\n",
      "87 Biden Gun Control Plan Would ‘Criminalize’ up to 105 Million People: Gun-rights Group https://t.co/58QmA5B0NL\n",
      "88 @GAprogressive15 @mehdirhasan ...\n",
      "Either way, you and I strongly support ending the War on Drugs. That'll reduce the gun homicide rate far more than any of these gun control policies being considered. Oregon will be a good experiment over the next couple years. Let's see what happens.\n",
      "89 I mean, she and @JoeManchinWV clearly /want/ no action on climate change, gun control, or voting access. They aren't idiots. They both know that they can only get away with blocking the parts of the Dem platform they don't like by claiming it's about senate rules and procedure https://t.co/e015JtEySY\n",
      "90 200 Businesses Whose Leaders Are Backing Gun Control Initiatives \n",
      "\n",
      "Let them know we can take our business elsewhere...\n",
      "\n",
      "https://t.co/V4PtJGyHv6\n",
      "91 Good M16 build in CODM is the one in which you make the gun as light as possible.\n",
      "This gun has so little recoil (thanks to the burst mechanism), you'll be just fine without recoil control or bullet spread attachments at all. https://t.co/FaMjDWcXae\n",
      "92 @chrisg409ubc @JohnLepper6 @EmmalineClemen4 @PhuckSea @4JOC1 @rayl1975 @WillieB1two3 @GQPklepto @Klee34036780 @Birdwatcher291 @ThereseOSulliv2 @r0xie_f0x @SlimJimJohn1 @DanaCos @Flattielover @lsuecamp @lostandlovinit @SpRiNgStR3Am @FindingTruths @TomDoubting @JDW714 @MrPantaloni @jimaw63 @laylow88861429 @RoseannaBandan1 @LadyOfTheOcean1 @Allie4Christ @HGoheavily @bacchaus351 @RogerLHaviland @ToccyLa @KattMist @IFDrinkLib @wookietim @Keithjo05883263 @ChiefLizWarren @Gun_YouDown @Leo97894180 @Mongo3804 @JOSIE24055239 @4Cocacoladave @cbowling4512 @MomoaScrunchie @Heather4amazon @psfnyc5 @corinne_locher @ButDidYOUSeeIt @boodacat2020 @Black_is_back5 @jim16919077 I certainly believe that foreign governments have bought an control a major part of our government. Maybe even the Supreme Court.\n",
      "93 Racist Democrats are a racist party of racist fascism. Here's how:\n",
      "\n",
      "1) Racist bigotry with #CocaCoca racist orientation\n",
      "2) Sexually aroused by #RushLimbaugh dying\n",
      "3) Gun Control\n",
      "4) Widespread, more intense daily riots\n",
      "5) 80% of felons\n",
      "6) Projecting Nazism to evade suspicion\n",
      "\n",
      "#BLM\n",
      "94 @nytimes Makes sense - Chicago has one of the lowest crime rates in the nation and THE lowest murder rates worldwide - due in part to its tough stance on gun control.\n",
      "\n",
      "How many people use cash bail in the utopia of Illinois?\n",
      "95 @Repevans33 sure because that what's needed fixing in Chicago, banning video games in stores instead of gun control or stoping the crimes from happening\n",
      "96 Nothing on climate change, immigration, gun control, racial justice, healthcare, childcare, or housing. And it's just so undeniably obvious that millions will suffer, and an untold number will die, because of our inaction now. And for what benefit? Hypothetical bipartisanship?\n",
      "97 Pavlich: Biden administration 'not reading the room' on gun control |  https://t.co/31Yyuk1S4b @KatiePavlich and @KennedyNation talk gun grabbing liberals.\n",
      "98 @Soylent_Lament @AnnCoulter @JesseKellyDC Seems a little hard to believe these politicians calling for gun control the only shot dead person was an unarmed lady if you know about hunting you watch this officers gun barrel survey the crowd a couple times then target achieved and dead lady ! This was planned for 0 deaths !\n",
      "99 Way to GO, #DementiaJoe Great Unifying!\n",
      "Biden Gun Control Plan Would ‘Criminalize’ up to 105 Million People: Gun-rights Group https://t.co/3YcL9CG0xu via @epochtimes\n",
      "100 @USATODAY Gun control, like most liberal ideas, has backfired\n",
      "101 @SenatorSinema No Senate action on gun control, climate change, voting access?? Your position on the filibuster will lead to this. Why?!?! Wtf? Please reconsider your future vote for your community, the country, and your conscience. Don't be an asshole.\n",
      "102 Biden Gun Control Plan Would ‘Criminalize’ up to 105 Million People: Gun-rights Group https://t.co/DtPNC0N4rz via @epochtimes\n",
      "103 @wa11ssupremacy WAKING UP BESIDE YOU IM A LOADED GUN I CANT CONTAIN THIS ANYMORE IM ALL YOUR I GOT NO CONTROL NO CONTROLLLOOL\n",
      "104 Imagine thinking gun control is the answer.\n",
      "105 @lucathrowsheat @zerohedge Love 'em. Makes overly-strict gun control measures that shouldn't exist pretty much obsolete from the get-go.\n",
      "\n",
      "It's basically a big middle finger to anyone who wants to over-extend their control via any form of public office.\n",
      "106 Group: Biden gun control would ‘criminalize’ 105M law-abiding people https://t.co/HVszkhL50I\n",
      "107 @dirtycorza @skeletate literally yes, someone qrted it saying, it's like, \"don't politicize this tragedy\" to ppl talking abt gun control after a mass shooting and the ones saying that are the mass shooters\n",
      "108 @julibriskman If fewer guns = safer communities then why do localities with the strictest gun control have higher violent crime?  All ears 👂👂👂\n",
      "109 @mehdirhasan No Senate action on gun control is a good thing for the Democrats. They'd get absolutely massacred in 2022 otherwise.\n",
      "110 What’s so frustrating about this defense of bipartisanship and compromise in the Senate is that it’s so abstract and doesn’t deal in particulars. Is Sinema ok with no Senate action on climate change, on gun control, on voting access? Because that’s what her position leads to. https://t.co/gVFCHJtO0b\n",
      "111 Biden Gun Control Plan Would ‘Criminalize’ up to 105 Million People: Gun-rights Group https://t.co/kL6MHoF0B6\n",
      "112 Insane gun control and banning of violent video games will cause a civil war or riot. Mark my words.\n",
      "113 Gun control extremists: \"You should be trained to have access to firearms\"\n",
      "\n",
      "Firearms owner: \"Ok, I'll set up a range and let people train there for free\"\n",
      "\n",
      "Gun control extremists: https://t.co/VhRljaiKHF\n",
      "114 @MJTobinator @GovKemp You know, at some point, right and left are gonna have to start having actual discussions about our differences, 2A being the main concern. Thus far, every single gun control supporter I've encountered, makes weak attempts at gunsplaining with ZERO knowledge about firearms.\n",
      "115 MO county passes law to arrest feds who try enforcing federal gun control laws in county | American Military News https://t.co/sSd7R9NzKx\n",
      "116 @KasieElaine__ I don't believe so. I know they did a gun buyback a while back and they have stricter gun control. But, some Australians I've talked to have said that they think Americans are obsessed with guns and they don't get the obsession.\n",
      "117 @EpochTimes Gun control is illegal....\n",
      "118 Are folks so worried about suicide rates among kids also advocating for some type of gun control? \"Every study that has examined the issue to date has found that within the U.S., access to firearms is associated with increased suicide risk.\"\n",
      "Source: https://t.co/YC97wpaMdd https://t.co/1psXJVvxgm\n",
      "119 News Analysis🔎President Biden has yet to unveil details of his #GunControl agenda, but his comments on the campaign trail and since then suggest it will be ambitious. https://t.co/fKp4SXjEfF\n",
      "120 Biden Gun Control Plan Would ‘Criminalize’ up to 105 Million People: Gun-rights Group https://t.co/ZM6ird3gvh via @epochtimes\n",
      "121 Biden Gun Control Plan Would ‘Criminalize’ up to 105 Million People: Gun-rights Group https://t.co/Sgr8XsQWRo via @epochtimes\n",
      "122 Americans felt the need to arm themselves in 2020:\n",
      "\n",
      "\"The FBI stated last month that it processed a record 39.7 million firearm background checks in 2020, which bested the previous high of 10 million.\" https://t.co/sX7azLsjE5\n",
      "123 @kyleruggles @rath_22 Whoah. I am Debbie. Who the fuck are you? 🤣 far from conservative, shot a gun once when I was 15 &amp; def for gun control &amp; never liked/voted Trump. Now that your wrong about everything. I prefer not to see posts w/dick &amp; Pussy. Personal preference I guess 🤷🏼‍♀️\n",
      "124 @NikkiBalzzz @ksorbs We can see that some of you want gun control. It's literally in H.R. 127.\n",
      "125 @Major_Hutch @ksorbs But most crimes and mass murders are committed with handguns. I thought the plan was to lower that? Why only allow the weapon most used in those acts? Oh that’s right, gun control is not about saving lives just tricking the uneducated into thinking it is\n",
      "126 anything but gun control. https://t.co/TpTzFoZKkP\n",
      "127 Answer to Why is background check not effective to gun control in the US? by Charles Vanderford https://t.co/cU4tK6NrFg\n",
      "128 The barrel of the 105 mm Indian Field Gun burst into pieces killing the soldier and wounded two others. Poor quality control at ammo and barrel manufacturing facilities continues. @adgpi @rwac48 https://t.co/ICfUVdY8mm\n",
      "129 March For Our Lives wants Biden-Harris administration to appoint Gun Control Czar,https://t.co/L8R75N9EC9\n",
      "130 @Ivan_Is_Back 'gun friendly'\n",
      "&gt;A gun control bill, passed on March 30, 2018, bans sale of magazines of more than 10 rounds for long guns and 15 rounds for pistols.[15] It was signed by Governor Scott on April 11. https://t.co/7fpfagfVBN\n",
      "131 Biden Gun Control Plan Would ‘Criminalize’ up to 105 Million People: Gun-rights Group https://t.co/3OoUKYRbVN\n",
      "132 @IGN Bwahahaha\n",
      "\n",
      "when far left lunatics turn out to be just like the hardcore religious right 🤣\n",
      "\n",
      "say goodbye to your video games because they can't admit that GUN CONTROL FAILED\n",
      "133 Biden Gun Control Plan Would ‘Criminalize’ up to 105 Million People: Gun-rights Group https://t.co/CzTJsE04V3\n",
      "134 Really want to piss off a chud? Remind them that protecting private ownership of firearms is a Marxist ideology and that gun control as we know it today, especially California but also federally, can be tied directly to Reagan and the GOP. https://t.co/Pa7Wmjn8Tj\n",
      "135 200 Businesses Whose Leaders Are Backing Gun Control Initiatives https://t.co/c8DdEz0XS9\n",
      "136 @QuickDCapital So pick your policy and I’d be glad to demonstrate how it negatively impacts minority communities. From solar power to gun control.\n",
      "137 @ClementLiberty @PamDamoff I wasn't asking you to *prove* anything. \n",
      "\n",
      "Simply curious is he's ever stated he doesn't support it.\n",
      "\n",
      "Really not that hard a thing &amp; not a *gotcha* question.\n",
      "\n",
      "He's a politician he's taken fairly vocal stances on gun control it's not out of the realms to think he's discussed it\n",
      "138 Merrick Garland admits his DOJ would 'advance' Joe Biden's gun control agenda: 'Entitled to pursue' https://t.co/OpKGQ6UOYY  Is this the tipping point?\n",
      "139 https://t.co/f4oFbNxMBG\n",
      "140 Biden Gun Control Plan Would ‘Criminalize’ up to 105 Million People: Gun-rights Group https://t.co/MxbskDXF2N via @epochtimes\n",
      "141 @WTHRcom Yes. Because that’s what this country and state need: looser gun control. 🙄\n",
      "142 Biden Gun Control Plan Would ‘Criminalize’ up to 105 Million People: Gun-rights Group https://t.co/F90sPKY7r5 via @epochtimes\n",
      "143 @GregButcher_ @tyseymour no republican who endorsed gun control should walk away unscathed. i hope she’s a thorn in his side, essentially. a reminder that he will be  held accountable for his actions by those who have voted for him.\n",
      "144 Worth remembering the police unions have often supported democratic candidates and priorities, including gun control. The NAPO supported Obama twice. Racism, yes, but departments create decent-paying jobs for minorities, as Chicago mayor Lori Lightfoot pointed out.\n",
      "145 \"He is not afraid of standing up to the NRA...\" I call BS. He probably has a hard time standing up to pee.\n",
      "https://t.co/6hGThYWR1c\n",
      "146 Should the civilian population be armed? What are the pros and cons of legal gun ownership....\n",
      "\n",
      "Think for yourself. #cdnpoli #onpoli #guncontrol \n",
      "\n",
      "How the Nazis Used Gun Control | National Review https://t.co/FqicwPhqnc\n",
      "147 Biden Gun Control Plan Would ‘Criminalize’ up to 105 Million People: Gun-rights Group https://t.co/iNEUsD8rjL via @epochtimes\n",
      "148 @PeggyYoungMcco1 @GreggSmithCO3 I'm a democrat and own my controlled gun.\n",
      "I hate gov. trying to control it for me.\n",
      "149 Biden’s America Last https://t.co/XnMBclAO3W\n",
      "150 They're also opening the borders, purging the military, making big tech censorship into law, demanding reparations, enacting gun control, starting a domestic war on terror, and criminalizing political dissent.\n",
      "\n",
      "But no yeah, the budget is all partisan and stuff. Thanks Mitch. https://t.co/o1C6BFy1XB\n",
      "151 @GenikChechnya @ProjectLincoln Not one mentions of gun control. No one is taking my guns.\n",
      "152 Biden Gun Control Plan Would ‘Criminalize’ up to 105 Million People: Gun-rights Group https://t.co/NXnF35ReKA via @epochtimes\n",
      "153 @nichcarlson I learned that plant based diets unlock magic vibrations that are killed by dead animal flesh, but only for black people. This was in a room called Biden and gun control.\n",
      "154 These radicals won't rest until they've banned every gun, every magazine, every accessory!\n",
      "\n",
      "Diane Feinstein Sends Letter To Joe Biden Listing Requirements For His Pick To Head The ATF -- Enforcing Radical New Gun Control Is Part Of The Job! https://t.co/NzQy9CfnKB\n",
      "155 @geostylegeo Gun control\n",
      "Immigration \n",
      "Race relations\n",
      "Abortion\n",
      "156 @WVwontWait @ksorbs Don't believe that quote attributed to Reagan, but he did say:\n",
      "“We will never disarm any American who seeks to protect his or her family from fear and harm,” may '83\n",
      "And \"you won't get gun control by disarming law abiding citizens... Disarm the thugs and the criminals\" June '83\n",
      "157 📺 #Kennedy @KennedyNation \n",
      "(Watch the Midnight ET replay)\n",
      "\n",
      "@KatiePavlich : Biden administration 'not reading the room' on gun control \n",
      "\n",
      "https://t.co/qWuGJc8Ym6\n",
      "158 Biden Gun Control Plan Would ‘Criminalize’ up to 105 Million People: Gun-rights Group https://t.co/3ydmL2OhGj via @epochtimes\n",
      "159 Biden Gun Control Plan Would ‘Criminalize’ up to 105 Million People: Gun-rights Group https://t.co/70yDpirKkk via @epochtimes\n",
      "160 @JoshKelNASCAR @rangerfan014 @bluelivesmtr There have been mass stabbings both the UK and France last year. Even with the massive increase in legal gun purchases in the US in the past 12 months, this has not resulted in an increase in mass shootings. Gun control isn’t the answer, enforcing the laws and prosecution are.\n",
      "161 It’s not being used a “gotcha” the harassment from antis was the direct cause of what happened. You sound like Republicans who don’t want to talk about gun control after school shootings https://t.co/5qKUeEmVju\n",
      "162 @terry_go_online Issues with the gun on the F-35A, flight control issue on both the F-35B and F-35C come to mind. Reliability and maintenance issues.\n",
      "163 Gun control is necessary to  counter terrorism; it is necessary for national security, and it is necessary to address the public health crisis espoused by gun violence. https://t.co/l2GpAzm6B4\n",
      "164 Merrick Garland admits his DOJ would 'advance' Joe Biden's gun control agenda: 'Entitled to pursue' https://t.co/cmr4a5QQPt #MerrickGarland #DOJ #JoeBiden #guncontrol https://t.co/Av8ZvpFDWE\n",
      "165 It’s getting harder and harder to find businesses that are pro 2nd Amendment.\n",
      "200 Businesses Whose Leaders Are Backing Gun Control Initiatives https://t.co/sOLgOsfHMq\n",
      "166 this is like “don’t politicize this tragedy” when people bring up gun control after a mass shooting https://t.co/v8kNbBhy8T\n",
      "167 Why do Americans laugh at Canada?  They have a gun control bill proposed that wants to make Airsoft illegal and owning Airsoft guns illegal, but won't restrict things like shotguns. FYI I'm a 2A supporting American who is against all forms of gun control. But wtf Canada.\n",
      "168 Biden Gun Control Plan Would ‘Criminalize’ up to 105 Million People: Gun-rights Group - DEMS are FINE with CRIMINALIZING MILLIONS OF \"LAW ABIDING\" Americans BUT Releasing ACTUAL CRIMINALS!  As long as it achieves their IDEOLOGICAL GOALS, they are FINE WITH IT!  Wake Up America !!\n",
      "169 Biden Gun Control Plan Would ‘Criminalize’ up to 105 Million People: Gun-rights Group -https://t.co/CEGNnrBzPQ via @epochtimes\n",
      "170 @ShiguSquad @MaskOffCons Actually, Mr Dennis Prager is a Jew and is a person who laughs a lot, and they share a political philosophy, so I’m sure he laughed too. Wake up, Hitler justified gun control that way. Also, of the 1000s of shootings in 2019 or 2020, how many were by LEGAL gun owners?\n",
      "171 Biden Gun Control Plan Would Criminalize up to 105 Million People: Gun-rights Group https://t.co/EswI3aUna6 via @news_ntd\n",
      "172 @Sungsam12 @SamsonWrigley @OpieRadio @JimNorton @CompoundBoss Also if you like Nancy pelosi and gun control then I completely understand why you are a fan of somebody like opie\n",
      "173 @Fakenam61826047 @SamsonWrigley @OpieRadio @JimNorton @CompoundBoss You like AOC Nancy Pelosi and Gun Control?\n",
      "174 March For Our Lives wants Biden-Harris administration to appoint Gun Control Czar https://t.co/ABmFSwFsMD https://t.co/om5f1PIagA\n",
      "175 Control women's bodies, control trans bodies, promote forced patriotism ... the entire legislative agenda for the @TexasGOP.  They're useless to average Texans. Vote them out. https://t.co/NsSubHHnOV\n",
      "176 What more Americans need to realise is that Australia got strict gun control from a very conservative leader and government and it’s not a political issue it’s a cultural issue\n",
      "177 How about taking some of that money spent on gun control laws criminals don't obey and fix the power grid in Texas https://t.co/5gqLUZMe7Z\n",
      "178 200 Businesses Whose Leaders Are Backing Gun Control Initiatives https://t.co/sah3N6lsot\n",
      "179 @LanazzerRinkilr @KSLcom According to the new AG hearings in Washington today, he plans to go along with ole’ spaghetti brain’s gun control agenda.  So, yeah. Local protection from federal tyranny is necessary.\n",
      "180 RU kidding! You're not saying anything factual your pro gun rant is insignificant!\n",
      "Who cares what you say?! You have no say as to what government decides! Remember May 202  busy covid🇲🇶 BS 🥱\n",
      "\n",
      "10/3 podcast: The troubles with Trudeau's gun control policy. https://t.co/Oo3K5sCjgO\n",
      "181 🖕🏿\n",
      "\n",
      "Biden's AG nominee Garland says DOJ would pursue gun control agenda | American Military News https://t.co/Q0TxmZBf9z\n",
      "182 A line in the sand... MO county passes law to arrest feds who try enforcing federal gun control laws in county https://t.co/T7p6Q6CQyl via @amermilnews\n",
      "183 @Fakenam61826047 @SamsonWrigley @OpieRadio @JimNorton @CompoundBoss Says the man who's triggered by gun control Nancy Pelosi and AOC\n",
      "184 Biden's AG nominee Garland says DOJ would pursue gun control agenda https://t.co/bslQ8RjMIY via @amermilnews\n",
      "185 remember that those gun control laws only hurt the people who are poor\n",
      "186 Gun control what a joke. Ignorance of guns is the problem with Sheila Jackson lee. How come the government does not go after criminals not abiding citizens. Why are you so backwards?\n",
      "187 Biden Brings Aggressive Gun Control Plans, Where Trump Supported 2nd Amendment https://t.co/6q5iz0yQVz via @epochtimes\n",
      "188 Biden Gun Control Plan Would ‘Criminalize’ up to 105 Million People: Gun-rights Group https://t.co/uvWM5YlYLL via @epochtimes\n",
      "189 10/3 podcast: The troubles with Trudeau's gun control policy. https://t.co/Oo3K5sCjgO\n",
      "190 YES!!. @MittRomney is #FakeNews.  He is so jealous of President Trump. He is PRO Socialism, PRO Government Control,  ANTI gun, ANTI Freedom, ANTI ANYTHING that is FOR  #WeThePeople. #Trump2024 https://t.co/kRd0qN4CEm https://t.co/HcGm6qM6nT\n",
      "191 Biden Gun Control Plan Could ‘Criminalize’ over 100 Million Law-Abiding Americans, Says US Concealed Carry Association\n",
      "https://t.co/teEPcIwEQc\n",
      "192 Of course. Start donating to Second Amendment defenders. They're going to need the money.\n",
      "\n",
      "https://t.co/4ujCtlc7f7\n",
      "193 i can’t believe aus &amp; nz have set the standard for so many things like gun control, liveable minimum wages &amp; covid response and the north american leaders have the audacity to say they’re “doing their best”\n",
      "194 @sheridan0422 @shannonrwatts All gun control is racist, chalkroach. https://t.co/0roMEIN7MV\n",
      "195 @quantum_redroad @MarcusFitzsimon @laurenboebert At what point did I say it doesn't happen...feel free to re-read my original comment.  As for my argument, you've already proven I was correct.  My original comment was a reference to the incidents of mass shootings in Canada (gun control) vs the U.S. (no gun control).\n",
      "196 Biden Gun Control Plan Would ‘Criminalize’ up to 105 Million People: Gun-rights Group https://t.co/HPkZqYE9W6 via @epochtimes\n",
      "197 READ MORE HERE: Biden Gun Control Plan Would ‘Criminalize’ up to 105 Million People: Gun-rights Group (https://t.co/qMCZ6QTJs1) (https://t.co/7b12Ai43Xr)\n",
      "198 The group—which, according to the group’s website (https://t.co/6229fVpD8A), has about 556,000 members—said the president’s push for gun control on the anniversary of the Parkland, Florida mass shooting was needless.\n",
      "199 A gun-rights organization said that President Joe Biden (https://t.co/K08ZQiOAmj)’s gun control proposal would potentially make about 105 million law-abiding gun owners into criminals.\n",
      "200 Biden Gun Control Plan Would ‘Criminalize’ up to 105 Million People: Gun-rights Group\n",
      "\n",
      "A thread ⬇️ https://t.co/wa7O3yQd9M\n",
      "201 I had somebody flash a gun at me the last time I was on Thompson Lane. A friend got shot in an attempted robbery at Opry Mills just a few weeks ago. The crime in Nashville is out of control. https://t.co/IW33bjvpYd\n",
      "202 @MomsDemand @shannonrwatts @Everytown I used to be a member - and still am thankful for what they taught me about gun safety.  However, over the decades, the organization really changed.\n",
      "\n",
      "https://t.co/OF5CLRRV9H\n",
      "203 @DavidLafond11 @VoteGoldJen @EMonko111 @hunkybloodydory Then why are high gun control nations safer\n",
      "204 @realpersonpltcs @alwaysberunning @jwink4 Biden Gun Control Plan Would ‘Criminalize’ up to 105 Million People: Gun-rights Group https://t.co/6JJyXaKJtr\n",
      "205 @WhiteHouse Joe Biden needs to get A life on  all these gun control thing they are you do a background check on all guns leave a gun store come on  man so everything is legal and at least the store I should be able to protect my home with whatever I want it’s my house\n",
      "206 @DenverDougScott @docelm0 @FULLYSEMIAUT0 @Everytown No, the actual facts surrounding guns in the United States do not care about your feelings. Gun control is the single biggest losing issue for the authoritarian democrats. I have cited verifiable statistics and you just go on about emotion.\n",
      "207 Report: Biden Weighing Gun Control EO on ‘Ghost Guns‘ https://t.co/U0uxBczvpC via @BreitbartNews\n",
      "208 gun control https://t.co/G4gESHcznL\n",
      "209 The attack on the Capitol could have been much much worse, a massacre, if DC didn’t have strong gun control laws. Gun control works. You think these #MAGATerrorists wouldn’t have been armed with assault rifles if it was an open carry area? \n",
      "#CapitolRiotHearing\n",
      "210 @MrXBob Shoes how much America is messed up, yup let's ban violent video games even though we have messed up gun control and our government is so messed up we can't even impeach an ex president even though we know he's insane and caused riots ....\n",
      "211 Socialist. Doesn't believe in justice, fairness, freedoms, liberties, decency, morals; just their way, cruelty, force &amp; control all at the barrel of a gun. Those are the weak, cowardly, insecure kind. Nothing strong there. Always the easy way out.Her bookcase arsenal showed that https://t.co/Lgpfg3ikVd\n",
      "212 Biden Gun Control Plan Would ‘Criminalize’ up to 105 Million People: Gun-rights Group https://t.co/JqksAbkzLY\n",
      "213 Instead of limiting access to guns, the @USCCA is urging @JoeBiden to nationalize legal permitting and end the patchwork of state regulations. https://t.co/kynUOj8cbP\n",
      "214 @DoubleMeat5 @ollierowe_rowe @american_okay @HarshitkumarGo5 @benshapiro Lol, you got me there. We are pretty clearly talking about the 2nd amendment which doesn’t just cover guns but I did say gun control.   Machine guns, sawed off shotguns, Tech 9.   Pretty sure those have all been illegal for a while.\n",
      "215 .@mattgurney joins @BreakenridgeYEG on @TenThreePodcast to discuss issues with delegating bans to cities, why the legislation is targeting the wrong people, and why Liberal actions don’t match their overheated rhetoric. https://t.co/RRWnIfwKT5\n",
      "216 Merrick Garland admits his DOJ would 'advance' Joe Biden's gun control agenda: 'Entitled to pursue' https://t.co/cn6Rkpvw9h\n",
      "217 No need for gun control, just ban the video games! https://t.co/eEwQvmzrwj\n",
      "218 https://t.co/fXo2ScQ7Es\n",
      "219 Group: Biden gun control would ‘criminalize’ 105M law-abiding people https://t.co/n9zKtiirjj\n",
      "220 It's also 100% unconstitutional. | Biden Gun Control Plan Would ‘Criminalize’ up to 105 Million People: Gun-rights Group https://t.co/difsVnH5Mv via @epochtimes\n",
      "221 Biden Gun Control Plan Would ‘Criminalize’ up to 105 Million People: Gun-rights Group https://t.co/SB2o1zMOhb via @epochtimes\n",
      "222 How fucking petrified of us they are...\n",
      "\n",
      "https://t.co/rfPqObAam8\n",
      "223 @Runesael Me-“ah yes, safe inside my void bubble that can defend against even a golden gun”\n",
      "Some crystal-chucking sweat-load out flawless gearlord in Control - *laughs derisively*\n",
      "224 Nooses For Gun Control | Subverted Nation\n",
      "https://t.co/2xXRVmT0X7\n",
      "225 @mansoortshams You being a marine has zero bearing on your knowledge and interpretation of the 2a. The supreme court and all of US history disagrees with you. Furthermore, gun control has been and is being used specifically to disarm POC. You are helping with that. Still sound like a good idea?\n",
      "226 Superb hosting tonight @KatiePavlich - especially the gun control seg w/@DLoesch .... !\n",
      "227 Biden Gun Control Plan Would ‘Criminalize’ up to 105 Million People: Gun-rights Group https://t.co/gn2NWTgZbF via @epochtimes\n",
      "228 Liberal Supporting Joe Biden's Gun Control Responds To My Video, Here's ... https://t.co/amqHDdl5lu via @YouTube\n",
      "229 Biden Gun Control Plan Would ‘Criminalize’ up to 105 Million People: Gun-rights Group https://t.co/GfOfjZWBL9 via @epochtimes\n",
      "230 The Australian Gun Control Fallacy - https://t.co/IJo2L90iHu #2a #guns #gunrights #gunsense\n",
      "231 @StephenGutowski Gun control will be Biden’s and the DNC’s downfall, but by all means shoot for the moon\n",
      "232 Not because of her stance on “gun control” but because of “incompetence” and the same thing with him giving “firearms” advice!!! Who “authorized ‘HIM’” to gives firearms advice to “ANYBODY!!!” He’s worried about guns being in the “wrong hands???”😂\n",
      "233 Brooklyn-based company @mschf is crowdsourcing control of the @BostonDynamics robot Spot They mounted a paintball gun on it to protest what they say is its inevitable use as a military tool. But @BostonDynamics says mounting guns on their robots is exactly what they're against. https://t.co/WTGpsqPNaj\n",
      "234 Biden Gun Control Plan Would ‘Criminalize’ up to 105 Million People: Gun-rights Group https://t.co/JnHt43Qyxa\n",
      "235 Biden Gun Control Plan Would ‘Criminalize’ up to 105 Million People: Gun-rights Group https://t.co/3DIQ96327i\n",
      "236 @MJMusicEars Biden has betrayed the young people of Parkland and all of us with his abandonment of Comprehensive Gun Control Legislation. The NRA is \"friends\" with Joe's \"FRIENDS\" in the Republican Party. Joe's connect to Raytheon was an early clue he would not pursue real gun control LAWS\n",
      "237 Watch out gun owners. Joey Buyden’s orders will make all of us felons with a stroke of his creepy criminal pen! https://t.co/sH6pmX8a49\n",
      "238 Biden Gun Control Plan Would ‘Criminalize’ up to 105 Million People: Gun-rights Group https://t.co/0jBLU2r1ld via @epochtimes\n",
      "239 Biden Gun Control Plan Would ‘Criminalize’ up to 105 Million People: Gun-rights Group https://t.co/Ib8FhB1Vhb\n",
      "240 Utah #GOP:\n",
      "Local control of mask requirements = good\n",
      "Local control over gun restrictions in public = bad\n",
      "\n",
      "So, it's not really about local control, is it? 🤔🤔🤔🤔🤔\n",
      "241 @laurenboebert Why do people think more gun control is going to get the guns out of the hands of bad people? That approach clearly hasn't worked so far!\n",
      "242 https://t.co/GxMJFgJCUT\n",
      "243 @w_terrence Gun control will be your downfall\n",
      "244 @golikehellmachi Every time I get into talking about gun control I try to mention police’s role. Disarm. Deescalate. Funny, someone responded to me here like I’m being crazy, “combat law enforcement by disarming law enforcement.” Totally! https://t.co/pYNQSZ2PGJ\n",
      "245 Liberal Supporting Joe Biden's Gun Control Responds To My Video, Here's ... https://t.co/VFYMEqW7Tk via @YouTube\n",
      "246 Report: Biden Weighing Gun Control EO on ‘Ghost Guns‘ https://t.co/N6hf1w5iM6 via @BreitbartNews\n",
      "247 @newblakestone @ATATChat Which is probably why I saw the gun control debate in civil war, because to alot of gun owners the government following what happens in civil war would be the worst of the worst. Confiscation, arrests and imprisonment, all for doing what most of them feel is the right thing.\n",
      "248 Debating a tankie troll, reviewing UnnaturalVegan's response, reviewing gun control videos https://t.co/8iG28hRxcj\n",
      "249 @MomsDemand I'm horrified President Biden has abandoned Comprehensive Gun Control Legislation. It didn't take long for his \"FRIENDS\" in the (n)R(a)epublican Party to get him to betray the victims of Gun Violence.\n",
      "250 @golikehellmachi In my paramedic days I had to learn to check pockets for firearms before I defibrillated people. Also had to keep a really close eye out when I was in homes. Without gun control, cops-who aren't there to help-have a more legitimate need for their military weaponry.\n",
      "251 @POTUS @DonaldJTrumpJr @WhiteHouse @RepDanCrenshaw @TomiLahren  u see joe This group and I same team as many others will be also and they begging to see!!! Try ur gun shit u may be getting into some u can’t control just like this show now!!!! We like to eat!!! Refer to right pic https://t.co/NhIFw4ZIiM\n",
      "252 Pure intimidation. That’s the GOP when they pose in front of guns or do interviews with guns behind them like Rep Boebert. And Don Jr. talking about the teachers unions with a wall of guns behind him. Stronger gun control in definitely needed now. https://t.co/Uef5SaNYFQ\n",
      "253 Gun-Control Groups Lash Out at Biden - Washington Free Beacon https://t.co/tAJCOwWThJ\n",
      "254 Biden Gun Control Plan Would ‘Criminalize’ up to 105 Million People: Gun-rights Group https://t.co/g6L4ldtSu6 via @epochtimes\n",
      "255 @DillsWeirdo @Dylan_Macri Gun control does not work.\n",
      "256 @FoxNews I think our government needs more gun control and start taking away guns from people who insight riots participate in riots or condone riots or show guns in their videos trying to intimidate voters\n",
      "257 Biden Gun Control Plan Would ‘Criminalize’ up to 105 Million People: Gun-rights Group https://t.co/TNxXvZwyVb via @epochtimes \n",
      "THIS will not end well....for the DIM DEMS!\n",
      "258 Biden Gun Control Plan Would ‘Criminalize’ up to 105 Million People: Gun-rights Group https://t.co/xJHIChKtXn via @epochtimes.   Asshole!!!\n",
      "259 WAKING UP BESIDED YOU IM MY LOADED GUN I CANT CONTAIN THIS ANYMORE IM ALL YOURS IVE GOT NO CONTROL NO CONTROOOOL\n",
      "260 @Dylan_Macri It either this or gun control. And gun control might actually work so we can’t do that\n",
      "261 @FuryBahamut @BuzzPatterson What kind of gun control would you like\n",
      "262 Biden gun control would ‘criminalize’ 105M law-abiding people\n",
      "https://t.co/HXaU10664w\n",
      "263 As a species we just made it to Mars..but we’re still in a pandemic, arguing about healthcare, minimum wage, gun control, climate change, basic human rights. As sentient beings we can accomplish whatever we set out to do, we just need to recalibrate our priorities...\n",
      "264 https://t.co/6rrohR9sdV\n",
      "265 @POTUS @JoeBiden Still no national mask mandate? Or national emergency for climate change or gun control? \n",
      "\n",
      "C'mon man!\n",
      "266 If gun mfgers are going to be liable for indirect injury of their product, why can't pharma be liable for direct injury of their product? #MakePharmaLiable\n",
      "https://t.co/DhNBGHY57h\n",
      "267 @ChrisCuomo @donlemon @sarasidnerCNN it's things like this that makes sense 4 more gun control.Things being done 4 a short time is not good enough. ✊🏾♊💯 https://t.co/v4Yeo7CZit\n",
      "268 Biden Gun Control Plan Would ‘Criminalize’ up to 105 Million People: Gun-rights Group https://t.co/BBiHe41hZk via @epochtimes China 🇨🇳 Biden.\n",
      "269 Biden Gun Control Plan Would ‘Criminalize’ up to 105 Million People: Gun-rights Group https://t.co/LLSvScaKbo\n",
      "270 Liberal Supporting Joe Biden's Gun Control Responds To My Video, Here's ... https://t.co/TnXaipn2EW via @YouTube\n",
      "271 Biden Gun Control Plan Would ‘Criminalize’ up to 105 Million People: Gun-rights Group #2A https://t.co/bHG151R3TC via @epochtimes\n",
      "272 @Dodivo1 @thehill This is a black control problem, not a gun control problem,\n",
      "273 Biden Gun Control Plan Would &amp;#8216;Criminalize&amp;#8217; up to 105 Million People: Gun-rights Group https://t.co/XUCP4WtfFx via @epochtimes\n",
      "274 Most gun control argument miss the point. If all control boils fundamentally to force,how can one resist aggression without equal force? How can a truly “free” state exist if the individual citizen is enslaved to the forceful will of individual or organized aggressors? It can't\n",
      "275 Biden Gun Control Plan Would ‘Criminalize’ up to 105 Million People: Gun-rights Group https://t.co/pfPZEOmLBA via @epochtimes\n",
      "276 https://t.co/HAe0uinZFu\n",
      "277 @carterforva @JordanChariton Teachers/public education is under political assault, IMO, in the US.  We KNOW that their working conditions are unsafe w/ or w/o a pandemic. At the very least schools should have state-of-the-art ventilation systems, $60K/yr min wage for teachers, nations wide gun control. https://t.co/e8zBYR3Lbj\n",
      "278 restrict the police to significantly less powerful weapons, and their unions will once again return to demanding action on gun control. that's, i think, they only way we get there, and i wish i were creative enough to think of others.\n",
      "279 MO county passes law to arrest feds who try enforcing federal gun control laws in county https://t.co/zw4KEn4THj via @amermilnews\n",
      "280 @sardinest @Crackford @scrowder More voter fraud occurs than mass shootings but voter fraud is no big deal and not “wide spread” and the other means we should have gun control\n",
      "\n",
      "Something doesn’t add up\n",
      "281 @RobMacD62866567 @EMRAdam @montrealronin @Docs4GunControl @erinotoole Prove it? The most lethal terror attack in Frances' history was committed with a truck. The most lethal mass killing in Canada was committed with a van.\n",
      "\n",
      "Guns cause no damage, criminals do. Gun control as it is now is extremely effective, this is just killing industry/sports.\n",
      "282 Here’s a list of business’s that support taking guns away from you.                                          https://t.co/SG4OmJYU36\n",
      "283 Biden's AG nominee Garland says DOJ would pursue gun control agenda https://t.co/7kIE2sCXrG via @amermilnews\n",
      "284 Biden Gun Control Plan Would ‘Criminalize’ up to 105 Million People: Gun-rights Group https://t.co/bIfHuHQiNt\n",
      " \n",
      "Download our app to read more at https://t.co/QhpZmHR7RY\n",
      "285 Biden Gun Control Plan Would &amp;#8216;Criminalize&amp;#8217; up to 105 Million People: Gun-rights Group https://t.co/7c7Uuh90XR a través de @epochtimes\n",
      "286 @Nichola65876203 @akaLLTribune @BAmerican2 @wrtv Im saying the ones who wrote it understood the need for gun control if they saw that need who are we not to..well regulated meens just that it was a right wing supreme court that changed the meaning\n",
      "287 Biden Gun Control proposal would potentially make about 105 million law-abiding gun owners into criminals.\n",
      "\n",
      "Now the election's over, the WASHINGTON lefties have realized they're in the minority and NEED to be in CONTROL.\n",
      "\n",
      "https://t.co/usZ8ntJfPl\n",
      "288 #2A #2ADefenders\n",
      "#2AShallNOTBeInfringed\n",
      "😡😠🤬\n",
      "These Are the Roughly 200 Businesses Whose Leaders Are Backing Gun Control Initiatives\n",
      "https://t.co/ufSHOlCiXT\n",
      "289 @RepMTG I guess accosting an 18 year old over gun control after he was in a mass shooting is what God wants you to do\n",
      "290 Are you ready for Spot's Revenge? Happening tomorrow, you can control the four legged fiend in an art gallery with a paint gun. I hope the art is auctioned after. Expecting Jackson Pollock style.\n",
      "https://t.co/3ySmCCi5Px\n",
      "291 I feel like the left is just biding (Biden?) their time on the gun control issue until something \"happens\". They always use a crisis for political leverage.\n",
      "292 There is no momentum for Gun Control, Joe's Pen will do the work with Garland to take away our 2A.\n",
      "293 #NotMyPresident #MolonLabe \n",
      "😳\"What Ghost Guns?ALL my #Firearms were lost in  a tragic #Boating Accident\"(😞) Report: Biden Weighing Gun Control EO on ‘Ghost Guns‘ https://t.co/W44ptMdOI4 via @BreitbartNews\n",
      "294 Biden Gun Control Plan Would ‘Criminalize’ up to 105 Million People: Gun-rights Group https://t.co/6LJSyOr8og\n",
      "295 @golikehellmachi What’s interesting is that police unions used to be more in favor of gun control but it seems like that went away with polarization in the last decade or so. I could be empirically wrong on this but I distinctly remember a lot of unions backing control efforts when I was young.\n",
      "296 @grandedamnannie No reason to own a gun? Some people hunt. I'm all for gun control though. A automatic that holds 60 rounds in the clip should only be owned/operated by the military. https://t.co/2kqUFpm8Go\n",
      "297 Biden Gun Control Plan Would ‘Criminalize’ up to 105 Million People: Gun-rights Group https://t.co/aPVpwbKzXp via @epochtimes\n",
      "298 March For Our Lives Issue Biden $1 Billion List Of Gun Control Policy Demands  https://t.co/jPTiEHWVlv\n",
      "299 Group: Biden gun control would ‘criminalize’ 105M law-abiding people https://t.co/LCJlkuyTQO\n",
      "300 Add your name.\n",
      "https://t.co/MijuEy5aU5\n",
      "301 Powerful message from @NYCPDDEA Policies have consequences.  Fix NY State's Bail Laws!  Gun Violence in NYC is Out of Control https://t.co/gkf0u8gyRx via @YouTube\n",
      "302 https://t.co/QO2ctPaHXr\n",
      "303 https://t.co/DnpfvfXmBG\n",
      "304 @golikehellmachi You are the only person who has brought that up. We'll get police reform with breaking their unions, making them pay with their pensions AND gun control!\n",
      "305 @golikehellmachi I so agree. And I don't think you can have serious community buy-in on gun control efforts without also demilitarizing local police forces.\n",
      "306 Data show gun control doesn't reduce US violent crime - American Thinker https://t.co/1K1eLNnAFJ\n",
      "307 while we're tackling big and challenging problems here on twitter, where we'll definitely solve them, i don't think that you realistically are able to achieve significant police reform *by any name* without parallel gun control efforts.\n",
      "308 @taracharamod Why do they think people turn to drugs? This is like gun control. There are people out there making a case that they should be banned because the majority of deaths by them are suicide, instead of actually examining why people are depressed enough to overcome basic instinct\n",
      "309 ⁦@SenMikeLee⁩ ⁦@sltrib⁩ ⁦@DeseretNews⁩ \n",
      "The AG enforces the laws you were grilling him about his an opinion about gun control is ridiculous as is your viewpoint on everything else https://t.co/k07eBG5mUZ\n",
      "310 I can't believe we have to keep saying this but:\n",
      "Healthcare\n",
      "COVID relief\n",
      "Gun control\n",
      "Climate change\n",
      "\n",
      "These are the things we want our elected officials to do. Not:\n",
      "Taking a knee\n",
      "Holding candles https://t.co/XzxqhbhWl3\n",
      "311 Biden likes that because China wants that.\n",
      "\n",
      "https://t.co/uWPM4fsYvM\n",
      "312 @POTUS @JustinTrudeau so, you got the stim bill passed and an immigration bill and gun control too? now you are going to shut down the pipelines while having your chat with trudeau, right?\n",
      "313 AG Nominee Merrick Garland thinks gun control sounds SWELL and Biden's 'ENTITLED' to do it. https://t.co/ho9wwFhCGc\n",
      "314 @mariegamalski @Locke_Wiggins @mansoortshams I never said heavily. I merely proposing the right to defend myself. Are you aware gun control is rooted in racism? Are you aware that Switzerland gun laws is looser than Chicago or New York gun laws, yet has a lower violent crime rate. Or that my owning gun ≠ you getting shot.\n",
      "315 Biden Gun Control Plan Would ‘Criminalize’ up to 105 Million People: Gun-rights Group https://t.co/FML2kRMz1A via @epochtimes\n",
      "316 @gmoneystud @BarbaraRKay @dogsbite And don't mention gun control, when your other guru Jeff Borchardt from Daxton's Friend's calls grieving parents useful idiots, when they want stricter gun control, cause they lost children to gun violence. https://t.co/T7wRMg1J93\n",
      "317 https://t.co/SC505h0aA5\n",
      "318 Biden Gun Control Plan Would ‘Criminalize’ up to 105 Million People: Gun-rights Group\n",
      "\n",
      "⁦@NRA⁩  https://t.co/zY6C0e4cht\n",
      "319 After being shot multiple times in the head and face, Chicago police say the woman was able to gain control of the gun and shoot the man in the leg.​  https://t.co/fOEgGqHHEv\n",
      "320 Biden Gun Control Plan Would ‘Criminalize’ up to 105 Million People: Gun-rights Group https://t.co/zY6C0e4cht\n",
      "321 MO County Ordinance: Sheriff's Can Arrest Feds Who Enforce Gun Control https://t.co/zfkky9ibBY\n",
      "322 Report: Biden Weighing Gun Control EO on ‘Ghost Guns‘ https://t.co/3QIvmU94sn via @BreitbartNews\n",
      "323 Imagine you’re going into a gun fight and you know your mate doesn’t even know how to pull a trigger correctly, how confident would you feel about your side winning? \n",
      "\n",
      "I’m thinking about Kane having to play with Sissoko every game who can’t control or shoot a fucking football https://t.co/Jwso69142G\n",
      "324 Biden Gun Control Plan Would ‘Criminalize’ up to 105 Million People: Gun-rights Group https://t.co/PQJmO7ePWv via @epochtimes\n",
      "325 @realDailyWire What do they hope to achieve with gun control? They do know that criminals don't abide by the law, right?\n",
      "326 So residents are screaming for a scalp re: gun violence but what about the parents how the hell do they get a pass.. the mayor.. nor commish is raising these kids! New PSA - Parents Asks4Help or be fined $1000.00 the get your child under control fine 🤔\n",
      "327 Now blocking all foreigners with opinions on American gun control\n",
      "328 Or you could pass gun control laws... that would actually curb violence https://t.co/Cy9ud8Qz8j\n",
      "329 @Shroomy3420 @Reglei1 @belan_joey @PTitanfall @arrpucks @Polygon If you actually look at gun control in most countries, you'd still have a gun used for hunting. You just don't want to listen\n",
      "330 The Liberal government has introduced new legislation containing the strongest measures to combat gun violence that our country has ever seen.\n",
      "\n",
      "Add your name to support stronger gun control in Canada ⬇️\n",
      "https://t.co/Bk7r7F7t89\n",
      "331 These dumb Democrats wanna restrict the rights of legal gun owners that have never done anything illegal with their guns you want to go after guns go after the criminals time for Americans to speak up https://t.co/F0XGqY6ajX via @epochtimes\n",
      "332 Report: Biden Weighing Gun Control EO on 'Ghost Guns' https://t.co/bvE9xwjHTK\n",
      "333 200 Businesses Whose Leaders Are Backing Gun Control Initiatives https://t.co/mBjwzgiTq6\n",
      "334 \"\"While we can agree ... we firmly believe that the path forward should be protecting responsible, law-abiding Americans—not criminalizing and punishing them,” the U.S. Concealed Carry Association said in a letter to Biden this week.\"\n",
      "https://t.co/QTSBeBSjP1\n",
      "335 Biden Gun Control Plan Would ‘Criminalize’ up to 105 Million People: Gun-rights Group https://t.co/KGme348DWo\n",
      "336 @k_man100 @DynamicEyebrow @SJHolden11 @WordofTheDavid @redsteeze Or be more like Australia.\n",
      "\n",
      "If the U.S. did the gun buyback program Australia did and had the same gun control Australia did, on top of their levels of lockdown they'd be...like Australia.\n",
      "\n",
      "But with better internet speeds.\n",
      "337 Biden Gun Control Plan Would ‘Criminalize’ up to 105 Million People: Gun-rights Group https://t.co/vQbufds3eh\n",
      "338 Biden Gun Control Plan Would ‘Criminalize’ up to 105 Million People: Gun-rights Group https://t.co/KGme348DWo\n",
      "339 MSCHF’s latest drop lets you control a Boston Dynamics robot with a paintball gun on its back - The Verge https://t.co/cLMUvbutWG\n",
      "340 DEMOCRATS AND CRIMINALS HATE GUNS IN THE HANDS OF LAW-ABIDING CITIZENS\n",
      "Biden Gun Control Plan Would ‘Criminalize’ up to 105 Million People: Gun-rights Group https://t.co/yLeCZEaZMF via @epochtimes\n",
      "341 Daily reminder that @PamKeithFL doesn't really care about gun control...she cares about cash control...just like every other asshole democratic social justice polietician #2A https://t.co/tuhjDzN8Qv\n",
      "342 Loeffler's group has already stolen a photo to use for their website and twitter account from a \"Mom's Demand Action\" rally fighting for gun control (they did take down the photo when people noticed).  I'm actually surprised that Loeffler wants to stay involved.\n",
      "#GASen\n",
      "5/5\n",
      "343 Hitler had GUN CONTROL. He also forbade FREE SPEECH. America, we are losing our country if something doesn't stop this BIDEN train!!!\n",
      "344 Biden Gun Control Plan Would ‘Criminalize’ up to 105 Million People: Gun-rights Group https://t.co/yYgblSlx4T via @epochtimes\n",
      "345 @NewtownAction Gun control is unconstitutional.\n",
      "346 @Kryptokid714 @NY_Tuck @nytimes Here's a list of a FEW things Reps are scared of\n",
      "Masks, LGBTQ, PoC, Non-Christians, Abortions, Gun Control, Governments, Everything that is not a White man.\n",
      "\n",
      "I do thank you for being a prime example as to why these are important:\n",
      "- Better education\n",
      "- Birth control\n",
      "- Abortion\n",
      "347 Biden Gun Control Plan Would &amp;#8216;Criminalize&amp;#8217; up to 105 Million People: Gun-rights Group https://t.co/jfz2sRIB9b via @epochtimes\n",
      "348 Daily Wire: March For Our Lives Issue Biden $1 Billion List Of Gun Control Policy Demands https://t.co/bRcZIGEe8X\n",
      "349 @JohnFeinblatt @Everytown Gun control is unconstitutional.\n",
      "350 https://t.co/McPQDakNJw\n",
      "351 @johnrich We know.  It was evident when Faith Hill and Tim McGraw starting talking gun control. Dumped them pronto.\n",
      "352 #Biden Gun Control Plan Would ‘Criminalize’ up to 105 Million People: Gun-rights Group #2ndAmendment https://t.co/MFVx9B4x3m\n",
      "353 @noahquintana1 His views changed overtime I didn’t agree with it. And those aren’t the same thing at all. Gun control and the crime bill aren’t even close to being related.\n",
      "354 曾被奧巴馬提名做最高法院大法官的加蘭德，#2017年 時還沒等到參議院聽證，就被川普給 #取消 了提名資格，他是個純左派人物。\n",
      "在聽證上，加蘭德表示他當了司法部長，會積極推動拜登的 #控槍政策。而這一點，也是他歷來備受爭議的重要原因所在。\n",
      "https://t.co/pK213pWlSQ\n",
      "355 .Biden Gun Control Plan Would &amp;#8216;Criminalize&amp;#8217; up to 105 Million People: Gun-rights Group https://t.co/j3WmQOa1JY via @epochtimes\n",
      "356 Reminder, the very same \"people\" who do the \"ACAB,\" bullshit routine, also want gun control as a top priority issue. Not for the cops, just for you. Because they want you to be disarmed and the cops armed, so you are helpless against the cops.\n",
      "\n",
      "https://t.co/W3XVZEY7tL https://t.co/N8h2nYppUS\n",
      "357 Merrick Garland admits his DOJ would 'advance' Joe Biden's gun control agenda: 'Entitled to pursue' https://t.co/cDaZAr88HQ\n",
      "358 We see these sort of headlines to often. We need gun control! https://t.co/GYKtBL8foZ\n",
      "359 @Everytown @ColinAllredTX Gun control is racist\n",
      "360 Asked about how he’ll protect 1st and 2nd amendment rights:\n",
      "\n",
      "He won’t do anything to harm it. Thinks they’re important.\n",
      "\n",
      "Talks about his A rating of 2nd amendment protections.\n",
      "\n",
      "Says people can be concerned. Hopes Biden was just talking up his pro gun control position, but is mod\n",
      "361 @seditiontrack Well she’ll lose her gun rights with a felony so......gun control one bust at a time\n",
      "362 https://t.co/rGLBAO9A3Z\n",
      "363 Biden Gun Control Plan Would ‘Criminalize’ up to 105 Million People: Gun-rights Group https://t.co/K4QfFdtvr7\n",
      "364 Biden Gun Control Plan Would ‘Criminalize’ up to 105 Million People: Gun-rights Group https://t.co/TVKoUV9oZH via @epochtimes\n",
      "365 I dunno why I let my fear of shooting a gun control me ... I think it’s time to get over that fear ... 👀\n",
      "366 Biden Gun Control Plan Would ‘Criminalize’ up to 105 Million People: Gun-rights Group. Wow! It’s getting out of control...  https://t.co/KkPUrPveIy via @epochtimes\n",
      "367 Biden Gun Control Plan Would ‘Criminalize’ up to 105 Million People: Gun-rights Group https://t.co/r9kDqzjFkI via @epochtimes\n",
      "368 Better start donating to your favorite Second Amendment Group if you don't want this shit to happen. #2AShallNOTBeInfringed #2a \n",
      "https://t.co/Sa9HMEpg0d\n",
      "369 Biden Gun Control Plan Would ‘Criminalize’ up to 105 Million People: Gun-rights Group https://t.co/Fb0e43iAg0\n",
      "370 Biden Gun Control Plan Would ‘Criminalize’ up to 105 Million People: Gun-rights Group https://t.co/u2uDpTOmdI via @epochtimes luckily it’s not going to happen.\n",
      "371 This is late 2001 and they’re talking about a church shooter perpetrated by a domestic abuser looking for his estranged wife. Yet again, it’s twenty years later and this is still something we’re dealing with. Still no real gun control.\n",
      "372 Biden Gun Control Plan Would ‘Criminalize’ up to 105 Million People: Gun-rights Group https://t.co/FkL9crFS5v via @epochtimes\n",
      "373 Gun-Control Groups Lash Out at Biden #RicoTheDems #ArrestThemAllNow #ImpeachObamasJudges https://t.co/ROLyRhZOLw #news #feedly\n",
      "374 @Nichola65876203 @akaLLTribune @BAmerican2 @wrtv Lol. You guys always use that bs. A well regulated milta. They had gun control back when they signed it no one was allowed to have a gun in the city limits of Boston and farmers were only allowe one pound of gun powder so your saying they were wrong?\n",
      "375 Biden Gun Control Plan Would ‘Criminalize’ up to 105 Million People: Gun-rights Group https://t.co/U5HcXCqu2w via @epochtimes\n",
      "376 Biden Gun Control Plan Would ‘Criminalize’ up to 105 Million People: Gun-rights Group https://t.co/fFC4xBfsd2 via @epochtimes\n",
      "377 We will not give up our weapons. Just you wait and see. He will start a civil war and we will win! Biden Gun Control Plan Would ‘Criminalize’ up to 105 Million People: Gun-rights Group https://t.co/T606mFjmTA via @epochtimes\n",
      "378 Biden Gun Control Plan Would ‘Criminalize’ up to 105 Million People: Gun-rights Group https://t.co/9cZAlIv4Uv\n",
      "379 @RepAndyBiggsAZ So, denounce the laissez faire gun culture of Arizona.  Do it now. Prove that you mean what you say.  If you truly value life - you will implement serious gun control.  You will ensure guns are not permitted anywhere and that strict background checks are performed.\n",
      "380 Solid message to gun owners from @erinotoole, with a commitment to repeal the Liberal gun control bills and last year’s order-in-council, and a plan go after actual gun crime rather than lawful gun owners.  https://t.co/unGDQmjM6N\n",
      "381 https://t.co/uXqw95c6jK\n",
      "382 Biden Gun Control Plan Would ‘Criminalize’ up to 105 Million People: Gun-rights Group https://t.co/RH5FSZxfhN via @epochtimes\n",
      "383 March For Our Lives Issue Biden $1 Billion List Of Gun Control Policy Demands https://t.co/fdjXRmCvj0 https://t.co/RlH63jiHE7\n",
      "384 Biden Gun Control Plan Would ‘Criminalize’ up to 105 Million People: Gun-rights Group https://t.co/b49PQHQHmJ\n",
      "385 I really need to stop bring up gun control around my fiancee we just end up fighting\n",
      "386 Biden Gun Control Plan Would ‘Criminalize’ up to 105 Million People: Gun-rights Group https://t.co/ZnYPsgDy9X via @epochtimes\n",
      "387 Gun-Control Groups Lash Out at Biden https://t.co/dZArkLs6oJ  via @skinnergj\n",
      "388 @el_dracoJayy 🥱🥱 maybe if american politicians actually cared about gun control\n",
      "389 Liked on YouTube: Liberal Supporting Joe Biden's Gun Control Responds To My Video, Here's My Response https://t.co/OKVvs57gRo\n",
      "390 Biden Gun Control Plan Would ‘Criminalize’ up to 105 Million People: Gun-rights Group https://t.co/KbJpS6JnGo via @epochtimes\n",
      "391 Biden Gun Control Plan Would ‘Criminalize’ up to 105 Million People: Gun-rights Group https://t.co/MbSY0MooJq\n",
      " \n",
      "Download our app to read more at https://t.co/4OBIn6jKvG\n",
      "392 Biden Brings Aggressive Gun Control Plans, Where Trump Supported 2nd Amendment https://t.co/a0eRzQEsky via @epochtimes\n",
      "393 Biden Gun Control Plan Would ‘Criminalize’ up to 105 Million People: Gun-rights Group https://t.co/HsKwviCsD1 via @epochtimes\n",
      "394 Biden Gun Control Plan Would ‘Criminalize’ up to 105 Million People: Gun-rights Group https://t.co/p82SZu5qDC via @epochtimes\n",
      "395 @Everytown The people incarcerated the most from gun control laws are actually black men. Gun control is racist!\n",
      "396 @yungb00by lately unknown fact: in england u can legally have a gun. but there’s a lot of control of who can buy them and what types and stuff. so we don’t have gun violence- we do however have knife violence so take ur pick\n",
      "397 lost my senses I’m defenseless her perfumes holding me ransom sweet n sour heart devour lying here i count the hours WAKIN UP BESIDES YOU IM A LOADED GUN I CANT CONTAIN IT ANYMORE IM ALL YOURS I GOT NO CONTROL!!!!! NO CONTROL!!!!!!!!\n",
      "398 March For Our Lives Issue Biden $1 Billion List Of Gun Control Policy Demands https://t.co/YcOoCIHDeV via The Daily Wire https://t.co/hyqHpeHsrE\n",
      "399 March For Our Lives Issue Biden $1 Billion List Of Gun Control Policy Demands https://t.co/kV5c7DvSPT via @realDailyWire\n",
      "400 Biden Gun Control Plan Would ‘Criminalize’ up to 105 Million People: Gun-rights Group https://t.co/iRMtzT7baZ via @epochtimes\n",
      "401 Taking on the gaming industry is ten times easier than talking about mental health, poverty, gun control; ya know, real stuff? https://t.co/AJKbnnS9gA\n",
      "402 It took mere days after new gun controls for @erinotoole to roll over under pressure of @CCFR_CCDAF (Canada's extremely well funded NRA) to agree to repeal any recent gun control &amp; \"review\" the firearms act if elected. \n",
      "\n",
      "They also want legal concealed hand gun carry\n",
      "\n",
      "#cdnpoli\n",
      "403 Biden Gun Control Plan Would ‘Criminalize’ up to 105 Million People: Gun-rights Group https://t.co/PPmOpYj53B via @epochtimes\n",
      "404 I have all the answers.  The journalists are the criminals.  Immigration and nuclear strategy are in my book.  I know gun control.  I know all the economics.  For the world.  Get the book The Macroeconomic Laws by Gregory Del Jones.\n",
      "405 @notyourenemy7 @RottweilerTeeth @erj7181 @mindelshek @CawthornforNC 02:  And some county LE warn feds that they will be arrested if they come into these pro 2A zones and try to enforce gun control. So yeah, gun rights aren't going away for most of us. Sadly gun rights in big cities will continue to be extinguished. But that will be their problem.\n",
      "406 K. Bryon Klebold is ok. He is starting a podcast called \"ACTIVE SHOOTER\" where he talks about shooting around America. And he is writing a book. That all. Ok. Stop talking about Columbine. WE NEED GUN CONTROL.\n",
      "407 Biden Gun Control Plan Would ‘Criminalize’ up to 105 Million People: Gun-rights Group https://t.co/8fCGLPtxGx\n",
      "408 Biden Gun Control Plan Would ‘Criminalize’ up to 105 Million People: Gun-rights Group https://t.co/fXhq3kMpbi via @epochtimes\n",
      "409 @JohnCarrell18 @CPAC By $15.00 minimum wage, gun control, healthcare for all, mask mandate to control Covid, reverse the tax break for the wealthy, you mean socialism?\n",
      "410 Biden Gun Control Plan Would ‘Criminalize’ up to 105 Million People: Gun-rights Group https://t.co/B5bFSrvBf5 via @epochtimes\n",
      "411 @FuckUrGunsNRA @ltecato @NRAA1F It does not matter how many people want to ban assault weapons the constitution still protects them. And its not gun safety its control. There is nothing unsafe about an AR15. With thousands of times more defense/legal use than offensive/illegal use it is one of the safest guns.\n",
      "412 Biden Gun Control Plan Would ‘Criminalize’ up to 105 Million People: Gun-rights Group https://t.co/QMl3xjHAFT via @epochtimes\n",
      "413 Biden Gun Control Plan Would ‘Criminalize’ up to 105 Million People: Gun-rights Group https://t.co/P4B9tuvfxH via @epochtimes\n",
      "414 Cowgirl Sheila Jackson D-TX  pushing HR 127 &amp; Democrats are going beyond insanity for gun control. Read it for yourself. \n",
      "\n",
      "The 2nd Amendment is under assault.\n",
      "\n",
      "Dems don't care about YOUR safety. They care that YOUR safety is in their hands. Power &amp; Control.\n",
      "415 Biden Gun Control Plan Would ‘Criminalize’ up to 105 Million People: Gun-rights Group https://t.co/XDFVm5RRek via @epochtimes\n",
      "416 Uma organização de defesa dos direitos sobre as armas disse que a proposta do presidente Joe Biden para o controle de armas poderia transformar cerca de 105 milhões de proprietários de armas cumpridores da lei em criminosos.\n",
      "https://t.co/MFvfuZSBin\n",
      "417 Biden Gun Control Plan Would ‘Criminalize’ up to 105 Million People: Gun-rights Group https://t.co/rKvsHjNphL via @epochtimes\n",
      "418 https://t.co/Egs9aOewfv\n",
      "419 A #GunRights organization said that President Biden’s #GunControl proposal would potentially make about 105 million law-abiding #GunOwners into criminals. https://t.co/hbdg6O3s4W\n",
      "420 Biden Gun Control Plan Would ‘Criminalize’ up to 105 Million People: Gun-rights Group https://t.co/IirQsCwfaW via @epochtimes\n",
      "421 @gtconway3d Sometimes, maybe. But so what? You step into a boxing ring, you know you're gonna get hit. Manchin opposes gun control, but insists on \"tweet control\"? His head is so far up his ass, he sees the world through his nostrils. (Yes, I know that's anatomically impossible.)\n",
      "422 @GhanaboyPharmd @LelenaPeacock @drcarlhart Many regulations/laws: criminalization of drugs, gun control laws, minimum wage laws, all have roots in racism. \n",
      "The statutory history is fascinating and depressing.\n",
      "423 Biden Gun Control Plan Would ‘Criminalize’ up to 105 Million People: Gun-rights Group https://t.co/zjTtXnTybm via @epochtimes\n",
      "424 Biden Gun Control Plan Would ‘Criminalize’ up to 105 Million People: Gun-rights Group https://t.co/wU57itGET7\n",
      "425 A gun-rights organization said that President Joe Biden’s gun control proposal would potentially make about 105 million law-abiding gun owners into criminals.\n",
      "426 So does good public policy, like addressing the Black maternal mortality crisis, fighting for reproductive justice, ending Big Pharma price gouging, gun control, &amp; Medicaire for all.  We can use our freedom to fight for all of this-- &amp; end Republican corruption &amp; cruelty. https://t.co/FdrJySv6C3\n",
      "427 @val6bodie @shannonrwatts @PalmerReport @JessicaYellin Why do you want your own freedoms restricted? Gun control has very racist roots.\n",
      "428 @shannonrwatts @ltecato @JessicaYellin It's gun control, not safety. Stop it with the political buzzwords.\n",
      "429 Biden Gun Control Plan Would ‘Criminalize’ up to 105 Million People: Gun-rights Group https://t.co/96LXuCrQja\n",
      " \n",
      "Download our app to read more at https://t.co/PR0rP86aVB\n",
      "430 and who supports the unconstitutional gun control bill https://t.co/aGmnedJVYx\n",
      "431 https://t.co/L3DgVYaBJ4\n",
      "432 Biden Gun Control Plan Would ‘Criminalize’ up to 105 Million People: Gun-rights Group https://t.co/Pxf4JPJGrr\n",
      "433 Biden Gun Control Plan Would ‘Criminalize’ up to 105 Million People: Gun-rights Group https://t.co/12LZE2Zy2y\n",
      " \n",
      "Download our app to read more at https://t.co/SY3fy5wgCR\n",
      "434 Report: Biden Weighing Gun Control EO on ‘Ghost Guns‘ https://t.co/jEvIXxI0xR via @BreitbartNews\n",
      "435 Morpheus : The mirror nearby, it with a gun before, and stands under the Matrix? Control. The time you're talking about?\n",
      "436 @uisbg1 I'm not really sure who is saying this tho... because most of the gun control laws in place are centered around handgun ownership and concealability (i.e. minimum barrel length).\n",
      "437 Biden Gun Control Plan Would ‘Criminalize’ up to 105 Million People: Gun-rights Group https://t.co/oPhJkT6rSf via @epochtimes\n",
      "438 Molon Labe, Sleepy Joe!\n",
      "\n",
      "A well regulated Militia, being necessary to the security of a free State, the right of the people to keep and bear Arms, shall not be infringed.\n",
      "\n",
      "https://t.co/eECUiuA1r4\n",
      "439 @kadiagoba @axios Virtue signalling.  Covid, gun control etc. Yet nothing changes.  A weird society.\n",
      "440 Remember 1776, this won't go over well... just sayin...\n",
      "\n",
      "https://t.co/i3EUYLumWn\n",
      "441 Biden Gun Control Plan Would ‘Criminalize’ up to 105 Million People: Gun-rights Group https://t.co/yPDUps8SiG via @epochtimes\n",
      "442 Biden Gun Control Plan Would ‘Criminalize’ up to 105 Million People: Gun-rights Group\n",
      "\n",
      "https://t.co/IN25ygjKq6\n",
      "443 Biden Gun Control Plan Would ‘Criminalize’ up to 105 Million People: Gun-rights Group https://t.co/uBbaxT6UKY via @epochtimes\n",
      "444 Biden Gun Control Plan Would ‘Criminalize’ up to 105 Million People: Gun-rights Group \n",
      "https://t.co/scoMnhNDVc\n",
      "445 ‘waking up beside you, i'm a loaded gun i can't contain this anymore i'm all yours, i’ve got no control, no control, powerless and i don't care, it's obvious i just can't get enough of you the pedal's down, my eyes are closed no control’\n",
      "\n",
      "-boner. gay. https://t.co/XIbZgFPMf4\n",
      "446 Biden Gun Control Plan Would ‘Criminalize’ up to 105 Million People: Gun-rights Group https://t.co/H4vYT6fLRw via @epochtimes\n",
      "447 Biden is a disgrace and a dictator communist and wants to remove the Constitution of the United States, Biden Gun Control Plan Would ‘Criminalize’ up to 105 Million People: Gun-rights Group https://t.co/2uQ285qXYO via @epochtimes\n",
      "448 The media-progressive complex in action.   #2A https://t.co/8EF6EO1niN\n",
      "449 @POTUS @JustinTrudeau Getting ideas on gun control?\n",
      "450 @HooDatGurl333 @GeoffRBennett @harborhound8 After their baseball team was shot at, one member seriously hit, they still were against gun control.\n",
      "451 'Biden Gun Control Plan Would Criminalize Up to 105 Million People' https://t.co/PnhqnwyhvY\n",
      "452 Biden wants to criminalize gun owners and decriminalize border jumpers.\n",
      "\n",
      "Biden Gun Control Plan Would ‘Criminalize’ up to 105 Million People: Gun-rights Group https://t.co/Gg4pshaLyO via @epochtimes\n",
      "453 Getting ready for this? https://t.co/s4ILUugT25\n",
      "454 Biden Gun Control Plan Would ‘Criminalize’ up to 105 Million People: Gun-rights Group https://t.co/ywPbo1Rncd via @epochtimes\n",
      "455 @fivefivesix_ca Support for gun control in Canada is a mile wide and an inch deep. \n",
      "\n",
      "Nobody would be worried about guns if our government and a few radical nutcases weren't relentlessly lying and demonizing guns and gun owners.\n",
      "456 Biden Brings Aggressive Gun Control Plans, Where Trump Supported 2nd Amendment\n",
      "\n",
      "https://t.co/ds8jJDL01L\n",
      "457 Biden's AG nominee Garland says DOJ would pursue gun control agenda https://t.co/zZZn8BFgsN via @amermilnews\n",
      "458 @GenuineBenny These are the same people who think gun control stops crime.\n",
      "459 https://t.co/YaG2Ttm6W0\n",
      "\n",
      "Yes yes yes yes yes!!!!\n",
      "460 AG Nominee Merrick Garland thinks gun control sounds SWELL and Biden’s ‘ENTITLED’ to do it. https://t.co/a6F3Wvz3mN\n",
      "461 Biden Gun Control Plan Would ‘Criminalize’ up to 105 Million People: Gun-rights Group https://t.co/Nd0K0RXsZQ via @epochtimes\n",
      "462 @azazelthegoat @Perc30Boy @Scsigs @VaushV Student debt, $1400, not improving the treatment of detainees in ICE camps, minimum wage increase coming over 5 years, excessive gun control, etc. all stuff that has been prominently criticized by lefties online.\n",
      "463 Biden Gun Control Plan Would ‘Criminalize’ up to 105 Million People: Gun-rights Group https://t.co/u7MtEboO91 via @epochtimes\n",
      "464 Biden Gun Control Plan Would ‘Criminalize’ up to 105 Million People: Gun-rights Group https://t.co/SHNXMKt3R5 via @epochtimes\n",
      "465 https://t.co/CHQeYV7xpn\n",
      "\n",
      "Nope nope nope nope!!!!\n",
      "466 Biden Gun Control Plan Would ‘Criminalize’ up to 105 Million People: Gun-rights Group https://t.co/66S8ThH6Vt via @epochtimes\n",
      "467 @KIRO7Seattle Terrible, prayers and condolences to the grieving family 😞💔.  This is one of the reasons why some want better gun control laws.  People seem to think stricter laws mean a ban on all concealed weapons.  It’s not that at all, my friends.\n",
      "468 @JudgeJoeBrownTV https://t.co/18v3EceQRw\n",
      "469 @Irrev77 @whitemagexx @BenHilly94 @Captain_Angel29 @arrpucks @Polygon that's because they use other means of committing crime, the crime rate never actually went down after gun control\n",
      "\n",
      "gun control is a lie pushed by shitlibs\n",
      "470 @2Duefer 11.2k followers, and next to no engagements...\n",
      "\n",
      "Give it up, Al. No one cares about your opinions on gun control.\n",
      "471 Biden Gun Control Plan Would ‘Criminalize’ up to 105 Million People: Gun-rights Group https://t.co/LNExtteL1y via @epochtimes\n",
      "472 WAKING UP BESIDE YOU I'M MY LOADED GUN I CAN'T THIS ANYMORE\n",
      "I'M ALL YOURS  I GOT NO CONTROL\n",
      "NO CONTROL \n",
      "/faço a dancinha\n",
      "473 Biden's AG nominee Garland says DOJ would pursue gun control agenda https://t.co/LOhhfXA0rF via @amermilnews\n",
      "474 @_jalenx2 that makes no sense we just need better gun control\n",
      "475 Biden’s AG nominee Garland says DOJ would pursue gun control agenda https://t.co/b4lBXDLIPo #SmartNews\n",
      "476 Biden Gun Control Plan Would ‘Criminalize’ up to 105 Million People: Gun-rights Group https://t.co/a9t37XGJPU via @epochtimes\n",
      "477 Biden Gun Control Plan Would ‘Criminalize’ up to 105 Million People: Gun-rights Group https://t.co/IllPZ1ErV0 via @epochtimes\n",
      "478 The s.o.b.’s are at it again\n",
      "\n",
      "They want to reimpose 1994 Gun Control &amp; ban guns for SELF-DEFENSE\n",
      "\n",
      "They want to disarm us for their takeover\n",
      "\n",
      "Biden’s AG Pick Says He’d Support White House Ending All But Limited Sporting Gun Ownership https://t.co/Y8MTxuBsOi\n",
      "479 https://t.co/aDHueNPNPO\n",
      "480 Biden's AG nominee Garland says DOJ would pursue gun control agenda https://t.co/xiXj3KZhTM via @amermilnews\n",
      "481 https://t.co/ew4EmDCQfH\n",
      "482 https://t.co/8XI6QTEL3m\n",
      "483 Liberal Supporting Joe Biden's Gun Control Responds To My Video, Here's ... https://t.co/JNkzdIsRS3 via @YouTube\n",
      "484 Biden Gun Control Plan Would ‘Criminalize’ up to 105 Million People: Gun-rights Group\n",
      "485 @thinkdefence Radical needs a meeting of utility/doctrine/tech and they need to be there at the right time. HMS Dreadnought (1906) was a product of the maturity of fire control/guns/turbines, \"maturity\" is important here, jump the gun and you are behind the curve (Nassau). Timing matters.\n",
      "486 MO county passes law to arrest feds who try enforcing federal gun control laws in county https://t.co/cei1yxK4lq via @amermilnews\n",
      "487 this, but everywhere😎\n",
      "https://t.co/1Y0CvRSsZm\n",
      "488 .@SenatorSinema, do you really support protecting the filibuster, a relic of Jim Crow, instead of making progress on voting rights, protecting the environment, raising the minimum wage, passing real gun control, and ensuring racial justice?\n",
      "https://t.co/lekd1MVcs9\n",
      "489 Gun Control Insanity: Won’t Criminals Just Break the Law…?\n",
      "https://t.co/3YpUjaaqVZ\n",
      "490 Biden's AG nominee Garland says DOJ would pursue gun control agenda https://t.co/nEliIzx5ue\n",
      "491 @crustycanadian1 Five out of five prohibitionists agree, gun control works.\n",
      "492 @Carol38553 With all this “gun control” talk, I haven’t heard one politician say how they plan to take guns from criminals, just law-abiding citizens.\n",
      "493 @Nat_itsme_uk I think Michelle on here was 100%, if there was to be a debate on gun control in America, would they only invite the NRA!\n",
      "494 One of those Boston Dynamics metal Dire Wolves is going to be let loose in an art gallery with a paintball gun attached and the internet will be in control of it.  https://t.co/9y4SjjWYDC\n",
      "495 @AnnieOak5 We r about to see the onslaught of this.\n",
      "The Liberal Lieing Machine is about to go into full gear on Gun Control. https://t.co/oaIEHXKQiO\n",
      "496 @JoeyNoszek @JimmyNoCAPuto that causes them to seek out their best interest for a paycheck. many groundbreaking politicians in other countries are often hold office for shorter times, but their policies are greatly appreciated (Australian gun control)...\n",
      "497 @SenSchumer police reform not defunding police , totally different ball game like wise gun reform is not gun control , https://t.co/lJ4Z46c7kN\n",
      "498 200 Businesses Whose Leaders Are Backing Gun Control Initiatives https://t.co/4EZ3HP0YRW\n",
      "499 Gun control ONLY affects the law-abiding. If a business is a “gun free zone” the owners have a responsibility to provide security. https://t.co/8L5h1Aj2FV\n"
     ]
    }
   ],
   "source": [
    "for index, tweet in enumerate(tweets):\n",
    "    print(index, tweet.full_text)"
   ]
  },
  {
   "cell_type": "markdown",
   "metadata": {},
   "source": [
    "Now I will refine my collection even further to a geo location and my defined phrase. In this case I will use the longitude and lattitude of the center of downtown Chicago and include everything within 50 km."
   ]
  },
  {
   "cell_type": "code",
   "execution_count": 13,
   "metadata": {},
   "outputs": [],
   "source": [
    "tweets = tw.Cursor(api.search,\n",
    "                   q=q,\n",
    "                   geocode='41.789722,-87.599724,50km', \n",
    "                   tweet_mode='extended').items(max_tweets)"
   ]
  },
  {
   "cell_type": "markdown",
   "metadata": {},
   "source": [
    "Once again I will run the loop to print the results of the query"
   ]
  },
  {
   "cell_type": "code",
   "execution_count": 14,
   "metadata": {},
   "outputs": [
    {
     "name": "stdout",
     "output_type": "stream",
     "text": [
      "2021-02-24 03:14:20: anything but gun control. https://t.co/TpTzFoZKkP\n",
      "2021-02-24 00:45:08: After being shot multiple times in the head and face, Chicago police say the woman was able to gain control of the gun and shoot the man in the leg.​  https://t.co/fOEgGqHHEv\n",
      "2021-02-23 21:42:46: @RealCandaceO Common sense only applies to useless \"common sense gun control\" that no criminals would follow\n",
      "2021-02-23 19:48:59: Biden Gun Control Plan Would ‘Criminalize’ up to 105 Million People: Of course he’s surrounded by armed protectors.  What the hell does he care about the rest of us?!                             Gun-rights Group\n",
      "\n",
      "https://t.co/dQH4X5SsRQ\n",
      "2021-02-23 15:22:08: here we go:\n",
      "Gun control at all govt buildings and polling places--proposes American Bar Assoc.\n",
      "#2A #guns \n",
      "@USRoute41 \n",
      "https://t.co/c2Ezu1Ff7Q\n",
      "2021-02-23 15:00:00: Instead of pushing flawed gun control schemes like banning modern sporting rifles, we should continue providing resources to programs with a proven record of making safer communities, .@NSSF senior VP and general counsel Lawrence Keane writes.\n",
      "https://t.co/rrDEsLYpwV\n",
      "2021-02-22 18:02:12: Garland says DOJ would ‘advance’ Biden’s pro-gun control policies https://t.co/4O9qQBpdOj\n",
      "2021-02-22 17:18:26: MSCHF mounted a remote-control paintball gun to Spot https://t.co/93Mjm2h8vx\n",
      "2021-02-22 13:12:25: @Everytown U can’t count Chicago we already have all y’all fucking gun control and yet still failed\n",
      "2021-02-21 23:34:46: @GeekgirlNZ @MichaelWatsonDC @kevinfolta Human trafficking is a serious issue but the US government is not involved with the trafficking of people.  And the US public wants the right to have guns.  That is what people vote for.  Gun control legislation fails for a reason.\n",
      "2021-02-21 22:27:40: @grendel715 @KBP1313 @StJohnsEastBoss @lilpharma42 @TomBrady He said good and bad people in both parties, he never mentioned Trump. I think he was referring to political issues like gun control, immigration, etc....things that there can be a middle ground on, not criminal acts.\n",
      "2021-02-21 20:01:01: Letters to the Editor: Congress once banned these firearms, but irrefutable evidence proves there was no reduction in crime. Criminals will not follow laws. Only law-abiding Americans will suffer.\n",
      "\n",
      "https://t.co/rQS0XEmWNO\n",
      "2021-02-21 19:46:21: In three experiments (N = 1102) we find support for this hypothesis using the partisan topic of gun control. Gun control has emerged as one of the most polarizing issues in modern American politics, and represents one of the most fact-checked topics in political discourse.\n",
      "\n",
      "7/12\n",
      "2021-02-21 19:17:18: @gonoles7682 @burgner1_b @CalebJHull anyway, I'm not really interested in debating with you the merits of congressional bills for gun control.\n",
      "\n",
      "I'm merely pointing out that it is a LIE to miss-quote President Biden\n",
      "2021-02-21 19:02:57: @Patriotgamer45 @JeffOnTheRight I own a gun. I keep it in my home and take it to the shooting range. Point out where I said we should outlaw guns...\n",
      "\n",
      "I don’t walk around with a gun, thinking the only way to protect myself is with a gun. This is the conversation... gun control. Keep up dummy\n",
      "2021-02-21 17:48:44: @ShawnLarson23 @Genesis14855062 @ConservBlue2020 @RepKinzinger Or are you advocating for gun control?\n",
      "2021-02-21 17:41:57: Gun control! So then every little gang banger on the streets have them &amp; we don’t. We need to protect ourselves against this crap. I don’t believe in the assault rifles but as you see the mob attacking our cities all have them https://t.co/dzIa4CnTzD\n",
      "2021-02-21 16:16:11: @TheMorningSpew2 It's about gun control. The more expensive they make owning, buying or using a gun, the fewer people who own them.\n",
      "2021-02-21 15:05:40: @jabre22 @poettreevines @SpriteboyJay @_Marzouq_ Or gun control\n",
      "2021-02-21 14:55:51: @ksorbs I'm tired of the right crying about gun control  and free speech without restraints we would be a chaotic nation  also the left talk to defund the police the right don't want to we can argue this all day but no one we can't even agree on the underlying problem with\n",
      "2021-02-21 13:14:19: @laurenboebert I have an AR-15. \n",
      "\n",
      "It is short for ArmaLite.\n",
      "\n",
      "We need gun control.\n",
      "2021-02-21 08:56:05: @Bigg33D @RVargasAdvocate You just literally again proved gun control works lol. Because they can’t receive that many and the few they do receive hasn’t significantly Impacted murders with guns in Europe. Oh and people aren’t making guns and ammo like u said\n",
      "2021-02-21 07:00:05: @JamieLiz17 @MeidasTouch Yeah, not to mention she opposed  something that can likely reduce abortion by a good 10 to five percent  with raising minimum wage to $15 hour  and also likely eliminate the need for more gun control by at least five percent.\n",
      "2021-02-21 04:36:34: @Andre_Alyeska @MomsDemand To be perfectly clear, the NRA cares ONLY about gun commerce. It perverts the constitution to help gunmakers and their stockholders make money. This must be a stipulation in every gun control discussion. God bless Shannon Watts.  -30-\n",
      "2021-02-21 03:39:59: Real gun control in These Yet to be United States of America would be nice, one that cannot be overridden by \"state's rights.\"\n",
      "2021-02-21 00:58:00: @cnnbrk Half the country has major issues with gun control. I guess I’m not sure why we even need to report on it. Republicans seem to think this is normal and protected by the Constitution.\n",
      "2021-02-20 23:31:36: @laurenboebert I know it doesn’t stand for Assault Rifle, and I think we need more gun control. So...\n",
      "2021-02-20 20:16:54: @laxshinigami @tbocamper @Sbh08Mae Most gun owners are all for gun control and background checks\n",
      "2021-02-20 20:13:36: @laurenboebert I think we need more gun control, and it stands for ArmaLite Rifle. Do you know what an amendment is?\n",
      "2021-02-20 18:22:16: The people who think we do not need more gun control are the same people who are fascists. https://t.co/7MFoqdmycT\n",
      "2021-02-20 17:18:16: @laurenboebert Here’s a handy acronym we can use to remember key gun control topics\n",
      "\n",
      "B - Ban Assault Rifles\n",
      "O - Open carry is made illegal\n",
      "E  - Eliminate loopholes \n",
      "B - Background Checks \n",
      "E - Expose gun manufacturers to litigation\n",
      "R - Regulate the gun industry\n",
      "T - Take guns from felons\n",
      "2021-02-20 16:03:54: @laurenboebert I know it stands for the manufacturer and I still want gun control.\n",
      "2021-02-20 05:00:44: @laroccaa @ThatEricAlper We had the same experience talking to him about gun control.\n",
      "2021-02-19 18:40:56: @Iank11b @SANG33 @HillaryClinton We need gun control, starting with assault weapons. All these militia types want assault weapons and they cost more than pistols. Gun manufacturers do get richer. Allow yourself to work towards keeping our streets safe, that's what we need. Too many guns.\n",
      "2021-02-19 18:32:58: @GordsUK Ya know, as much  as I appreciate the gun control advocacy, it was probably too much fame too quickly\n",
      "2021-02-19 17:32:37: @adammc123 Beto supports gun control amirite? https://t.co/IQRxyLti06\n",
      "2021-02-19 17:13:31: And y'all cool with this? I agree do a tighter background check but to banned certain guns and threatening to take weapons from legal citizens is wrong. Uphold the f*cking constitution.\n",
      "\n",
      "https://t.co/o4hilK2PkR\n",
      "2021-02-19 16:55:16: “Gun control laws don’t stop criminals from getting guns.”  Ok, so why do we bother with speed limits?\n",
      "2021-02-19 16:04:37: @cameron_kasky The solution is to sell pillows because you know this new president won’t do shit on gun control legislation\n",
      "2021-02-19 05:33:26: @ChrisContiPhoto @ErikNaso @owillis I think this is why we need to get rid of the NRA.\n",
      "\n",
      "The people in control of the NRA don’t care about gun ownership in America, they care about money &amp; power. Guns are just the medium to get them more money &amp; power.\n",
      "2021-02-19 01:17:48: niggas that shoot kids on the street and white boys who shoot up School do not walk into the Gun store like \"Yo, let me get that gun right there\" ... gun control is racism\n",
      "2021-02-19 00:00:00: Sun-Times reader Barry Owen responds to .@jacobsullum's recent editorial regarding President Biden's gun control proposals asking if more than 30K preventable gun deaths annually acceptable, and if they're not,  what do you propose to reduce this number?\n",
      "https://t.co/S0cbuq5z64\n",
      "2021-02-18 21:49:25: @MagicPeaceLove Don't worry comrade, the left isn't in favor of gun control.\n",
      "2021-02-18 20:36:03: @RepMMM @RepAnnWagner @RepJimBanks @RepRonEstes How bout gun control to help stop mass murders?\n",
      "\n",
      "Raising min wage so the ppl who have most abortions, WOMEN IN POVERTY can raise their kids since u r forcing them to carry full term\n",
      "\n",
      "More funding for PUBLIC schools not religious-private school 'choice'\n",
      "\n",
      "RESIGN\n",
      "\n",
      "#IAGOP #IowaGOP\n",
      "2021-02-18 19:12:08: @summeranne Ok, we'll teach you how to be homeless and not die in the winter, and you help us get national gun control so fewer of us get shot. Deal?\n",
      "Sincerely \n",
      "     -Chicago\n",
      "2021-02-18 18:27:59: @SmokeyMagma @KindforCongress Kelly has some liberal views given his understandable views on gun control. I would not necessarily consider him a moderate Democrat.\n",
      "2021-02-18 17:46:46: @KatieHill4CA @JaredHuffman Under sensible gun control laws, people with her rap sheet probably shouldn't be allowed to have guns.   She is a serial criminal.\n",
      "2021-02-18 14:48:04: Gun control caused him to become a racist and then storm The Capitol and he got arrested with two AR 15s, a shotgun, and hundreds of rounds of ammunition \n",
      "\n",
      "It was always in him, he was just fronting before because it was socially unacceptable to be an open bigot unlike now https://t.co/PxzBUUuqZS\n",
      "2021-02-18 13:36:08: Gun control measures are necessary. Start with defunding the police and military. \n",
      "\n",
      "I also think that liberals and the left in general use gun control as another impermanent, unimaginative fix to a problem that must be addressed at the roots\n",
      "2021-02-18 13:33:47: I used to believe in gun control measures and still believe in common sense regulations like background checks.\n",
      "\n",
      "But I believe now it’s not a great idea for the police and white supremacist ammunition hoarders to be the only ones with guns.\n",
      "2021-02-18 03:27:00: @nbcchicago How much was spent on gun control  or the war on illicit drugs?\n",
      "2021-02-18 03:26:41: @TrevorNorris5 @gagebigmanlunk @jray4151 @trexysmexy @chicagotribune Bet they’d be down 200% next year if everyone in this city had their needs met. \n",
      "Also, increase in gun control means increase in criminalization of black and brown people. Not hypothetical, we can already see what the liberal “reform” effort has bought for US prison populations\n",
      "2021-02-18 02:41:45: This makes much more sense than gun control. What the fuck America https://t.co/TE048zt0HY\n",
      "2021-02-18 02:08:07: The Green New Deal didn't cause Texas power outages. Gay marriage, gun control, and the black vote in Georgia, Michigan, Pennsylvania, and Wisconsin caused Texas power outages. \n",
      "\n",
      "#TexasBlackout #TexasWinterStorm2021 #AbbottFailedTexas @GovAbbott @KenPaxtonTX https://t.co/Ti4VITT8q1\n",
      "2021-02-18 02:02:52: @stoax38 Ugh I can see the NRA and right wingers promoting this as an option to keep students safe instead of common sense gun control laws.\n",
      "2021-02-17 23:29:33: @andraydomise Feels like gun control is really a centrist issue: the further you move in either direction the less popular it becomes (the drop in support is faster on the right tho)\n",
      "2021-02-17 19:28:38: @colonelnemo Gumb was denied any sort of validity or empathy wrt her identity so she’s taking it by violent force out of vengeance; Clarice navigates a cruel world where men only ever want to control or consume her so she wears a badge and a gun in a futile attempt to mitigate that.\n",
      "2021-02-17 18:16:56: @CWBChicago Gun control by President is a f-cking joke. The criminal will ALWAYS have a gun. Any type of gun control law ONLY effects the legal person purchasing a gun. True gun  control is using two hands to point the weapon\n",
      "2021-02-17 15:16:48: @BrandyMcgillTV @WLOX let’s kit out every classroom with 26 bunker desks before any modicum of meaningful gun control\n",
      "2021-02-17 15:02:37: @ggreenwald I think we'll soon get \"common sense speech control\" regulations to go with our \"common sense gun control\".\n",
      "2021-02-17 04:35:49: @AderholdGabe I mean... Gun control and $15 minimum wage have 70% support so the people are less divided than congress\n",
      "2021-02-17 03:01:49: My pops was just talkin bout the black panthers in Chicago. Folks don’t realize how much good they did through their community programs and protection.\n",
      "\n",
      "And how gun control laws were first introduced out of fear of black folks having them.\n",
      "\n",
      "#BlackChurchPBS\n",
      "#ANDBlackChurch\n",
      "2021-02-17 02:34:45: Was thinking #Control wasn't THAT bad with performance on #PS4. WRONG. Give an enemy a Gatling gun and watch those frames chug.\n",
      "2021-02-17 01:21:47: lol \"leftists\" arguing that gun control is transphobic is really not the take i expected in this year of our lord 2021.\n",
      "2021-02-17 00:35:29: @RinainDC @thereidout Why are you so desperate to save the @GOP ? Is it taxes? Gun control? Closet racism? It doesn't make sense. No GOP agenda in the last 50 years has resulted in positive GDP, better international relations, or reduction in national debt. So, what is it? 🤷‍♂️\n",
      "2021-02-17 00:07:06: @FoxNews Gun control doesn’t work. Look at Chicago.\n",
      "2021-02-16 23:35:42: @ksorbs They just don't understand, criminals don't obey laws, especially gun control laws!\n",
      "2021-02-16 23:23:44: Any common-sense gun control policy must include ammo control as well. It doesn't make sense to make it any easier to buy the part that inflicts the wound than to buy the rest of the package.\n",
      "2021-02-16 22:55:10: Man over these past few days I realized that a lot more left-wingers liked guns than I thought. I thought we were pretty unified on gun control, but I guess not lol.\n",
      "2021-02-16 22:46:26: @terryfuck45 @SpookyLovejoy That's what it looks like. Gun control is a tricky topic for the left here and I think in Britain as well. There have been so many mass shootings that it kinda feels necessary, however I tend to take the view that these mass shootings are the result of a sickness in society.\n",
      "2021-02-16 22:46:20: @aerythel gun control is super popular and it only increases in popularity. we need to join the civilized world. guns provide no utility\n",
      "2021-02-16 22:07:03: @aerythel @SocDoneLeft the difference is data shows gun control actually works because they are different commodities\n",
      "2021-02-16 22:00:01: Biden’s “commonsense” gun control prescriptions are “common” in the sense that politicians often push them. Whether they make “sense” is another matter, .@jacobsullum writes.\n",
      "https://t.co/xubRyuXlji\n",
      "2021-02-16 21:49:47: @Y_Ahor_ @KnowNothingTV @muke10101 @pseudocia gun bans are a type of gun control lmfao\n",
      "2021-02-16 21:43:55: Gun control saves trans and poor lives\n",
      "2021-02-16 21:25:44: @wraithplayer all data is against you on firearms. they increase suicide and homicide, increase mass shootings and gun control makes those things go down\n",
      "2021-02-16 21:10:39: @cdw021066 @HodGreeley @thequeenbaldnya https://t.co/4dHQO5gz6i https://t.co/0nTsOR8sf0\n",
      "2021-02-16 20:27:41: @wraithplayer these were not caused by gun control and would not have been prevented by private gun ownership lmfao\n",
      "2021-02-16 20:22:42: @wraithplayer gun control decreases homicide and suicide. cope\n",
      "2021-02-16 20:15:00: “We’re not trying to penalize responsible gun owners. We’re trying to solve the problem that exists today which led to another mass tragedy in Aurora,” Villivalam said.\n",
      "\n",
      "https://t.co/Lj3pHs553v\n",
      "2021-02-16 19:02:07: Psaki: Gun control a ‘priority,’ Biden ‘not afraid of standing up’ to the NRA https://t.co/TtVrB6EWhR\n",
      "2021-02-16 17:41:03: Two years ago yesterday was when a man, who shouldn't legally have had a gun, shot and killed five people in suburban Aurora. It prompted calls to \"Fix the FOID.\"\n",
      "A gun law status check:  https://t.co/q3WKn8ed49\n",
      "Also, Sunday marked 13 years since five students were killed at NIU.\n",
      "2021-02-16 14:55:08: @SocDoneLeft I think people are calling you a lib over this because the unstated assumption of the “gun control good” position is that the state can be coopted into benevolence. People are disagreeing with that assumption, not that gun ownership has harms.\n"
     ]
    }
   ],
   "source": [
    "for index, tweet in enumerate(tweets):\n",
    "    print(str(tweet.created_at) + ': ' + tweet.full_text)"
   ]
  },
  {
   "cell_type": "markdown",
   "metadata": {},
   "source": [
    "### Organizing the data"
   ]
  },
  {
   "cell_type": "markdown",
   "metadata": {},
   "source": [
    "Since the tw.Cursor function can only run a single loop we have to run the search again"
   ]
  },
  {
   "cell_type": "code",
   "execution_count": 15,
   "metadata": {},
   "outputs": [],
   "source": [
    "tweets = tw.Cursor(api.search,\n",
    "                   q=q,\n",
    "                   geocode='41.789722,-87.599724,50km', \n",
    "                   tweet_mode='extended').items(max_tweets)"
   ]
  },
  {
   "cell_type": "markdown",
   "metadata": {},
   "source": [
    "I will print the tweets in a geo json data frame to make the data more clearly formatted"
   ]
  },
  {
   "cell_type": "code",
   "execution_count": 16,
   "metadata": {},
   "outputs": [
    {
     "name": "stdout",
     "output_type": "stream",
     "text": [
      "<tweepy.cursor.ItemIterator object at 0x7ff3f997fe20>\n"
     ]
    }
   ],
   "source": [
    "print(tweets)"
   ]
  },
  {
   "cell_type": "code",
   "execution_count": 17,
   "metadata": {},
   "outputs": [],
   "source": [
    "json_data = [tweet._json for tweet in tweets]"
   ]
  },
  {
   "cell_type": "code",
   "execution_count": 18,
   "metadata": {},
   "outputs": [
    {
     "data": {
      "text/html": [
       "<div>\n",
       "<style scoped>\n",
       "    .dataframe tbody tr th:only-of-type {\n",
       "        vertical-align: middle;\n",
       "    }\n",
       "\n",
       "    .dataframe tbody tr th {\n",
       "        vertical-align: top;\n",
       "    }\n",
       "\n",
       "    .dataframe thead th {\n",
       "        text-align: right;\n",
       "    }\n",
       "</style>\n",
       "<table border=\"1\" class=\"dataframe\">\n",
       "  <thead>\n",
       "    <tr style=\"text-align: right;\">\n",
       "      <th></th>\n",
       "      <th>created_at</th>\n",
       "      <th>id</th>\n",
       "      <th>id_str</th>\n",
       "      <th>full_text</th>\n",
       "      <th>truncated</th>\n",
       "      <th>display_text_range</th>\n",
       "      <th>source</th>\n",
       "      <th>in_reply_to_status_id</th>\n",
       "      <th>in_reply_to_status_id_str</th>\n",
       "      <th>in_reply_to_user_id</th>\n",
       "      <th>...</th>\n",
       "      <th>quoted_status.favorited</th>\n",
       "      <th>quoted_status.retweeted</th>\n",
       "      <th>quoted_status.possibly_sensitive</th>\n",
       "      <th>quoted_status.lang</th>\n",
       "      <th>place</th>\n",
       "      <th>user.entities.url.urls</th>\n",
       "      <th>quoted_status.quoted_status_id</th>\n",
       "      <th>quoted_status.quoted_status_id_str</th>\n",
       "      <th>entities.media</th>\n",
       "      <th>extended_entities.media</th>\n",
       "    </tr>\n",
       "  </thead>\n",
       "  <tbody>\n",
       "    <tr>\n",
       "      <th>0</th>\n",
       "      <td>Wed Feb 24 03:14:20 +0000 2021</td>\n",
       "      <td>1364413322368602112</td>\n",
       "      <td>1364413322368602112</td>\n",
       "      <td>anything but gun control. https://t.co/TpTzFoZKkP</td>\n",
       "      <td>False</td>\n",
       "      <td>[0, 25]</td>\n",
       "      <td>&lt;a href=\"http://twitter.com/download/iphone\" r...</td>\n",
       "      <td>NaN</td>\n",
       "      <td>None</td>\n",
       "      <td>NaN</td>\n",
       "      <td>...</td>\n",
       "      <td>False</td>\n",
       "      <td>False</td>\n",
       "      <td>False</td>\n",
       "      <td>en</td>\n",
       "      <td>NaN</td>\n",
       "      <td>NaN</td>\n",
       "      <td>NaN</td>\n",
       "      <td>NaN</td>\n",
       "      <td>NaN</td>\n",
       "      <td>NaN</td>\n",
       "    </tr>\n",
       "    <tr>\n",
       "      <th>1</th>\n",
       "      <td>Wed Feb 24 00:45:08 +0000 2021</td>\n",
       "      <td>1364375776892772354</td>\n",
       "      <td>1364375776892772354</td>\n",
       "      <td>After being shot multiple times in the head an...</td>\n",
       "      <td>False</td>\n",
       "      <td>[0, 174]</td>\n",
       "      <td>&lt;a href=\"https://trueanthem.com/\" rel=\"nofollo...</td>\n",
       "      <td>NaN</td>\n",
       "      <td>None</td>\n",
       "      <td>NaN</td>\n",
       "      <td>...</td>\n",
       "      <td>NaN</td>\n",
       "      <td>NaN</td>\n",
       "      <td>NaN</td>\n",
       "      <td>NaN</td>\n",
       "      <td>NaN</td>\n",
       "      <td>[{'url': 'http://t.co/q4scpU7ZK4', 'expanded_u...</td>\n",
       "      <td>NaN</td>\n",
       "      <td>NaN</td>\n",
       "      <td>NaN</td>\n",
       "      <td>NaN</td>\n",
       "    </tr>\n",
       "    <tr>\n",
       "      <th>2</th>\n",
       "      <td>Tue Feb 23 21:42:46 +0000 2021</td>\n",
       "      <td>1364329880691875840</td>\n",
       "      <td>1364329880691875840</td>\n",
       "      <td>@RealCandaceO Common sense only applies to use...</td>\n",
       "      <td>False</td>\n",
       "      <td>[14, 108]</td>\n",
       "      <td>&lt;a href=\"http://twitter.com/download/android\" ...</td>\n",
       "      <td>1.364292e+18</td>\n",
       "      <td>1364292024321597440</td>\n",
       "      <td>8.782476e+17</td>\n",
       "      <td>...</td>\n",
       "      <td>NaN</td>\n",
       "      <td>NaN</td>\n",
       "      <td>NaN</td>\n",
       "      <td>NaN</td>\n",
       "      <td>NaN</td>\n",
       "      <td>NaN</td>\n",
       "      <td>NaN</td>\n",
       "      <td>NaN</td>\n",
       "      <td>NaN</td>\n",
       "      <td>NaN</td>\n",
       "    </tr>\n",
       "    <tr>\n",
       "      <th>3</th>\n",
       "      <td>Tue Feb 23 19:48:59 +0000 2021</td>\n",
       "      <td>1364301248107839493</td>\n",
       "      <td>1364301248107839493</td>\n",
       "      <td>Biden Gun Control Plan Would ‘Criminalize’ up ...</td>\n",
       "      <td>False</td>\n",
       "      <td>[0, 236]</td>\n",
       "      <td>&lt;a href=\"http://twitter.com/#!/download/ipad\" ...</td>\n",
       "      <td>NaN</td>\n",
       "      <td>None</td>\n",
       "      <td>NaN</td>\n",
       "      <td>...</td>\n",
       "      <td>NaN</td>\n",
       "      <td>NaN</td>\n",
       "      <td>NaN</td>\n",
       "      <td>NaN</td>\n",
       "      <td>NaN</td>\n",
       "      <td>NaN</td>\n",
       "      <td>NaN</td>\n",
       "      <td>NaN</td>\n",
       "      <td>NaN</td>\n",
       "      <td>NaN</td>\n",
       "    </tr>\n",
       "    <tr>\n",
       "      <th>4</th>\n",
       "      <td>Tue Feb 23 15:22:08 +0000 2021</td>\n",
       "      <td>1364234093404303365</td>\n",
       "      <td>1364234093404303365</td>\n",
       "      <td>here we go:\\nGun control at all govt buildings...</td>\n",
       "      <td>False</td>\n",
       "      <td>[0, 141]</td>\n",
       "      <td>&lt;a href=\"https://mobile.twitter.com\" rel=\"nofo...</td>\n",
       "      <td>NaN</td>\n",
       "      <td>None</td>\n",
       "      <td>NaN</td>\n",
       "      <td>...</td>\n",
       "      <td>NaN</td>\n",
       "      <td>NaN</td>\n",
       "      <td>NaN</td>\n",
       "      <td>NaN</td>\n",
       "      <td>NaN</td>\n",
       "      <td>[{'url': 'http://t.co/yg303Z2FdU', 'expanded_u...</td>\n",
       "      <td>NaN</td>\n",
       "      <td>NaN</td>\n",
       "      <td>NaN</td>\n",
       "      <td>NaN</td>\n",
       "    </tr>\n",
       "  </tbody>\n",
       "</table>\n",
       "<p>5 rows × 162 columns</p>\n",
       "</div>"
      ],
      "text/plain": [
       "                       created_at                   id               id_str  \\\n",
       "0  Wed Feb 24 03:14:20 +0000 2021  1364413322368602112  1364413322368602112   \n",
       "1  Wed Feb 24 00:45:08 +0000 2021  1364375776892772354  1364375776892772354   \n",
       "2  Tue Feb 23 21:42:46 +0000 2021  1364329880691875840  1364329880691875840   \n",
       "3  Tue Feb 23 19:48:59 +0000 2021  1364301248107839493  1364301248107839493   \n",
       "4  Tue Feb 23 15:22:08 +0000 2021  1364234093404303365  1364234093404303365   \n",
       "\n",
       "                                           full_text  truncated  \\\n",
       "0  anything but gun control. https://t.co/TpTzFoZKkP      False   \n",
       "1  After being shot multiple times in the head an...      False   \n",
       "2  @RealCandaceO Common sense only applies to use...      False   \n",
       "3  Biden Gun Control Plan Would ‘Criminalize’ up ...      False   \n",
       "4  here we go:\\nGun control at all govt buildings...      False   \n",
       "\n",
       "  display_text_range                                             source  \\\n",
       "0            [0, 25]  <a href=\"http://twitter.com/download/iphone\" r...   \n",
       "1           [0, 174]  <a href=\"https://trueanthem.com/\" rel=\"nofollo...   \n",
       "2          [14, 108]  <a href=\"http://twitter.com/download/android\" ...   \n",
       "3           [0, 236]  <a href=\"http://twitter.com/#!/download/ipad\" ...   \n",
       "4           [0, 141]  <a href=\"https://mobile.twitter.com\" rel=\"nofo...   \n",
       "\n",
       "   in_reply_to_status_id in_reply_to_status_id_str  in_reply_to_user_id  ...  \\\n",
       "0                    NaN                      None                  NaN  ...   \n",
       "1                    NaN                      None                  NaN  ...   \n",
       "2           1.364292e+18       1364292024321597440         8.782476e+17  ...   \n",
       "3                    NaN                      None                  NaN  ...   \n",
       "4                    NaN                      None                  NaN  ...   \n",
       "\n",
       "  quoted_status.favorited quoted_status.retweeted  \\\n",
       "0                   False                   False   \n",
       "1                     NaN                     NaN   \n",
       "2                     NaN                     NaN   \n",
       "3                     NaN                     NaN   \n",
       "4                     NaN                     NaN   \n",
       "\n",
       "  quoted_status.possibly_sensitive quoted_status.lang place  \\\n",
       "0                            False                 en   NaN   \n",
       "1                              NaN                NaN   NaN   \n",
       "2                              NaN                NaN   NaN   \n",
       "3                              NaN                NaN   NaN   \n",
       "4                              NaN                NaN   NaN   \n",
       "\n",
       "                              user.entities.url.urls  \\\n",
       "0                                                NaN   \n",
       "1  [{'url': 'http://t.co/q4scpU7ZK4', 'expanded_u...   \n",
       "2                                                NaN   \n",
       "3                                                NaN   \n",
       "4  [{'url': 'http://t.co/yg303Z2FdU', 'expanded_u...   \n",
       "\n",
       "   quoted_status.quoted_status_id quoted_status.quoted_status_id_str  \\\n",
       "0                             NaN                                NaN   \n",
       "1                             NaN                                NaN   \n",
       "2                             NaN                                NaN   \n",
       "3                             NaN                                NaN   \n",
       "4                             NaN                                NaN   \n",
       "\n",
       "   entities.media  extended_entities.media  \n",
       "0             NaN                      NaN  \n",
       "1             NaN                      NaN  \n",
       "2             NaN                      NaN  \n",
       "3             NaN                      NaN  \n",
       "4             NaN                      NaN  \n",
       "\n",
       "[5 rows x 162 columns]"
      ]
     },
     "execution_count": 18,
     "metadata": {},
     "output_type": "execute_result"
    }
   ],
   "source": [
    "df = pd.json_normalize(json_data)\n",
    "df.head()"
   ]
  },
  {
   "cell_type": "markdown",
   "metadata": {},
   "source": [
    "Lets take a look at thee fields, we can see that twitter collects all kind of data but we need to narrow that down further"
   ]
  },
  {
   "cell_type": "code",
   "execution_count": 19,
   "metadata": {},
   "outputs": [
    {
     "name": "stdout",
     "output_type": "stream",
     "text": [
      "<class 'pandas.core.frame.DataFrame'>\n",
      "RangeIndex: 83 entries, 0 to 82\n",
      "Data columns (total 162 columns):\n",
      " #   Column                                                 Non-Null Count  Dtype  \n",
      "---  ------                                                 --------------  -----  \n",
      " 0   created_at                                             83 non-null     object \n",
      " 1   id                                                     83 non-null     int64  \n",
      " 2   id_str                                                 83 non-null     object \n",
      " 3   full_text                                              83 non-null     object \n",
      " 4   truncated                                              83 non-null     bool   \n",
      " 5   display_text_range                                     83 non-null     object \n",
      " 6   source                                                 83 non-null     object \n",
      " 7   in_reply_to_status_id                                  55 non-null     float64\n",
      " 8   in_reply_to_status_id_str                              55 non-null     object \n",
      " 9   in_reply_to_user_id                                    55 non-null     float64\n",
      " 10  in_reply_to_user_id_str                                55 non-null     object \n",
      " 11  in_reply_to_screen_name                                55 non-null     object \n",
      " 12  geo                                                    0 non-null      object \n",
      " 13  coordinates                                            0 non-null      object \n",
      " 14  contributors                                           0 non-null      object \n",
      " 15  is_quote_status                                        83 non-null     bool   \n",
      " 16  quoted_status_id                                       6 non-null      float64\n",
      " 17  quoted_status_id_str                                   6 non-null      object \n",
      " 18  retweet_count                                          83 non-null     int64  \n",
      " 19  favorite_count                                         83 non-null     int64  \n",
      " 20  favorited                                              83 non-null     bool   \n",
      " 21  retweeted                                              83 non-null     bool   \n",
      " 22  possibly_sensitive                                     21 non-null     object \n",
      " 23  lang                                                   83 non-null     object \n",
      " 24  entities.hashtags                                      83 non-null     object \n",
      " 25  entities.symbols                                       83 non-null     object \n",
      " 26  entities.user_mentions                                 83 non-null     object \n",
      " 27  entities.urls                                          83 non-null     object \n",
      " 28  metadata.iso_language_code                             83 non-null     object \n",
      " 29  metadata.result_type                                   83 non-null     object \n",
      " 30  user.id                                                83 non-null     int64  \n",
      " 31  user.id_str                                            83 non-null     object \n",
      " 32  user.name                                              83 non-null     object \n",
      " 33  user.screen_name                                       83 non-null     object \n",
      " 34  user.location                                          83 non-null     object \n",
      " 35  user.description                                       83 non-null     object \n",
      " 36  user.url                                               29 non-null     object \n",
      " 37  user.entities.description.urls                         83 non-null     object \n",
      " 38  user.protected                                         83 non-null     bool   \n",
      " 39  user.followers_count                                   83 non-null     int64  \n",
      " 40  user.friends_count                                     83 non-null     int64  \n",
      " 41  user.listed_count                                      83 non-null     int64  \n",
      " 42  user.created_at                                        83 non-null     object \n",
      " 43  user.favourites_count                                  83 non-null     int64  \n",
      " 44  user.utc_offset                                        0 non-null      object \n",
      " 45  user.time_zone                                         0 non-null      object \n",
      " 46  user.geo_enabled                                       83 non-null     bool   \n",
      " 47  user.verified                                          83 non-null     bool   \n",
      " 48  user.statuses_count                                    83 non-null     int64  \n",
      " 49  user.lang                                              0 non-null      object \n",
      " 50  user.contributors_enabled                              83 non-null     bool   \n",
      " 51  user.is_translator                                     83 non-null     bool   \n",
      " 52  user.is_translation_enabled                            83 non-null     bool   \n",
      " 53  user.profile_background_color                          83 non-null     object \n",
      " 54  user.profile_background_image_url                      61 non-null     object \n",
      " 55  user.profile_background_image_url_https                61 non-null     object \n",
      " 56  user.profile_background_tile                           83 non-null     bool   \n",
      " 57  user.profile_image_url                                 83 non-null     object \n",
      " 58  user.profile_image_url_https                           83 non-null     object \n",
      " 59  user.profile_banner_url                                67 non-null     object \n",
      " 60  user.profile_link_color                                83 non-null     object \n",
      " 61  user.profile_sidebar_border_color                      83 non-null     object \n",
      " 62  user.profile_sidebar_fill_color                        83 non-null     object \n",
      " 63  user.profile_text_color                                83 non-null     object \n",
      " 64  user.profile_use_background_image                      83 non-null     bool   \n",
      " 65  user.has_extended_profile                              83 non-null     bool   \n",
      " 66  user.default_profile                                   83 non-null     bool   \n",
      " 67  user.default_profile_image                             83 non-null     bool   \n",
      " 68  user.following                                         83 non-null     bool   \n",
      " 69  user.follow_request_sent                               83 non-null     bool   \n",
      " 70  user.notifications                                     83 non-null     bool   \n",
      " 71  user.translator_type                                   83 non-null     object \n",
      " 72  place.id                                               2 non-null      object \n",
      " 73  place.url                                              2 non-null      object \n",
      " 74  place.place_type                                       2 non-null      object \n",
      " 75  place.name                                             2 non-null      object \n",
      " 76  place.full_name                                        2 non-null      object \n",
      " 77  place.country_code                                     2 non-null      object \n",
      " 78  place.country                                          2 non-null      object \n",
      " 79  place.contained_within                                 2 non-null      object \n",
      " 80  place.bounding_box.type                                2 non-null      object \n",
      " 81  place.bounding_box.coordinates                         2 non-null      object \n",
      " 82  quoted_status.created_at                               6 non-null      object \n",
      " 83  quoted_status.id                                       6 non-null      float64\n",
      " 84  quoted_status.id_str                                   6 non-null      object \n",
      " 85  quoted_status.full_text                                6 non-null      object \n",
      " 86  quoted_status.truncated                                6 non-null      object \n",
      " 87  quoted_status.display_text_range                       6 non-null      object \n",
      " 88  quoted_status.entities.hashtags                        6 non-null      object \n",
      " 89  quoted_status.entities.symbols                         6 non-null      object \n",
      " 90  quoted_status.entities.user_mentions                   6 non-null      object \n",
      " 91  quoted_status.entities.urls                            6 non-null      object \n",
      " 92  quoted_status.entities.media                           2 non-null      object \n",
      " 93  quoted_status.extended_entities.media                  2 non-null      object \n",
      " 94  quoted_status.metadata.iso_language_code               6 non-null      object \n",
      " 95  quoted_status.metadata.result_type                     6 non-null      object \n",
      " 96  quoted_status.source                                   6 non-null      object \n",
      " 97  quoted_status.in_reply_to_status_id                    0 non-null      float64\n",
      " 98  quoted_status.in_reply_to_status_id_str                0 non-null      float64\n",
      " 99  quoted_status.in_reply_to_user_id                      0 non-null      float64\n",
      " 100 quoted_status.in_reply_to_user_id_str                  0 non-null      float64\n",
      " 101 quoted_status.in_reply_to_screen_name                  0 non-null      float64\n",
      " 102 quoted_status.user.id                                  6 non-null      float64\n",
      " 103 quoted_status.user.id_str                              6 non-null      object \n",
      " 104 quoted_status.user.name                                6 non-null      object \n",
      " 105 quoted_status.user.screen_name                         6 non-null      object \n",
      " 106 quoted_status.user.location                            6 non-null      object \n",
      " 107 quoted_status.user.description                         6 non-null      object \n",
      " 108 quoted_status.user.url                                 5 non-null      object \n",
      " 109 quoted_status.user.entities.url.urls                   5 non-null      object \n",
      " 110 quoted_status.user.entities.description.urls           6 non-null      object \n",
      " 111 quoted_status.user.protected                           6 non-null      object \n",
      " 112 quoted_status.user.followers_count                     6 non-null      float64\n",
      " 113 quoted_status.user.friends_count                       6 non-null      float64\n",
      " 114 quoted_status.user.listed_count                        6 non-null      float64\n",
      " 115 quoted_status.user.created_at                          6 non-null      object \n",
      " 116 quoted_status.user.favourites_count                    6 non-null      float64\n",
      " 117 quoted_status.user.utc_offset                          0 non-null      float64\n",
      " 118 quoted_status.user.time_zone                           0 non-null      float64\n",
      " 119 quoted_status.user.geo_enabled                         6 non-null      object \n",
      " 120 quoted_status.user.verified                            6 non-null      object \n",
      " 121 quoted_status.user.statuses_count                      6 non-null      float64\n",
      " 122 quoted_status.user.lang                                0 non-null      float64\n",
      " 123 quoted_status.user.contributors_enabled                6 non-null      object \n",
      " 124 quoted_status.user.is_translator                       6 non-null      object \n",
      " 125 quoted_status.user.is_translation_enabled              6 non-null      object \n",
      " 126 quoted_status.user.profile_background_color            6 non-null      object \n",
      " 127 quoted_status.user.profile_background_image_url        4 non-null      object \n",
      " 128 quoted_status.user.profile_background_image_url_https  4 non-null      object \n",
      " 129 quoted_status.user.profile_background_tile             6 non-null      object \n",
      " 130 quoted_status.user.profile_image_url                   6 non-null      object \n",
      " 131 quoted_status.user.profile_image_url_https             6 non-null      object \n",
      " 132 quoted_status.user.profile_banner_url                  6 non-null      object \n",
      " 133 quoted_status.user.profile_link_color                  6 non-null      object \n",
      " 134 quoted_status.user.profile_sidebar_border_color        6 non-null      object \n",
      " 135 quoted_status.user.profile_sidebar_fill_color          6 non-null      object \n",
      " 136 quoted_status.user.profile_text_color                  6 non-null      object \n",
      " 137 quoted_status.user.profile_use_background_image        6 non-null      object \n",
      " 138 quoted_status.user.has_extended_profile                6 non-null      object \n",
      " 139 quoted_status.user.default_profile                     6 non-null      object \n",
      " 140 quoted_status.user.default_profile_image               6 non-null      object \n",
      " 141 quoted_status.user.following                           6 non-null      object \n",
      " 142 quoted_status.user.follow_request_sent                 6 non-null      object \n",
      " 143 quoted_status.user.notifications                       6 non-null      object \n",
      " 144 quoted_status.user.translator_type                     6 non-null      object \n",
      " 145 quoted_status.geo                                      0 non-null      float64\n",
      " 146 quoted_status.coordinates                              0 non-null      float64\n",
      " 147 quoted_status.place                                    0 non-null      float64\n",
      " 148 quoted_status.contributors                             0 non-null      float64\n",
      " 149 quoted_status.is_quote_status                          6 non-null      object \n",
      " 150 quoted_status.retweet_count                            6 non-null      float64\n",
      " 151 quoted_status.favorite_count                           6 non-null      float64\n",
      " 152 quoted_status.favorited                                6 non-null      object \n",
      " 153 quoted_status.retweeted                                6 non-null      object \n",
      " 154 quoted_status.possibly_sensitive                       4 non-null      object \n",
      " 155 quoted_status.lang                                     6 non-null      object \n",
      " 156 place                                                  0 non-null      float64\n",
      " 157 user.entities.url.urls                                 29 non-null     object \n",
      " 158 quoted_status.quoted_status_id                         1 non-null      float64\n",
      " 159 quoted_status.quoted_status_id_str                     1 non-null      object \n",
      " 160 entities.media                                         2 non-null      object \n",
      " 161 extended_entities.media                                2 non-null      object \n",
      "dtypes: bool(18), float64(26), int64(9), object(109)\n",
      "memory usage: 95.0+ KB\n"
     ]
    }
   ],
   "source": [
    "df.info(verbose=True, null_counts=True)"
   ]
  },
  {
   "cell_type": "markdown",
   "metadata": {},
   "source": [
    "We will narrow down what columns we need then we will rename them accordingly"
   ]
  },
  {
   "cell_type": "code",
   "execution_count": 20,
   "metadata": {},
   "outputs": [],
   "source": [
    "df = df[['created_at','full_text','user.screen_name','user.profile_image_url_https']]\n",
    "df.columns = ['created_at','text','screen_name','profile_image']"
   ]
  },
  {
   "cell_type": "markdown",
   "metadata": {},
   "source": [
    "Now we will look at a set of 5 tweets in their entirety to see if the data frame updated accordingly"
   ]
  },
  {
   "cell_type": "code",
   "execution_count": 21,
   "metadata": {},
   "outputs": [
    {
     "data": {
      "text/html": [
       "<div>\n",
       "<style scoped>\n",
       "    .dataframe tbody tr th:only-of-type {\n",
       "        vertical-align: middle;\n",
       "    }\n",
       "\n",
       "    .dataframe tbody tr th {\n",
       "        vertical-align: top;\n",
       "    }\n",
       "\n",
       "    .dataframe thead th {\n",
       "        text-align: right;\n",
       "    }\n",
       "</style>\n",
       "<table border=\"1\" class=\"dataframe\">\n",
       "  <thead>\n",
       "    <tr style=\"text-align: right;\">\n",
       "      <th></th>\n",
       "      <th>created_at</th>\n",
       "      <th>text</th>\n",
       "      <th>screen_name</th>\n",
       "      <th>profile_image</th>\n",
       "    </tr>\n",
       "  </thead>\n",
       "  <tbody>\n",
       "    <tr>\n",
       "      <th>58</th>\n",
       "      <td>Wed Feb 17 15:16:48 +0000 2021</td>\n",
       "      <td>@BrandyMcgillTV @WLOX let’s kit out every classroom with 26 bunker desks before any modicum of meaningful gun control</td>\n",
       "      <td>CF_realidad</td>\n",
       "      <td>https://pbs.twimg.com/profile_images/1353444604436221953/HO_K8RTw_normal.jpg</td>\n",
       "    </tr>\n",
       "    <tr>\n",
       "      <th>19</th>\n",
       "      <td>Sun Feb 21 14:55:51 +0000 2021</td>\n",
       "      <td>@ksorbs I'm tired of the right crying about gun control  and free speech without restraints we would be a chaotic nation  also the left talk to defund the police the right don't want to we can argue this all day but no one we can't even agree on the underlying problem with</td>\n",
       "      <td>8153024043</td>\n",
       "      <td>https://pbs.twimg.com/profile_images/453997836015648768/8DopXGiY_normal.jpeg</td>\n",
       "    </tr>\n",
       "    <tr>\n",
       "      <th>67</th>\n",
       "      <td>Tue Feb 16 23:23:44 +0000 2021</td>\n",
       "      <td>Any common-sense gun control policy must include ammo control as well. It doesn't make sense to make it any easier to buy the part that inflicts the wound than to buy the rest of the package.</td>\n",
       "      <td>whomstbastank</td>\n",
       "      <td>https://pbs.twimg.com/profile_images/1363682148402757640/992fJQjI_normal.png</td>\n",
       "    </tr>\n",
       "    <tr>\n",
       "      <th>50</th>\n",
       "      <td>Thu Feb 18 03:27:00 +0000 2021</td>\n",
       "      <td>@nbcchicago How much was spent on gun control  or the war on illicit drugs?</td>\n",
       "      <td>PaulMiller1313</td>\n",
       "      <td>https://pbs.twimg.com/profile_images/1049062201166684160/zMAtS1Eh_normal.jpg</td>\n",
       "    </tr>\n",
       "    <tr>\n",
       "      <th>44</th>\n",
       "      <td>Thu Feb 18 19:12:08 +0000 2021</td>\n",
       "      <td>@summeranne Ok, we'll teach you how to be homeless and not die in the winter, and you help us get national gun control so fewer of us get shot. Deal?\\nSincerely \\n     -Chicago</td>\n",
       "      <td>MurphyRow</td>\n",
       "      <td>https://pbs.twimg.com/profile_images/481313799849271296/Uo63Bk-I_normal.jpeg</td>\n",
       "    </tr>\n",
       "  </tbody>\n",
       "</table>\n",
       "</div>"
      ],
      "text/plain": [
       "                        created_at  \\\n",
       "58  Wed Feb 17 15:16:48 +0000 2021   \n",
       "19  Sun Feb 21 14:55:51 +0000 2021   \n",
       "67  Tue Feb 16 23:23:44 +0000 2021   \n",
       "50  Thu Feb 18 03:27:00 +0000 2021   \n",
       "44  Thu Feb 18 19:12:08 +0000 2021   \n",
       "\n",
       "                                                                                                                                                                                                                                                                                 text  \\\n",
       "58                                                                                                                                                              @BrandyMcgillTV @WLOX let’s kit out every classroom with 26 bunker desks before any modicum of meaningful gun control   \n",
       "19  @ksorbs I'm tired of the right crying about gun control  and free speech without restraints we would be a chaotic nation  also the left talk to defund the police the right don't want to we can argue this all day but no one we can't even agree on the underlying problem with   \n",
       "67                                                                                    Any common-sense gun control policy must include ammo control as well. It doesn't make sense to make it any easier to buy the part that inflicts the wound than to buy the rest of the package.   \n",
       "50                                                                                                                                                                                                        @nbcchicago How much was spent on gun control  or the war on illicit drugs?   \n",
       "44                                                                                                   @summeranne Ok, we'll teach you how to be homeless and not die in the winter, and you help us get national gun control so fewer of us get shot. Deal?\\nSincerely \\n     -Chicago   \n",
       "\n",
       "       screen_name  \\\n",
       "58     CF_realidad   \n",
       "19      8153024043   \n",
       "67   whomstbastank   \n",
       "50  PaulMiller1313   \n",
       "44       MurphyRow   \n",
       "\n",
       "                                                                   profile_image  \n",
       "58  https://pbs.twimg.com/profile_images/1353444604436221953/HO_K8RTw_normal.jpg  \n",
       "19  https://pbs.twimg.com/profile_images/453997836015648768/8DopXGiY_normal.jpeg  \n",
       "67  https://pbs.twimg.com/profile_images/1363682148402757640/992fJQjI_normal.png  \n",
       "50  https://pbs.twimg.com/profile_images/1049062201166684160/zMAtS1Eh_normal.jpg  \n",
       "44  https://pbs.twimg.com/profile_images/481313799849271296/Uo63Bk-I_normal.jpeg  "
      ]
     },
     "execution_count": 21,
     "metadata": {},
     "output_type": "execute_result"
    }
   ],
   "source": [
    "pd.set_option('display.max_colwidth', None)\n",
    "df.sample(5)"
   ]
  },
  {
   "cell_type": "markdown",
   "metadata": {},
   "source": [
    "### Word Cloud\n",
    "We now need to clean the data to filter out unimportant words to make a more valuable word cloud."
   ]
  },
  {
   "cell_type": "markdown",
   "metadata": {},
   "source": [
    "We will start with cleaning the tweets to only include regular expressions (no emojis, symbols or URLS)"
   ]
  },
  {
   "cell_type": "code",
   "execution_count": 22,
   "metadata": {},
   "outputs": [],
   "source": [
    "def clean_tweet(tweet):\n",
    "    return ' '.join(re.sub(\"(@[A-Za-z0-9]+)|([^0-9A-Za-z \\t])|(\\w+:\\/\\/\\S+)\", \"\", tweet).split())"
   ]
  },
  {
   "cell_type": "markdown",
   "metadata": {},
   "source": [
    "Now I will create a column for the clean tweets inorder to analyze only cleaned tweets and then I will apply a loop inorder to clean every tweet."
   ]
  },
  {
   "cell_type": "code",
   "execution_count": 23,
   "metadata": {},
   "outputs": [],
   "source": [
    "df['clean_text'] = ''\n",
    "for i, row in df.iterrows():\n",
    "    clean = clean_tweet(row.text)\n",
    "    df.at[i,'clean_text'] = clean"
   ]
  },
  {
   "cell_type": "markdown",
   "metadata": {},
   "source": [
    "Now i will put every cleaned tweet into a data field that can processed into a word cloud"
   ]
  },
  {
   "cell_type": "code",
   "execution_count": 24,
   "metadata": {},
   "outputs": [
    {
     "data": {
      "text/plain": [
       "'anything but gun control After being shot multiple times in the head and face Chicago police say the woman was able to gain control of the gun and shoot the man in the leg Common sense only applies to useless common sense gun control that no criminals would follow Biden Gun Control Plan Would Criminalize up to 105 Million People Of course hes surrounded by armed protectors What the hell does he care about the rest of us Gunrights Group here we goGun control at all govt buildings and polling placesproposes American Bar Assoc2A guns Instead of pushing flawed gun control schemes like banning modern sporting rifles we should continue providing resources to programs with a proven record of making safer communities senior VP and general counsel Lawrence Keane writes Garland says DOJ would advance Bidens progun controlpolicies MSCHF mounted a remotecontrol paintball gun to Spot U cant count Chicago we already have all yall fucking gun control and yet still failed Human trafficking is a serious issue but the US government is not involved with the trafficking of people And the US public wants the right to have guns That is what people vote for Gun control legislation fails for a reason He said good and bad people in both parties he never mentioned Trump I think he was referring to political issues like gun control immigration etcthings that there can be a middle ground on not criminal acts Letters to the Editor Congress once banned these firearms but irrefutable evidence proves there was no reduction in crime Criminals will not follow laws Only lawabiding Americans will suffer In three experiments N 1102 we find support for this hypothesis using the partisan topic of gun control Gun control has emerged as one of the most polarizing issues in modern American politics and represents one of the most factchecked topics in political discourse712 b anyway Im not really interested in debating with you the merits of congressional bills for gun controlIm merely pointing out that it is a LIE to missquote President Biden I own a gun I keep it in my home and take it to the shooting range Point out where I said we should outlaw gunsI dont walk around with a gun thinking the only way to protect myself is with a gun This is the conversation gun control Keep up dummy Or are you advocating for gun control Gun control So then every little gang banger on the streets have them amp we dont We need to protect ourselves against this crap I dont believe in the assault rifles but as you see the mob attacking our cities all have them Its about gun control The more expensive they make owning buying or using a gun the fewer people who own them Marzouq Or gun control Im tired of the right crying about gun control and free speech without restraints we would be a chaotic nation also the left talk to defund the police the right dont want to we can argue this all day but no one we cant even agree on the underlying problem with I have an AR15 It is short for ArmaLiteWe need gun control You just literally again proved gun control works lol Because they cant receive that many and the few they do receive hasnt significantly Impacted murders with guns in Europe Oh and people arent making guns and ammo like u said Yeah not to mention she opposed something that can likely reduce abortion by a good 10 to five percent with raising minimum wage to 15 hour and also likely eliminate the need for more gun control by at least five percent Alyeska To be perfectly clear the NRA cares ONLY about gun commerce It perverts the constitution to help gunmakers and their stockholders make money This must be a stipulation in every gun control discussion God bless Shannon Watts 30 Real gun control in These Yet to be United States of America would be nice one that cannot be overridden by states rights Half the country has major issues with gun control I guess Im not sure why we even need to report on it Republicans seem to think this is normal and protected by the Constitution I know it doesnt stand for Assault Rifle and I think we need more gun control So Most gun owners are all for gun control and background checks I think we need more gun control and it stands for ArmaLite Rifle Do you know what an amendment is The people who think we do not need more gun control are the same people who are fascists Heres a handy acronym we can use to remember key gun control topicsB Ban Assault RiflesO Open carry is made illegalE Eliminate loopholes B Background Checks E Expose gun manufacturers to litigationR Regulate the gun industryT Take guns from felons I know it stands for the manufacturer and I still want gun control We had the same experience talking to him about gun control We need gun control starting with assault weapons All these militia types want assault weapons and they cost more than pistols Gun manufacturers do get richer Allow yourself to work towards keeping our streets safe thats what we need Too many guns Ya know as much as I appreciate the gun control advocacy it was probably too much fame too quickly Beto supports gun control amirite And yall cool with this I agree do a tighter background check but to banned certain guns and threatening to take weapons from legal citizens is wrong Uphold the fcking constitution Gun control laws dont stop criminals from getting guns Ok so why do we bother with speed limits kasky The solution is to sell pillows because you know this new president wont do shit on gun control legislation I think this is why we need to get rid of the NRAThe people in control of the NRA dont care about gun ownership in America they care about money amp power Guns are just the medium to get them more money amp power niggas that shoot kids on the street and white boys who shoot up School do not walk into the Gun store like Yo let me get that gun right there gun control is racism SunTimes reader Barry Owen responds to s recent editorial regarding President Bidens gun control proposals asking if more than 30K preventable gun deaths annually acceptable and if theyre not what do you propose to reduce this number Dont worry comrade the left isnt in favor of gun control How bout gun control to help stop mass murdersRaising min wage so the ppl who have most abortions WOMEN IN POVERTY can raise their kids since u r forcing them to carry full termMore funding for PUBLIC schools not religiousprivate school choiceRESIGNIAGOP IowaGOP Ok well teach you how to be homeless and not die in the winter and you help us get national gun control so fewer of us get shot DealSincerely Chicago Kelly has some liberal views given his understandable views on gun control I would not necessarily consider him a moderate Democrat Under sensible gun control laws people with her rap sheet probably shouldnt be allowed to have guns She is a serial criminal Gun control caused him to become a racist and then storm The Capitol and he got arrested with two AR 15s a shotgun and hundreds of rounds of ammunition It was always in him he was just fronting before because it was socially unacceptable to be an open bigot unlike now Gun control measures are necessary Start with defunding the police and military I also think that liberals and the left in general use gun control as another impermanent unimaginative fix to a problem that must be addressed at the roots I used to believe in gun control measures and still believe in common sense regulations like background checksBut I believe now its not a great idea for the police and white supremacist ammunition hoarders to be the only ones with guns How much was spent on gun control or the war on illicit drugs Bet theyd be down 200 next year if everyone in this city had their needs met Also increase in gun control means increase in criminalization of black and brown people Not hypothetical we can already see what the liberal reform effort has bought for US prison populations This makes much more sense than gun control What the fuck America The Green New Deal didnt cause Texas power outages Gay marriage gun control and the black vote in Georgia Michigan Pennsylvania and Wisconsin caused Texas power outages TexasBlackout TexasWinterStorm2021 AbbottFailedTexas Ugh I can see the NRA and right wingers promoting this as an option to keep students safe instead of common sense gun control laws Feels like gun control is really a centrist issue the further you move in either direction the less popular it becomes the drop in support is faster on the right tho Gumb was denied any sort of validity or empathy wrt her identity so shes taking it by violent force out of vengeance Clarice navigates a cruel world where men only ever want to control or consume her so she wears a badge and a gun in a futile attempt to mitigate that Gun control by President is a fcking joke The criminal will ALWAYS have a gun Any type of gun control law ONLY effects the legal person purchasing a gun True gun control is using two hands to point the weapon lets kit out every classroom with 26 bunker desks before any modicum of meaningful gun control I think well soon get common sense speech control regulations to go with our common sense gun control I mean Gun control and 15 minimum wage have 70 support so the people are less divided than congress My pops was just talkin bout the black panthers in Chicago Folks dont realize how much good they did through their community programs and protectionAnd how gun control laws were first introduced out of fear of black folks having themBlackChurchPBSANDBlackChurch Was thinking Control wasnt THAT bad with performance on PS4 WRONG Give an enemy a Gatling gun and watch those frames chug lol leftists arguing that gun control is transphobic is really not the take i expected in this year of our lord 2021 Why are you so desperate to save the Is it taxes Gun control Closet racism It doesnt make sense No GOP agenda in the last 50 years has resulted in positive GDP better international relations or reduction in national debt So what is it Gun control doesnt work Look at Chicago They just dont understand criminals dont obey laws especially gun control laws Any commonsense gun control policy must include ammo control as well It doesnt make sense to make it any easier to buy the part that inflicts the wound than to buy the rest of the package Man over these past few days I realized that a lot more leftwingers liked guns than I thought I thought we were pretty unified on gun control but I guess not lol Thats what it looks like Gun control is a tricky topic for the left here and I think in Britain as well There have been so many mass shootings that it kinda feels necessary however I tend to take the view that these mass shootings are the result of a sickness in society gun control is super popular and it only increases in popularity we need to join the civilized world guns provide no utility the difference is data shows gun control actually works because they are different commodities Bidens commonsense gun control prescriptions are common in the sense that politicians often push them Whether they make sense is another matter writes Ahor gun bans are a type of gun control lmfao Gun control saves trans and poor lives all data is against you on firearms they increase suicide and homicide increase mass shootings and gun control makes those things go down  these were not caused by gun control and would not have been prevented by private gun ownership lmfao gun control decreases homicide and suicide cope Were not trying to penalize responsible gun owners Were trying to solve the problem that exists today which led to another mass tragedy in Aurora Villivalam said Psaki Gun control a priority Biden not afraid of standing up to theNRA Two years ago yesterday was when a man who shouldnt legally have had a gun shot and killed five people in suburban Aurora It prompted calls to Fix the FOIDA gun law status check Also Sunday marked 13 years since five students were killed at NIU I think people are calling you a lib over this because the unstated assumption of the gun control good position is that the state can be coopted into benevolence People are disagreeing with that assumption not that gun ownership has harms'"
      ]
     },
     "execution_count": 24,
     "metadata": {},
     "output_type": "execute_result"
    }
   ],
   "source": [
    "all_text = ' '.join(df['clean_text'])\n",
    "all_text"
   ]
  },
  {
   "cell_type": "markdown",
   "metadata": {},
   "source": [
    "now i will use STOPWORDS from the library inorder to remove commonly used/unessassary words as well as the search term."
   ]
  },
  {
   "cell_type": "code",
   "execution_count": 27,
   "metadata": {},
   "outputs": [],
   "source": [
    "stop_words = ['gun'] + ['control'] + list(STOPWORDS)"
   ]
  },
  {
   "cell_type": "markdown",
   "metadata": {},
   "source": [
    "Now i will display and create a word cloud using the field from above and removing the stop words inlcuded in the library"
   ]
  },
  {
   "cell_type": "code",
   "execution_count": 63,
   "metadata": {},
   "outputs": [
    {
     "data": {
      "image/png": "[encoded data removed]",
      "text/plain": [
       "<Figure size 864x864 with 1 Axes>"
      ]
     },
     "metadata": {
      "needs_background": "light"
     },
     "output_type": "display_data"
    }
   ],
   "source": [
    "wordcloud = WordCloud(width=1200, \n",
    "                      height=1200,\n",
    "                      background_color=\"black\",\n",
    "                      stopwords=stop_words).generate(all_text)\n",
    "\n",
    "plt.figure(figsize=(12,12))\n",
    "plt.imshow(wordcloud, interpolation=\"bilinear\")\n",
    "plt.axis(\"off\")\n",
    "plt.show()"
   ]
  },
  {
   "cell_type": "markdown",
   "metadata": {},
   "source": [
    "I think the main thing I can pull from this word cloud is the fact the gun control, gun laws, and gun incidents will always result back to the peoples use of guns and the fact the someones constitutional \"rights\" is the most debated thing on twitter."
   ]
  },
  {
   "cell_type": "markdown",
   "metadata": {},
   "source": [
    "### Sentiment Analysis"
   ]
  },
  {
   "cell_type": "markdown",
   "metadata": {},
   "source": [
    "I will now analyze twitter users positive and negative sentiments towards the term \"gun control\""
   ]
  },
  {
   "cell_type": "markdown",
   "metadata": {},
   "source": [
    "I will go through the process of basing tweets on wether fall into one of five categories: very negative, negative, neutral, positive and very positive. I will sample a random tweet, analyze it using the textblob library and then analyze the numerical result."
   ]
  },
  {
   "cell_type": "code",
   "execution_count": 29,
   "metadata": {},
   "outputs": [
    {
     "name": "stdout",
     "output_type": "stream",
     "text": [
      "Biden Gun Control Plan Would Criminalize up to 105 Million People Of course hes surrounded by armed protectors What the hell does he care about the rest of us Gunrights Group\n"
     ]
    },
    {
     "data": {
      "text/plain": [
       "Sentiment(polarity=0.0, subjectivity=0.0)"
      ]
     },
     "execution_count": 29,
     "metadata": {},
     "output_type": "execute_result"
    }
   ],
   "source": [
    "tweet = df.sample().clean_text.values[0]\n",
    "print(tweet)\n",
    "\n",
    "a = TextBlob(tweet)\n",
    "\n",
    "a.sentiment"
   ]
  },
  {
   "cell_type": "markdown",
   "metadata": {},
   "source": [
    "I will add a column on the data frame to contain the polarity, or numerical value of the sentiments."
   ]
  },
  {
   "cell_type": "code",
   "execution_count": 46,
   "metadata": {},
   "outputs": [],
   "source": [
    "df['polarity']=''"
   ]
  },
  {
   "cell_type": "markdown",
   "metadata": {},
   "source": [
    "Then I will use a loop to filter each tweet assigning them polarity to the newly created column in the data frame."
   ]
  },
  {
   "cell_type": "code",
   "execution_count": 47,
   "metadata": {},
   "outputs": [],
   "source": [
    "for i, row in df.iterrows():\n",
    "    a = TextBlob(row.clean_text)\n",
    "    df.at[i,'polarity'] = a.polarity"
   ]
  },
  {
   "cell_type": "markdown",
   "metadata": {},
   "source": [
    "Looking at this sample we can see the new column is working effectively "
   ]
  },
  {
   "cell_type": "code",
   "execution_count": 48,
   "metadata": {},
   "outputs": [
    {
     "data": {
      "text/html": [
       "<div>\n",
       "<style scoped>\n",
       "    .dataframe tbody tr th:only-of-type {\n",
       "        vertical-align: middle;\n",
       "    }\n",
       "\n",
       "    .dataframe tbody tr th {\n",
       "        vertical-align: top;\n",
       "    }\n",
       "\n",
       "    .dataframe thead th {\n",
       "        text-align: right;\n",
       "    }\n",
       "</style>\n",
       "<table border=\"1\" class=\"dataframe\">\n",
       "  <thead>\n",
       "    <tr style=\"text-align: right;\">\n",
       "      <th></th>\n",
       "      <th>clean_text</th>\n",
       "      <th>polarity</th>\n",
       "    </tr>\n",
       "  </thead>\n",
       "  <tbody>\n",
       "    <tr>\n",
       "      <th>10</th>\n",
       "      <td>He said good and bad people in both parties he never mentioned Trump I think he was referring to political issues like gun control immigration etcthings that there can be a middle ground on not criminal acts</td>\n",
       "      <td>0.04</td>\n",
       "    </tr>\n",
       "    <tr>\n",
       "      <th>6</th>\n",
       "      <td>Garland says DOJ would advance Bidens progun controlpolicies</td>\n",
       "      <td>0</td>\n",
       "    </tr>\n",
       "    <tr>\n",
       "      <th>51</th>\n",
       "      <td>Bet theyd be down 200 next year if everyone in this city had their needs met Also increase in gun control means increase in criminalization of black and brown people Not hypothetical we can already see what the liberal reform effort has bought for US prison populations</td>\n",
       "      <td>-0.107407</td>\n",
       "    </tr>\n",
       "    <tr>\n",
       "      <th>31</th>\n",
       "      <td>I know it stands for the manufacturer and I still want gun control</td>\n",
       "      <td>0</td>\n",
       "    </tr>\n",
       "    <tr>\n",
       "      <th>81</th>\n",
       "      <td>Two years ago yesterday was when a man who shouldnt legally have had a gun shot and killed five people in suburban Aurora It prompted calls to Fix the FOIDA gun law status check Also Sunday marked 13 years since five students were killed at NIU</td>\n",
       "      <td>-0.02</td>\n",
       "    </tr>\n",
       "  </tbody>\n",
       "</table>\n",
       "</div>"
      ],
      "text/plain": [
       "                                                                                                                                                                                                                                                                       clean_text  \\\n",
       "10                                                                He said good and bad people in both parties he never mentioned Trump I think he was referring to political issues like gun control immigration etcthings that there can be a middle ground on not criminal acts   \n",
       "6                                                                                                                                                                                                                    Garland says DOJ would advance Bidens progun controlpolicies   \n",
       "51  Bet theyd be down 200 next year if everyone in this city had their needs met Also increase in gun control means increase in criminalization of black and brown people Not hypothetical we can already see what the liberal reform effort has bought for US prison populations   \n",
       "31                                                                                                                                                                                                             I know it stands for the manufacturer and I still want gun control   \n",
       "81                           Two years ago yesterday was when a man who shouldnt legally have had a gun shot and killed five people in suburban Aurora It prompted calls to Fix the FOIDA gun law status check Also Sunday marked 13 years since five students were killed at NIU   \n",
       "\n",
       "    polarity  \n",
       "10      0.04  \n",
       "6          0  \n",
       "51 -0.107407  \n",
       "31         0  \n",
       "81     -0.02  "
      ]
     },
     "execution_count": 48,
     "metadata": {},
     "output_type": "execute_result"
    }
   ],
   "source": [
    "df[['clean_text','polarity']].sample(5)"
   ]
  },
  {
   "cell_type": "markdown",
   "metadata": {},
   "source": [
    "These numerical conditions will now be associated with the values that are readable. -0.2 being the most negative, 0 being neutral and 0.2 being the most positive. Then i will make another column to hold the word based values."
   ]
  },
  {
   "cell_type": "code",
   "execution_count": 50,
   "metadata": {},
   "outputs": [],
   "source": [
    "conditions = [\n",
    "    (df['polarity'] < -0.2), # very negative\n",
    "    (df['polarity'] < 0) & (df['polarity'] >= -0.2),   # negative\n",
    "    (df['polarity'] == 0),  # neutral\n",
    "    (df['polarity'] > 0) & (df['polarity'] <= 0.2),    # positive\n",
    "    (df['polarity'] > 0.2)  # very positive\n",
    "    ]\n",
    "\n",
    "values = [\n",
    "    'very negative', \n",
    "    'negative', \n",
    "    'neutral', \n",
    "    'positive',\n",
    "    'very positive'\n",
    "    ]\n",
    "\n",
    "df['sentiment'] = np.select(conditions, values)"
   ]
  },
  {
   "cell_type": "code",
   "execution_count": 51,
   "metadata": {},
   "outputs": [
    {
     "data": {
      "text/html": [
       "<div>\n",
       "<style scoped>\n",
       "    .dataframe tbody tr th:only-of-type {\n",
       "        vertical-align: middle;\n",
       "    }\n",
       "\n",
       "    .dataframe tbody tr th {\n",
       "        vertical-align: top;\n",
       "    }\n",
       "\n",
       "    .dataframe thead th {\n",
       "        text-align: right;\n",
       "    }\n",
       "</style>\n",
       "<table border=\"1\" class=\"dataframe\">\n",
       "  <thead>\n",
       "    <tr style=\"text-align: right;\">\n",
       "      <th></th>\n",
       "      <th>clean_text</th>\n",
       "      <th>polarity</th>\n",
       "      <th>sentiment</th>\n",
       "    </tr>\n",
       "  </thead>\n",
       "  <tbody>\n",
       "    <tr>\n",
       "      <th>78</th>\n",
       "      <td>gun control decreases homicide and suicide cope</td>\n",
       "      <td>0</td>\n",
       "      <td>neutral</td>\n",
       "    </tr>\n",
       "    <tr>\n",
       "      <th>45</th>\n",
       "      <td>Kelly has some liberal views given his understandable views on gun control I would not necessarily consider him a moderate Democrat</td>\n",
       "      <td>0</td>\n",
       "      <td>neutral</td>\n",
       "    </tr>\n",
       "    <tr>\n",
       "      <th>80</th>\n",
       "      <td>Psaki Gun control a priority Biden not afraid of standing up to theNRA</td>\n",
       "      <td>0.3</td>\n",
       "      <td>very positive</td>\n",
       "    </tr>\n",
       "    <tr>\n",
       "      <th>65</th>\n",
       "      <td>Gun control doesnt work Look at Chicago</td>\n",
       "      <td>0</td>\n",
       "      <td>neutral</td>\n",
       "    </tr>\n",
       "    <tr>\n",
       "      <th>79</th>\n",
       "      <td>Were not trying to penalize responsible gun owners Were trying to solve the problem that exists today which led to another mass tragedy in Aurora Villivalam said</td>\n",
       "      <td>0.2</td>\n",
       "      <td>positive</td>\n",
       "    </tr>\n",
       "    <tr>\n",
       "      <th>55</th>\n",
       "      <td>Feels like gun control is really a centrist issue the further you move in either direction the less popular it becomes the drop in support is faster on the right tho</td>\n",
       "      <td>0.18381</td>\n",
       "      <td>positive</td>\n",
       "    </tr>\n",
       "    <tr>\n",
       "      <th>19</th>\n",
       "      <td>Im tired of the right crying about gun control and free speech without restraints we would be a chaotic nation also the left talk to defund the police the right dont want to we can argue this all day but no one we cant even agree on the underlying problem with</td>\n",
       "      <td>0.0619048</td>\n",
       "      <td>positive</td>\n",
       "    </tr>\n",
       "    <tr>\n",
       "      <th>53</th>\n",
       "      <td>The Green New Deal didnt cause Texas power outages Gay marriage gun control and the black vote in Georgia Michigan Pennsylvania and Wisconsin caused Texas power outages TexasBlackout TexasWinterStorm2021 AbbottFailedTexas</td>\n",
       "      <td>0.0465909</td>\n",
       "      <td>positive</td>\n",
       "    </tr>\n",
       "    <tr>\n",
       "      <th>68</th>\n",
       "      <td>Man over these past few days I realized that a lot more leftwingers liked guns than I thought I thought we were pretty unified on gun control but I guess not lol</td>\n",
       "      <td>0.0833333</td>\n",
       "      <td>positive</td>\n",
       "    </tr>\n",
       "    <tr>\n",
       "      <th>59</th>\n",
       "      <td>I think well soon get common sense speech control regulations to go with our common sense gun control</td>\n",
       "      <td>-0.3</td>\n",
       "      <td>very negative</td>\n",
       "    </tr>\n",
       "    <tr>\n",
       "      <th>9</th>\n",
       "      <td>Human trafficking is a serious issue but the US government is not involved with the trafficking of people And the US public wants the right to have guns That is what people vote for Gun control legislation fails for a reason</td>\n",
       "      <td>-0.0579365</td>\n",
       "      <td>negative</td>\n",
       "    </tr>\n",
       "    <tr>\n",
       "      <th>28</th>\n",
       "      <td>I think we need more gun control and it stands for ArmaLite Rifle Do you know what an amendment is</td>\n",
       "      <td>0.5</td>\n",
       "      <td>very positive</td>\n",
       "    </tr>\n",
       "    <tr>\n",
       "      <th>29</th>\n",
       "      <td>The people who think we do not need more gun control are the same people who are fascists</td>\n",
       "      <td>0.25</td>\n",
       "      <td>very positive</td>\n",
       "    </tr>\n",
       "    <tr>\n",
       "      <th>73</th>\n",
       "      <td>Ahor gun bans are a type of gun control lmfao</td>\n",
       "      <td>0</td>\n",
       "      <td>neutral</td>\n",
       "    </tr>\n",
       "    <tr>\n",
       "      <th>17</th>\n",
       "      <td>Its about gun control The more expensive they make owning buying or using a gun the fewer people who own them</td>\n",
       "      <td>0.2</td>\n",
       "      <td>positive</td>\n",
       "    </tr>\n",
       "    <tr>\n",
       "      <th>20</th>\n",
       "      <td>I have an AR15 It is short for ArmaLiteWe need gun control</td>\n",
       "      <td>0</td>\n",
       "      <td>neutral</td>\n",
       "    </tr>\n",
       "    <tr>\n",
       "      <th>49</th>\n",
       "      <td>I used to believe in gun control measures and still believe in common sense regulations like background checksBut I believe now its not a great idea for the police and white supremacist ammunition hoarders to be the only ones with guns</td>\n",
       "      <td>-0.175</td>\n",
       "      <td>negative</td>\n",
       "    </tr>\n",
       "    <tr>\n",
       "      <th>3</th>\n",
       "      <td>Biden Gun Control Plan Would Criminalize up to 105 Million People Of course hes surrounded by armed protectors What the hell does he care about the rest of us Gunrights Group</td>\n",
       "      <td>0</td>\n",
       "      <td>neutral</td>\n",
       "    </tr>\n",
       "    <tr>\n",
       "      <th>11</th>\n",
       "      <td>Letters to the Editor Congress once banned these firearms but irrefutable evidence proves there was no reduction in crime Criminals will not follow laws Only lawabiding Americans will suffer</td>\n",
       "      <td>0.15</td>\n",
       "      <td>positive</td>\n",
       "    </tr>\n",
       "    <tr>\n",
       "      <th>57</th>\n",
       "      <td>Gun control by President is a fcking joke The criminal will ALWAYS have a gun Any type of gun control law ONLY effects the legal person purchasing a gun True gun control is using two hands to point the weapon</td>\n",
       "      <td>0.0375</td>\n",
       "      <td>positive</td>\n",
       "    </tr>\n",
       "    <tr>\n",
       "      <th>13</th>\n",
       "      <td>b anyway Im not really interested in debating with you the merits of congressional bills for gun controlIm merely pointing out that it is a LIE to missquote President Biden</td>\n",
       "      <td>-0.3125</td>\n",
       "      <td>very negative</td>\n",
       "    </tr>\n",
       "    <tr>\n",
       "      <th>40</th>\n",
       "      <td>niggas that shoot kids on the street and white boys who shoot up School do not walk into the Gun store like Yo let me get that gun right there gun control is racism</td>\n",
       "      <td>0.142857</td>\n",
       "      <td>positive</td>\n",
       "    </tr>\n",
       "    <tr>\n",
       "      <th>43</th>\n",
       "      <td>How bout gun control to help stop mass murdersRaising min wage so the ppl who have most abortions WOMEN IN POVERTY can raise their kids since u r forcing them to carry full termMore funding for PUBLIC schools not religiousprivate school choiceRESIGNIAGOP IowaGOP</td>\n",
       "      <td>0.283333</td>\n",
       "      <td>very positive</td>\n",
       "    </tr>\n",
       "    <tr>\n",
       "      <th>82</th>\n",
       "      <td>I think people are calling you a lib over this because the unstated assumption of the gun control good position is that the state can be coopted into benevolence People are disagreeing with that assumption not that gun ownership has harms</td>\n",
       "      <td>0.7</td>\n",
       "      <td>very positive</td>\n",
       "    </tr>\n",
       "    <tr>\n",
       "      <th>35</th>\n",
       "      <td>Beto supports gun control amirite</td>\n",
       "      <td>0</td>\n",
       "      <td>neutral</td>\n",
       "    </tr>\n",
       "    <tr>\n",
       "      <th>47</th>\n",
       "      <td>Gun control caused him to become a racist and then storm The Capitol and he got arrested with two AR 15s a shotgun and hundreds of rounds of ammunition It was always in him he was just fronting before because it was socially unacceptable to be an open bigot unlike now</td>\n",
       "      <td>0.0166667</td>\n",
       "      <td>positive</td>\n",
       "    </tr>\n",
       "    <tr>\n",
       "      <th>63</th>\n",
       "      <td>lol leftists arguing that gun control is transphobic is really not the take i expected in this year of our lord 2021</td>\n",
       "      <td>0.2</td>\n",
       "      <td>very positive</td>\n",
       "    </tr>\n",
       "    <tr>\n",
       "      <th>37</th>\n",
       "      <td>Gun control laws dont stop criminals from getting guns Ok so why do we bother with speed limits</td>\n",
       "      <td>0.5</td>\n",
       "      <td>very positive</td>\n",
       "    </tr>\n",
       "    <tr>\n",
       "      <th>51</th>\n",
       "      <td>Bet theyd be down 200 next year if everyone in this city had their needs met Also increase in gun control means increase in criminalization of black and brown people Not hypothetical we can already see what the liberal reform effort has bought for US prison populations</td>\n",
       "      <td>-0.107407</td>\n",
       "      <td>negative</td>\n",
       "    </tr>\n",
       "    <tr>\n",
       "      <th>42</th>\n",
       "      <td>Dont worry comrade the left isnt in favor of gun control</td>\n",
       "      <td>0</td>\n",
       "      <td>neutral</td>\n",
       "    </tr>\n",
       "    <tr>\n",
       "      <th>58</th>\n",
       "      <td>lets kit out every classroom with 26 bunker desks before any modicum of meaningful gun control</td>\n",
       "      <td>0.5</td>\n",
       "      <td>very positive</td>\n",
       "    </tr>\n",
       "    <tr>\n",
       "      <th>38</th>\n",
       "      <td>kasky The solution is to sell pillows because you know this new president wont do shit on gun control legislation</td>\n",
       "      <td>-0.0318182</td>\n",
       "      <td>negative</td>\n",
       "    </tr>\n",
       "    <tr>\n",
       "      <th>69</th>\n",
       "      <td>Thats what it looks like Gun control is a tricky topic for the left here and I think in Britain as well There have been so many mass shootings that it kinda feels necessary however I tend to take the view that these mass shootings are the result of a sickness in society</td>\n",
       "      <td>0.166667</td>\n",
       "      <td>positive</td>\n",
       "    </tr>\n",
       "    <tr>\n",
       "      <th>10</th>\n",
       "      <td>He said good and bad people in both parties he never mentioned Trump I think he was referring to political issues like gun control immigration etcthings that there can be a middle ground on not criminal acts</td>\n",
       "      <td>0.04</td>\n",
       "      <td>positive</td>\n",
       "    </tr>\n",
       "    <tr>\n",
       "      <th>4</th>\n",
       "      <td>here we goGun control at all govt buildings and polling placesproposes American Bar Assoc2A guns</td>\n",
       "      <td>0</td>\n",
       "      <td>neutral</td>\n",
       "    </tr>\n",
       "    <tr>\n",
       "      <th>7</th>\n",
       "      <td>MSCHF mounted a remotecontrol paintball gun to Spot</td>\n",
       "      <td>0</td>\n",
       "      <td>neutral</td>\n",
       "    </tr>\n",
       "    <tr>\n",
       "      <th>21</th>\n",
       "      <td>You just literally again proved gun control works lol Because they cant receive that many and the few they do receive hasnt significantly Impacted murders with guns in Europe Oh and people arent making guns and ammo like u said</td>\n",
       "      <td>0.36875</td>\n",
       "      <td>very positive</td>\n",
       "    </tr>\n",
       "    <tr>\n",
       "      <th>15</th>\n",
       "      <td>Or are you advocating for gun control</td>\n",
       "      <td>0</td>\n",
       "      <td>neutral</td>\n",
       "    </tr>\n",
       "    <tr>\n",
       "      <th>77</th>\n",
       "      <td>these were not caused by gun control and would not have been prevented by private gun ownership lmfao</td>\n",
       "      <td>0</td>\n",
       "      <td>neutral</td>\n",
       "    </tr>\n",
       "    <tr>\n",
       "      <th>61</th>\n",
       "      <td>My pops was just talkin bout the black panthers in Chicago Folks dont realize how much good they did through their community programs and protectionAnd how gun control laws were first introduced out of fear of black folks having themBlackChurchPBSANDBlackChurch</td>\n",
       "      <td>0.154167</td>\n",
       "      <td>positive</td>\n",
       "    </tr>\n",
       "    <tr>\n",
       "      <th>72</th>\n",
       "      <td>Bidens commonsense gun control prescriptions are common in the sense that politicians often push them Whether they make sense is another matter writes</td>\n",
       "      <td>-0.3</td>\n",
       "      <td>very negative</td>\n",
       "    </tr>\n",
       "    <tr>\n",
       "      <th>60</th>\n",
       "      <td>I mean Gun control and 15 minimum wage have 70 support so the people are less divided than congress</td>\n",
       "      <td>-0.239583</td>\n",
       "      <td>very negative</td>\n",
       "    </tr>\n",
       "    <tr>\n",
       "      <th>24</th>\n",
       "      <td>Real gun control in These Yet to be United States of America would be nice one that cannot be overridden by states rights</td>\n",
       "      <td>0.4</td>\n",
       "      <td>very positive</td>\n",
       "    </tr>\n",
       "    <tr>\n",
       "      <th>71</th>\n",
       "      <td>the difference is data shows gun control actually works because they are different commodities</td>\n",
       "      <td>0</td>\n",
       "      <td>neutral</td>\n",
       "    </tr>\n",
       "    <tr>\n",
       "      <th>56</th>\n",
       "      <td>Gumb was denied any sort of validity or empathy wrt her identity so shes taking it by violent force out of vengeance Clarice navigates a cruel world where men only ever want to control or consume her so she wears a badge and a gun in a futile attempt to mitigate that</td>\n",
       "      <td>-0.6</td>\n",
       "      <td>very negative</td>\n",
       "    </tr>\n",
       "    <tr>\n",
       "      <th>33</th>\n",
       "      <td>We need gun control starting with assault weapons All these militia types want assault weapons and they cost more than pistols Gun manufacturers do get richer Allow yourself to work towards keeping our streets safe thats what we need Too many guns</td>\n",
       "      <td>0.375</td>\n",
       "      <td>very positive</td>\n",
       "    </tr>\n",
       "    <tr>\n",
       "      <th>74</th>\n",
       "      <td>Gun control saves trans and poor lives</td>\n",
       "      <td>-0.4</td>\n",
       "      <td>very negative</td>\n",
       "    </tr>\n",
       "    <tr>\n",
       "      <th>75</th>\n",
       "      <td>all data is against you on firearms they increase suicide and homicide increase mass shootings and gun control makes those things go down</td>\n",
       "      <td>-0.155556</td>\n",
       "      <td>negative</td>\n",
       "    </tr>\n",
       "    <tr>\n",
       "      <th>66</th>\n",
       "      <td>They just dont understand criminals dont obey laws especially gun control laws</td>\n",
       "      <td>0</td>\n",
       "      <td>neutral</td>\n",
       "    </tr>\n",
       "    <tr>\n",
       "      <th>81</th>\n",
       "      <td>Two years ago yesterday was when a man who shouldnt legally have had a gun shot and killed five people in suburban Aurora It prompted calls to Fix the FOIDA gun law status check Also Sunday marked 13 years since five students were killed at NIU</td>\n",
       "      <td>-0.02</td>\n",
       "      <td>negative</td>\n",
       "    </tr>\n",
       "  </tbody>\n",
       "</table>\n",
       "</div>"
      ],
      "text/plain": [
       "                                                                                                                                                                                                                                                                        clean_text  \\\n",
       "78                                                                                                                                                                                                                                 gun control decreases homicide and suicide cope   \n",
       "45                                                                                                                                             Kelly has some liberal views given his understandable views on gun control I would not necessarily consider him a moderate Democrat   \n",
       "80                                                                                                                                                                                                          Psaki Gun control a priority Biden not afraid of standing up to theNRA   \n",
       "65                                                                                                                                                                                                                                         Gun control doesnt work Look at Chicago   \n",
       "79                                                                                                               Were not trying to penalize responsible gun owners Were trying to solve the problem that exists today which led to another mass tragedy in Aurora Villivalam said   \n",
       "55                                                                                                           Feels like gun control is really a centrist issue the further you move in either direction the less popular it becomes the drop in support is faster on the right tho   \n",
       "19            Im tired of the right crying about gun control and free speech without restraints we would be a chaotic nation also the left talk to defund the police the right dont want to we can argue this all day but no one we cant even agree on the underlying problem with   \n",
       "53                                                   The Green New Deal didnt cause Texas power outages Gay marriage gun control and the black vote in Georgia Michigan Pennsylvania and Wisconsin caused Texas power outages TexasBlackout TexasWinterStorm2021 AbbottFailedTexas   \n",
       "68                                                                                                               Man over these past few days I realized that a lot more leftwingers liked guns than I thought I thought we were pretty unified on gun control but I guess not lol   \n",
       "59                                                                                                                                                                           I think well soon get common sense speech control regulations to go with our common sense gun control   \n",
       "9                                                 Human trafficking is a serious issue but the US government is not involved with the trafficking of people And the US public wants the right to have guns That is what people vote for Gun control legislation fails for a reason   \n",
       "28                                                                                                                                                                              I think we need more gun control and it stands for ArmaLite Rifle Do you know what an amendment is   \n",
       "29                                                                                                                                                                                       The people who think we do not need more gun control are the same people who are fascists   \n",
       "73                                                                                                                                                                                                                                   Ahor gun bans are a type of gun control lmfao   \n",
       "17                                                                                                                                                                   Its about gun control The more expensive they make owning buying or using a gun the fewer people who own them   \n",
       "20                                                                                                                                                                                                                      I have an AR15 It is short for ArmaLiteWe need gun control   \n",
       "49                                     I used to believe in gun control measures and still believe in common sense regulations like background checksBut I believe now its not a great idea for the police and white supremacist ammunition hoarders to be the only ones with guns   \n",
       "3                                                                                                   Biden Gun Control Plan Would Criminalize up to 105 Million People Of course hes surrounded by armed protectors What the hell does he care about the rest of us Gunrights Group   \n",
       "11                                                                                  Letters to the Editor Congress once banned these firearms but irrefutable evidence proves there was no reduction in crime Criminals will not follow laws Only lawabiding Americans will suffer   \n",
       "57                                                                Gun control by President is a fcking joke The criminal will ALWAYS have a gun Any type of gun control law ONLY effects the legal person purchasing a gun True gun control is using two hands to point the weapon   \n",
       "13                                                                                                    b anyway Im not really interested in debating with you the merits of congressional bills for gun controlIm merely pointing out that it is a LIE to missquote President Biden   \n",
       "40                                                                                                            niggas that shoot kids on the street and white boys who shoot up School do not walk into the Gun store like Yo let me get that gun right there gun control is racism   \n",
       "43          How bout gun control to help stop mass murdersRaising min wage so the ppl who have most abortions WOMEN IN POVERTY can raise their kids since u r forcing them to carry full termMore funding for PUBLIC schools not religiousprivate school choiceRESIGNIAGOP IowaGOP   \n",
       "82                                  I think people are calling you a lib over this because the unstated assumption of the gun control good position is that the state can be coopted into benevolence People are disagreeing with that assumption not that gun ownership has harms   \n",
       "35                                                                                                                                                                                                                                               Beto supports gun control amirite   \n",
       "47    Gun control caused him to become a racist and then storm The Capitol and he got arrested with two AR 15s a shotgun and hundreds of rounds of ammunition It was always in him he was just fronting before because it was socially unacceptable to be an open bigot unlike now   \n",
       "63                                                                                                                                                            lol leftists arguing that gun control is transphobic is really not the take i expected in this year of our lord 2021   \n",
       "37                                                                                                                                                                                 Gun control laws dont stop criminals from getting guns Ok so why do we bother with speed limits   \n",
       "51   Bet theyd be down 200 next year if everyone in this city had their needs met Also increase in gun control means increase in criminalization of black and brown people Not hypothetical we can already see what the liberal reform effort has bought for US prison populations   \n",
       "42                                                                                                                                                                                                                        Dont worry comrade the left isnt in favor of gun control   \n",
       "58                                                                                                                                                                                  lets kit out every classroom with 26 bunker desks before any modicum of meaningful gun control   \n",
       "38                                                                                                                                                               kasky The solution is to sell pillows because you know this new president wont do shit on gun control legislation   \n",
       "69  Thats what it looks like Gun control is a tricky topic for the left here and I think in Britain as well There have been so many mass shootings that it kinda feels necessary however I tend to take the view that these mass shootings are the result of a sickness in society   \n",
       "10                                                                 He said good and bad people in both parties he never mentioned Trump I think he was referring to political issues like gun control immigration etcthings that there can be a middle ground on not criminal acts   \n",
       "4                                                                                                                                                                                 here we goGun control at all govt buildings and polling placesproposes American Bar Assoc2A guns   \n",
       "7                                                                                                                                                                                                                              MSCHF mounted a remotecontrol paintball gun to Spot   \n",
       "21                                             You just literally again proved gun control works lol Because they cant receive that many and the few they do receive hasnt significantly Impacted murders with guns in Europe Oh and people arent making guns and ammo like u said   \n",
       "15                                                                                                                                                                                                                                           Or are you advocating for gun control   \n",
       "77                                                                                                                                                                           these were not caused by gun control and would not have been prevented by private gun ownership lmfao   \n",
       "61           My pops was just talkin bout the black panthers in Chicago Folks dont realize how much good they did through their community programs and protectionAnd how gun control laws were first introduced out of fear of black folks having themBlackChurchPBSANDBlackChurch   \n",
       "72                                                                                                                          Bidens commonsense gun control prescriptions are common in the sense that politicians often push them Whether they make sense is another matter writes   \n",
       "60                                                                                                                                                                             I mean Gun control and 15 minimum wage have 70 support so the people are less divided than congress   \n",
       "24                                                                                                                                                       Real gun control in These Yet to be United States of America would be nice one that cannot be overridden by states rights   \n",
       "71                                                                                                                                                                                  the difference is data shows gun control actually works because they are different commodities   \n",
       "56     Gumb was denied any sort of validity or empathy wrt her identity so shes taking it by violent force out of vengeance Clarice navigates a cruel world where men only ever want to control or consume her so she wears a badge and a gun in a futile attempt to mitigate that   \n",
       "33                         We need gun control starting with assault weapons All these militia types want assault weapons and they cost more than pistols Gun manufacturers do get richer Allow yourself to work towards keeping our streets safe thats what we need Too many guns   \n",
       "74                                                                                                                                                                                                                                          Gun control saves trans and poor lives   \n",
       "75                                                                                                                                       all data is against you on firearms they increase suicide and homicide increase mass shootings and gun control makes those things go down   \n",
       "66                                                                                                                                                                                                  They just dont understand criminals dont obey laws especially gun control laws   \n",
       "81                            Two years ago yesterday was when a man who shouldnt legally have had a gun shot and killed five people in suburban Aurora It prompted calls to Fix the FOIDA gun law status check Also Sunday marked 13 years since five students were killed at NIU   \n",
       "\n",
       "     polarity      sentiment  \n",
       "78          0        neutral  \n",
       "45          0        neutral  \n",
       "80        0.3  very positive  \n",
       "65          0        neutral  \n",
       "79        0.2       positive  \n",
       "55    0.18381       positive  \n",
       "19  0.0619048       positive  \n",
       "53  0.0465909       positive  \n",
       "68  0.0833333       positive  \n",
       "59       -0.3  very negative  \n",
       "9  -0.0579365       negative  \n",
       "28        0.5  very positive  \n",
       "29       0.25  very positive  \n",
       "73          0        neutral  \n",
       "17        0.2       positive  \n",
       "20          0        neutral  \n",
       "49     -0.175       negative  \n",
       "3           0        neutral  \n",
       "11       0.15       positive  \n",
       "57     0.0375       positive  \n",
       "13    -0.3125  very negative  \n",
       "40   0.142857       positive  \n",
       "43   0.283333  very positive  \n",
       "82        0.7  very positive  \n",
       "35          0        neutral  \n",
       "47  0.0166667       positive  \n",
       "63        0.2  very positive  \n",
       "37        0.5  very positive  \n",
       "51  -0.107407       negative  \n",
       "42          0        neutral  \n",
       "58        0.5  very positive  \n",
       "38 -0.0318182       negative  \n",
       "69   0.166667       positive  \n",
       "10       0.04       positive  \n",
       "4           0        neutral  \n",
       "7           0        neutral  \n",
       "21    0.36875  very positive  \n",
       "15          0        neutral  \n",
       "77          0        neutral  \n",
       "61   0.154167       positive  \n",
       "72       -0.3  very negative  \n",
       "60  -0.239583  very negative  \n",
       "24        0.4  very positive  \n",
       "71          0        neutral  \n",
       "56       -0.6  very negative  \n",
       "33      0.375  very positive  \n",
       "74       -0.4  very negative  \n",
       "75  -0.155556       negative  \n",
       "66          0        neutral  \n",
       "81      -0.02       negative  "
      ]
     },
     "execution_count": 51,
     "metadata": {},
     "output_type": "execute_result"
    }
   ],
   "source": [
    "df.sample(50)[['clean_text','polarity','sentiment']]"
   ]
  },
  {
   "cell_type": "markdown",
   "metadata": {},
   "source": [
    "I will now assign 5 different colors to the bar chart that match my research topic."
   ]
  },
  {
   "cell_type": "code",
   "execution_count": 58,
   "metadata": {},
   "outputs": [],
   "source": [
    "sentiment_colors = ox.plot.get_colors(5,cmap='bone',return_hex=True)"
   ]
  },
  {
   "cell_type": "markdown",
   "metadata": {},
   "source": [
    "Lastly I will create a bar chart showing the negativ ot positive sentiments of the phrase gun control."
   ]
  },
  {
   "cell_type": "code",
   "execution_count": 57,
   "metadata": {},
   "outputs": [
    {
     "data": {
      "application/vnd.plotly.v1+json": {
       "config": {
        "plotlyServerURL": "https://plot.ly"
       },
       "data": [
        {
         "alignmentgroup": "True",
         "hovertemplate": "sentiment=%{x}<br>count=%{y}<extra></extra>",
         "legendgroup": "very negative",
         "marker": {
          "color": "#000000",
          "line": {
           "width": 0
          }
         },
         "name": "very negative",
         "offsetgroup": "very negative",
         "orientation": "v",
         "showlegend": true,
         "textposition": "auto",
         "type": "bar",
         "x": [
          "very negative",
          "very negative",
          "very negative",
          "very negative",
          "very negative",
          "very negative",
          "very negative",
          "very negative",
          "very negative",
          "very negative",
          "very negative"
         ],
         "xaxis": "x",
         "y": [
          1,
          1,
          1,
          1,
          1,
          1,
          1,
          1,
          1,
          1,
          1
         ],
         "yaxis": "y"
        },
        {
         "alignmentgroup": "True",
         "hovertemplate": "sentiment=%{x}<br>count=%{y}<extra></extra>",
         "legendgroup": "negative",
         "marker": {
          "color": "#38384e",
          "line": {
           "width": 0
          }
         },
         "name": "negative",
         "offsetgroup": "negative",
         "orientation": "v",
         "showlegend": true,
         "textposition": "auto",
         "type": "bar",
         "x": [
          "negative",
          "negative",
          "negative",
          "negative",
          "negative",
          "negative",
          "negative",
          "negative",
          "negative"
         ],
         "xaxis": "x",
         "y": [
          1,
          1,
          1,
          1,
          1,
          1,
          1,
          1,
          1
         ],
         "yaxis": "y"
        },
        {
         "alignmentgroup": "True",
         "hovertemplate": "sentiment=%{x}<br>count=%{y}<extra></extra>",
         "legendgroup": "neutral",
         "marker": {
          "color": "#707b90",
          "line": {
           "width": 0
          }
         },
         "name": "neutral",
         "offsetgroup": "neutral",
         "orientation": "v",
         "showlegend": true,
         "textposition": "auto",
         "type": "bar",
         "x": [
          "neutral",
          "neutral",
          "neutral",
          "neutral",
          "neutral",
          "neutral",
          "neutral",
          "neutral",
          "neutral",
          "neutral",
          "neutral",
          "neutral",
          "neutral",
          "neutral",
          "neutral",
          "neutral",
          "neutral",
          "neutral",
          "neutral",
          "neutral",
          "neutral"
         ],
         "xaxis": "x",
         "y": [
          1,
          1,
          1,
          1,
          1,
          1,
          1,
          1,
          1,
          1,
          1,
          1,
          1,
          1,
          1,
          1,
          1,
          1,
          1,
          1,
          1
         ],
         "yaxis": "y"
        },
        {
         "alignmentgroup": "True",
         "hovertemplate": "sentiment=%{x}<br>count=%{y}<extra></extra>",
         "legendgroup": "positive",
         "marker": {
          "color": "#a9c8c8",
          "line": {
           "width": 0
          }
         },
         "name": "positive",
         "offsetgroup": "positive",
         "orientation": "v",
         "showlegend": true,
         "textposition": "auto",
         "type": "bar",
         "x": [
          "positive",
          "positive",
          "positive",
          "positive",
          "positive",
          "positive",
          "positive",
          "positive",
          "positive",
          "positive",
          "positive",
          "positive",
          "positive",
          "positive",
          "positive",
          "positive",
          "positive",
          "positive",
          "positive",
          "positive",
          "positive"
         ],
         "xaxis": "x",
         "y": [
          1,
          1,
          1,
          1,
          1,
          1,
          1,
          1,
          1,
          1,
          1,
          1,
          1,
          1,
          1,
          1,
          1,
          1,
          1,
          1,
          1
         ],
         "yaxis": "y"
        },
        {
         "alignmentgroup": "True",
         "hovertemplate": "sentiment=%{x}<br>count=%{y}<extra></extra>",
         "legendgroup": "very positive",
         "marker": {
          "color": "#ffffff",
          "line": {
           "width": 0
          }
         },
         "name": "very positive",
         "offsetgroup": "very positive",
         "orientation": "v",
         "showlegend": true,
         "textposition": "auto",
         "type": "bar",
         "x": [
          "very positive",
          "very positive",
          "very positive",
          "very positive",
          "very positive",
          "very positive",
          "very positive",
          "very positive",
          "very positive",
          "very positive",
          "very positive",
          "very positive",
          "very positive",
          "very positive",
          "very positive",
          "very positive",
          "very positive",
          "very positive",
          "very positive",
          "very positive",
          "very positive"
         ],
         "xaxis": "x",
         "y": [
          1,
          1,
          1,
          1,
          1,
          1,
          1,
          1,
          1,
          1,
          1,
          1,
          1,
          1,
          1,
          1,
          1,
          1,
          1,
          1,
          1
         ],
         "yaxis": "y"
        }
       ],
       "layout": {
        "barmode": "relative",
        "legend": {
         "title": {
          "text": "sentiment"
         },
         "tracegroupgap": 0
        },
        "template": {
         "data": {
          "bar": [
           {
            "error_x": {
             "color": "#2a3f5f"
            },
            "error_y": {
             "color": "#2a3f5f"
            },
            "marker": {
             "line": {
              "color": "#E5ECF6",
              "width": 0.5
             }
            },
            "type": "bar"
           }
          ],
          "barpolar": [
           {
            "marker": {
             "line": {
              "color": "#E5ECF6",
              "width": 0.5
             }
            },
            "type": "barpolar"
           }
          ],
          "carpet": [
           {
            "aaxis": {
             "endlinecolor": "#2a3f5f",
             "gridcolor": "white",
             "linecolor": "white",
             "minorgridcolor": "white",
             "startlinecolor": "#2a3f5f"
            },
            "baxis": {
             "endlinecolor": "#2a3f5f",
             "gridcolor": "white",
             "linecolor": "white",
             "minorgridcolor": "white",
             "startlinecolor": "#2a3f5f"
            },
            "type": "carpet"
           }
          ],
          "choropleth": [
           {
            "colorbar": {
             "outlinewidth": 0,
             "ticks": ""
            },
            "type": "choropleth"
           }
          ],
          "contour": [
           {
            "colorbar": {
             "outlinewidth": 0,
             "ticks": ""
            },
            "colorscale": [
             [
              0,
              "#0d0887"
             ],
             [
              0.1111111111111111,
              "#46039f"
             ],
             [
              0.2222222222222222,
              "#7201a8"
             ],
             [
              0.3333333333333333,
              "#9c179e"
             ],
             [
              0.4444444444444444,
              "#bd3786"
             ],
             [
              0.5555555555555556,
              "#d8576b"
             ],
             [
              0.6666666666666666,
              "#ed7953"
             ],
             [
              0.7777777777777778,
              "#fb9f3a"
             ],
             [
              0.8888888888888888,
              "#fdca26"
             ],
             [
              1,
              "#f0f921"
             ]
            ],
            "type": "contour"
           }
          ],
          "contourcarpet": [
           {
            "colorbar": {
             "outlinewidth": 0,
             "ticks": ""
            },
            "type": "contourcarpet"
           }
          ],
          "heatmap": [
           {
            "colorbar": {
             "outlinewidth": 0,
             "ticks": ""
            },
            "colorscale": [
             [
              0,
              "#0d0887"
             ],
             [
              0.1111111111111111,
              "#46039f"
             ],
             [
              0.2222222222222222,
              "#7201a8"
             ],
             [
              0.3333333333333333,
              "#9c179e"
             ],
             [
              0.4444444444444444,
              "#bd3786"
             ],
             [
              0.5555555555555556,
              "#d8576b"
             ],
             [
              0.6666666666666666,
              "#ed7953"
             ],
             [
              0.7777777777777778,
              "#fb9f3a"
             ],
             [
              0.8888888888888888,
              "#fdca26"
             ],
             [
              1,
              "#f0f921"
             ]
            ],
            "type": "heatmap"
           }
          ],
          "heatmapgl": [
           {
            "colorbar": {
             "outlinewidth": 0,
             "ticks": ""
            },
            "colorscale": [
             [
              0,
              "#0d0887"
             ],
             [
              0.1111111111111111,
              "#46039f"
             ],
             [
              0.2222222222222222,
              "#7201a8"
             ],
             [
              0.3333333333333333,
              "#9c179e"
             ],
             [
              0.4444444444444444,
              "#bd3786"
             ],
             [
              0.5555555555555556,
              "#d8576b"
             ],
             [
              0.6666666666666666,
              "#ed7953"
             ],
             [
              0.7777777777777778,
              "#fb9f3a"
             ],
             [
              0.8888888888888888,
              "#fdca26"
             ],
             [
              1,
              "#f0f921"
             ]
            ],
            "type": "heatmapgl"
           }
          ],
          "histogram": [
           {
            "marker": {
             "colorbar": {
              "outlinewidth": 0,
              "ticks": ""
             }
            },
            "type": "histogram"
           }
          ],
          "histogram2d": [
           {
            "colorbar": {
             "outlinewidth": 0,
             "ticks": ""
            },
            "colorscale": [
             [
              0,
              "#0d0887"
             ],
             [
              0.1111111111111111,
              "#46039f"
             ],
             [
              0.2222222222222222,
              "#7201a8"
             ],
             [
              0.3333333333333333,
              "#9c179e"
             ],
             [
              0.4444444444444444,
              "#bd3786"
             ],
             [
              0.5555555555555556,
              "#d8576b"
             ],
             [
              0.6666666666666666,
              "#ed7953"
             ],
             [
              0.7777777777777778,
              "#fb9f3a"
             ],
             [
              0.8888888888888888,
              "#fdca26"
             ],
             [
              1,
              "#f0f921"
             ]
            ],
            "type": "histogram2d"
           }
          ],
          "histogram2dcontour": [
           {
            "colorbar": {
             "outlinewidth": 0,
             "ticks": ""
            },
            "colorscale": [
             [
              0,
              "#0d0887"
             ],
             [
              0.1111111111111111,
              "#46039f"
             ],
             [
              0.2222222222222222,
              "#7201a8"
             ],
             [
              0.3333333333333333,
              "#9c179e"
             ],
             [
              0.4444444444444444,
              "#bd3786"
             ],
             [
              0.5555555555555556,
              "#d8576b"
             ],
             [
              0.6666666666666666,
              "#ed7953"
             ],
             [
              0.7777777777777778,
              "#fb9f3a"
             ],
             [
              0.8888888888888888,
              "#fdca26"
             ],
             [
              1,
              "#f0f921"
             ]
            ],
            "type": "histogram2dcontour"
           }
          ],
          "mesh3d": [
           {
            "colorbar": {
             "outlinewidth": 0,
             "ticks": ""
            },
            "type": "mesh3d"
           }
          ],
          "parcoords": [
           {
            "line": {
             "colorbar": {
              "outlinewidth": 0,
              "ticks": ""
             }
            },
            "type": "parcoords"
           }
          ],
          "pie": [
           {
            "automargin": true,
            "type": "pie"
           }
          ],
          "scatter": [
           {
            "marker": {
             "colorbar": {
              "outlinewidth": 0,
              "ticks": ""
             }
            },
            "type": "scatter"
           }
          ],
          "scatter3d": [
           {
            "line": {
             "colorbar": {
              "outlinewidth": 0,
              "ticks": ""
             }
            },
            "marker": {
             "colorbar": {
              "outlinewidth": 0,
              "ticks": ""
             }
            },
            "type": "scatter3d"
           }
          ],
          "scattercarpet": [
           {
            "marker": {
             "colorbar": {
              "outlinewidth": 0,
              "ticks": ""
             }
            },
            "type": "scattercarpet"
           }
          ],
          "scattergeo": [
           {
            "marker": {
             "colorbar": {
              "outlinewidth": 0,
              "ticks": ""
             }
            },
            "type": "scattergeo"
           }
          ],
          "scattergl": [
           {
            "marker": {
             "colorbar": {
              "outlinewidth": 0,
              "ticks": ""
             }
            },
            "type": "scattergl"
           }
          ],
          "scattermapbox": [
           {
            "marker": {
             "colorbar": {
              "outlinewidth": 0,
              "ticks": ""
             }
            },
            "type": "scattermapbox"
           }
          ],
          "scatterpolar": [
           {
            "marker": {
             "colorbar": {
              "outlinewidth": 0,
              "ticks": ""
             }
            },
            "type": "scatterpolar"
           }
          ],
          "scatterpolargl": [
           {
            "marker": {
             "colorbar": {
              "outlinewidth": 0,
              "ticks": ""
             }
            },
            "type": "scatterpolargl"
           }
          ],
          "scatterternary": [
           {
            "marker": {
             "colorbar": {
              "outlinewidth": 0,
              "ticks": ""
             }
            },
            "type": "scatterternary"
           }
          ],
          "surface": [
           {
            "colorbar": {
             "outlinewidth": 0,
             "ticks": ""
            },
            "colorscale": [
             [
              0,
              "#0d0887"
             ],
             [
              0.1111111111111111,
              "#46039f"
             ],
             [
              0.2222222222222222,
              "#7201a8"
             ],
             [
              0.3333333333333333,
              "#9c179e"
             ],
             [
              0.4444444444444444,
              "#bd3786"
             ],
             [
              0.5555555555555556,
              "#d8576b"
             ],
             [
              0.6666666666666666,
              "#ed7953"
             ],
             [
              0.7777777777777778,
              "#fb9f3a"
             ],
             [
              0.8888888888888888,
              "#fdca26"
             ],
             [
              1,
              "#f0f921"
             ]
            ],
            "type": "surface"
           }
          ],
          "table": [
           {
            "cells": {
             "fill": {
              "color": "#EBF0F8"
             },
             "line": {
              "color": "white"
             }
            },
            "header": {
             "fill": {
              "color": "#C8D4E3"
             },
             "line": {
              "color": "white"
             }
            },
            "type": "table"
           }
          ]
         },
         "layout": {
          "annotationdefaults": {
           "arrowcolor": "#2a3f5f",
           "arrowhead": 0,
           "arrowwidth": 1
          },
          "coloraxis": {
           "colorbar": {
            "outlinewidth": 0,
            "ticks": ""
           }
          },
          "colorscale": {
           "diverging": [
            [
             0,
             "#8e0152"
            ],
            [
             0.1,
             "#c51b7d"
            ],
            [
             0.2,
             "#de77ae"
            ],
            [
             0.3,
             "#f1b6da"
            ],
            [
             0.4,
             "#fde0ef"
            ],
            [
             0.5,
             "#f7f7f7"
            ],
            [
             0.6,
             "#e6f5d0"
            ],
            [
             0.7,
             "#b8e186"
            ],
            [
             0.8,
             "#7fbc41"
            ],
            [
             0.9,
             "#4d9221"
            ],
            [
             1,
             "#276419"
            ]
           ],
           "sequential": [
            [
             0,
             "#0d0887"
            ],
            [
             0.1111111111111111,
             "#46039f"
            ],
            [
             0.2222222222222222,
             "#7201a8"
            ],
            [
             0.3333333333333333,
             "#9c179e"
            ],
            [
             0.4444444444444444,
             "#bd3786"
            ],
            [
             0.5555555555555556,
             "#d8576b"
            ],
            [
             0.6666666666666666,
             "#ed7953"
            ],
            [
             0.7777777777777778,
             "#fb9f3a"
            ],
            [
             0.8888888888888888,
             "#fdca26"
            ],
            [
             1,
             "#f0f921"
            ]
           ],
           "sequentialminus": [
            [
             0,
             "#0d0887"
            ],
            [
             0.1111111111111111,
             "#46039f"
            ],
            [
             0.2222222222222222,
             "#7201a8"
            ],
            [
             0.3333333333333333,
             "#9c179e"
            ],
            [
             0.4444444444444444,
             "#bd3786"
            ],
            [
             0.5555555555555556,
             "#d8576b"
            ],
            [
             0.6666666666666666,
             "#ed7953"
            ],
            [
             0.7777777777777778,
             "#fb9f3a"
            ],
            [
             0.8888888888888888,
             "#fdca26"
            ],
            [
             1,
             "#f0f921"
            ]
           ]
          },
          "colorway": [
           "#636efa",
           "#EF553B",
           "#00cc96",
           "#ab63fa",
           "#FFA15A",
           "#19d3f3",
           "#FF6692",
           "#B6E880",
           "#FF97FF",
           "#FECB52"
          ],
          "font": {
           "color": "#2a3f5f"
          },
          "geo": {
           "bgcolor": "white",
           "lakecolor": "white",
           "landcolor": "#E5ECF6",
           "showlakes": true,
           "showland": true,
           "subunitcolor": "white"
          },
          "hoverlabel": {
           "align": "left"
          },
          "hovermode": "closest",
          "mapbox": {
           "style": "light"
          },
          "paper_bgcolor": "white",
          "plot_bgcolor": "#E5ECF6",
          "polar": {
           "angularaxis": {
            "gridcolor": "white",
            "linecolor": "white",
            "ticks": ""
           },
           "bgcolor": "#E5ECF6",
           "radialaxis": {
            "gridcolor": "white",
            "linecolor": "white",
            "ticks": ""
           }
          },
          "scene": {
           "xaxis": {
            "backgroundcolor": "#E5ECF6",
            "gridcolor": "white",
            "gridwidth": 2,
            "linecolor": "white",
            "showbackground": true,
            "ticks": "",
            "zerolinecolor": "white"
           },
           "yaxis": {
            "backgroundcolor": "#E5ECF6",
            "gridcolor": "white",
            "gridwidth": 2,
            "linecolor": "white",
            "showbackground": true,
            "ticks": "",
            "zerolinecolor": "white"
           },
           "zaxis": {
            "backgroundcolor": "#E5ECF6",
            "gridcolor": "white",
            "gridwidth": 2,
            "linecolor": "white",
            "showbackground": true,
            "ticks": "",
            "zerolinecolor": "white"
           }
          },
          "shapedefaults": {
           "line": {
            "color": "#2a3f5f"
           }
          },
          "ternary": {
           "aaxis": {
            "gridcolor": "white",
            "linecolor": "white",
            "ticks": ""
           },
           "baxis": {
            "gridcolor": "white",
            "linecolor": "white",
            "ticks": ""
           },
           "bgcolor": "#E5ECF6",
           "caxis": {
            "gridcolor": "white",
            "linecolor": "white",
            "ticks": ""
           }
          },
          "title": {
           "x": 0.05
          },
          "xaxis": {
           "automargin": true,
           "gridcolor": "white",
           "linecolor": "white",
           "ticks": "",
           "title": {
            "standoff": 15
           },
           "zerolinecolor": "white",
           "zerolinewidth": 2
          },
          "yaxis": {
           "automargin": true,
           "gridcolor": "white",
           "linecolor": "white",
           "ticks": "",
           "title": {
            "standoff": 15
           },
           "zerolinecolor": "white",
           "zerolinewidth": 2
          }
         }
        },
        "title": {
         "text": "Sentiment analysis for \"gun control\""
        },
        "width": 600,
        "xaxis": {
         "anchor": "y",
         "categoryarray": [
          "very negative",
          "negative",
          "neutral",
          "positive",
          "very positive"
         ],
         "categoryorder": "array",
         "domain": [
          0,
          1
         ],
         "title": {
          "text": "sentiment"
         }
        },
        "yaxis": {
         "anchor": "x",
         "domain": [
          0,
          1
         ],
         "title": {
          "text": "count"
         }
        }
       }
      },
      "text/html": [
       "<div>                            <div id=\"f71a59e7-78b1-4db4-9b35-4ff543b533c2\" class=\"plotly-graph-div\" style=\"height:525px; width:600px;\"></div>            <script type=\"text/javascript\">                require([\"plotly\"], function(Plotly) {                    window.PLOTLYENV=window.PLOTLYENV || {};                                    if (document.getElementById(\"f71a59e7-78b1-4db4-9b35-4ff543b533c2\")) {                    Plotly.newPlot(                        \"f71a59e7-78b1-4db4-9b35-4ff543b533c2\",                        [{\"alignmentgroup\": \"True\", \"hovertemplate\": \"sentiment=%{x}<br>count=%{y}<extra></extra>\", \"legendgroup\": \"very negative\", \"marker\": {\"color\": \"#000000\", \"line\": {\"width\": 0}}, \"name\": \"very negative\", \"offsetgroup\": \"very negative\", \"orientation\": \"v\", \"showlegend\": true, \"textposition\": \"auto\", \"type\": \"bar\", \"x\": [\"very negative\", \"very negative\", \"very negative\", \"very negative\", \"very negative\", \"very negative\", \"very negative\", \"very negative\", \"very negative\", \"very negative\", \"very negative\"], \"xaxis\": \"x\", \"y\": [1, 1, 1, 1, 1, 1, 1, 1, 1, 1, 1], \"yaxis\": \"y\"}, {\"alignmentgroup\": \"True\", \"hovertemplate\": \"sentiment=%{x}<br>count=%{y}<extra></extra>\", \"legendgroup\": \"negative\", \"marker\": {\"color\": \"#38384e\", \"line\": {\"width\": 0}}, \"name\": \"negative\", \"offsetgroup\": \"negative\", \"orientation\": \"v\", \"showlegend\": true, \"textposition\": \"auto\", \"type\": \"bar\", \"x\": [\"negative\", \"negative\", \"negative\", \"negative\", \"negative\", \"negative\", \"negative\", \"negative\", \"negative\"], \"xaxis\": \"x\", \"y\": [1, 1, 1, 1, 1, 1, 1, 1, 1], \"yaxis\": \"y\"}, {\"alignmentgroup\": \"True\", \"hovertemplate\": \"sentiment=%{x}<br>count=%{y}<extra></extra>\", \"legendgroup\": \"neutral\", \"marker\": {\"color\": \"#707b90\", \"line\": {\"width\": 0}}, \"name\": \"neutral\", \"offsetgroup\": \"neutral\", \"orientation\": \"v\", \"showlegend\": true, \"textposition\": \"auto\", \"type\": \"bar\", \"x\": [\"neutral\", \"neutral\", \"neutral\", \"neutral\", \"neutral\", \"neutral\", \"neutral\", \"neutral\", \"neutral\", \"neutral\", \"neutral\", \"neutral\", \"neutral\", \"neutral\", \"neutral\", \"neutral\", \"neutral\", \"neutral\", \"neutral\", \"neutral\", \"neutral\"], \"xaxis\": \"x\", \"y\": [1, 1, 1, 1, 1, 1, 1, 1, 1, 1, 1, 1, 1, 1, 1, 1, 1, 1, 1, 1, 1], \"yaxis\": \"y\"}, {\"alignmentgroup\": \"True\", \"hovertemplate\": \"sentiment=%{x}<br>count=%{y}<extra></extra>\", \"legendgroup\": \"positive\", \"marker\": {\"color\": \"#a9c8c8\", \"line\": {\"width\": 0}}, \"name\": \"positive\", \"offsetgroup\": \"positive\", \"orientation\": \"v\", \"showlegend\": true, \"textposition\": \"auto\", \"type\": \"bar\", \"x\": [\"positive\", \"positive\", \"positive\", \"positive\", \"positive\", \"positive\", \"positive\", \"positive\", \"positive\", \"positive\", \"positive\", \"positive\", \"positive\", \"positive\", \"positive\", \"positive\", \"positive\", \"positive\", \"positive\", \"positive\", \"positive\"], \"xaxis\": \"x\", \"y\": [1, 1, 1, 1, 1, 1, 1, 1, 1, 1, 1, 1, 1, 1, 1, 1, 1, 1, 1, 1, 1], \"yaxis\": \"y\"}, {\"alignmentgroup\": \"True\", \"hovertemplate\": \"sentiment=%{x}<br>count=%{y}<extra></extra>\", \"legendgroup\": \"very positive\", \"marker\": {\"color\": \"#ffffff\", \"line\": {\"width\": 0}}, \"name\": \"very positive\", \"offsetgroup\": \"very positive\", \"orientation\": \"v\", \"showlegend\": true, \"textposition\": \"auto\", \"type\": \"bar\", \"x\": [\"very positive\", \"very positive\", \"very positive\", \"very positive\", \"very positive\", \"very positive\", \"very positive\", \"very positive\", \"very positive\", \"very positive\", \"very positive\", \"very positive\", \"very positive\", \"very positive\", \"very positive\", \"very positive\", \"very positive\", \"very positive\", \"very positive\", \"very positive\", \"very positive\"], \"xaxis\": \"x\", \"y\": [1, 1, 1, 1, 1, 1, 1, 1, 1, 1, 1, 1, 1, 1, 1, 1, 1, 1, 1, 1, 1], \"yaxis\": \"y\"}],                        {\"barmode\": \"relative\", \"legend\": {\"title\": {\"text\": \"sentiment\"}, \"tracegroupgap\": 0}, \"template\": {\"data\": {\"bar\": [{\"error_x\": {\"color\": \"#2a3f5f\"}, \"error_y\": {\"color\": \"#2a3f5f\"}, \"marker\": {\"line\": {\"color\": \"#E5ECF6\", \"width\": 0.5}}, \"type\": \"bar\"}], \"barpolar\": [{\"marker\": {\"line\": {\"color\": \"#E5ECF6\", \"width\": 0.5}}, \"type\": \"barpolar\"}], \"carpet\": [{\"aaxis\": {\"endlinecolor\": \"#2a3f5f\", \"gridcolor\": \"white\", \"linecolor\": \"white\", \"minorgridcolor\": \"white\", \"startlinecolor\": \"#2a3f5f\"}, \"baxis\": {\"endlinecolor\": \"#2a3f5f\", \"gridcolor\": \"white\", \"linecolor\": \"white\", \"minorgridcolor\": \"white\", \"startlinecolor\": \"#2a3f5f\"}, \"type\": \"carpet\"}], \"choropleth\": [{\"colorbar\": {\"outlinewidth\": 0, \"ticks\": \"\"}, \"type\": \"choropleth\"}], \"contour\": [{\"colorbar\": {\"outlinewidth\": 0, \"ticks\": \"\"}, \"colorscale\": [[0.0, \"#0d0887\"], [0.1111111111111111, \"#46039f\"], [0.2222222222222222, \"#7201a8\"], [0.3333333333333333, \"#9c179e\"], [0.4444444444444444, \"#bd3786\"], [0.5555555555555556, \"#d8576b\"], [0.6666666666666666, \"#ed7953\"], [0.7777777777777778, \"#fb9f3a\"], [0.8888888888888888, \"#fdca26\"], [1.0, \"#f0f921\"]], \"type\": \"contour\"}], \"contourcarpet\": [{\"colorbar\": {\"outlinewidth\": 0, \"ticks\": \"\"}, \"type\": \"contourcarpet\"}], \"heatmap\": [{\"colorbar\": {\"outlinewidth\": 0, \"ticks\": \"\"}, \"colorscale\": [[0.0, \"#0d0887\"], [0.1111111111111111, \"#46039f\"], [0.2222222222222222, \"#7201a8\"], [0.3333333333333333, \"#9c179e\"], [0.4444444444444444, \"#bd3786\"], [0.5555555555555556, \"#d8576b\"], [0.6666666666666666, \"#ed7953\"], [0.7777777777777778, \"#fb9f3a\"], [0.8888888888888888, \"#fdca26\"], [1.0, \"#f0f921\"]], \"type\": \"heatmap\"}], \"heatmapgl\": [{\"colorbar\": {\"outlinewidth\": 0, \"ticks\": \"\"}, \"colorscale\": [[0.0, \"#0d0887\"], [0.1111111111111111, \"#46039f\"], [0.2222222222222222, \"#7201a8\"], [0.3333333333333333, \"#9c179e\"], [0.4444444444444444, \"#bd3786\"], [0.5555555555555556, \"#d8576b\"], [0.6666666666666666, \"#ed7953\"], [0.7777777777777778, \"#fb9f3a\"], [0.8888888888888888, \"#fdca26\"], [1.0, \"#f0f921\"]], \"type\": \"heatmapgl\"}], \"histogram\": [{\"marker\": {\"colorbar\": {\"outlinewidth\": 0, \"ticks\": \"\"}}, \"type\": \"histogram\"}], \"histogram2d\": [{\"colorbar\": {\"outlinewidth\": 0, \"ticks\": \"\"}, \"colorscale\": [[0.0, \"#0d0887\"], [0.1111111111111111, \"#46039f\"], [0.2222222222222222, \"#7201a8\"], [0.3333333333333333, \"#9c179e\"], [0.4444444444444444, \"#bd3786\"], [0.5555555555555556, \"#d8576b\"], [0.6666666666666666, \"#ed7953\"], [0.7777777777777778, \"#fb9f3a\"], [0.8888888888888888, \"#fdca26\"], [1.0, \"#f0f921\"]], \"type\": \"histogram2d\"}], \"histogram2dcontour\": [{\"colorbar\": {\"outlinewidth\": 0, \"ticks\": \"\"}, \"colorscale\": [[0.0, \"#0d0887\"], [0.1111111111111111, \"#46039f\"], [0.2222222222222222, \"#7201a8\"], [0.3333333333333333, \"#9c179e\"], [0.4444444444444444, \"#bd3786\"], [0.5555555555555556, \"#d8576b\"], [0.6666666666666666, \"#ed7953\"], [0.7777777777777778, \"#fb9f3a\"], [0.8888888888888888, \"#fdca26\"], [1.0, \"#f0f921\"]], \"type\": \"histogram2dcontour\"}], \"mesh3d\": [{\"colorbar\": {\"outlinewidth\": 0, \"ticks\": \"\"}, \"type\": \"mesh3d\"}], \"parcoords\": [{\"line\": {\"colorbar\": {\"outlinewidth\": 0, \"ticks\": \"\"}}, \"type\": \"parcoords\"}], \"pie\": [{\"automargin\": true, \"type\": \"pie\"}], \"scatter\": [{\"marker\": {\"colorbar\": {\"outlinewidth\": 0, \"ticks\": \"\"}}, \"type\": \"scatter\"}], \"scatter3d\": [{\"line\": {\"colorbar\": {\"outlinewidth\": 0, \"ticks\": \"\"}}, \"marker\": {\"colorbar\": {\"outlinewidth\": 0, \"ticks\": \"\"}}, \"type\": \"scatter3d\"}], \"scattercarpet\": [{\"marker\": {\"colorbar\": {\"outlinewidth\": 0, \"ticks\": \"\"}}, \"type\": \"scattercarpet\"}], \"scattergeo\": [{\"marker\": {\"colorbar\": {\"outlinewidth\": 0, \"ticks\": \"\"}}, \"type\": \"scattergeo\"}], \"scattergl\": [{\"marker\": {\"colorbar\": {\"outlinewidth\": 0, \"ticks\": \"\"}}, \"type\": \"scattergl\"}], \"scattermapbox\": [{\"marker\": {\"colorbar\": {\"outlinewidth\": 0, \"ticks\": \"\"}}, \"type\": \"scattermapbox\"}], \"scatterpolar\": [{\"marker\": {\"colorbar\": {\"outlinewidth\": 0, \"ticks\": \"\"}}, \"type\": \"scatterpolar\"}], \"scatterpolargl\": [{\"marker\": {\"colorbar\": {\"outlinewidth\": 0, \"ticks\": \"\"}}, \"type\": \"scatterpolargl\"}], \"scatterternary\": [{\"marker\": {\"colorbar\": {\"outlinewidth\": 0, \"ticks\": \"\"}}, \"type\": \"scatterternary\"}], \"surface\": [{\"colorbar\": {\"outlinewidth\": 0, \"ticks\": \"\"}, \"colorscale\": [[0.0, \"#0d0887\"], [0.1111111111111111, \"#46039f\"], [0.2222222222222222, \"#7201a8\"], [0.3333333333333333, \"#9c179e\"], [0.4444444444444444, \"#bd3786\"], [0.5555555555555556, \"#d8576b\"], [0.6666666666666666, \"#ed7953\"], [0.7777777777777778, \"#fb9f3a\"], [0.8888888888888888, \"#fdca26\"], [1.0, \"#f0f921\"]], \"type\": \"surface\"}], \"table\": [{\"cells\": {\"fill\": {\"color\": \"#EBF0F8\"}, \"line\": {\"color\": \"white\"}}, \"header\": {\"fill\": {\"color\": \"#C8D4E3\"}, \"line\": {\"color\": \"white\"}}, \"type\": \"table\"}]}, \"layout\": {\"annotationdefaults\": {\"arrowcolor\": \"#2a3f5f\", \"arrowhead\": 0, \"arrowwidth\": 1}, \"coloraxis\": {\"colorbar\": {\"outlinewidth\": 0, \"ticks\": \"\"}}, \"colorscale\": {\"diverging\": [[0, \"#8e0152\"], [0.1, \"#c51b7d\"], [0.2, \"#de77ae\"], [0.3, \"#f1b6da\"], [0.4, \"#fde0ef\"], [0.5, \"#f7f7f7\"], [0.6, \"#e6f5d0\"], [0.7, \"#b8e186\"], [0.8, \"#7fbc41\"], [0.9, \"#4d9221\"], [1, \"#276419\"]], \"sequential\": [[0.0, \"#0d0887\"], [0.1111111111111111, \"#46039f\"], [0.2222222222222222, \"#7201a8\"], [0.3333333333333333, \"#9c179e\"], [0.4444444444444444, \"#bd3786\"], [0.5555555555555556, \"#d8576b\"], [0.6666666666666666, \"#ed7953\"], [0.7777777777777778, \"#fb9f3a\"], [0.8888888888888888, \"#fdca26\"], [1.0, \"#f0f921\"]], \"sequentialminus\": [[0.0, \"#0d0887\"], [0.1111111111111111, \"#46039f\"], [0.2222222222222222, \"#7201a8\"], [0.3333333333333333, \"#9c179e\"], [0.4444444444444444, \"#bd3786\"], [0.5555555555555556, \"#d8576b\"], [0.6666666666666666, \"#ed7953\"], [0.7777777777777778, \"#fb9f3a\"], [0.8888888888888888, \"#fdca26\"], [1.0, \"#f0f921\"]]}, \"colorway\": [\"#636efa\", \"#EF553B\", \"#00cc96\", \"#ab63fa\", \"#FFA15A\", \"#19d3f3\", \"#FF6692\", \"#B6E880\", \"#FF97FF\", \"#FECB52\"], \"font\": {\"color\": \"#2a3f5f\"}, \"geo\": {\"bgcolor\": \"white\", \"lakecolor\": \"white\", \"landcolor\": \"#E5ECF6\", \"showlakes\": true, \"showland\": true, \"subunitcolor\": \"white\"}, \"hoverlabel\": {\"align\": \"left\"}, \"hovermode\": \"closest\", \"mapbox\": {\"style\": \"light\"}, \"paper_bgcolor\": \"white\", \"plot_bgcolor\": \"#E5ECF6\", \"polar\": {\"angularaxis\": {\"gridcolor\": \"white\", \"linecolor\": \"white\", \"ticks\": \"\"}, \"bgcolor\": \"#E5ECF6\", \"radialaxis\": {\"gridcolor\": \"white\", \"linecolor\": \"white\", \"ticks\": \"\"}}, \"scene\": {\"xaxis\": {\"backgroundcolor\": \"#E5ECF6\", \"gridcolor\": \"white\", \"gridwidth\": 2, \"linecolor\": \"white\", \"showbackground\": true, \"ticks\": \"\", \"zerolinecolor\": \"white\"}, \"yaxis\": {\"backgroundcolor\": \"#E5ECF6\", \"gridcolor\": \"white\", \"gridwidth\": 2, \"linecolor\": \"white\", \"showbackground\": true, \"ticks\": \"\", \"zerolinecolor\": \"white\"}, \"zaxis\": {\"backgroundcolor\": \"#E5ECF6\", \"gridcolor\": \"white\", \"gridwidth\": 2, \"linecolor\": \"white\", \"showbackground\": true, \"ticks\": \"\", \"zerolinecolor\": \"white\"}}, \"shapedefaults\": {\"line\": {\"color\": \"#2a3f5f\"}}, \"ternary\": {\"aaxis\": {\"gridcolor\": \"white\", \"linecolor\": \"white\", \"ticks\": \"\"}, \"baxis\": {\"gridcolor\": \"white\", \"linecolor\": \"white\", \"ticks\": \"\"}, \"bgcolor\": \"#E5ECF6\", \"caxis\": {\"gridcolor\": \"white\", \"linecolor\": \"white\", \"ticks\": \"\"}}, \"title\": {\"x\": 0.05}, \"xaxis\": {\"automargin\": true, \"gridcolor\": \"white\", \"linecolor\": \"white\", \"ticks\": \"\", \"title\": {\"standoff\": 15}, \"zerolinecolor\": \"white\", \"zerolinewidth\": 2}, \"yaxis\": {\"automargin\": true, \"gridcolor\": \"white\", \"linecolor\": \"white\", \"ticks\": \"\", \"title\": {\"standoff\": 15}, \"zerolinecolor\": \"white\", \"zerolinewidth\": 2}}}, \"title\": {\"text\": \"Sentiment analysis for \\\"gun control\\\"\"}, \"width\": 600, \"xaxis\": {\"anchor\": \"y\", \"categoryarray\": [\"very negative\", \"negative\", \"neutral\", \"positive\", \"very positive\"], \"categoryorder\": \"array\", \"domain\": [0.0, 1.0], \"title\": {\"text\": \"sentiment\"}}, \"yaxis\": {\"anchor\": \"x\", \"domain\": [0.0, 1.0], \"title\": {\"text\": \"count\"}}},                        {\"responsive\": true}                    ).then(function(){\n",
       "                            \n",
       "var gd = document.getElementById('f71a59e7-78b1-4db4-9b35-4ff543b533c2');\n",
       "var x = new MutationObserver(function (mutations, observer) {{\n",
       "        var display = window.getComputedStyle(gd).display;\n",
       "        if (!display || display === 'none') {{\n",
       "            console.log([gd, 'removed!']);\n",
       "            Plotly.purge(gd);\n",
       "            observer.disconnect();\n",
       "        }}\n",
       "}});\n",
       "\n",
       "// Listen for the removal of the full notebook cells\n",
       "var notebookContainer = gd.closest('#notebook-container');\n",
       "if (notebookContainer) {{\n",
       "    x.observe(notebookContainer, {childList: true});\n",
       "}}\n",
       "\n",
       "// Listen for the clearing of the current output cell\n",
       "var outputEl = gd.closest('.output');\n",
       "if (outputEl) {{\n",
       "    x.observe(outputEl, {childList: true});\n",
       "}}\n",
       "\n",
       "                        })                };                });            </script>        </div>"
      ]
     },
     "metadata": {},
     "output_type": "display_data"
    }
   ],
   "source": [
    "# bar chart\n",
    "fig = px.bar(df, \n",
    "             x='sentiment',\n",
    "             width=600,\n",
    "             title='Sentiment analysis for \"'+ searchterm + '\"',\n",
    "             color='sentiment',\n",
    "             category_orders = {'sentiment':['very negative','negative','neutral','positive','very positive']},\n",
    "             color_discrete_sequence=sentiment_colors, # use the colors selected in previous cell\n",
    "            )\n",
    "# fig.update_traces(textinfo='value')\n",
    "fig.update_traces(marker_line_width=0) # gets rid of horizontal white lines\n",
    "fig.show()"
   ]
  },
  {
   "cell_type": "markdown",
   "metadata": {},
   "source": [
    "In the city of chicago the phrase \"gun control\" has a fairly positive leaning sentiment which it could be concluded that people are in favor of there being stronger gun control laws. The negativ leaning sentiments could mean the tweet is against gun control laws and in favor of 2nd ammendment rights or it could mean that they don't believe gun control works and think that other forces should restrict the use of guns."
   ]
  },
  {
   "cell_type": "markdown",
   "metadata": {},
   "source": [
    "I, Ainsleigh, analysed gun control sentiments on the city of Chicago, Illinois. My partner, Stacy, analyzed gun control sentiments for the city of Huston, Texas, inorder for us to compare them further down the line."
   ]
  },
  {
   "cell_type": "code",
   "execution_count": null,
   "metadata": {},
   "outputs": [],
   "source": []
  }
 ],
 "metadata": {
  "kernelspec": {
   "display_name": "Python 3",
   "language": "python",
   "name": "python3"
  },
  "language_info": {
   "codemirror_mode": {
    "name": "ipython",
    "version": 3
   },
   "file_extension": ".py",
   "mimetype": "text/x-python",
   "name": "python",
   "nbconvert_exporter": "python",
   "pygments_lexer": "ipython3",
   "version": "3.8.5"
  },
  "toc": {
   "base_numbering": 1,
   "nav_menu": {},
   "number_sections": true,
   "sideBar": true,
   "skip_h1_title": false,
   "title_cell": "Table of Contents",
   "title_sidebar": "Contents",
   "toc_cell": false,
   "toc_position": {},
   "toc_section_display": true,
   "toc_window_display": false
  }
 },
 "nbformat": 4,
 "nbformat_minor": 4
}
