{
 "cells": [
  {
   "cell_type": "markdown",
   "metadata": {},
   "source": [
    "# Census Report\n",
    "## Texas state wide income report\n",
    "I will be using the income data from the Texas census report so in future reference I can see if there is a correlation between income level and number of gun related incidents"
   ]
  },
  {
   "cell_type": "markdown",
   "metadata": {},
   "source": [
    "First I will import the libraries needed to generate visualizations for spatial data"
   ]
  },
  {
   "cell_type": "code",
   "execution_count": 3,
   "metadata": {},
   "outputs": [],
   "source": [
    "import pandas as pd\n",
    "import geopandas as gpd\n",
    "import contextily as ctx\n",
    "import matplotlib.pyplot as plt"
   ]
  },
  {
   "cell_type": "markdown",
   "metadata": {},
   "source": [
    "These libraries help read the data and allow us to visualize geo related data"
   ]
  },
  {
   "cell_type": "markdown",
   "metadata": {},
   "source": [
    "Next I will load the data file. It's located in the in the main page so it does not need any other directory."
   ]
  },
  {
   "cell_type": "code",
   "execution_count": 4,
   "metadata": {},
   "outputs": [],
   "source": [
    "inc = gpd.read_file('acs2019_5yr_B19001_05000US48191.geojson')"
   ]
  },
  {
   "cell_type": "markdown",
   "metadata": {},
   "source": [
    "Geopandas will be used to process the data in order to make geo spatial visualizations"
   ]
  },
  {
   "cell_type": "markdown",
   "metadata": {},
   "source": [
    "## First look at the data\n",
    "Now we will look at the basics of the data: the amount of information in the file"
   ]
  },
  {
   "cell_type": "code",
   "execution_count": 5,
   "metadata": {},
   "outputs": [
    {
     "data": {
      "text/plain": [
       "(256, 37)"
      ]
     },
     "execution_count": 5,
     "metadata": {},
     "output_type": "execute_result"
    }
   ],
   "source": [
    "inc.shape"
   ]
  },
  {
   "cell_type": "markdown",
   "metadata": {},
   "source": [
    "There are 256 rows and 37 columns"
   ]
  },
  {
   "cell_type": "code",
   "execution_count": 6,
   "metadata": {},
   "outputs": [
    {
     "data": {
      "text/html": [
       "<div>\n",
       "<style scoped>\n",
       "    .dataframe tbody tr th:only-of-type {\n",
       "        vertical-align: middle;\n",
       "    }\n",
       "\n",
       "    .dataframe tbody tr th {\n",
       "        vertical-align: top;\n",
       "    }\n",
       "\n",
       "    .dataframe thead th {\n",
       "        text-align: right;\n",
       "    }\n",
       "</style>\n",
       "<table border=\"1\" class=\"dataframe\">\n",
       "  <thead>\n",
       "    <tr style=\"text-align: right;\">\n",
       "      <th></th>\n",
       "      <th>geoid</th>\n",
       "      <th>name</th>\n",
       "      <th>B19001001</th>\n",
       "      <th>B19001001, Error</th>\n",
       "      <th>B19001002</th>\n",
       "      <th>B19001002, Error</th>\n",
       "      <th>B19001003</th>\n",
       "      <th>B19001003, Error</th>\n",
       "      <th>B19001004</th>\n",
       "      <th>B19001004, Error</th>\n",
       "      <th>...</th>\n",
       "      <th>B19001013, Error</th>\n",
       "      <th>B19001014</th>\n",
       "      <th>B19001014, Error</th>\n",
       "      <th>B19001015</th>\n",
       "      <th>B19001015, Error</th>\n",
       "      <th>B19001016</th>\n",
       "      <th>B19001016, Error</th>\n",
       "      <th>B19001017</th>\n",
       "      <th>B19001017, Error</th>\n",
       "      <th>geometry</th>\n",
       "    </tr>\n",
       "  </thead>\n",
       "  <tbody>\n",
       "    <tr>\n",
       "      <th>0</th>\n",
       "      <td>01000US</td>\n",
       "      <td>United States</td>\n",
       "      <td>120756048.0</td>\n",
       "      <td>236892.0</td>\n",
       "      <td>7302871.0</td>\n",
       "      <td>18046.0</td>\n",
       "      <td>5189583.0</td>\n",
       "      <td>15224.0</td>\n",
       "      <td>5300624.0</td>\n",
       "      <td>15337.0</td>\n",
       "      <td>...</td>\n",
       "      <td>51444.0</td>\n",
       "      <td>11019036.0</td>\n",
       "      <td>49867.0</td>\n",
       "      <td>7267775.0</td>\n",
       "      <td>40108.0</td>\n",
       "      <td>8173563.0</td>\n",
       "      <td>49077.0</td>\n",
       "      <td>9264390.0</td>\n",
       "      <td>54033.0</td>\n",
       "      <td>MULTIPOLYGON (((-168.22527 -14.53591, -168.199...</td>\n",
       "    </tr>\n",
       "    <tr>\n",
       "      <th>1</th>\n",
       "      <td>04000US48</td>\n",
       "      <td>Texas</td>\n",
       "      <td>9691647.0</td>\n",
       "      <td>18858.0</td>\n",
       "      <td>593067.0</td>\n",
       "      <td>6163.0</td>\n",
       "      <td>388668.0</td>\n",
       "      <td>4911.0</td>\n",
       "      <td>416958.0</td>\n",
       "      <td>4312.0</td>\n",
       "      <td>...</td>\n",
       "      <td>8492.0</td>\n",
       "      <td>875978.0</td>\n",
       "      <td>8091.0</td>\n",
       "      <td>578591.0</td>\n",
       "      <td>6503.0</td>\n",
       "      <td>645429.0</td>\n",
       "      <td>6967.0</td>\n",
       "      <td>718723.0</td>\n",
       "      <td>6426.0</td>\n",
       "      <td>MULTIPOLYGON (((-103.98018 32.00012, -103.9799...</td>\n",
       "    </tr>\n",
       "    <tr>\n",
       "      <th>2</th>\n",
       "      <td>05000US48001</td>\n",
       "      <td>Anderson County, TX</td>\n",
       "      <td>16677.0</td>\n",
       "      <td>414.0</td>\n",
       "      <td>861.0</td>\n",
       "      <td>226.0</td>\n",
       "      <td>1302.0</td>\n",
       "      <td>276.0</td>\n",
       "      <td>1259.0</td>\n",
       "      <td>232.0</td>\n",
       "      <td>...</td>\n",
       "      <td>277.0</td>\n",
       "      <td>943.0</td>\n",
       "      <td>203.0</td>\n",
       "      <td>574.0</td>\n",
       "      <td>202.0</td>\n",
       "      <td>411.0</td>\n",
       "      <td>127.0</td>\n",
       "      <td>242.0</td>\n",
       "      <td>83.0</td>\n",
       "      <td>MULTIPOLYGON (((-95.67753 32.05163, -95.67360 ...</td>\n",
       "    </tr>\n",
       "    <tr>\n",
       "      <th>3</th>\n",
       "      <td>05000US48003</td>\n",
       "      <td>Andrews County, TX</td>\n",
       "      <td>5573.0</td>\n",
       "      <td>191.0</td>\n",
       "      <td>272.0</td>\n",
       "      <td>106.0</td>\n",
       "      <td>188.0</td>\n",
       "      <td>86.0</td>\n",
       "      <td>146.0</td>\n",
       "      <td>85.0</td>\n",
       "      <td>...</td>\n",
       "      <td>238.0</td>\n",
       "      <td>573.0</td>\n",
       "      <td>177.0</td>\n",
       "      <td>473.0</td>\n",
       "      <td>170.0</td>\n",
       "      <td>401.0</td>\n",
       "      <td>141.0</td>\n",
       "      <td>425.0</td>\n",
       "      <td>112.0</td>\n",
       "      <td>MULTIPOLYGON (((-102.86649 32.08714, -102.8666...</td>\n",
       "    </tr>\n",
       "    <tr>\n",
       "      <th>4</th>\n",
       "      <td>05000US48005</td>\n",
       "      <td>Angelina County, TX</td>\n",
       "      <td>31035.0</td>\n",
       "      <td>619.0</td>\n",
       "      <td>2102.0</td>\n",
       "      <td>314.0</td>\n",
       "      <td>1738.0</td>\n",
       "      <td>297.0</td>\n",
       "      <td>1890.0</td>\n",
       "      <td>334.0</td>\n",
       "      <td>...</td>\n",
       "      <td>541.0</td>\n",
       "      <td>2283.0</td>\n",
       "      <td>308.0</td>\n",
       "      <td>1068.0</td>\n",
       "      <td>268.0</td>\n",
       "      <td>1203.0</td>\n",
       "      <td>209.0</td>\n",
       "      <td>688.0</td>\n",
       "      <td>169.0</td>\n",
       "      <td>MULTIPOLYGON (((-94.86268 31.23236, -94.86227 ...</td>\n",
       "    </tr>\n",
       "  </tbody>\n",
       "</table>\n",
       "<p>5 rows × 37 columns</p>\n",
       "</div>"
      ],
      "text/plain": [
       "          geoid                 name    B19001001  B19001001, Error  \\\n",
       "0       01000US        United States  120756048.0          236892.0   \n",
       "1     04000US48                Texas    9691647.0           18858.0   \n",
       "2  05000US48001  Anderson County, TX      16677.0             414.0   \n",
       "3  05000US48003   Andrews County, TX       5573.0             191.0   \n",
       "4  05000US48005  Angelina County, TX      31035.0             619.0   \n",
       "\n",
       "   B19001002  B19001002, Error  B19001003  B19001003, Error  B19001004  \\\n",
       "0  7302871.0           18046.0  5189583.0           15224.0  5300624.0   \n",
       "1   593067.0            6163.0   388668.0            4911.0   416958.0   \n",
       "2      861.0             226.0     1302.0             276.0     1259.0   \n",
       "3      272.0             106.0      188.0              86.0      146.0   \n",
       "4     2102.0             314.0     1738.0             297.0     1890.0   \n",
       "\n",
       "   B19001004, Error  ...  B19001013, Error   B19001014  B19001014, Error  \\\n",
       "0           15337.0  ...           51444.0  11019036.0           49867.0   \n",
       "1            4312.0  ...            8492.0    875978.0            8091.0   \n",
       "2             232.0  ...             277.0       943.0             203.0   \n",
       "3              85.0  ...             238.0       573.0             177.0   \n",
       "4             334.0  ...             541.0      2283.0             308.0   \n",
       "\n",
       "   B19001015  B19001015, Error  B19001016  B19001016, Error  B19001017  \\\n",
       "0  7267775.0           40108.0  8173563.0           49077.0  9264390.0   \n",
       "1   578591.0            6503.0   645429.0            6967.0   718723.0   \n",
       "2      574.0             202.0      411.0             127.0      242.0   \n",
       "3      473.0             170.0      401.0             141.0      425.0   \n",
       "4     1068.0             268.0     1203.0             209.0      688.0   \n",
       "\n",
       "   B19001017, Error                                           geometry  \n",
       "0           54033.0  MULTIPOLYGON (((-168.22527 -14.53591, -168.199...  \n",
       "1            6426.0  MULTIPOLYGON (((-103.98018 32.00012, -103.9799...  \n",
       "2              83.0  MULTIPOLYGON (((-95.67753 32.05163, -95.67360 ...  \n",
       "3             112.0  MULTIPOLYGON (((-102.86649 32.08714, -102.8666...  \n",
       "4             169.0  MULTIPOLYGON (((-94.86268 31.23236, -94.86227 ...  \n",
       "\n",
       "[5 rows x 37 columns]"
      ]
     },
     "execution_count": 6,
     "metadata": {},
     "output_type": "execute_result"
    }
   ],
   "source": [
    "inc.head()"
   ]
  },
  {
   "cell_type": "markdown",
   "metadata": {},
   "source": [
    "The output of .head produces the first 5 rows of the data as a sample of its layout"
   ]
  },
  {
   "cell_type": "markdown",
   "metadata": {},
   "source": [
    "Next we will take a look at the data types using .info"
   ]
  },
  {
   "cell_type": "code",
   "execution_count": 7,
   "metadata": {},
   "outputs": [
    {
     "name": "stdout",
     "output_type": "stream",
     "text": [
      "<class 'geopandas.geodataframe.GeoDataFrame'>\n",
      "RangeIndex: 256 entries, 0 to 255\n",
      "Data columns (total 37 columns):\n",
      " #   Column            Non-Null Count  Dtype   \n",
      "---  ------            --------------  -----   \n",
      " 0   geoid             256 non-null    object  \n",
      " 1   name              256 non-null    object  \n",
      " 2   B19001001         256 non-null    float64 \n",
      " 3   B19001001, Error  256 non-null    float64 \n",
      " 4   B19001002         256 non-null    float64 \n",
      " 5   B19001002, Error  256 non-null    float64 \n",
      " 6   B19001003         256 non-null    float64 \n",
      " 7   B19001003, Error  256 non-null    float64 \n",
      " 8   B19001004         256 non-null    float64 \n",
      " 9   B19001004, Error  256 non-null    float64 \n",
      " 10  B19001005         256 non-null    float64 \n",
      " 11  B19001005, Error  256 non-null    float64 \n",
      " 12  B19001006         256 non-null    float64 \n",
      " 13  B19001006, Error  256 non-null    float64 \n",
      " 14  B19001007         256 non-null    float64 \n",
      " 15  B19001007, Error  256 non-null    float64 \n",
      " 16  B19001008         256 non-null    float64 \n",
      " 17  B19001008, Error  256 non-null    float64 \n",
      " 18  B19001009         256 non-null    float64 \n",
      " 19  B19001009, Error  256 non-null    float64 \n",
      " 20  B19001010         256 non-null    float64 \n",
      " 21  B19001010, Error  256 non-null    float64 \n",
      " 22  B19001011         256 non-null    float64 \n",
      " 23  B19001011, Error  256 non-null    float64 \n",
      " 24  B19001012         256 non-null    float64 \n",
      " 25  B19001012, Error  256 non-null    float64 \n",
      " 26  B19001013         256 non-null    float64 \n",
      " 27  B19001013, Error  256 non-null    float64 \n",
      " 28  B19001014         256 non-null    float64 \n",
      " 29  B19001014, Error  256 non-null    float64 \n",
      " 30  B19001015         256 non-null    float64 \n",
      " 31  B19001015, Error  256 non-null    float64 \n",
      " 32  B19001016         256 non-null    float64 \n",
      " 33  B19001016, Error  256 non-null    float64 \n",
      " 34  B19001017         256 non-null    float64 \n",
      " 35  B19001017, Error  256 non-null    float64 \n",
      " 36  geometry          256 non-null    geometry\n",
      "dtypes: float64(34), geometry(1), object(2)\n",
      "memory usage: 74.1+ KB\n"
     ]
    }
   ],
   "source": [
    "inc.info()"
   ]
  },
  {
   "cell_type": "markdown",
   "metadata": {},
   "source": [
    "## Cleaning the data \n",
    "Not everything in this data set is useful so in order to avoid skewed results I will omit some of the unecessary data. "
   ]
  },
  {
   "cell_type": "markdown",
   "metadata": {},
   "source": [
    "To understand the geo spatial aspect of this data we will use .plot to visualize the numerical values of the data set in a map like way"
   ]
  },
  {
   "cell_type": "code",
   "execution_count": 8,
   "metadata": {},
   "outputs": [
    {
     "data": {
      "text/plain": [
       "<matplotlib.axes._subplots.AxesSubplot at 0x7f82ac15f730>"
      ]
     },
     "execution_count": 8,
     "metadata": {},
     "output_type": "execute_result"
    },
    {
     "data": {
      "image/png": "[encoded data removed]",
      "text/plain": [
       "<Figure size 720x1440 with 1 Axes>"
      ]
     },
     "metadata": {
      "needs_background": "light"
     },
     "output_type": "display_data"
    }
   ],
   "source": [
    "inc.plot(figsize=(10,20))"
   ]
  },
  {
   "cell_type": "markdown",
   "metadata": {},
   "source": [
    "This .plot produced a visualization that looks like the united states however I only want to see the state of texas's income. In this case I will use .drop to deop the first row starting at 0."
   ]
  },
  {
   "cell_type": "code",
   "execution_count": 9,
   "metadata": {},
   "outputs": [],
   "source": [
    "inc = inc.drop([0])\n"
   ]
  },
  {
   "cell_type": "code",
   "execution_count": 10,
   "metadata": {},
   "outputs": [
    {
     "data": {
      "text/html": [
       "<div>\n",
       "<style scoped>\n",
       "    .dataframe tbody tr th:only-of-type {\n",
       "        vertical-align: middle;\n",
       "    }\n",
       "\n",
       "    .dataframe tbody tr th {\n",
       "        vertical-align: top;\n",
       "    }\n",
       "\n",
       "    .dataframe thead th {\n",
       "        text-align: right;\n",
       "    }\n",
       "</style>\n",
       "<table border=\"1\" class=\"dataframe\">\n",
       "  <thead>\n",
       "    <tr style=\"text-align: right;\">\n",
       "      <th></th>\n",
       "      <th>geoid</th>\n",
       "      <th>name</th>\n",
       "      <th>B19001001</th>\n",
       "      <th>B19001001, Error</th>\n",
       "      <th>B19001002</th>\n",
       "      <th>B19001002, Error</th>\n",
       "      <th>B19001003</th>\n",
       "      <th>B19001003, Error</th>\n",
       "      <th>B19001004</th>\n",
       "      <th>B19001004, Error</th>\n",
       "      <th>...</th>\n",
       "      <th>B19001013, Error</th>\n",
       "      <th>B19001014</th>\n",
       "      <th>B19001014, Error</th>\n",
       "      <th>B19001015</th>\n",
       "      <th>B19001015, Error</th>\n",
       "      <th>B19001016</th>\n",
       "      <th>B19001016, Error</th>\n",
       "      <th>B19001017</th>\n",
       "      <th>B19001017, Error</th>\n",
       "      <th>geometry</th>\n",
       "    </tr>\n",
       "  </thead>\n",
       "  <tbody>\n",
       "    <tr>\n",
       "      <th>1</th>\n",
       "      <td>04000US48</td>\n",
       "      <td>Texas</td>\n",
       "      <td>9691647.0</td>\n",
       "      <td>18858.0</td>\n",
       "      <td>593067.0</td>\n",
       "      <td>6163.0</td>\n",
       "      <td>388668.0</td>\n",
       "      <td>4911.0</td>\n",
       "      <td>416958.0</td>\n",
       "      <td>4312.0</td>\n",
       "      <td>...</td>\n",
       "      <td>8492.0</td>\n",
       "      <td>875978.0</td>\n",
       "      <td>8091.0</td>\n",
       "      <td>578591.0</td>\n",
       "      <td>6503.0</td>\n",
       "      <td>645429.0</td>\n",
       "      <td>6967.0</td>\n",
       "      <td>718723.0</td>\n",
       "      <td>6426.0</td>\n",
       "      <td>MULTIPOLYGON (((-103.98018 32.00012, -103.9799...</td>\n",
       "    </tr>\n",
       "    <tr>\n",
       "      <th>2</th>\n",
       "      <td>05000US48001</td>\n",
       "      <td>Anderson County, TX</td>\n",
       "      <td>16677.0</td>\n",
       "      <td>414.0</td>\n",
       "      <td>861.0</td>\n",
       "      <td>226.0</td>\n",
       "      <td>1302.0</td>\n",
       "      <td>276.0</td>\n",
       "      <td>1259.0</td>\n",
       "      <td>232.0</td>\n",
       "      <td>...</td>\n",
       "      <td>277.0</td>\n",
       "      <td>943.0</td>\n",
       "      <td>203.0</td>\n",
       "      <td>574.0</td>\n",
       "      <td>202.0</td>\n",
       "      <td>411.0</td>\n",
       "      <td>127.0</td>\n",
       "      <td>242.0</td>\n",
       "      <td>83.0</td>\n",
       "      <td>MULTIPOLYGON (((-95.67753 32.05163, -95.67360 ...</td>\n",
       "    </tr>\n",
       "    <tr>\n",
       "      <th>3</th>\n",
       "      <td>05000US48003</td>\n",
       "      <td>Andrews County, TX</td>\n",
       "      <td>5573.0</td>\n",
       "      <td>191.0</td>\n",
       "      <td>272.0</td>\n",
       "      <td>106.0</td>\n",
       "      <td>188.0</td>\n",
       "      <td>86.0</td>\n",
       "      <td>146.0</td>\n",
       "      <td>85.0</td>\n",
       "      <td>...</td>\n",
       "      <td>238.0</td>\n",
       "      <td>573.0</td>\n",
       "      <td>177.0</td>\n",
       "      <td>473.0</td>\n",
       "      <td>170.0</td>\n",
       "      <td>401.0</td>\n",
       "      <td>141.0</td>\n",
       "      <td>425.0</td>\n",
       "      <td>112.0</td>\n",
       "      <td>MULTIPOLYGON (((-102.86649 32.08714, -102.8666...</td>\n",
       "    </tr>\n",
       "    <tr>\n",
       "      <th>4</th>\n",
       "      <td>05000US48005</td>\n",
       "      <td>Angelina County, TX</td>\n",
       "      <td>31035.0</td>\n",
       "      <td>619.0</td>\n",
       "      <td>2102.0</td>\n",
       "      <td>314.0</td>\n",
       "      <td>1738.0</td>\n",
       "      <td>297.0</td>\n",
       "      <td>1890.0</td>\n",
       "      <td>334.0</td>\n",
       "      <td>...</td>\n",
       "      <td>541.0</td>\n",
       "      <td>2283.0</td>\n",
       "      <td>308.0</td>\n",
       "      <td>1068.0</td>\n",
       "      <td>268.0</td>\n",
       "      <td>1203.0</td>\n",
       "      <td>209.0</td>\n",
       "      <td>688.0</td>\n",
       "      <td>169.0</td>\n",
       "      <td>MULTIPOLYGON (((-94.86268 31.23236, -94.86227 ...</td>\n",
       "    </tr>\n",
       "    <tr>\n",
       "      <th>5</th>\n",
       "      <td>05000US48007</td>\n",
       "      <td>Aransas County, TX</td>\n",
       "      <td>9548.0</td>\n",
       "      <td>501.0</td>\n",
       "      <td>854.0</td>\n",
       "      <td>290.0</td>\n",
       "      <td>557.0</td>\n",
       "      <td>181.0</td>\n",
       "      <td>450.0</td>\n",
       "      <td>153.0</td>\n",
       "      <td>...</td>\n",
       "      <td>237.0</td>\n",
       "      <td>731.0</td>\n",
       "      <td>178.0</td>\n",
       "      <td>345.0</td>\n",
       "      <td>180.0</td>\n",
       "      <td>379.0</td>\n",
       "      <td>130.0</td>\n",
       "      <td>581.0</td>\n",
       "      <td>209.0</td>\n",
       "      <td>MULTIPOLYGON (((-97.20401 28.08081, -97.19783 ...</td>\n",
       "    </tr>\n",
       "  </tbody>\n",
       "</table>\n",
       "<p>5 rows × 37 columns</p>\n",
       "</div>"
      ],
      "text/plain": [
       "          geoid                 name  B19001001  B19001001, Error  B19001002  \\\n",
       "1     04000US48                Texas  9691647.0           18858.0   593067.0   \n",
       "2  05000US48001  Anderson County, TX    16677.0             414.0      861.0   \n",
       "3  05000US48003   Andrews County, TX     5573.0             191.0      272.0   \n",
       "4  05000US48005  Angelina County, TX    31035.0             619.0     2102.0   \n",
       "5  05000US48007   Aransas County, TX     9548.0             501.0      854.0   \n",
       "\n",
       "   B19001002, Error  B19001003  B19001003, Error  B19001004  B19001004, Error  \\\n",
       "1            6163.0   388668.0            4911.0   416958.0            4312.0   \n",
       "2             226.0     1302.0             276.0     1259.0             232.0   \n",
       "3             106.0      188.0              86.0      146.0              85.0   \n",
       "4             314.0     1738.0             297.0     1890.0             334.0   \n",
       "5             290.0      557.0             181.0      450.0             153.0   \n",
       "\n",
       "   ...  B19001013, Error  B19001014  B19001014, Error  B19001015  \\\n",
       "1  ...            8492.0   875978.0            8091.0   578591.0   \n",
       "2  ...             277.0      943.0             203.0      574.0   \n",
       "3  ...             238.0      573.0             177.0      473.0   \n",
       "4  ...             541.0     2283.0             308.0     1068.0   \n",
       "5  ...             237.0      731.0             178.0      345.0   \n",
       "\n",
       "   B19001015, Error  B19001016  B19001016, Error  B19001017  B19001017, Error  \\\n",
       "1            6503.0   645429.0            6967.0   718723.0            6426.0   \n",
       "2             202.0      411.0             127.0      242.0              83.0   \n",
       "3             170.0      401.0             141.0      425.0             112.0   \n",
       "4             268.0     1203.0             209.0      688.0             169.0   \n",
       "5             180.0      379.0             130.0      581.0             209.0   \n",
       "\n",
       "                                            geometry  \n",
       "1  MULTIPOLYGON (((-103.98018 32.00012, -103.9799...  \n",
       "2  MULTIPOLYGON (((-95.67753 32.05163, -95.67360 ...  \n",
       "3  MULTIPOLYGON (((-102.86649 32.08714, -102.8666...  \n",
       "4  MULTIPOLYGON (((-94.86268 31.23236, -94.86227 ...  \n",
       "5  MULTIPOLYGON (((-97.20401 28.08081, -97.19783 ...  \n",
       "\n",
       "[5 rows x 37 columns]"
      ]
     },
     "execution_count": 10,
     "metadata": {},
     "output_type": "execute_result"
    }
   ],
   "source": [
    "inc.head()"
   ]
  },
  {
   "cell_type": "markdown",
   "metadata": {},
   "source": [
    "After running .head again I can see the united states row was dropped from the chart. Now i will run .plot again to see if it will produce a visualization that looks like the state of texas."
   ]
  },
  {
   "cell_type": "code",
   "execution_count": 11,
   "metadata": {},
   "outputs": [
    {
     "data": {
      "text/plain": [
       "<matplotlib.axes._subplots.AxesSubplot at 0x7f8276962700>"
      ]
     },
     "execution_count": 11,
     "metadata": {},
     "output_type": "execute_result"
    },
    {
     "data": {
      "image/png": "[encoded data removed]",
      "text/plain": [
       "<Figure size 720x720 with 1 Axes>"
      ]
     },
     "metadata": {
      "needs_background": "light"
     },
     "output_type": "display_data"
    }
   ],
   "source": [
    "inc.plot(figsize=(10,10))"
   ]
  },
  {
   "cell_type": "markdown",
   "metadata": {},
   "source": [
    "The drop was successful but I want to look more specifically at the counties within texas so I will also omit the row that contains the income averages for the entire state of texas. This time i will drop row 1 because it is technically the second row if we start at 0."
   ]
  },
  {
   "cell_type": "code",
   "execution_count": 12,
   "metadata": {},
   "outputs": [
    {
     "data": {
      "text/html": [
       "<div>\n",
       "<style scoped>\n",
       "    .dataframe tbody tr th:only-of-type {\n",
       "        vertical-align: middle;\n",
       "    }\n",
       "\n",
       "    .dataframe tbody tr th {\n",
       "        vertical-align: top;\n",
       "    }\n",
       "\n",
       "    .dataframe thead th {\n",
       "        text-align: right;\n",
       "    }\n",
       "</style>\n",
       "<table border=\"1\" class=\"dataframe\">\n",
       "  <thead>\n",
       "    <tr style=\"text-align: right;\">\n",
       "      <th></th>\n",
       "      <th>geoid</th>\n",
       "      <th>name</th>\n",
       "      <th>B19001001</th>\n",
       "      <th>B19001001, Error</th>\n",
       "      <th>B19001002</th>\n",
       "      <th>B19001002, Error</th>\n",
       "      <th>B19001003</th>\n",
       "      <th>B19001003, Error</th>\n",
       "      <th>B19001004</th>\n",
       "      <th>B19001004, Error</th>\n",
       "      <th>...</th>\n",
       "      <th>B19001013, Error</th>\n",
       "      <th>B19001014</th>\n",
       "      <th>B19001014, Error</th>\n",
       "      <th>B19001015</th>\n",
       "      <th>B19001015, Error</th>\n",
       "      <th>B19001016</th>\n",
       "      <th>B19001016, Error</th>\n",
       "      <th>B19001017</th>\n",
       "      <th>B19001017, Error</th>\n",
       "      <th>geometry</th>\n",
       "    </tr>\n",
       "  </thead>\n",
       "  <tbody>\n",
       "    <tr>\n",
       "      <th>2</th>\n",
       "      <td>05000US48001</td>\n",
       "      <td>Anderson County, TX</td>\n",
       "      <td>16677.0</td>\n",
       "      <td>414.0</td>\n",
       "      <td>861.0</td>\n",
       "      <td>226.0</td>\n",
       "      <td>1302.0</td>\n",
       "      <td>276.0</td>\n",
       "      <td>1259.0</td>\n",
       "      <td>232.0</td>\n",
       "      <td>...</td>\n",
       "      <td>277.0</td>\n",
       "      <td>943.0</td>\n",
       "      <td>203.0</td>\n",
       "      <td>574.0</td>\n",
       "      <td>202.0</td>\n",
       "      <td>411.0</td>\n",
       "      <td>127.0</td>\n",
       "      <td>242.0</td>\n",
       "      <td>83.0</td>\n",
       "      <td>MULTIPOLYGON (((-95.67753 32.05163, -95.67360 ...</td>\n",
       "    </tr>\n",
       "    <tr>\n",
       "      <th>3</th>\n",
       "      <td>05000US48003</td>\n",
       "      <td>Andrews County, TX</td>\n",
       "      <td>5573.0</td>\n",
       "      <td>191.0</td>\n",
       "      <td>272.0</td>\n",
       "      <td>106.0</td>\n",
       "      <td>188.0</td>\n",
       "      <td>86.0</td>\n",
       "      <td>146.0</td>\n",
       "      <td>85.0</td>\n",
       "      <td>...</td>\n",
       "      <td>238.0</td>\n",
       "      <td>573.0</td>\n",
       "      <td>177.0</td>\n",
       "      <td>473.0</td>\n",
       "      <td>170.0</td>\n",
       "      <td>401.0</td>\n",
       "      <td>141.0</td>\n",
       "      <td>425.0</td>\n",
       "      <td>112.0</td>\n",
       "      <td>MULTIPOLYGON (((-102.86649 32.08714, -102.8666...</td>\n",
       "    </tr>\n",
       "    <tr>\n",
       "      <th>4</th>\n",
       "      <td>05000US48005</td>\n",
       "      <td>Angelina County, TX</td>\n",
       "      <td>31035.0</td>\n",
       "      <td>619.0</td>\n",
       "      <td>2102.0</td>\n",
       "      <td>314.0</td>\n",
       "      <td>1738.0</td>\n",
       "      <td>297.0</td>\n",
       "      <td>1890.0</td>\n",
       "      <td>334.0</td>\n",
       "      <td>...</td>\n",
       "      <td>541.0</td>\n",
       "      <td>2283.0</td>\n",
       "      <td>308.0</td>\n",
       "      <td>1068.0</td>\n",
       "      <td>268.0</td>\n",
       "      <td>1203.0</td>\n",
       "      <td>209.0</td>\n",
       "      <td>688.0</td>\n",
       "      <td>169.0</td>\n",
       "      <td>MULTIPOLYGON (((-94.86268 31.23236, -94.86227 ...</td>\n",
       "    </tr>\n",
       "    <tr>\n",
       "      <th>5</th>\n",
       "      <td>05000US48007</td>\n",
       "      <td>Aransas County, TX</td>\n",
       "      <td>9548.0</td>\n",
       "      <td>501.0</td>\n",
       "      <td>854.0</td>\n",
       "      <td>290.0</td>\n",
       "      <td>557.0</td>\n",
       "      <td>181.0</td>\n",
       "      <td>450.0</td>\n",
       "      <td>153.0</td>\n",
       "      <td>...</td>\n",
       "      <td>237.0</td>\n",
       "      <td>731.0</td>\n",
       "      <td>178.0</td>\n",
       "      <td>345.0</td>\n",
       "      <td>180.0</td>\n",
       "      <td>379.0</td>\n",
       "      <td>130.0</td>\n",
       "      <td>581.0</td>\n",
       "      <td>209.0</td>\n",
       "      <td>MULTIPOLYGON (((-97.20401 28.08081, -97.19783 ...</td>\n",
       "    </tr>\n",
       "    <tr>\n",
       "      <th>6</th>\n",
       "      <td>05000US48009</td>\n",
       "      <td>Archer County, TX</td>\n",
       "      <td>3452.0</td>\n",
       "      <td>114.0</td>\n",
       "      <td>158.0</td>\n",
       "      <td>52.0</td>\n",
       "      <td>209.0</td>\n",
       "      <td>88.0</td>\n",
       "      <td>169.0</td>\n",
       "      <td>51.0</td>\n",
       "      <td>...</td>\n",
       "      <td>77.0</td>\n",
       "      <td>359.0</td>\n",
       "      <td>89.0</td>\n",
       "      <td>240.0</td>\n",
       "      <td>62.0</td>\n",
       "      <td>208.0</td>\n",
       "      <td>62.0</td>\n",
       "      <td>207.0</td>\n",
       "      <td>70.0</td>\n",
       "      <td>MULTIPOLYGON (((-98.75200 33.39587, -98.75494 ...</td>\n",
       "    </tr>\n",
       "  </tbody>\n",
       "</table>\n",
       "<p>5 rows × 37 columns</p>\n",
       "</div>"
      ],
      "text/plain": [
       "          geoid                 name  B19001001  B19001001, Error  B19001002  \\\n",
       "2  05000US48001  Anderson County, TX    16677.0             414.0      861.0   \n",
       "3  05000US48003   Andrews County, TX     5573.0             191.0      272.0   \n",
       "4  05000US48005  Angelina County, TX    31035.0             619.0     2102.0   \n",
       "5  05000US48007   Aransas County, TX     9548.0             501.0      854.0   \n",
       "6  05000US48009    Archer County, TX     3452.0             114.0      158.0   \n",
       "\n",
       "   B19001002, Error  B19001003  B19001003, Error  B19001004  B19001004, Error  \\\n",
       "2             226.0     1302.0             276.0     1259.0             232.0   \n",
       "3             106.0      188.0              86.0      146.0              85.0   \n",
       "4             314.0     1738.0             297.0     1890.0             334.0   \n",
       "5             290.0      557.0             181.0      450.0             153.0   \n",
       "6              52.0      209.0              88.0      169.0              51.0   \n",
       "\n",
       "   ...  B19001013, Error  B19001014  B19001014, Error  B19001015  \\\n",
       "2  ...             277.0      943.0             203.0      574.0   \n",
       "3  ...             238.0      573.0             177.0      473.0   \n",
       "4  ...             541.0     2283.0             308.0     1068.0   \n",
       "5  ...             237.0      731.0             178.0      345.0   \n",
       "6  ...              77.0      359.0              89.0      240.0   \n",
       "\n",
       "   B19001015, Error  B19001016  B19001016, Error  B19001017  B19001017, Error  \\\n",
       "2             202.0      411.0             127.0      242.0              83.0   \n",
       "3             170.0      401.0             141.0      425.0             112.0   \n",
       "4             268.0     1203.0             209.0      688.0             169.0   \n",
       "5             180.0      379.0             130.0      581.0             209.0   \n",
       "6              62.0      208.0              62.0      207.0              70.0   \n",
       "\n",
       "                                            geometry  \n",
       "2  MULTIPOLYGON (((-95.67753 32.05163, -95.67360 ...  \n",
       "3  MULTIPOLYGON (((-102.86649 32.08714, -102.8666...  \n",
       "4  MULTIPOLYGON (((-94.86268 31.23236, -94.86227 ...  \n",
       "5  MULTIPOLYGON (((-97.20401 28.08081, -97.19783 ...  \n",
       "6  MULTIPOLYGON (((-98.75200 33.39587, -98.75494 ...  \n",
       "\n",
       "[5 rows x 37 columns]"
      ]
     },
     "execution_count": 12,
     "metadata": {},
     "output_type": "execute_result"
    }
   ],
   "source": [
    "inc = inc.drop([1])\n",
    "inc.head()"
   ]
  },
  {
   "cell_type": "markdown",
   "metadata": {},
   "source": [
    "Once again will we test the drop using .plot"
   ]
  },
  {
   "cell_type": "code",
   "execution_count": 13,
   "metadata": {},
   "outputs": [
    {
     "data": {
      "text/plain": [
       "<matplotlib.axes._subplots.AxesSubplot at 0x7f82768d0940>"
      ]
     },
     "execution_count": 13,
     "metadata": {},
     "output_type": "execute_result"
    },
    {
     "data": {
      "image/png": "[encoded data removed]",
      "text/plain": [
       "<Figure size 720x720 with 1 Axes>"
      ]
     },
     "metadata": {
      "needs_background": "light"
     },
     "output_type": "display_data"
    }
   ],
   "source": [
    "inc.plot(figsize=(10,10))"
   ]
  },
  {
   "cell_type": "markdown",
   "metadata": {},
   "source": [
    "Yay it was successful so now i can look at the data without any enormous outliers"
   ]
  },
  {
   "cell_type": "markdown",
   "metadata": {},
   "source": [
    "## Making the data legible\n",
    "Now I will use techniques to change the numerical values into readable variables."
   ]
  },
  {
   "cell_type": "code",
   "execution_count": 14,
   "metadata": {},
   "outputs": [
    {
     "data": {
      "text/plain": [
       "['geoid',\n",
       " 'name',\n",
       " 'B19001001',\n",
       " 'B19001001, Error',\n",
       " 'B19001002',\n",
       " 'B19001002, Error',\n",
       " 'B19001003',\n",
       " 'B19001003, Error',\n",
       " 'B19001004',\n",
       " 'B19001004, Error',\n",
       " 'B19001005',\n",
       " 'B19001005, Error',\n",
       " 'B19001006',\n",
       " 'B19001006, Error',\n",
       " 'B19001007',\n",
       " 'B19001007, Error',\n",
       " 'B19001008',\n",
       " 'B19001008, Error',\n",
       " 'B19001009',\n",
       " 'B19001009, Error',\n",
       " 'B19001010',\n",
       " 'B19001010, Error',\n",
       " 'B19001011',\n",
       " 'B19001011, Error',\n",
       " 'B19001012',\n",
       " 'B19001012, Error',\n",
       " 'B19001013',\n",
       " 'B19001013, Error',\n",
       " 'B19001014',\n",
       " 'B19001014, Error',\n",
       " 'B19001015',\n",
       " 'B19001015, Error',\n",
       " 'B19001016',\n",
       " 'B19001016, Error',\n",
       " 'B19001017',\n",
       " 'B19001017, Error',\n",
       " 'geometry']"
      ]
     },
     "execution_count": 14,
     "metadata": {},
     "output_type": "execute_result"
    }
   ],
   "source": [
    "list(inc)"
   ]
  },
  {
   "cell_type": "markdown",
   "metadata": {},
   "source": [
    "List allows use to make a list out of all the columns in our data set, I will now go through and clean the error messages."
   ]
  },
  {
   "cell_type": "code",
   "execution_count": 15,
   "metadata": {},
   "outputs": [],
   "source": [
    "columns_to_keep = ['geoid',\n",
    " 'name',\n",
    " 'B19001001',\n",
    " 'B19001002',\n",
    " 'B19001003',\n",
    " 'B19001004',\n",
    " 'B19001005',\n",
    " 'B19001006',\n",
    " 'B19001007',\n",
    " 'B19001008',\n",
    "'B19001009',\n",
    " 'B19001010',\n",
    " 'B19001011',\n",
    " 'B19001012',\n",
    " 'B19001013',\n",
    " 'B19001014',\n",
    " 'B19001015',\n",
    " 'B19001016',\n",
    " 'B19001017',\n",
    " 'geometry']"
   ]
  },
  {
   "cell_type": "markdown",
   "metadata": {},
   "source": [
    "Now I will redefine the inc variable to accomodate the columns I want to keep"
   ]
  },
  {
   "cell_type": "code",
   "execution_count": 16,
   "metadata": {},
   "outputs": [],
   "source": [
    "inc = inc[columns_to_keep]"
   ]
  },
  {
   "cell_type": "markdown",
   "metadata": {},
   "source": [
    "I will now test it using .head to see if the data was properly cleaned "
   ]
  },
  {
   "cell_type": "code",
   "execution_count": 17,
   "metadata": {},
   "outputs": [
    {
     "data": {
      "text/html": [
       "<div>\n",
       "<style scoped>\n",
       "    .dataframe tbody tr th:only-of-type {\n",
       "        vertical-align: middle;\n",
       "    }\n",
       "\n",
       "    .dataframe tbody tr th {\n",
       "        vertical-align: top;\n",
       "    }\n",
       "\n",
       "    .dataframe thead th {\n",
       "        text-align: right;\n",
       "    }\n",
       "</style>\n",
       "<table border=\"1\" class=\"dataframe\">\n",
       "  <thead>\n",
       "    <tr style=\"text-align: right;\">\n",
       "      <th></th>\n",
       "      <th>geoid</th>\n",
       "      <th>name</th>\n",
       "      <th>B19001001</th>\n",
       "      <th>B19001002</th>\n",
       "      <th>B19001003</th>\n",
       "      <th>B19001004</th>\n",
       "      <th>B19001005</th>\n",
       "      <th>B19001006</th>\n",
       "      <th>B19001007</th>\n",
       "      <th>B19001008</th>\n",
       "      <th>B19001009</th>\n",
       "      <th>B19001010</th>\n",
       "      <th>B19001011</th>\n",
       "      <th>B19001012</th>\n",
       "      <th>B19001013</th>\n",
       "      <th>B19001014</th>\n",
       "      <th>B19001015</th>\n",
       "      <th>B19001016</th>\n",
       "      <th>B19001017</th>\n",
       "      <th>geometry</th>\n",
       "    </tr>\n",
       "  </thead>\n",
       "  <tbody>\n",
       "    <tr>\n",
       "      <th>2</th>\n",
       "      <td>05000US48001</td>\n",
       "      <td>Anderson County, TX</td>\n",
       "      <td>16677.0</td>\n",
       "      <td>861.0</td>\n",
       "      <td>1302.0</td>\n",
       "      <td>1259.0</td>\n",
       "      <td>1118.0</td>\n",
       "      <td>897.0</td>\n",
       "      <td>1218.0</td>\n",
       "      <td>1171.0</td>\n",
       "      <td>814.0</td>\n",
       "      <td>734.0</td>\n",
       "      <td>1588.0</td>\n",
       "      <td>1714.0</td>\n",
       "      <td>1831.0</td>\n",
       "      <td>943.0</td>\n",
       "      <td>574.0</td>\n",
       "      <td>411.0</td>\n",
       "      <td>242.0</td>\n",
       "      <td>MULTIPOLYGON (((-95.67753 32.05163, -95.67360 ...</td>\n",
       "    </tr>\n",
       "    <tr>\n",
       "      <th>3</th>\n",
       "      <td>05000US48003</td>\n",
       "      <td>Andrews County, TX</td>\n",
       "      <td>5573.0</td>\n",
       "      <td>272.0</td>\n",
       "      <td>188.0</td>\n",
       "      <td>146.0</td>\n",
       "      <td>114.0</td>\n",
       "      <td>293.0</td>\n",
       "      <td>212.0</td>\n",
       "      <td>165.0</td>\n",
       "      <td>355.0</td>\n",
       "      <td>125.0</td>\n",
       "      <td>332.0</td>\n",
       "      <td>496.0</td>\n",
       "      <td>1003.0</td>\n",
       "      <td>573.0</td>\n",
       "      <td>473.0</td>\n",
       "      <td>401.0</td>\n",
       "      <td>425.0</td>\n",
       "      <td>MULTIPOLYGON (((-102.86649 32.08714, -102.8666...</td>\n",
       "    </tr>\n",
       "    <tr>\n",
       "      <th>4</th>\n",
       "      <td>05000US48005</td>\n",
       "      <td>Angelina County, TX</td>\n",
       "      <td>31035.0</td>\n",
       "      <td>2102.0</td>\n",
       "      <td>1738.0</td>\n",
       "      <td>1890.0</td>\n",
       "      <td>1915.0</td>\n",
       "      <td>2381.0</td>\n",
       "      <td>1466.0</td>\n",
       "      <td>1336.0</td>\n",
       "      <td>1206.0</td>\n",
       "      <td>1358.0</td>\n",
       "      <td>2980.0</td>\n",
       "      <td>3215.0</td>\n",
       "      <td>4206.0</td>\n",
       "      <td>2283.0</td>\n",
       "      <td>1068.0</td>\n",
       "      <td>1203.0</td>\n",
       "      <td>688.0</td>\n",
       "      <td>MULTIPOLYGON (((-94.86268 31.23236, -94.86227 ...</td>\n",
       "    </tr>\n",
       "    <tr>\n",
       "      <th>5</th>\n",
       "      <td>05000US48007</td>\n",
       "      <td>Aransas County, TX</td>\n",
       "      <td>9548.0</td>\n",
       "      <td>854.0</td>\n",
       "      <td>557.0</td>\n",
       "      <td>450.0</td>\n",
       "      <td>578.0</td>\n",
       "      <td>666.0</td>\n",
       "      <td>550.0</td>\n",
       "      <td>677.0</td>\n",
       "      <td>425.0</td>\n",
       "      <td>474.0</td>\n",
       "      <td>589.0</td>\n",
       "      <td>707.0</td>\n",
       "      <td>985.0</td>\n",
       "      <td>731.0</td>\n",
       "      <td>345.0</td>\n",
       "      <td>379.0</td>\n",
       "      <td>581.0</td>\n",
       "      <td>MULTIPOLYGON (((-97.20401 28.08081, -97.19783 ...</td>\n",
       "    </tr>\n",
       "    <tr>\n",
       "      <th>6</th>\n",
       "      <td>05000US48009</td>\n",
       "      <td>Archer County, TX</td>\n",
       "      <td>3452.0</td>\n",
       "      <td>158.0</td>\n",
       "      <td>209.0</td>\n",
       "      <td>169.0</td>\n",
       "      <td>184.0</td>\n",
       "      <td>166.0</td>\n",
       "      <td>196.0</td>\n",
       "      <td>124.0</td>\n",
       "      <td>93.0</td>\n",
       "      <td>125.0</td>\n",
       "      <td>196.0</td>\n",
       "      <td>376.0</td>\n",
       "      <td>442.0</td>\n",
       "      <td>359.0</td>\n",
       "      <td>240.0</td>\n",
       "      <td>208.0</td>\n",
       "      <td>207.0</td>\n",
       "      <td>MULTIPOLYGON (((-98.75200 33.39587, -98.75494 ...</td>\n",
       "    </tr>\n",
       "  </tbody>\n",
       "</table>\n",
       "</div>"
      ],
      "text/plain": [
       "          geoid                 name  B19001001  B19001002  B19001003  \\\n",
       "2  05000US48001  Anderson County, TX    16677.0      861.0     1302.0   \n",
       "3  05000US48003   Andrews County, TX     5573.0      272.0      188.0   \n",
       "4  05000US48005  Angelina County, TX    31035.0     2102.0     1738.0   \n",
       "5  05000US48007   Aransas County, TX     9548.0      854.0      557.0   \n",
       "6  05000US48009    Archer County, TX     3452.0      158.0      209.0   \n",
       "\n",
       "   B19001004  B19001005  B19001006  B19001007  B19001008  B19001009  \\\n",
       "2     1259.0     1118.0      897.0     1218.0     1171.0      814.0   \n",
       "3      146.0      114.0      293.0      212.0      165.0      355.0   \n",
       "4     1890.0     1915.0     2381.0     1466.0     1336.0     1206.0   \n",
       "5      450.0      578.0      666.0      550.0      677.0      425.0   \n",
       "6      169.0      184.0      166.0      196.0      124.0       93.0   \n",
       "\n",
       "   B19001010  B19001011  B19001012  B19001013  B19001014  B19001015  \\\n",
       "2      734.0     1588.0     1714.0     1831.0      943.0      574.0   \n",
       "3      125.0      332.0      496.0     1003.0      573.0      473.0   \n",
       "4     1358.0     2980.0     3215.0     4206.0     2283.0     1068.0   \n",
       "5      474.0      589.0      707.0      985.0      731.0      345.0   \n",
       "6      125.0      196.0      376.0      442.0      359.0      240.0   \n",
       "\n",
       "   B19001016  B19001017                                           geometry  \n",
       "2      411.0      242.0  MULTIPOLYGON (((-95.67753 32.05163, -95.67360 ...  \n",
       "3      401.0      425.0  MULTIPOLYGON (((-102.86649 32.08714, -102.8666...  \n",
       "4     1203.0      688.0  MULTIPOLYGON (((-94.86268 31.23236, -94.86227 ...  \n",
       "5      379.0      581.0  MULTIPOLYGON (((-97.20401 28.08081, -97.19783 ...  \n",
       "6      208.0      207.0  MULTIPOLYGON (((-98.75200 33.39587, -98.75494 ...  "
      ]
     },
     "execution_count": 17,
     "metadata": {},
     "output_type": "execute_result"
    }
   ],
   "source": [
    "inc.head()"
   ]
  },
  {
   "cell_type": "markdown",
   "metadata": {},
   "source": [
    "I'll restate the list so I can relable it with the none numerical names"
   ]
  },
  {
   "cell_type": "code",
   "execution_count": 18,
   "metadata": {},
   "outputs": [
    {
     "data": {
      "text/plain": [
       "['geoid',\n",
       " 'name',\n",
       " 'B19001001',\n",
       " 'B19001002',\n",
       " 'B19001003',\n",
       " 'B19001004',\n",
       " 'B19001005',\n",
       " 'B19001006',\n",
       " 'B19001007',\n",
       " 'B19001008',\n",
       " 'B19001009',\n",
       " 'B19001010',\n",
       " 'B19001011',\n",
       " 'B19001012',\n",
       " 'B19001013',\n",
       " 'B19001014',\n",
       " 'B19001015',\n",
       " 'B19001016',\n",
       " 'B19001017',\n",
       " 'geometry']"
      ]
     },
     "execution_count": 18,
     "metadata": {},
     "output_type": "execute_result"
    }
   ],
   "source": [
    "list(inc)"
   ]
  },
  {
   "cell_type": "markdown",
   "metadata": {},
   "source": [
    "Now I will use .columns to create a list of names for the columns"
   ]
  },
  {
   "cell_type": "code",
   "execution_count": 19,
   "metadata": {},
   "outputs": [],
   "source": [
    "inc.columns = ['geoid',\n",
    " 'name',\n",
    " 'Total',\n",
    " 'Less than $10,000',\n",
    " '10,000 to $14,999',\n",
    " '15,000 to $19,999',\n",
    " '20,000 to $24,999',\n",
    " '25,000 to $29,999',\n",
    " '30,000 to $34,999',\n",
    " '35,000 to $39,999',\n",
    "               '40,000 to $44,999',\n",
    " '45,000 to $49,999',\n",
    "\n",
    "'50,000 to $59,999',\n",
    " '60,000 to $74,999',\n",
    " '75,000 to $99,999',\n",
    " '100,000 to $124,999',\n",
    " '$125,000 to $149,999',\n",
    "                '150,000 to $199,999',\n",
    " '$200,000 or more',\n",
    " 'geometry']"
   ]
  },
  {
   "cell_type": "markdown",
   "metadata": {},
   "source": [
    "Now to test to see if the labeled the columns correctly"
   ]
  },
  {
   "cell_type": "code",
   "execution_count": 20,
   "metadata": {},
   "outputs": [
    {
     "data": {
      "text/html": [
       "<div>\n",
       "<style scoped>\n",
       "    .dataframe tbody tr th:only-of-type {\n",
       "        vertical-align: middle;\n",
       "    }\n",
       "\n",
       "    .dataframe tbody tr th {\n",
       "        vertical-align: top;\n",
       "    }\n",
       "\n",
       "    .dataframe thead th {\n",
       "        text-align: right;\n",
       "    }\n",
       "</style>\n",
       "<table border=\"1\" class=\"dataframe\">\n",
       "  <thead>\n",
       "    <tr style=\"text-align: right;\">\n",
       "      <th></th>\n",
       "      <th>geoid</th>\n",
       "      <th>name</th>\n",
       "      <th>Total</th>\n",
       "      <th>Less than $10,000</th>\n",
       "      <th>10,000 to $14,999</th>\n",
       "      <th>15,000 to $19,999</th>\n",
       "      <th>20,000 to $24,999</th>\n",
       "      <th>25,000 to $29,999</th>\n",
       "      <th>30,000 to $34,999</th>\n",
       "      <th>35,000 to $39,999</th>\n",
       "      <th>40,000 to $44,999</th>\n",
       "      <th>45,000 to $49,999</th>\n",
       "      <th>50,000 to $59,999</th>\n",
       "      <th>60,000 to $74,999</th>\n",
       "      <th>75,000 to $99,999</th>\n",
       "      <th>100,000 to $124,999</th>\n",
       "      <th>$125,000 to $149,999</th>\n",
       "      <th>150,000 to $199,999</th>\n",
       "      <th>$200,000 or more</th>\n",
       "      <th>geometry</th>\n",
       "    </tr>\n",
       "  </thead>\n",
       "  <tbody>\n",
       "    <tr>\n",
       "      <th>2</th>\n",
       "      <td>05000US48001</td>\n",
       "      <td>Anderson County, TX</td>\n",
       "      <td>16677.0</td>\n",
       "      <td>861.0</td>\n",
       "      <td>1302.0</td>\n",
       "      <td>1259.0</td>\n",
       "      <td>1118.0</td>\n",
       "      <td>897.0</td>\n",
       "      <td>1218.0</td>\n",
       "      <td>1171.0</td>\n",
       "      <td>814.0</td>\n",
       "      <td>734.0</td>\n",
       "      <td>1588.0</td>\n",
       "      <td>1714.0</td>\n",
       "      <td>1831.0</td>\n",
       "      <td>943.0</td>\n",
       "      <td>574.0</td>\n",
       "      <td>411.0</td>\n",
       "      <td>242.0</td>\n",
       "      <td>MULTIPOLYGON (((-95.67753 32.05163, -95.67360 ...</td>\n",
       "    </tr>\n",
       "    <tr>\n",
       "      <th>3</th>\n",
       "      <td>05000US48003</td>\n",
       "      <td>Andrews County, TX</td>\n",
       "      <td>5573.0</td>\n",
       "      <td>272.0</td>\n",
       "      <td>188.0</td>\n",
       "      <td>146.0</td>\n",
       "      <td>114.0</td>\n",
       "      <td>293.0</td>\n",
       "      <td>212.0</td>\n",
       "      <td>165.0</td>\n",
       "      <td>355.0</td>\n",
       "      <td>125.0</td>\n",
       "      <td>332.0</td>\n",
       "      <td>496.0</td>\n",
       "      <td>1003.0</td>\n",
       "      <td>573.0</td>\n",
       "      <td>473.0</td>\n",
       "      <td>401.0</td>\n",
       "      <td>425.0</td>\n",
       "      <td>MULTIPOLYGON (((-102.86649 32.08714, -102.8666...</td>\n",
       "    </tr>\n",
       "    <tr>\n",
       "      <th>4</th>\n",
       "      <td>05000US48005</td>\n",
       "      <td>Angelina County, TX</td>\n",
       "      <td>31035.0</td>\n",
       "      <td>2102.0</td>\n",
       "      <td>1738.0</td>\n",
       "      <td>1890.0</td>\n",
       "      <td>1915.0</td>\n",
       "      <td>2381.0</td>\n",
       "      <td>1466.0</td>\n",
       "      <td>1336.0</td>\n",
       "      <td>1206.0</td>\n",
       "      <td>1358.0</td>\n",
       "      <td>2980.0</td>\n",
       "      <td>3215.0</td>\n",
       "      <td>4206.0</td>\n",
       "      <td>2283.0</td>\n",
       "      <td>1068.0</td>\n",
       "      <td>1203.0</td>\n",
       "      <td>688.0</td>\n",
       "      <td>MULTIPOLYGON (((-94.86268 31.23236, -94.86227 ...</td>\n",
       "    </tr>\n",
       "    <tr>\n",
       "      <th>5</th>\n",
       "      <td>05000US48007</td>\n",
       "      <td>Aransas County, TX</td>\n",
       "      <td>9548.0</td>\n",
       "      <td>854.0</td>\n",
       "      <td>557.0</td>\n",
       "      <td>450.0</td>\n",
       "      <td>578.0</td>\n",
       "      <td>666.0</td>\n",
       "      <td>550.0</td>\n",
       "      <td>677.0</td>\n",
       "      <td>425.0</td>\n",
       "      <td>474.0</td>\n",
       "      <td>589.0</td>\n",
       "      <td>707.0</td>\n",
       "      <td>985.0</td>\n",
       "      <td>731.0</td>\n",
       "      <td>345.0</td>\n",
       "      <td>379.0</td>\n",
       "      <td>581.0</td>\n",
       "      <td>MULTIPOLYGON (((-97.20401 28.08081, -97.19783 ...</td>\n",
       "    </tr>\n",
       "    <tr>\n",
       "      <th>6</th>\n",
       "      <td>05000US48009</td>\n",
       "      <td>Archer County, TX</td>\n",
       "      <td>3452.0</td>\n",
       "      <td>158.0</td>\n",
       "      <td>209.0</td>\n",
       "      <td>169.0</td>\n",
       "      <td>184.0</td>\n",
       "      <td>166.0</td>\n",
       "      <td>196.0</td>\n",
       "      <td>124.0</td>\n",
       "      <td>93.0</td>\n",
       "      <td>125.0</td>\n",
       "      <td>196.0</td>\n",
       "      <td>376.0</td>\n",
       "      <td>442.0</td>\n",
       "      <td>359.0</td>\n",
       "      <td>240.0</td>\n",
       "      <td>208.0</td>\n",
       "      <td>207.0</td>\n",
       "      <td>MULTIPOLYGON (((-98.75200 33.39587, -98.75494 ...</td>\n",
       "    </tr>\n",
       "  </tbody>\n",
       "</table>\n",
       "</div>"
      ],
      "text/plain": [
       "          geoid                 name    Total  Less than $10,000  \\\n",
       "2  05000US48001  Anderson County, TX  16677.0              861.0   \n",
       "3  05000US48003   Andrews County, TX   5573.0              272.0   \n",
       "4  05000US48005  Angelina County, TX  31035.0             2102.0   \n",
       "5  05000US48007   Aransas County, TX   9548.0              854.0   \n",
       "6  05000US48009    Archer County, TX   3452.0              158.0   \n",
       "\n",
       "   10,000 to $14,999  15,000 to $19,999  20,000 to $24,999  25,000 to $29,999  \\\n",
       "2             1302.0             1259.0             1118.0              897.0   \n",
       "3              188.0              146.0              114.0              293.0   \n",
       "4             1738.0             1890.0             1915.0             2381.0   \n",
       "5              557.0              450.0              578.0              666.0   \n",
       "6              209.0              169.0              184.0              166.0   \n",
       "\n",
       "   30,000 to $34,999  35,000 to $39,999  40,000 to $44,999  45,000 to $49,999  \\\n",
       "2             1218.0             1171.0              814.0              734.0   \n",
       "3              212.0              165.0              355.0              125.0   \n",
       "4             1466.0             1336.0             1206.0             1358.0   \n",
       "5              550.0              677.0              425.0              474.0   \n",
       "6              196.0              124.0               93.0              125.0   \n",
       "\n",
       "   50,000 to $59,999  60,000 to $74,999  75,000 to $99,999  \\\n",
       "2             1588.0             1714.0             1831.0   \n",
       "3              332.0              496.0             1003.0   \n",
       "4             2980.0             3215.0             4206.0   \n",
       "5              589.0              707.0              985.0   \n",
       "6              196.0              376.0              442.0   \n",
       "\n",
       "   100,000 to $124,999  $125,000 to $149,999  150,000 to $199,999  \\\n",
       "2                943.0                 574.0                411.0   \n",
       "3                573.0                 473.0                401.0   \n",
       "4               2283.0                1068.0               1203.0   \n",
       "5                731.0                 345.0                379.0   \n",
       "6                359.0                 240.0                208.0   \n",
       "\n",
       "   $200,000 or more                                           geometry  \n",
       "2             242.0  MULTIPOLYGON (((-95.67753 32.05163, -95.67360 ...  \n",
       "3             425.0  MULTIPOLYGON (((-102.86649 32.08714, -102.8666...  \n",
       "4             688.0  MULTIPOLYGON (((-94.86268 31.23236, -94.86227 ...  \n",
       "5             581.0  MULTIPOLYGON (((-97.20401 28.08081, -97.19783 ...  \n",
       "6             207.0  MULTIPOLYGON (((-98.75200 33.39587, -98.75494 ...  "
      ]
     },
     "execution_count": 20,
     "metadata": {},
     "output_type": "execute_result"
    }
   ],
   "source": [
    "inc.head()"
   ]
  },
  {
   "cell_type": "markdown",
   "metadata": {},
   "source": [
    "## Simple Histograms\n",
    "I will now show the mean and median of the data per column"
   ]
  },
  {
   "cell_type": "markdown",
   "metadata": {},
   "source": [
    "the total mean "
   ]
  },
  {
   "cell_type": "code",
   "execution_count": 21,
   "metadata": {},
   "outputs": [
    {
     "data": {
      "text/plain": [
       "38156.0905511811"
      ]
     },
     "execution_count": 21,
     "metadata": {},
     "output_type": "execute_result"
    }
   ],
   "source": [
    "inc['Total'].mean()"
   ]
  },
  {
   "cell_type": "markdown",
   "metadata": {},
   "source": [
    "The total mean is 547419.3046875"
   ]
  },
  {
   "cell_type": "markdown",
   "metadata": {},
   "source": [
    "The total median"
   ]
  },
  {
   "cell_type": "code",
   "execution_count": 22,
   "metadata": {},
   "outputs": [
    {
     "data": {
      "text/plain": [
       "6443.5"
      ]
     },
     "execution_count": 22,
     "metadata": {},
     "output_type": "execute_result"
    }
   ],
   "source": [
    "inc['Total'].median()"
   ]
  },
  {
   "cell_type": "markdown",
   "metadata": {
    "slideshow": {
     "slide_type": "slide"
    }
   },
   "source": [
    "I will now plot the number of people who make less than $10,000 annually on a histogram, I adjusted the number of bins inorder to make the bars more legible"
   ]
  },
  {
   "cell_type": "code",
   "execution_count": 23,
   "metadata": {},
   "outputs": [
    {
     "data": {
      "text/plain": [
       "<matplotlib.axes._subplots.AxesSubplot at 0x7f82768af370>"
      ]
     },
     "execution_count": 23,
     "metadata": {},
     "output_type": "execute_result"
    },
    {
     "data": {
      "image/png": "[encoded data removed]",
      "text/plain": [
       "<Figure size 432x288 with 1 Axes>"
      ]
     },
     "metadata": {
      "needs_background": "light"
     },
     "output_type": "display_data"
    }
   ],
   "source": [
    "inc['Total'].plot.hist(bins=20)"
   ]
  },
  {
   "cell_type": "markdown",
   "metadata": {},
   "source": [
    "I will now plot the number of people who make between 75,000 to 99,999 on a histogram, I adjusted the number of bins inorder to make the bars more legible"
   ]
  },
  {
   "cell_type": "code",
   "execution_count": 24,
   "metadata": {},
   "outputs": [
    {
     "data": {
      "text/plain": [
       "<matplotlib.axes._subplots.AxesSubplot at 0x7f827679a5b0>"
      ]
     },
     "execution_count": 24,
     "metadata": {},
     "output_type": "execute_result"
    },
    {
     "data": {
      "image/png": "[encoded data removed]",
      "text/plain": [
       "<Figure size 432x288 with 1 Axes>"
      ]
     },
     "metadata": {
      "needs_background": "light"
     },
     "output_type": "display_data"
    }
   ],
   "source": [
    "inc['75,000 to $99,999'].plot.hist(bins=20)"
   ]
  },
  {
   "cell_type": "markdown",
   "metadata": {},
   "source": [
    "I will now over lap the Less than 10,000 values and the 200,000 or more to see the discrepancies using similar code to the two columned maps. This way you can visibly see the magnitude of difference between both categories."
   ]
  },
  {
   "cell_type": "code",
   "execution_count": 25,
   "metadata": {},
   "outputs": [
    {
     "data": {
      "text/plain": [
       "Text(0.5, 1.0, 'orange = 200,000 or more dollars, blue = Less than 10,000 dollars')"
      ]
     },
     "execution_count": 25,
     "metadata": {},
     "output_type": "execute_result"
    },
    {
     "data": {
      "image/png": "[encoded data removed]",
      "text/plain": [
       "<Figure size 1080x864 with 2 Axes>"
      ]
     },
     "metadata": {
      "needs_background": "light"
     },
     "output_type": "display_data"
    }
   ],
   "source": [
    "fig, axs = plt.subplots(1, 2, figsize=(15, 12))\n",
    "ax1, ax2 = axs\n",
    "\n",
    "inc['Less than $10,000'].plot.hist(bins=30)\n",
    "ax1.axis(\"off\")\n",
    "\n",
    "inc['$200,000 or more'].plot.hist(bins=30)\n",
    "\n",
    "ax2.axis(\"on\")\n",
    "ax2.set_title(\"orange = 200,000 or more dollars, blue = Less than 10,000 dollars\")"
   ]
  },
  {
   "cell_type": "markdown",
   "metadata": {},
   "source": [
    "This chart shows very well the percentage of people making over under 10,000 is smaller than those making more than 200,000"
   ]
  },
  {
   "cell_type": "markdown",
   "metadata": {},
   "source": [
    "## Filtering the data\n",
    "Now we will go through and analyze the categories as percentages of the total Texas income."
   ]
  },
  {
   "cell_type": "code",
   "execution_count": 26,
   "metadata": {},
   "outputs": [
    {
     "data": {
      "text/plain": [
       "['geoid',\n",
       " 'name',\n",
       " 'Total',\n",
       " 'Less than $10,000',\n",
       " '10,000 to $14,999',\n",
       " '15,000 to $19,999',\n",
       " '20,000 to $24,999',\n",
       " '25,000 to $29,999',\n",
       " '30,000 to $34,999',\n",
       " '35,000 to $39,999',\n",
       " '40,000 to $44,999',\n",
       " '45,000 to $49,999',\n",
       " '50,000 to $59,999',\n",
       " '60,000 to $74,999',\n",
       " '75,000 to $99,999',\n",
       " '100,000 to $124,999',\n",
       " '$125,000 to $149,999',\n",
       " '150,000 to $199,999',\n",
       " '$200,000 or more',\n",
       " 'geometry']"
      ]
     },
     "execution_count": 26,
     "metadata": {},
     "output_type": "execute_result"
    }
   ],
   "source": [
    "list(inc)"
   ]
  },
  {
   "cell_type": "markdown",
   "metadata": {},
   "source": [
    "I restate the list so I can take each column and create a percentage out of it."
   ]
  },
  {
   "cell_type": "code",
   "execution_count": 27,
   "metadata": {},
   "outputs": [],
   "source": [
    "inc['Percent Less than $10,000'] = inc['Less than $10,000']/inc['Total']*100\n",
    "inc['Percent 10,000 to $14,999'] = inc['10,000 to $14,999']/inc['Total']*100\n",
    "inc['Percent 15,000 to $19,999'] = inc['15,000 to $19,999']/inc['Total']*100\n",
    "inc['Percent 20,000 to $24,999'] = inc['20,000 to $24,999']/inc['Total']*100 \n",
    "inc['Percent 30,000 to $34,999'] = inc['30,000 to $34,999']/inc['Total']*100\n",
    "inc['Percent 35,000 to $39,999'] = inc['35,000 to $39,999']/inc['Total']*100\n",
    "inc['Percent 40,000 to $44,999'] = inc['40,000 to $44,999']/inc['Total']*100 \n",
    "inc['Percent 45,000 to $49,999'] = inc['45,000 to $49,999']/inc['Total']*100\n",
    "inc['Percent 50,000 to $59,999'] = inc['50,000 to $59,999']/inc['Total']*100\n",
    "inc['Percent 60,000 to $74,999'] = inc['60,000 to $74,999']/inc['Total']*100\n",
    "inc['Percent 75,000 to $99,999'] = inc['75,000 to $99,999']/inc['Total']*100 \n",
    "inc['Percent 100,000 to $124,999'] = inc['100,000 to $124,999']/inc['Total']*100\n",
    "inc['Percent $125,000 to $149,999'] = inc['$125,000 to $149,999']/inc['Total']*100 \n",
    "inc['Percent 150,000 to $199,999'] = inc['150,000 to $199,999']/inc['Total']*100\n",
    "inc['Percent $200,000 or more'] = inc['$200,000 or more']/inc['Total']*100 "
   ]
  },
  {
   "cell_type": "markdown",
   "metadata": {},
   "source": [
    "I will now map the percentages by the variables I created above, i made the legend visible and i added a scheme."
   ]
  },
  {
   "cell_type": "code",
   "execution_count": 31,
   "metadata": {},
   "outputs": [
    {
     "data": {
      "text/plain": [
       "<matplotlib.axes._subplots.AxesSubplot at 0x7f8264d61520>"
      ]
     },
     "execution_count": 31,
     "metadata": {},
     "output_type": "execute_result"
    },
    {
     "data": {
      "image/png": "[encoded data removed]",
      "text/plain": [
       "<Figure size 720x2160 with 1 Axes>"
      ]
     },
     "metadata": {
      "needs_background": "light"
     },
     "output_type": "display_data"
    }
   ],
   "source": [
    "inc.plot(figsize=(10,30),\n",
    "                 column='Percent 45,000 to $49,999',\n",
    "                 legend=True, \n",
    "                 scheme='equal_interval')"
   ]
  },
  {
   "cell_type": "markdown",
   "metadata": {},
   "source": [
    "This map shows percentage of people in each county that has an income between 45,000 and 49,000, the highest percentage being colored yellow. I will now create a maps side by side that compare the lowest and highest incomes by county."
   ]
  },
  {
   "cell_type": "code",
   "execution_count": 32,
   "metadata": {},
   "outputs": [
    {
     "data": {
      "text/plain": [
       "Text(0.5, 1.0, 'Percent $200,000 or more')"
      ]
     },
     "execution_count": 32,
     "metadata": {},
     "output_type": "execute_result"
    },
    {
     "data": {
      "image/png": "[encoded data removed]",
      "text/plain": [
       "<Figure size 1080x864 with 2 Axes>"
      ]
     },
     "metadata": {
      "needs_background": "light"
     },
     "output_type": "display_data"
    }
   ],
   "source": [
    "fig, axs = plt.subplots(1, 2, figsize=(15, 12))\n",
    "ax1, ax2 = axs\n",
    "\n",
    "inc.plot(column='Percent Less than $10,000', \n",
    "         \n",
    "            cmap= 'Greens', \n",
    "            scheme='equal_interval',\n",
    "            k=5, \n",
    "            edgecolor='blue', \n",
    "            linewidth=0., \n",
    "            alpha=1, \n",
    "            ax=ax1, \n",
    "            legend=True\n",
    "           )\n",
    "\n",
    "ax1.axis(\"off\")\n",
    "ax1.set_title(\"Percent Less than $10,000\")\n",
    "\n",
    "inc.plot(column='Percent $200,000 or more', \n",
    "            cmap= 'Greens', \n",
    "            scheme='equal_interval',\n",
    "            k=5, \n",
    "            edgecolor='blue', \n",
    "            linewidth=0., \n",
    "            alpha=1, \n",
    "            ax=ax2,\n",
    "            legend=True\n",
    "           )\n",
    "\n",
    "ax2.axis(\"off\")\n",
    "ax2.set_title(\"Percent $200,000 or more\")"
   ]
  },
  {
   "cell_type": "markdown",
   "metadata": {},
   "source": [
    "There is a higher percentage of income less than 10,000 across the state than there is people making over 200,000"
   ]
  },
  {
   "cell_type": "markdown",
   "metadata": {},
   "source": [
    "I analyzed income in the Texas census and Stacy analyzed education, both of which are factors in gun related incidents."
   ]
  },
  {
   "cell_type": "code",
   "execution_count": null,
   "metadata": {},
   "outputs": [],
   "source": []
  },
  {
   "cell_type": "code",
   "execution_count": null,
   "metadata": {},
   "outputs": [],
   "source": []
  },
  {
   "cell_type": "code",
   "execution_count": null,
   "metadata": {},
   "outputs": [],
   "source": []
  },
  {
   "cell_type": "code",
   "execution_count": null,
   "metadata": {},
   "outputs": [],
   "source": []
  }
 ],
 "metadata": {
  "kernelspec": {
   "display_name": "Python 3",
   "language": "python",
   "name": "python3"
  },
  "language_info": {
   "codemirror_mode": {
    "name": "ipython",
    "version": 3
   },
   "file_extension": ".py",
   "mimetype": "text/x-python",
   "name": "python",
   "nbconvert_exporter": "python",
   "pygments_lexer": "ipython3",
   "version": "3.8.5"
  },
  "toc": {
   "base_numbering": 1,
   "nav_menu": {},
   "number_sections": true,
   "sideBar": true,
   "skip_h1_title": false,
   "title_cell": "Table of Contents",
   "title_sidebar": "Contents",
   "toc_cell": false,
   "toc_position": {},
   "toc_section_display": true,
   "toc_window_display": false
  }
 },
 "nbformat": 4,
 "nbformat_minor": 4
}
